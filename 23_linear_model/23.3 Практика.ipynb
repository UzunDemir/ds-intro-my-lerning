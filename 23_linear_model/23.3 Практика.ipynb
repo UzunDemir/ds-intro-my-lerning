{
 "cells": [
  {
   "cell_type": "markdown",
   "metadata": {
    "id": "_tSv8AeKfyoG"
   },
   "source": [
    "## Логистическая регрессия"
   ]
  },
  {
   "cell_type": "markdown",
   "metadata": {
    "id": "KrhFrvkaf4kI"
   },
   "source": [
    "В этом практическом задании три обязательных и одна дополнительная задача. \n",
    "<br>\n",
    "*Обязательные задачи* помогут проверить, что вы действительно усвоили материал. Если у вас всё получилось, можете переходить к следующей теме.\n",
    "<br>\n",
    "*Дополнительная задача* для тех, кто хочет потренироваться в подготовке данных для обучения модели. \n",
    "<br>\n",
    "Удачи!"
   ]
  },
  {
   "cell_type": "markdown",
   "metadata": {
    "id": "sMmvyGrHf7fo"
   },
   "source": [
    "Цели практического задания: \n",
    "\n",
    "1.   Научиться пользоваться моделью логистической регрессии.\n",
    "2.   Потренироваться в обучении модели с фичами разного типа.\n",
    "3.   Научиться получать вероятности на выходе из логистической регрессии.\n",
    "\n",
    "\n"
   ]
  },
  {
   "cell_type": "markdown",
   "metadata": {
    "id": "VcP1KLsloIHy"
   },
   "source": [
    "Мы будем решать задачу по прогнозированию вероятности инсульта у пациента на основе его входных параметров.\n",
    "\n",
    "По данным Всемирной организации здравоохранения, инсульт является второй ведущей причиной смерти в мире, на его долю приходится примерно 11% от общего числа смертей. Именно поэтому раннее прогнозирование возникновения инсульта у пациента является актуальной для здравоохранения задачей.\n"
   ]
  },
  {
   "cell_type": "markdown",
   "metadata": {
    "id": "fb6VhtGyhCCU"
   },
   "source": [
    "Описание данных: \n",
    "\n",
    "*gender*: пол;\n",
    "\n",
    "*age*: возраст;\n",
    "\n",
    "*hypertension*: страдает ли пациент гипертонией;\n",
    "\n",
    "*heart_disease*: есть ли болезни сердца;\n",
    "\n",
    "*ever_married*: был ли женат/замужем;\n",
    "\n",
    "*work_type*: тип работы;\n",
    "\n",
    "*Residence_type*: проживает в городе или селе;\n",
    "\n",
    "*avg_glucose_level*: средний уровень глюкозы;\n",
    "\n",
    "*bmi*: индекс массы тела;\n",
    "\n",
    "*smoking_status*: информация о курении;\n",
    "\n",
    "*stroke*: целевая переменная — был инсульт или нет."
   ]
  },
  {
   "cell_type": "markdown",
   "metadata": {
    "id": "XhYtYP9cg6eU"
   },
   "source": [
    "## Обязательные задачи"
   ]
  },
  {
   "cell_type": "code",
   "execution_count": 121,
   "metadata": {
    "id": "HoQdKtSDhZjF"
   },
   "outputs": [],
   "source": [
    "# импортируем необходимые библиотеки\n",
    "import matplotlib.pyplot as plt\n",
    "import pandas as pd\n",
    "\n",
    "from sklearn.linear_model import LogisticRegression\n",
    "from sklearn.metrics import accuracy_score, confusion_matrix\n",
    "from sklearn.model_selection import train_test_split "
   ]
  },
  {
   "cell_type": "code",
   "execution_count": 122,
   "metadata": {
    "colab": {
     "base_uri": "https://localhost:8080/",
     "height": 224
    },
    "id": "4cTe3CfWfu2A",
    "outputId": "f2607733-01d6-4991-9167-225ad2587eac"
   },
   "outputs": [
    {
     "name": "stdout",
     "output_type": "stream",
     "text": [
      "(4000, 11)\n"
     ]
    },
    {
     "data": {
      "text/html": [
       "<div>\n",
       "<style scoped>\n",
       "    .dataframe tbody tr th:only-of-type {\n",
       "        vertical-align: middle;\n",
       "    }\n",
       "\n",
       "    .dataframe tbody tr th {\n",
       "        vertical-align: top;\n",
       "    }\n",
       "\n",
       "    .dataframe thead th {\n",
       "        text-align: right;\n",
       "    }\n",
       "</style>\n",
       "<table border=\"1\" class=\"dataframe\">\n",
       "  <thead>\n",
       "    <tr style=\"text-align: right;\">\n",
       "      <th></th>\n",
       "      <th>gender</th>\n",
       "      <th>age</th>\n",
       "      <th>hypertension</th>\n",
       "      <th>heart_disease</th>\n",
       "      <th>ever_married</th>\n",
       "      <th>work_type</th>\n",
       "      <th>Residence_type</th>\n",
       "      <th>avg_glucose_level</th>\n",
       "      <th>bmi</th>\n",
       "      <th>smoking_status</th>\n",
       "      <th>stroke</th>\n",
       "    </tr>\n",
       "  </thead>\n",
       "  <tbody>\n",
       "    <tr>\n",
       "      <th>0</th>\n",
       "      <td>Male</td>\n",
       "      <td>73</td>\n",
       "      <td>0</td>\n",
       "      <td>0</td>\n",
       "      <td>1</td>\n",
       "      <td>Private</td>\n",
       "      <td>1</td>\n",
       "      <td>143.509078</td>\n",
       "      <td>29.160236</td>\n",
       "      <td>formerly smoked</td>\n",
       "      <td>1</td>\n",
       "    </tr>\n",
       "    <tr>\n",
       "      <th>1</th>\n",
       "      <td>Female</td>\n",
       "      <td>49</td>\n",
       "      <td>0</td>\n",
       "      <td>0</td>\n",
       "      <td>1</td>\n",
       "      <td>Private</td>\n",
       "      <td>0</td>\n",
       "      <td>85.230000</td>\n",
       "      <td>25.400000</td>\n",
       "      <td>Unknown</td>\n",
       "      <td>0</td>\n",
       "    </tr>\n",
       "    <tr>\n",
       "      <th>2</th>\n",
       "      <td>Male</td>\n",
       "      <td>58</td>\n",
       "      <td>0</td>\n",
       "      <td>0</td>\n",
       "      <td>1</td>\n",
       "      <td>Private</td>\n",
       "      <td>0</td>\n",
       "      <td>197.174377</td>\n",
       "      <td>34.870606</td>\n",
       "      <td>formerly smoked</td>\n",
       "      <td>1</td>\n",
       "    </tr>\n",
       "    <tr>\n",
       "      <th>3</th>\n",
       "      <td>Female</td>\n",
       "      <td>69</td>\n",
       "      <td>0</td>\n",
       "      <td>0</td>\n",
       "      <td>1</td>\n",
       "      <td>Self-employed</td>\n",
       "      <td>1</td>\n",
       "      <td>99.680000</td>\n",
       "      <td>17.600000</td>\n",
       "      <td>formerly smoked</td>\n",
       "      <td>0</td>\n",
       "    </tr>\n",
       "    <tr>\n",
       "      <th>4</th>\n",
       "      <td>Male</td>\n",
       "      <td>60</td>\n",
       "      <td>0</td>\n",
       "      <td>0</td>\n",
       "      <td>1</td>\n",
       "      <td>Private</td>\n",
       "      <td>0</td>\n",
       "      <td>69.200000</td>\n",
       "      <td>30.900000</td>\n",
       "      <td>never smoked</td>\n",
       "      <td>0</td>\n",
       "    </tr>\n",
       "  </tbody>\n",
       "</table>\n",
       "</div>"
      ],
      "text/plain": [
       "   gender  age  hypertension  heart_disease  ever_married      work_type  \\\n",
       "0    Male   73             0              0             1        Private   \n",
       "1  Female   49             0              0             1        Private   \n",
       "2    Male   58             0              0             1        Private   \n",
       "3  Female   69             0              0             1  Self-employed   \n",
       "4    Male   60             0              0             1        Private   \n",
       "\n",
       "   Residence_type  avg_glucose_level        bmi   smoking_status  stroke  \n",
       "0               1         143.509078  29.160236  formerly smoked       1  \n",
       "1               0          85.230000  25.400000          Unknown       0  \n",
       "2               0         197.174377  34.870606  formerly smoked       1  \n",
       "3               1          99.680000  17.600000  formerly smoked       0  \n",
       "4               0          69.200000  30.900000     never smoked       0  "
      ]
     },
     "execution_count": 122,
     "metadata": {},
     "output_type": "execute_result"
    }
   ],
   "source": [
    "# загрузим датасет\n",
    "df = pd.read_csv('data/stroke_data.csv')\n",
    "print(df.shape)\n",
    "df.head()"
   ]
  },
  {
   "cell_type": "markdown",
   "metadata": {
    "id": "dLLJ7FEPh1G_"
   },
   "source": [
    "**Задача 0. Первая модель логистической регрессии**\n",
    "\n",
    "Воспроизведите обучение модели логистической регрессии из видео. Для этого:\n",
    "- поделите данные из df на треин и тест в отношении 70/30;\n",
    "- инициализируйте модель логистической регрессии с дефолтными параметрами;\n",
    "- обучите модель на одной колонке из тренировочных данных: `age`;\n",
    "- сделайте предсказание для тестовых данных и посчитайте значение метрики точности, а также выведите confusion matrix."
   ]
  },
  {
   "cell_type": "code",
   "execution_count": 123,
   "metadata": {
    "id": "cennsxT1joBp"
   },
   "outputs": [
    {
     "data": {
      "text/plain": [
       "0    2027\n",
       "1    1973\n",
       "Name: stroke, dtype: int64"
      ]
     },
     "execution_count": 123,
     "metadata": {},
     "output_type": "execute_result"
    }
   ],
   "source": [
    "# Ваш код здесь\n",
    "# посчитаем количества уникальных значений в df.stroke\n",
    "df.stroke.value_counts()"
   ]
  },
  {
   "cell_type": "code",
   "execution_count": 124,
   "metadata": {},
   "outputs": [
    {
     "data": {
      "text/plain": [
       "gender               False\n",
       "age                  False\n",
       "hypertension         False\n",
       "heart_disease        False\n",
       "ever_married         False\n",
       "work_type            False\n",
       "Residence_type       False\n",
       "avg_glucose_level    False\n",
       "bmi                  False\n",
       "smoking_status       False\n",
       "stroke               False\n",
       "dtype: bool"
      ]
     },
     "execution_count": 124,
     "metadata": {},
     "output_type": "execute_result"
    }
   ],
   "source": [
    "# проверим, ести ли пропущенные значения в датасете\n",
    "# команда any проверяет все записи по каждой колонке, если найдет хоть один пропуск - выдаст True\n",
    "df.isnull().any()"
   ]
  },
  {
   "cell_type": "code",
   "execution_count": 125,
   "metadata": {},
   "outputs": [
    {
     "data": {
      "image/png": "[encoded data removed]",
      "text/plain": [
       "<Figure size 432x288 with 1 Axes>"
      ]
     },
     "metadata": {
      "needs_background": "light"
     },
     "output_type": "display_data"
    }
   ],
   "source": [
    "# нарисуем график зависимости возраста от целевой переменной stroke\n",
    "plt.plot(df['age'], df.stroke, 'ro') \n",
    "plt.xlabel('age')\n",
    "plt.ylabel('stroke')\n",
    "plt.title('Зависимость целевой переменной от возраста')\n",
    "plt.show()"
   ]
  },
  {
   "cell_type": "code",
   "execution_count": 126,
   "metadata": {},
   "outputs": [],
   "source": [
    "# подготовим данные для обучения\n",
    "x = df.drop(['stroke'], axis=1)\n",
    "y = df.stroke"
   ]
  },
  {
   "cell_type": "code",
   "execution_count": 127,
   "metadata": {},
   "outputs": [],
   "source": [
    "# разделим данные на тренировочный и тестовый сеты в соотношении 70 на 30\n",
    "train_x, test_x, train_y, test_y = train_test_split(x, y, test_size=0.3, random_state=42)"
   ]
  },
  {
   "cell_type": "code",
   "execution_count": 128,
   "metadata": {},
   "outputs": [],
   "source": [
    "# вызовим модуль логистической регрессии\n",
    "logreg = LogisticRegression()"
   ]
  },
  {
   "cell_type": "code",
   "execution_count": 129,
   "metadata": {},
   "outputs": [
    {
     "data": {
      "text/plain": [
       "LogisticRegression()"
      ]
     },
     "execution_count": 129,
     "metadata": {},
     "output_type": "execute_result"
    }
   ],
   "source": [
    "# обучим модель на примере одной переменной \"возраст\"\n",
    "train_cols = ['age']\n",
    "logreg.fit(train_x[train_cols], train_y)"
   ]
  },
  {
   "cell_type": "code",
   "execution_count": 130,
   "metadata": {},
   "outputs": [
    {
     "data": {
      "text/plain": [
       "0.7683333333333333"
      ]
     },
     "execution_count": 130,
     "metadata": {},
     "output_type": "execute_result"
    }
   ],
   "source": [
    "# найдем предикт на тестовых данных и выведим метрику точности модели\n",
    "pred = logreg.predict(test_x[train_cols])\n",
    "accuracy_score(test_y, pred)"
   ]
  },
  {
   "cell_type": "code",
   "execution_count": 131,
   "metadata": {},
   "outputs": [
    {
     "data": {
      "text/plain": [
       "array([[448, 156],\n",
       "       [122, 474]], dtype=int64)"
      ]
     },
     "execution_count": 131,
     "metadata": {},
     "output_type": "execute_result"
    }
   ],
   "source": [
    "# выведем матрицу ошибок\n",
    "confusion_matrix(test_y, pred)"
   ]
  },
  {
   "cell_type": "markdown",
   "metadata": {
    "id": "ChqN_Ucikvoy"
   },
   "source": [
    "**Задача 1. Логистическая регрессия на количественных и бинарных фичах**\n",
    "\n",
    "Попробуйте обучить логистическую регрессию, добавив в нее остальные количественные фичи. Для этого проделайте следующее:\n",
    "- найдите количественные фичи (это фичи, которые могут принимать любые числовые значения, количество их возможных значений НЕ конечно);\n",
    "- обучите на них модель логистической регрессии, и замерьте качество;\n",
    "- добавьте все бинарные фичи в обучение (бинарные фичи — те, которые могут принимать только два значения);\n",
    "- обучите на них модель логистической регрессии и замерьте качество.\n",
    "\n",
    "\n",
    "*Заметка:* обратите внимание на колонку `gender`. В ней есть одна запись, которая заполнена неверно. Удалите эту запись прежде, чем обучать модели в этом задании."
   ]
  },
  {
   "cell_type": "code",
   "execution_count": 132,
   "metadata": {
    "id": "_dyudNMD0NZt"
   },
   "outputs": [
    {
     "data": {
      "text/plain": [
       "LogisticRegression()"
      ]
     },
     "execution_count": 132,
     "metadata": {},
     "output_type": "execute_result"
    }
   ],
   "source": [
    "# Ваш код здесь\n",
    "# обучим модель на примере одной переменной 'age', 'avg_glucose_level' \n",
    "train_cols = ['age', 'avg_glucose_level']\n",
    "logreg.fit(train_x[train_cols], train_y)"
   ]
  },
  {
   "cell_type": "code",
   "execution_count": 133,
   "metadata": {},
   "outputs": [
    {
     "data": {
      "text/plain": [
       "0.7741666666666667"
      ]
     },
     "execution_count": 133,
     "metadata": {},
     "output_type": "execute_result"
    }
   ],
   "source": [
    "# найдем предикт на тестовых данных и выведим метрику точности модели\n",
    "pred = logreg.predict(test_x[train_cols])\n",
    "accuracy_score(test_y, pred)"
   ]
  },
  {
   "cell_type": "code",
   "execution_count": 134,
   "metadata": {},
   "outputs": [
    {
     "data": {
      "text/plain": [
       "array([[449, 155],\n",
       "       [116, 480]], dtype=int64)"
      ]
     },
     "execution_count": 134,
     "metadata": {},
     "output_type": "execute_result"
    }
   ],
   "source": [
    "# выведем матрицу ошибок\n",
    "confusion_matrix(test_y, pred)"
   ]
  },
  {
   "cell_type": "code",
   "execution_count": 135,
   "metadata": {},
   "outputs": [
    {
     "name": "stderr",
     "output_type": "stream",
     "text": [
      "C:\\Users\\HP Z2\\anaconda3\\lib\\site-packages\\sklearn\\linear_model\\_logistic.py:763: ConvergenceWarning: lbfgs failed to converge (status=1):\n",
      "STOP: TOTAL NO. of ITERATIONS REACHED LIMIT.\n",
      "\n",
      "Increase the number of iterations (max_iter) or scale the data as shown in:\n",
      "    https://scikit-learn.org/stable/modules/preprocessing.html\n",
      "Please also refer to the documentation for alternative solver options:\n",
      "    https://scikit-learn.org/stable/modules/linear_model.html#logistic-regression\n",
      "  n_iter_i = _check_optimize_result(\n"
     ]
    },
    {
     "data": {
      "text/plain": [
       "LogisticRegression()"
      ]
     },
     "execution_count": 135,
     "metadata": {},
     "output_type": "execute_result"
    }
   ],
   "source": [
    "# обучим модель на примере одной переменной ['age', 'avg_glucose_level', 'bmi'] \n",
    "train_cols = ['age', 'avg_glucose_level', 'bmi', 'hypertension', 'heart_disease',\n",
    "             'ever_married', 'Residence_type']\n",
    "logreg.fit(train_x[train_cols], train_y)"
   ]
  },
  {
   "cell_type": "code",
   "execution_count": 136,
   "metadata": {},
   "outputs": [
    {
     "data": {
      "text/plain": [
       "0.81"
      ]
     },
     "execution_count": 136,
     "metadata": {},
     "output_type": "execute_result"
    }
   ],
   "source": [
    "# найдем предикт на тестовых данных и выведим метрику точности модели\n",
    "pred = logreg.predict(test_x[train_cols])\n",
    "accuracy_score(test_y, pred)"
   ]
  },
  {
   "cell_type": "code",
   "execution_count": 137,
   "metadata": {},
   "outputs": [
    {
     "data": {
      "text/plain": [
       "array([[482, 122],\n",
       "       [106, 490]], dtype=int64)"
      ]
     },
     "execution_count": 137,
     "metadata": {},
     "output_type": "execute_result"
    }
   ],
   "source": [
    "# выведем матрицу ошибок\n",
    "confusion_matrix(test_y, pred)"
   ]
  },
  {
   "cell_type": "code",
   "execution_count": 138,
   "metadata": {},
   "outputs": [
    {
     "data": {
      "text/plain": [
       "Male      2141\n",
       "Female    1858\n",
       "255          1\n",
       "Name: gender, dtype: int64"
      ]
     },
     "execution_count": 138,
     "metadata": {},
     "output_type": "execute_result"
    }
   ],
   "source": [
    "# обратите внимание на колонку gender. В ней есть одна запись, которая заполнена неверно.\n",
    "# посчитаем количества уникальных значений в df.gender\n",
    "df.gender.value_counts()"
   ]
  },
  {
   "cell_type": "code",
   "execution_count": 139,
   "metadata": {},
   "outputs": [
    {
     "name": "stdout",
     "output_type": "stream",
     "text": [
      "     gender  age  hypertension  heart_disease  ever_married work_type  \\\n",
      "1783    255   26             0              0             0   Private   \n",
      "\n",
      "      Residence_type  avg_glucose_level   bmi   smoking_status  stroke  \n",
      "1783               0             143.33  22.4  formerly smoked       0  \n"
     ]
    },
    {
     "data": {
      "text/plain": [
       "(3999, 11)"
      ]
     },
     "execution_count": 139,
     "metadata": {},
     "output_type": "execute_result"
    }
   ],
   "source": [
    "# выведем и удалим строку где df['gender'] == '255'\n",
    "print(df.loc[df['gender'] == '255'])\n",
    "df = df[df['gender'] != '255']\n",
    "df.shape"
   ]
  },
  {
   "cell_type": "code",
   "execution_count": 140,
   "metadata": {},
   "outputs": [
    {
     "name": "stdout",
     "output_type": "stream",
     "text": [
      "1    2141\n",
      "0    1858\n",
      "Name: gender, dtype: int64\n"
     ]
    }
   ],
   "source": [
    "# закодируем {'Male': 1, 'Female': 0}\n",
    "df.gender = df.gender.replace({'Male': 1, 'Female': 0})\n",
    "print(df.gender.value_counts())\n",
    "\n",
    "# подготовим данные для обучения\n",
    "x = df.drop(['stroke'], axis=1)\n",
    "y = df.stroke\n"
   ]
  },
  {
   "cell_type": "code",
   "execution_count": 141,
   "metadata": {},
   "outputs": [
    {
     "name": "stdout",
     "output_type": "stream",
     "text": [
      "ACC=  0.81\n",
      "confusion_matrix=  [[482 122]\n",
      " [106 490]]\n"
     ]
    },
    {
     "name": "stderr",
     "output_type": "stream",
     "text": [
      "C:\\Users\\HP Z2\\anaconda3\\lib\\site-packages\\sklearn\\linear_model\\_logistic.py:763: ConvergenceWarning: lbfgs failed to converge (status=1):\n",
      "STOP: TOTAL NO. of ITERATIONS REACHED LIMIT.\n",
      "\n",
      "Increase the number of iterations (max_iter) or scale the data as shown in:\n",
      "    https://scikit-learn.org/stable/modules/preprocessing.html\n",
      "Please also refer to the documentation for alternative solver options:\n",
      "    https://scikit-learn.org/stable/modules/linear_model.html#logistic-regression\n",
      "  n_iter_i = _check_optimize_result(\n"
     ]
    }
   ],
   "source": [
    "# обучим модель на примере одной переменной ['age', 'avg_glucose_level', 'bmi'] \n",
    "train_cols = ['age', 'avg_glucose_level', 'bmi', 'hypertension', 'heart_disease',\n",
    "             'ever_married', 'Residence_type']\n",
    "logreg.fit(train_x[train_cols], train_y)\n",
    "\n",
    "# найдем предикт на тестовых данных и выведим метрику точности модели\n",
    "pred = logreg.predict(test_x[train_cols])\n",
    "print('ACC= ', accuracy_score(test_y, pred))\n",
    "\n",
    "# выведем матрицу ошибок\n",
    "print('confusion_matrix= ', confusion_matrix(test_y, pred))\n",
    "\n"
   ]
  },
  {
   "cell_type": "markdown",
   "metadata": {
    "id": "Pib_IfNauG3V"
   },
   "source": [
    "**Задача 2. Предсказание вероятностей с помощью логистической регрессии**\n",
    "\n",
    "Проверьте, что алгоритм логистической регрессии использует порог=0.5 для предсказания классов. Для этого проделайте следующее:\n",
    "\n",
    "- Возьмите последнюю обученную модель на бинарных и количественных фичах из предыдущего задания и предскажите вероятности для тестовой выборки с помощью метода `predict_proba`.\n",
    "- Также с помощью этой обученной модели предскажите классы для тестовой выборки и положите в `pred`.\n",
    "- Сохраните вероятности в отдельную переменную `pred_probs`.\n",
    "- Напишите функцию `predict_class(pred_probs, trsh)`, которая пробегает по всем элементам в `pred_probs` и на выходе отдаёт список сформированных из вероятностей классов. Функция должна пробегать по всем элементам в `pred_probs`. Если видит значение вероятности в классе 0 больше trsh (в данном случае 0.5) возвращается класс 1, в противном случае — 0.\n",
    "- Примените функцию `predict_class` к `pred_probs`. Результат сохраните в `pred_class`.\n",
    "- Убедитесь, что векторы `pred_class` и  `pred` совпали.\n",
    "- Попробуйте другие значения порога `trsh` для предсказания класса. Какое значение `trsh` даёт увеличение точности на текущей тестовой выборке?\n"
   ]
  },
  {
   "cell_type": "code",
   "execution_count": 142,
   "metadata": {
    "id": "MevrMEiL0TQl"
   },
   "outputs": [],
   "source": [
    "# predict_proba() – значения вероятностей для каждого наблюдения\n",
    "# то есть выдать «степень уверенности» в ответе (вероятность)\n",
    "pred_probs = logreg.predict_proba(test_x[train_cols])\n",
    "\n"
   ]
  },
  {
   "cell_type": "code",
   "execution_count": 143,
   "metadata": {},
   "outputs": [],
   "source": [
    "# Функция пробегает по всем элементам \n",
    "# в pred_probs и на выходе отдаёт список сформированных \n",
    "# из вероятностей классов. Если видит значение вероятности в \n",
    "# классе 0 больше trsh (в данном случае 0.5) возвращается класс 1, в противном случае — 0.\n",
    "def predict_class(pred_probs, trsh=0.5):\n",
    "  return [0 if x[0]>trsh else 1 for x in pred_probs]"
   ]
  },
  {
   "cell_type": "code",
   "execution_count": 144,
   "metadata": {},
   "outputs": [],
   "source": [
    "# Примените функцию predict_class к pred_probs. Результат сохраните в pred_class\n",
    "pred_class = predict_class(pred_probs)\n"
   ]
  },
  {
   "cell_type": "code",
   "execution_count": 145,
   "metadata": {},
   "outputs": [
    {
     "data": {
      "text/plain": [
       "True"
      ]
     },
     "execution_count": 145,
     "metadata": {},
     "output_type": "execute_result"
    }
   ],
   "source": [
    "# убеждаемся, что векторы pred_class и pred совпали\n",
    "list(pred) == pred_class"
   ]
  },
  {
   "cell_type": "code",
   "execution_count": 146,
   "metadata": {},
   "outputs": [
    {
     "data": {
      "text/plain": [
       "0.81"
      ]
     },
     "execution_count": 146,
     "metadata": {},
     "output_type": "execute_result"
    }
   ],
   "source": [
    "# тут могут быть разные значения trsh\n",
    "pred_class = predict_class(pred_probs, 0.50)\n",
    "accuracy_score(test_y, pred_class)"
   ]
  },
  {
   "cell_type": "markdown",
   "metadata": {
    "id": "YoPxbnW12U-5"
   },
   "source": [
    "## Дополнительные задачи"
   ]
  },
  {
   "cell_type": "markdown",
   "metadata": {
    "id": "5ItNyt632eiB"
   },
   "source": [
    "Добавьте в обучение модели оставшиеся категориальные фичи. Обучите модель логистической регрессии на всех данных, проверьте её качество."
   ]
  },
  {
   "cell_type": "code",
   "execution_count": 147,
   "metadata": {
    "id": "7MfhIktM6u_5"
   },
   "outputs": [],
   "source": [
    "# укажем, какие колонки надо закодировать\n",
    "cat_cols = ['smoking_status', 'work_type']"
   ]
  },
  {
   "cell_type": "code",
   "execution_count": 148,
   "metadata": {
    "scrolled": true
   },
   "outputs": [
    {
     "data": {
      "text/html": [
       "<div>\n",
       "<style scoped>\n",
       "    .dataframe tbody tr th:only-of-type {\n",
       "        vertical-align: middle;\n",
       "    }\n",
       "\n",
       "    .dataframe tbody tr th {\n",
       "        vertical-align: top;\n",
       "    }\n",
       "\n",
       "    .dataframe thead th {\n",
       "        text-align: right;\n",
       "    }\n",
       "</style>\n",
       "<table border=\"1\" class=\"dataframe\">\n",
       "  <thead>\n",
       "    <tr style=\"text-align: right;\">\n",
       "      <th></th>\n",
       "      <th>0</th>\n",
       "      <th>1</th>\n",
       "      <th>2</th>\n",
       "      <th>3</th>\n",
       "      <th>4</th>\n",
       "      <th>5</th>\n",
       "      <th>6</th>\n",
       "      <th>7</th>\n",
       "      <th>8</th>\n",
       "    </tr>\n",
       "  </thead>\n",
       "  <tbody>\n",
       "    <tr>\n",
       "      <th>0</th>\n",
       "      <td>0.0</td>\n",
       "      <td>1.0</td>\n",
       "      <td>0.0</td>\n",
       "      <td>0.0</td>\n",
       "      <td>0.0</td>\n",
       "      <td>0.0</td>\n",
       "      <td>0.0</td>\n",
       "      <td>1.0</td>\n",
       "      <td>0.0</td>\n",
       "    </tr>\n",
       "    <tr>\n",
       "      <th>1</th>\n",
       "      <td>0.0</td>\n",
       "      <td>0.0</td>\n",
       "      <td>0.0</td>\n",
       "      <td>1.0</td>\n",
       "      <td>0.0</td>\n",
       "      <td>0.0</td>\n",
       "      <td>1.0</td>\n",
       "      <td>0.0</td>\n",
       "      <td>0.0</td>\n",
       "    </tr>\n",
       "    <tr>\n",
       "      <th>2</th>\n",
       "      <td>0.0</td>\n",
       "      <td>0.0</td>\n",
       "      <td>1.0</td>\n",
       "      <td>0.0</td>\n",
       "      <td>0.0</td>\n",
       "      <td>0.0</td>\n",
       "      <td>1.0</td>\n",
       "      <td>0.0</td>\n",
       "      <td>0.0</td>\n",
       "    </tr>\n",
       "    <tr>\n",
       "      <th>3</th>\n",
       "      <td>0.0</td>\n",
       "      <td>0.0</td>\n",
       "      <td>0.0</td>\n",
       "      <td>1.0</td>\n",
       "      <td>0.0</td>\n",
       "      <td>0.0</td>\n",
       "      <td>1.0</td>\n",
       "      <td>0.0</td>\n",
       "      <td>0.0</td>\n",
       "    </tr>\n",
       "    <tr>\n",
       "      <th>4</th>\n",
       "      <td>0.0</td>\n",
       "      <td>1.0</td>\n",
       "      <td>0.0</td>\n",
       "      <td>0.0</td>\n",
       "      <td>0.0</td>\n",
       "      <td>0.0</td>\n",
       "      <td>0.0</td>\n",
       "      <td>1.0</td>\n",
       "      <td>0.0</td>\n",
       "    </tr>\n",
       "  </tbody>\n",
       "</table>\n",
       "</div>"
      ],
      "text/plain": [
       "     0    1    2    3    4    5    6    7    8\n",
       "0  0.0  1.0  0.0  0.0  0.0  0.0  0.0  1.0  0.0\n",
       "1  0.0  0.0  0.0  1.0  0.0  0.0  1.0  0.0  0.0\n",
       "2  0.0  0.0  1.0  0.0  0.0  0.0  1.0  0.0  0.0\n",
       "3  0.0  0.0  0.0  1.0  0.0  0.0  1.0  0.0  0.0\n",
       "4  0.0  1.0  0.0  0.0  0.0  0.0  0.0  1.0  0.0"
      ]
     },
     "execution_count": 148,
     "metadata": {},
     "output_type": "execute_result"
    }
   ],
   "source": [
    "from sklearn.preprocessing import OneHotEncoder\n",
    "\n",
    "ohe = OneHotEncoder(handle_unknown='ignore')\n",
    "train_enc = pd.DataFrame(ohe.fit_transform(train_x[cat_cols]).toarray(),)\n",
    "test_enc = pd.DataFrame(ohe.transform(test_x[cat_cols]).toarray(),)\n",
    "\n",
    "train_enc.head()\n"
   ]
  },
  {
   "cell_type": "code",
   "execution_count": 149,
   "metadata": {},
   "outputs": [
    {
     "data": {
      "text/html": [
       "<div>\n",
       "<style scoped>\n",
       "    .dataframe tbody tr th:only-of-type {\n",
       "        vertical-align: middle;\n",
       "    }\n",
       "\n",
       "    .dataframe tbody tr th {\n",
       "        vertical-align: top;\n",
       "    }\n",
       "\n",
       "    .dataframe thead th {\n",
       "        text-align: right;\n",
       "    }\n",
       "</style>\n",
       "<table border=\"1\" class=\"dataframe\">\n",
       "  <thead>\n",
       "    <tr style=\"text-align: right;\">\n",
       "      <th></th>\n",
       "      <th>gender</th>\n",
       "      <th>age</th>\n",
       "      <th>hypertension</th>\n",
       "      <th>heart_disease</th>\n",
       "      <th>ever_married</th>\n",
       "      <th>Residence_type</th>\n",
       "      <th>avg_glucose_level</th>\n",
       "      <th>bmi</th>\n",
       "      <th>0</th>\n",
       "      <th>1</th>\n",
       "      <th>2</th>\n",
       "      <th>3</th>\n",
       "      <th>4</th>\n",
       "      <th>5</th>\n",
       "      <th>6</th>\n",
       "      <th>7</th>\n",
       "      <th>8</th>\n",
       "    </tr>\n",
       "  </thead>\n",
       "  <tbody>\n",
       "    <tr>\n",
       "      <th>3215</th>\n",
       "      <td>Male</td>\n",
       "      <td>73</td>\n",
       "      <td>0</td>\n",
       "      <td>0</td>\n",
       "      <td>1</td>\n",
       "      <td>0</td>\n",
       "      <td>219.725091</td>\n",
       "      <td>31.103826</td>\n",
       "      <td>0.0</td>\n",
       "      <td>1.0</td>\n",
       "      <td>0.0</td>\n",
       "      <td>0.0</td>\n",
       "      <td>0.0</td>\n",
       "      <td>0.0</td>\n",
       "      <td>0.0</td>\n",
       "      <td>1.0</td>\n",
       "      <td>0.0</td>\n",
       "    </tr>\n",
       "    <tr>\n",
       "      <th>3126</th>\n",
       "      <td>Male</td>\n",
       "      <td>61</td>\n",
       "      <td>0</td>\n",
       "      <td>0</td>\n",
       "      <td>1</td>\n",
       "      <td>0</td>\n",
       "      <td>76.115181</td>\n",
       "      <td>27.721713</td>\n",
       "      <td>0.0</td>\n",
       "      <td>0.0</td>\n",
       "      <td>0.0</td>\n",
       "      <td>1.0</td>\n",
       "      <td>0.0</td>\n",
       "      <td>0.0</td>\n",
       "      <td>1.0</td>\n",
       "      <td>0.0</td>\n",
       "      <td>0.0</td>\n",
       "    </tr>\n",
       "    <tr>\n",
       "      <th>697</th>\n",
       "      <td>Male</td>\n",
       "      <td>62</td>\n",
       "      <td>0</td>\n",
       "      <td>0</td>\n",
       "      <td>1</td>\n",
       "      <td>0</td>\n",
       "      <td>206.851644</td>\n",
       "      <td>30.470874</td>\n",
       "      <td>0.0</td>\n",
       "      <td>0.0</td>\n",
       "      <td>1.0</td>\n",
       "      <td>0.0</td>\n",
       "      <td>0.0</td>\n",
       "      <td>0.0</td>\n",
       "      <td>1.0</td>\n",
       "      <td>0.0</td>\n",
       "      <td>0.0</td>\n",
       "    </tr>\n",
       "    <tr>\n",
       "      <th>3613</th>\n",
       "      <td>Female</td>\n",
       "      <td>44</td>\n",
       "      <td>0</td>\n",
       "      <td>0</td>\n",
       "      <td>0</td>\n",
       "      <td>1</td>\n",
       "      <td>127.210000</td>\n",
       "      <td>29.800000</td>\n",
       "      <td>0.0</td>\n",
       "      <td>0.0</td>\n",
       "      <td>0.0</td>\n",
       "      <td>1.0</td>\n",
       "      <td>0.0</td>\n",
       "      <td>0.0</td>\n",
       "      <td>1.0</td>\n",
       "      <td>0.0</td>\n",
       "      <td>0.0</td>\n",
       "    </tr>\n",
       "    <tr>\n",
       "      <th>2374</th>\n",
       "      <td>Male</td>\n",
       "      <td>65</td>\n",
       "      <td>0</td>\n",
       "      <td>0</td>\n",
       "      <td>1</td>\n",
       "      <td>0</td>\n",
       "      <td>116.773315</td>\n",
       "      <td>31.763908</td>\n",
       "      <td>0.0</td>\n",
       "      <td>1.0</td>\n",
       "      <td>0.0</td>\n",
       "      <td>0.0</td>\n",
       "      <td>0.0</td>\n",
       "      <td>0.0</td>\n",
       "      <td>0.0</td>\n",
       "      <td>1.0</td>\n",
       "      <td>0.0</td>\n",
       "    </tr>\n",
       "  </tbody>\n",
       "</table>\n",
       "</div>"
      ],
      "text/plain": [
       "      gender  age  hypertension  heart_disease  ever_married  Residence_type  \\\n",
       "3215    Male   73             0              0             1               0   \n",
       "3126    Male   61             0              0             1               0   \n",
       "697     Male   62             0              0             1               0   \n",
       "3613  Female   44             0              0             0               1   \n",
       "2374    Male   65             0              0             1               0   \n",
       "\n",
       "      avg_glucose_level        bmi    0    1    2    3    4    5    6    7  \\\n",
       "3215         219.725091  31.103826  0.0  1.0  0.0  0.0  0.0  0.0  0.0  1.0   \n",
       "3126          76.115181  27.721713  0.0  0.0  0.0  1.0  0.0  0.0  1.0  0.0   \n",
       "697          206.851644  30.470874  0.0  0.0  1.0  0.0  0.0  0.0  1.0  0.0   \n",
       "3613         127.210000  29.800000  0.0  0.0  0.0  1.0  0.0  0.0  1.0  0.0   \n",
       "2374         116.773315  31.763908  0.0  1.0  0.0  0.0  0.0  0.0  0.0  1.0   \n",
       "\n",
       "        8  \n",
       "3215  0.0  \n",
       "3126  0.0  \n",
       "697   0.0  \n",
       "3613  0.0  \n",
       "2374  0.0  "
      ]
     },
     "execution_count": 149,
     "metadata": {},
     "output_type": "execute_result"
    }
   ],
   "source": [
    "# вставим закодированные столбцы и удалим их аналог в train_x\n",
    "train_x = train_x.join(train_enc.set_index(train_x.index)).drop(cat_cols, axis=1)\n",
    "\n",
    "# вставим закодированные столбцы и удалим их аналог в train_x\n",
    "test_x = test_x.join(test_enc.set_index(test_x.index)).drop(cat_cols, axis=1)\n",
    "train_x.head()"
   ]
  },
  {
   "cell_type": "code",
   "execution_count": 151,
   "metadata": {},
   "outputs": [
    {
     "data": {
      "text/html": [
       "<div>\n",
       "<style scoped>\n",
       "    .dataframe tbody tr th:only-of-type {\n",
       "        vertical-align: middle;\n",
       "    }\n",
       "\n",
       "    .dataframe tbody tr th {\n",
       "        vertical-align: top;\n",
       "    }\n",
       "\n",
       "    .dataframe thead th {\n",
       "        text-align: right;\n",
       "    }\n",
       "</style>\n",
       "<table border=\"1\" class=\"dataframe\">\n",
       "  <thead>\n",
       "    <tr style=\"text-align: right;\">\n",
       "      <th></th>\n",
       "      <th>gender</th>\n",
       "      <th>age</th>\n",
       "      <th>hypertension</th>\n",
       "      <th>heart_disease</th>\n",
       "      <th>ever_married</th>\n",
       "      <th>Residence_type</th>\n",
       "      <th>avg_glucose_level</th>\n",
       "      <th>bmi</th>\n",
       "      <th>0</th>\n",
       "      <th>1</th>\n",
       "      <th>2</th>\n",
       "      <th>3</th>\n",
       "      <th>4</th>\n",
       "      <th>5</th>\n",
       "      <th>6</th>\n",
       "      <th>7</th>\n",
       "      <th>8</th>\n",
       "    </tr>\n",
       "  </thead>\n",
       "  <tbody>\n",
       "    <tr>\n",
       "      <th>555</th>\n",
       "      <td>Male</td>\n",
       "      <td>39</td>\n",
       "      <td>0</td>\n",
       "      <td>0</td>\n",
       "      <td>1</td>\n",
       "      <td>0</td>\n",
       "      <td>71.300000</td>\n",
       "      <td>34.700000</td>\n",
       "      <td>0.0</td>\n",
       "      <td>0.0</td>\n",
       "      <td>1.0</td>\n",
       "      <td>0.0</td>\n",
       "      <td>0.0</td>\n",
       "      <td>0.0</td>\n",
       "      <td>1.0</td>\n",
       "      <td>0.0</td>\n",
       "      <td>0.0</td>\n",
       "    </tr>\n",
       "    <tr>\n",
       "      <th>3491</th>\n",
       "      <td>Female</td>\n",
       "      <td>17</td>\n",
       "      <td>0</td>\n",
       "      <td>0</td>\n",
       "      <td>0</td>\n",
       "      <td>1</td>\n",
       "      <td>104.020000</td>\n",
       "      <td>26.100000</td>\n",
       "      <td>1.0</td>\n",
       "      <td>0.0</td>\n",
       "      <td>0.0</td>\n",
       "      <td>0.0</td>\n",
       "      <td>0.0</td>\n",
       "      <td>0.0</td>\n",
       "      <td>1.0</td>\n",
       "      <td>0.0</td>\n",
       "      <td>0.0</td>\n",
       "    </tr>\n",
       "    <tr>\n",
       "      <th>527</th>\n",
       "      <td>Female</td>\n",
       "      <td>40</td>\n",
       "      <td>0</td>\n",
       "      <td>0</td>\n",
       "      <td>1</td>\n",
       "      <td>0</td>\n",
       "      <td>131.990000</td>\n",
       "      <td>37.500000</td>\n",
       "      <td>0.0</td>\n",
       "      <td>0.0</td>\n",
       "      <td>1.0</td>\n",
       "      <td>0.0</td>\n",
       "      <td>0.0</td>\n",
       "      <td>0.0</td>\n",
       "      <td>1.0</td>\n",
       "      <td>0.0</td>\n",
       "      <td>0.0</td>\n",
       "    </tr>\n",
       "    <tr>\n",
       "      <th>3925</th>\n",
       "      <td>Male</td>\n",
       "      <td>45</td>\n",
       "      <td>0</td>\n",
       "      <td>0</td>\n",
       "      <td>1</td>\n",
       "      <td>0</td>\n",
       "      <td>64.140000</td>\n",
       "      <td>29.400000</td>\n",
       "      <td>0.0</td>\n",
       "      <td>0.0</td>\n",
       "      <td>1.0</td>\n",
       "      <td>0.0</td>\n",
       "      <td>0.0</td>\n",
       "      <td>0.0</td>\n",
       "      <td>1.0</td>\n",
       "      <td>0.0</td>\n",
       "      <td>0.0</td>\n",
       "    </tr>\n",
       "    <tr>\n",
       "      <th>2989</th>\n",
       "      <td>Male</td>\n",
       "      <td>71</td>\n",
       "      <td>0</td>\n",
       "      <td>0</td>\n",
       "      <td>1</td>\n",
       "      <td>1</td>\n",
       "      <td>102.426131</td>\n",
       "      <td>27.035604</td>\n",
       "      <td>0.0</td>\n",
       "      <td>1.0</td>\n",
       "      <td>0.0</td>\n",
       "      <td>0.0</td>\n",
       "      <td>0.0</td>\n",
       "      <td>0.0</td>\n",
       "      <td>1.0</td>\n",
       "      <td>0.0</td>\n",
       "      <td>0.0</td>\n",
       "    </tr>\n",
       "    <tr>\n",
       "      <th>...</th>\n",
       "      <td>...</td>\n",
       "      <td>...</td>\n",
       "      <td>...</td>\n",
       "      <td>...</td>\n",
       "      <td>...</td>\n",
       "      <td>...</td>\n",
       "      <td>...</td>\n",
       "      <td>...</td>\n",
       "      <td>...</td>\n",
       "      <td>...</td>\n",
       "      <td>...</td>\n",
       "      <td>...</td>\n",
       "      <td>...</td>\n",
       "      <td>...</td>\n",
       "      <td>...</td>\n",
       "      <td>...</td>\n",
       "      <td>...</td>\n",
       "    </tr>\n",
       "    <tr>\n",
       "      <th>3856</th>\n",
       "      <td>Male</td>\n",
       "      <td>76</td>\n",
       "      <td>0</td>\n",
       "      <td>0</td>\n",
       "      <td>1</td>\n",
       "      <td>0</td>\n",
       "      <td>60.832136</td>\n",
       "      <td>28.985961</td>\n",
       "      <td>0.0</td>\n",
       "      <td>1.0</td>\n",
       "      <td>0.0</td>\n",
       "      <td>0.0</td>\n",
       "      <td>0.0</td>\n",
       "      <td>0.0</td>\n",
       "      <td>0.0</td>\n",
       "      <td>1.0</td>\n",
       "      <td>0.0</td>\n",
       "    </tr>\n",
       "    <tr>\n",
       "      <th>226</th>\n",
       "      <td>Female</td>\n",
       "      <td>51</td>\n",
       "      <td>0</td>\n",
       "      <td>0</td>\n",
       "      <td>1</td>\n",
       "      <td>0</td>\n",
       "      <td>76.350000</td>\n",
       "      <td>33.500000</td>\n",
       "      <td>0.0</td>\n",
       "      <td>1.0</td>\n",
       "      <td>0.0</td>\n",
       "      <td>0.0</td>\n",
       "      <td>0.0</td>\n",
       "      <td>0.0</td>\n",
       "      <td>0.0</td>\n",
       "      <td>1.0</td>\n",
       "      <td>0.0</td>\n",
       "    </tr>\n",
       "    <tr>\n",
       "      <th>1612</th>\n",
       "      <td>Female</td>\n",
       "      <td>28</td>\n",
       "      <td>1</td>\n",
       "      <td>0</td>\n",
       "      <td>0</td>\n",
       "      <td>0</td>\n",
       "      <td>80.400000</td>\n",
       "      <td>57.500000</td>\n",
       "      <td>0.0</td>\n",
       "      <td>0.0</td>\n",
       "      <td>1.0</td>\n",
       "      <td>0.0</td>\n",
       "      <td>0.0</td>\n",
       "      <td>0.0</td>\n",
       "      <td>1.0</td>\n",
       "      <td>0.0</td>\n",
       "      <td>0.0</td>\n",
       "    </tr>\n",
       "    <tr>\n",
       "      <th>535</th>\n",
       "      <td>Male</td>\n",
       "      <td>3</td>\n",
       "      <td>0</td>\n",
       "      <td>0</td>\n",
       "      <td>0</td>\n",
       "      <td>1</td>\n",
       "      <td>105.340000</td>\n",
       "      <td>15.500000</td>\n",
       "      <td>1.0</td>\n",
       "      <td>0.0</td>\n",
       "      <td>0.0</td>\n",
       "      <td>0.0</td>\n",
       "      <td>0.0</td>\n",
       "      <td>0.0</td>\n",
       "      <td>0.0</td>\n",
       "      <td>0.0</td>\n",
       "      <td>1.0</td>\n",
       "    </tr>\n",
       "    <tr>\n",
       "      <th>3848</th>\n",
       "      <td>Male</td>\n",
       "      <td>6</td>\n",
       "      <td>0</td>\n",
       "      <td>0</td>\n",
       "      <td>0</td>\n",
       "      <td>1</td>\n",
       "      <td>83.280000</td>\n",
       "      <td>20.000000</td>\n",
       "      <td>1.0</td>\n",
       "      <td>0.0</td>\n",
       "      <td>0.0</td>\n",
       "      <td>0.0</td>\n",
       "      <td>0.0</td>\n",
       "      <td>0.0</td>\n",
       "      <td>0.0</td>\n",
       "      <td>0.0</td>\n",
       "      <td>1.0</td>\n",
       "    </tr>\n",
       "  </tbody>\n",
       "</table>\n",
       "<p>1200 rows × 17 columns</p>\n",
       "</div>"
      ],
      "text/plain": [
       "      gender  age  hypertension  heart_disease  ever_married  Residence_type  \\\n",
       "555     Male   39             0              0             1               0   \n",
       "3491  Female   17             0              0             0               1   \n",
       "527   Female   40             0              0             1               0   \n",
       "3925    Male   45             0              0             1               0   \n",
       "2989    Male   71             0              0             1               1   \n",
       "...      ...  ...           ...            ...           ...             ...   \n",
       "3856    Male   76             0              0             1               0   \n",
       "226   Female   51             0              0             1               0   \n",
       "1612  Female   28             1              0             0               0   \n",
       "535     Male    3             0              0             0               1   \n",
       "3848    Male    6             0              0             0               1   \n",
       "\n",
       "      avg_glucose_level        bmi    0    1    2    3    4    5    6    7  \\\n",
       "555           71.300000  34.700000  0.0  0.0  1.0  0.0  0.0  0.0  1.0  0.0   \n",
       "3491         104.020000  26.100000  1.0  0.0  0.0  0.0  0.0  0.0  1.0  0.0   \n",
       "527          131.990000  37.500000  0.0  0.0  1.0  0.0  0.0  0.0  1.0  0.0   \n",
       "3925          64.140000  29.400000  0.0  0.0  1.0  0.0  0.0  0.0  1.0  0.0   \n",
       "2989         102.426131  27.035604  0.0  1.0  0.0  0.0  0.0  0.0  1.0  0.0   \n",
       "...                 ...        ...  ...  ...  ...  ...  ...  ...  ...  ...   \n",
       "3856          60.832136  28.985961  0.0  1.0  0.0  0.0  0.0  0.0  0.0  1.0   \n",
       "226           76.350000  33.500000  0.0  1.0  0.0  0.0  0.0  0.0  0.0  1.0   \n",
       "1612          80.400000  57.500000  0.0  0.0  1.0  0.0  0.0  0.0  1.0  0.0   \n",
       "535          105.340000  15.500000  1.0  0.0  0.0  0.0  0.0  0.0  0.0  0.0   \n",
       "3848          83.280000  20.000000  1.0  0.0  0.0  0.0  0.0  0.0  0.0  0.0   \n",
       "\n",
       "        8  \n",
       "555   0.0  \n",
       "3491  0.0  \n",
       "527   0.0  \n",
       "3925  0.0  \n",
       "2989  0.0  \n",
       "...   ...  \n",
       "3856  0.0  \n",
       "226   0.0  \n",
       "1612  0.0  \n",
       "535   1.0  \n",
       "3848  1.0  \n",
       "\n",
       "[1200 rows x 17 columns]"
      ]
     },
     "execution_count": 151,
     "metadata": {},
     "output_type": "execute_result"
    }
   ],
   "source": [
    "test_x"
   ]
  },
  {
   "cell_type": "code",
   "execution_count": 158,
   "metadata": {},
   "outputs": [
    {
     "name": "stdout",
     "output_type": "stream",
     "text": [
      "ACC=  0.83\n",
      "confusion_matrix=  [[489 115]\n",
      " [ 89 507]]\n"
     ]
    },
    {
     "name": "stderr",
     "output_type": "stream",
     "text": [
      "C:\\Users\\HP Z2\\anaconda3\\lib\\site-packages\\sklearn\\linear_model\\_logistic.py:763: ConvergenceWarning: lbfgs failed to converge (status=1):\n",
      "STOP: TOTAL NO. of ITERATIONS REACHED LIMIT.\n",
      "\n",
      "Increase the number of iterations (max_iter) or scale the data as shown in:\n",
      "    https://scikit-learn.org/stable/modules/preprocessing.html\n",
      "Please also refer to the documentation for alternative solver options:\n",
      "    https://scikit-learn.org/stable/modules/linear_model.html#logistic-regression\n",
      "  n_iter_i = _check_optimize_result(\n"
     ]
    }
   ],
   "source": [
    "# обучим модель на примере одной переменной ['age', 'avg_glucose_level', 'bmi'] \n",
    "train_cols = ['age', 'avg_glucose_level', 'bmi', 'hypertension', 'heart_disease',\n",
    "             'ever_married', 'Residence_type', 0, 1, 2, 3, 4, 5, 6, 7, 8]\n",
    "logreg.fit(train_x[train_cols], train_y)\n",
    "\n",
    "# найдем предикт на тестовых данных и выведим метрику точности модели\n",
    "pred = logreg.predict(test_x[train_cols])\n",
    "print('ACC= ', accuracy_score(test_y, pred))\n",
    "\n",
    "# выведем матрицу ошибок\n",
    "print('confusion_matrix= ', confusion_matrix(test_y, pred))"
   ]
  },
  {
   "cell_type": "markdown",
   "metadata": {
    "id": "sfClfR89peXr"
   },
   "source": [
    "-"
   ]
  },
  {
   "cell_type": "markdown",
   "metadata": {
    "id": "LhJ4Aj5wpeew"
   },
   "source": [
    "-"
   ]
  },
  {
   "cell_type": "markdown",
   "metadata": {
    "id": "AFbsVLp9pemF"
   },
   "source": [
    "-"
   ]
  },
  {
   "cell_type": "markdown",
   "metadata": {
    "id": "Dg6ixokTpeuN"
   },
   "source": [
    "-"
   ]
  },
  {
   "cell_type": "markdown",
   "metadata": {
    "id": "E_yO_wF-pe1N"
   },
   "source": [
    "-"
   ]
  },
  {
   "cell_type": "code",
   "execution_count": null,
   "metadata": {
    "colab": {
     "base_uri": "https://localhost:8080/"
    },
    "id": "HJm1yszBhV-R",
    "outputId": "fd7ade17-91fb-4dce-e8d8-b91e670fe7b2"
   },
   "outputs": [
    {
     "data": {
      "text/plain": [
       "0.7683333333333333"
      ]
     },
     "execution_count": 13,
     "metadata": {},
     "output_type": "execute_result"
    }
   ],
   "source": [
    "# Решение (Задача 0)\n",
    "x = df.drop(['stroke'], axis=1)\n",
    "y = df.stroke\n",
    "\n",
    "train_x, test_x, train_y, test_y = train_test_split(x, y, test_size=0.3, random_state=42)\n",
    "\n",
    "\n",
    "logreg = LogisticRegression()\n",
    "train_cols = ['age']\n",
    "logreg.fit(train_x[train_cols], train_y)\n",
    "\n",
    "pred = logreg.predict(test_x[train_cols])\n",
    "accuracy_score(test_y, pred)"
   ]
  },
  {
   "cell_type": "code",
   "execution_count": null,
   "metadata": {
    "colab": {
     "base_uri": "https://localhost:8080/"
    },
    "id": "QL01mVF8mL9o",
    "outputId": "abe1baa7-0b38-4fe9-bd35-0b3a8ec4507d"
   },
   "outputs": [
    {
     "data": {
      "text/plain": [
       "array([[448, 156],\n",
       "       [122, 474]])"
      ]
     },
     "execution_count": 14,
     "metadata": {},
     "output_type": "execute_result"
    }
   ],
   "source": [
    "confusion_matrix(test_y, pred)"
   ]
  },
  {
   "cell_type": "markdown",
   "metadata": {
    "id": "EGjH3DG8pr_U"
   },
   "source": [
    "-"
   ]
  },
  {
   "cell_type": "markdown",
   "metadata": {
    "id": "ii9h5-0wpsER"
   },
   "source": [
    "-"
   ]
  },
  {
   "cell_type": "markdown",
   "metadata": {
    "id": "lLvESeHkpsJB"
   },
   "source": [
    "-"
   ]
  },
  {
   "cell_type": "code",
   "execution_count": null,
   "metadata": {
    "colab": {
     "base_uri": "https://localhost:8080/"
    },
    "id": "dcMbfq8zsvM7",
    "outputId": "b58f84a7-22fc-4f40-fd8a-a35cc707b402"
   },
   "outputs": [
    {
     "data": {
      "text/plain": [
       "Male      2141\n",
       "Female    1858\n",
       "255          1\n",
       "Name: gender, dtype: int64"
      ]
     },
     "execution_count": 35,
     "metadata": {},
     "output_type": "execute_result"
    }
   ],
   "source": [
    "# Решение (Задача 1)\n",
    "df.gender.value_counts()"
   ]
  },
  {
   "cell_type": "code",
   "execution_count": null,
   "metadata": {
    "id": "P_r2_nUosx9M"
   },
   "outputs": [],
   "source": [
    "df = df[df.gender !='255']\n",
    "x = df.drop(['stroke'], axis=1)\n",
    "y = df.stroke"
   ]
  },
  {
   "cell_type": "code",
   "execution_count": null,
   "metadata": {
    "colab": {
     "base_uri": "https://localhost:8080/"
    },
    "id": "Xi1GoPDzqWF6",
    "outputId": "6439fefd-c440-4df0-bd47-e07e04a79207"
   },
   "outputs": [
    {
     "data": {
      "text/plain": [
       "1    2141\n",
       "0    1858\n",
       "Name: gender, dtype: int64"
      ]
     },
     "execution_count": 137,
     "metadata": {},
     "output_type": "execute_result"
    }
   ],
   "source": [
    "df.gender = df.gender.replace({'Male': 1, 'Female': 0})\n",
    "df.gender.value_counts()"
   ]
  },
  {
   "cell_type": "code",
   "execution_count": null,
   "metadata": {
    "colab": {
     "base_uri": "https://localhost:8080/"
    },
    "id": "bfuaokSXjwCA",
    "outputId": "879a7beb-5e00-46f2-eaff-016a7c250c34"
   },
   "outputs": [
    {
     "data": {
      "text/plain": [
       "0.7766666666666666"
      ]
     },
     "execution_count": 138,
     "metadata": {},
     "output_type": "execute_result"
    }
   ],
   "source": [
    "train_x, test_x, train_y, test_y = train_test_split(x, y, test_size=0.3, random_state=42)\n",
    "\n",
    "num_cols = ['age', 'bmi', 'avg_glucose_level']\n",
    "logreg.fit(train_x[num_cols], train_y)\n",
    "\n",
    "pred = logreg.predict(test_x[num_cols])\n",
    "accuracy_score(test_y, pred)"
   ]
  },
  {
   "cell_type": "code",
   "execution_count": null,
   "metadata": {
    "colab": {
     "base_uri": "https://localhost:8080/"
    },
    "id": "3jXz8f_HmHT6",
    "outputId": "37320744-73c5-4208-fd50-d2c4d69823ab"
   },
   "outputs": [
    {
     "data": {
      "text/plain": [
       "array([[439, 146],\n",
       "       [122, 493]])"
      ]
     },
     "execution_count": 50,
     "metadata": {},
     "output_type": "execute_result"
    }
   ],
   "source": [
    "confusion_matrix(test_y, pred)"
   ]
  },
  {
   "cell_type": "code",
   "execution_count": null,
   "metadata": {
    "colab": {
     "base_uri": "https://localhost:8080/"
    },
    "id": "DuJP_NWRmduv",
    "outputId": "f2b2d789-ade6-45c8-9aef-714c6716cabd"
   },
   "outputs": [
    {
     "name": "stderr",
     "output_type": "stream",
     "text": [
      "/usr/local/lib/python3.7/dist-packages/sklearn/linear_model/_logistic.py:818: ConvergenceWarning: lbfgs failed to converge (status=1):\n",
      "STOP: TOTAL NO. of ITERATIONS REACHED LIMIT.\n",
      "\n",
      "Increase the number of iterations (max_iter) or scale the data as shown in:\n",
      "    https://scikit-learn.org/stable/modules/preprocessing.html\n",
      "Please also refer to the documentation for alternative solver options:\n",
      "    https://scikit-learn.org/stable/modules/linear_model.html#logistic-regression\n",
      "  extra_warning_msg=_LOGISTIC_SOLVER_CONVERGENCE_MSG,\n"
     ]
    },
    {
     "data": {
      "text/plain": [
       "0.8075"
      ]
     },
     "execution_count": 51,
     "metadata": {},
     "output_type": "execute_result"
    }
   ],
   "source": [
    "binary_cols = ['gender', 'hypertension', 'heart_disease', 'ever_married','Residence_type']\n",
    "logreg.fit(train_x[num_cols + binary_cols], train_y)\n",
    "\n",
    "pred = logreg.predict(test_x[num_cols + binary_cols])\n",
    "accuracy_score(test_y, pred)"
   ]
  },
  {
   "cell_type": "code",
   "execution_count": null,
   "metadata": {
    "colab": {
     "base_uri": "https://localhost:8080/"
    },
    "id": "rL0Gg5wTm5A0",
    "outputId": "91287f65-0197-4c4b-dd11-2d928d5f738b"
   },
   "outputs": [
    {
     "data": {
      "text/plain": [
       "array([[470, 115],\n",
       "       [116, 499]])"
      ]
     },
     "execution_count": 52,
     "metadata": {},
     "output_type": "execute_result"
    }
   ],
   "source": [
    "confusion_matrix(test_y, pred)"
   ]
  },
  {
   "cell_type": "markdown",
   "metadata": {
    "id": "Ys2h2q1bp23q"
   },
   "source": [
    "-"
   ]
  },
  {
   "cell_type": "markdown",
   "metadata": {
    "id": "Lfb_CbuUp2-A"
   },
   "source": [
    "-"
   ]
  },
  {
   "cell_type": "markdown",
   "metadata": {
    "id": "grziwi6qp3Df"
   },
   "source": [
    "-"
   ]
  },
  {
   "cell_type": "code",
   "execution_count": null,
   "metadata": {
    "colab": {
     "base_uri": "https://localhost:8080/"
    },
    "id": "7OdbTcAwuBn1",
    "outputId": "3f329f91-f942-4d78-ce2b-a741b77abfff"
   },
   "outputs": [
    {
     "name": "stderr",
     "output_type": "stream",
     "text": [
      "/usr/local/lib/python3.7/dist-packages/sklearn/linear_model/_logistic.py:818: ConvergenceWarning: lbfgs failed to converge (status=1):\n",
      "STOP: TOTAL NO. of ITERATIONS REACHED LIMIT.\n",
      "\n",
      "Increase the number of iterations (max_iter) or scale the data as shown in:\n",
      "    https://scikit-learn.org/stable/modules/preprocessing.html\n",
      "Please also refer to the documentation for alternative solver options:\n",
      "    https://scikit-learn.org/stable/modules/linear_model.html#logistic-regression\n",
      "  extra_warning_msg=_LOGISTIC_SOLVER_CONVERGENCE_MSG,\n"
     ]
    }
   ],
   "source": [
    "# Решение (Задача 2)\n",
    "logreg = LogisticRegression()\n",
    "\n",
    "logreg.fit(train_x[num_cols + binary_cols], train_y)\n",
    "pred = logreg.predict(test_x[num_cols + binary_cols])\n",
    "pred_probs = logreg.predict_proba(test_x[num_cols + binary_cols])"
   ]
  },
  {
   "cell_type": "code",
   "execution_count": null,
   "metadata": {
    "id": "WPGl1TDQ0gnc"
   },
   "outputs": [],
   "source": [
    "def predict_class(pred_probs, trsh=0.5):\n",
    "  return [0 if x[0]>trsh else 1 for x in pred_probs]"
   ]
  },
  {
   "cell_type": "code",
   "execution_count": null,
   "metadata": {
    "id": "mzzym_bqufH8"
   },
   "outputs": [],
   "source": [
    "pred_class = predict_class(pred_probs)"
   ]
  },
  {
   "cell_type": "code",
   "execution_count": null,
   "metadata": {
    "colab": {
     "base_uri": "https://localhost:8080/"
    },
    "id": "2kdd5TIawwge",
    "outputId": "73e5b4bb-90da-4ed6-d535-d695791fc3bd"
   },
   "outputs": [
    {
     "data": {
      "text/plain": [
       "True"
      ]
     },
     "execution_count": 97,
     "metadata": {},
     "output_type": "execute_result"
    }
   ],
   "source": [
    "list(pred) == pred_class"
   ]
  },
  {
   "cell_type": "code",
   "execution_count": null,
   "metadata": {
    "colab": {
     "base_uri": "https://localhost:8080/"
    },
    "id": "1RVtAAJDxjTR",
    "outputId": "e11004f0-5d39-49d0-d8ce-144442b2a108"
   },
   "outputs": [
    {
     "data": {
      "text/plain": [
       "0.815"
      ]
     },
     "execution_count": 111,
     "metadata": {},
     "output_type": "execute_result"
    }
   ],
   "source": [
    "# тут могут быть разные значения trsh\n",
    "pred_class = predict_class(pred_probs, 0.6)\n",
    "accuracy_score(test_y, pred_class)"
   ]
  },
  {
   "cell_type": "markdown",
   "metadata": {
    "id": "nlWHY46_5PUi"
   },
   "source": [
    "Замечание: манипулировать порогом нужно осторожно. Если вы выбрали новое значение порога, например = 0.6, убедитесь, что на тренировочной выборке этот порог также даёт прирост в качестве модели. Иначе вы просто «подгоните» порог для своих текущих тестовых данных."
   ]
  },
  {
   "cell_type": "markdown",
   "metadata": {
    "id": "YxNHJrX3qHIE"
   },
   "source": [
    "-"
   ]
  },
  {
   "cell_type": "markdown",
   "metadata": {
    "id": "QvSB9yfuqHMC"
   },
   "source": [
    "-"
   ]
  },
  {
   "cell_type": "markdown",
   "metadata": {
    "id": "j4muskI0qHPi"
   },
   "source": [
    "-"
   ]
  },
  {
   "cell_type": "code",
   "execution_count": null,
   "metadata": {
    "id": "b6WqIYew090Z"
   },
   "outputs": [],
   "source": [
    "# Решение (Дополнительная задача)\n",
    "cat_cols = ['smoking_status', 'work_type']"
   ]
  },
  {
   "cell_type": "code",
   "execution_count": null,
   "metadata": {
    "colab": {
     "base_uri": "https://localhost:8080/",
     "height": 206
    },
    "id": "2gJDnf0j3TYQ",
    "outputId": "049cff36-3064-45a1-a12c-3217a6ce3ebd"
   },
   "outputs": [
    {
     "data": {
      "text/html": [
       "\n",
       "  <div id=\"df-f327f9f3-cd0a-4152-bcc7-02f816f7915d\">\n",
       "    <div class=\"colab-df-container\">\n",
       "      <div>\n",
       "<style scoped>\n",
       "    .dataframe tbody tr th:only-of-type {\n",
       "        vertical-align: middle;\n",
       "    }\n",
       "\n",
       "    .dataframe tbody tr th {\n",
       "        vertical-align: top;\n",
       "    }\n",
       "\n",
       "    .dataframe thead th {\n",
       "        text-align: right;\n",
       "    }\n",
       "</style>\n",
       "<table border=\"1\" class=\"dataframe\">\n",
       "  <thead>\n",
       "    <tr style=\"text-align: right;\">\n",
       "      <th></th>\n",
       "      <th>0</th>\n",
       "      <th>1</th>\n",
       "      <th>2</th>\n",
       "      <th>3</th>\n",
       "      <th>4</th>\n",
       "      <th>5</th>\n",
       "      <th>6</th>\n",
       "      <th>7</th>\n",
       "      <th>8</th>\n",
       "    </tr>\n",
       "  </thead>\n",
       "  <tbody>\n",
       "    <tr>\n",
       "      <th>0</th>\n",
       "      <td>0.0</td>\n",
       "      <td>1.0</td>\n",
       "      <td>0.0</td>\n",
       "      <td>0.0</td>\n",
       "      <td>0.0</td>\n",
       "      <td>0.0</td>\n",
       "      <td>1.0</td>\n",
       "      <td>0.0</td>\n",
       "      <td>0.0</td>\n",
       "    </tr>\n",
       "    <tr>\n",
       "      <th>1</th>\n",
       "      <td>0.0</td>\n",
       "      <td>1.0</td>\n",
       "      <td>0.0</td>\n",
       "      <td>0.0</td>\n",
       "      <td>0.0</td>\n",
       "      <td>0.0</td>\n",
       "      <td>0.0</td>\n",
       "      <td>1.0</td>\n",
       "      <td>0.0</td>\n",
       "    </tr>\n",
       "    <tr>\n",
       "      <th>2</th>\n",
       "      <td>0.0</td>\n",
       "      <td>0.0</td>\n",
       "      <td>0.0</td>\n",
       "      <td>1.0</td>\n",
       "      <td>0.0</td>\n",
       "      <td>0.0</td>\n",
       "      <td>1.0</td>\n",
       "      <td>0.0</td>\n",
       "      <td>0.0</td>\n",
       "    </tr>\n",
       "    <tr>\n",
       "      <th>3</th>\n",
       "      <td>1.0</td>\n",
       "      <td>0.0</td>\n",
       "      <td>0.0</td>\n",
       "      <td>0.0</td>\n",
       "      <td>0.0</td>\n",
       "      <td>0.0</td>\n",
       "      <td>1.0</td>\n",
       "      <td>0.0</td>\n",
       "      <td>0.0</td>\n",
       "    </tr>\n",
       "    <tr>\n",
       "      <th>4</th>\n",
       "      <td>0.0</td>\n",
       "      <td>1.0</td>\n",
       "      <td>0.0</td>\n",
       "      <td>0.0</td>\n",
       "      <td>0.0</td>\n",
       "      <td>0.0</td>\n",
       "      <td>1.0</td>\n",
       "      <td>0.0</td>\n",
       "      <td>0.0</td>\n",
       "    </tr>\n",
       "  </tbody>\n",
       "</table>\n",
       "</div>\n",
       "      <button class=\"colab-df-convert\" onclick=\"convertToInteractive('df-f327f9f3-cd0a-4152-bcc7-02f816f7915d')\"\n",
       "              title=\"Convert this dataframe to an interactive table.\"\n",
       "              style=\"display:none;\">\n",
       "        \n",
       "  <svg xmlns=\"http://www.w3.org/2000/svg\" height=\"24px\"viewBox=\"0 0 24 24\"\n",
       "       width=\"24px\">\n",
       "    <path d=\"M0 0h24v24H0V0z\" fill=\"none\"/>\n",
       "    <path d=\"M18.56 5.44l.94 2.06.94-2.06 2.06-.94-2.06-.94-.94-2.06-.94 2.06-2.06.94zm-11 1L8.5 8.5l.94-2.06 2.06-.94-2.06-.94L8.5 2.5l-.94 2.06-2.06.94zm10 10l.94 2.06.94-2.06 2.06-.94-2.06-.94-.94-2.06-.94 2.06-2.06.94z\"/><path d=\"M17.41 7.96l-1.37-1.37c-.4-.4-.92-.59-1.43-.59-.52 0-1.04.2-1.43.59L10.3 9.45l-7.72 7.72c-.78.78-.78 2.05 0 2.83L4 21.41c.39.39.9.59 1.41.59.51 0 1.02-.2 1.41-.59l7.78-7.78 2.81-2.81c.8-.78.8-2.07 0-2.86zM5.41 20L4 18.59l7.72-7.72 1.47 1.35L5.41 20z\"/>\n",
       "  </svg>\n",
       "      </button>\n",
       "      \n",
       "  <style>\n",
       "    .colab-df-container {\n",
       "      display:flex;\n",
       "      flex-wrap:wrap;\n",
       "      gap: 12px;\n",
       "    }\n",
       "\n",
       "    .colab-df-convert {\n",
       "      background-color: #E8F0FE;\n",
       "      border: none;\n",
       "      border-radius: 50%;\n",
       "      cursor: pointer;\n",
       "      display: none;\n",
       "      fill: #1967D2;\n",
       "      height: 32px;\n",
       "      padding: 0 0 0 0;\n",
       "      width: 32px;\n",
       "    }\n",
       "\n",
       "    .colab-df-convert:hover {\n",
       "      background-color: #E2EBFA;\n",
       "      box-shadow: 0px 1px 2px rgba(60, 64, 67, 0.3), 0px 1px 3px 1px rgba(60, 64, 67, 0.15);\n",
       "      fill: #174EA6;\n",
       "    }\n",
       "\n",
       "    [theme=dark] .colab-df-convert {\n",
       "      background-color: #3B4455;\n",
       "      fill: #D2E3FC;\n",
       "    }\n",
       "\n",
       "    [theme=dark] .colab-df-convert:hover {\n",
       "      background-color: #434B5C;\n",
       "      box-shadow: 0px 1px 3px 1px rgba(0, 0, 0, 0.15);\n",
       "      filter: drop-shadow(0px 1px 2px rgba(0, 0, 0, 0.3));\n",
       "      fill: #FFFFFF;\n",
       "    }\n",
       "  </style>\n",
       "\n",
       "      <script>\n",
       "        const buttonEl =\n",
       "          document.querySelector('#df-f327f9f3-cd0a-4152-bcc7-02f816f7915d button.colab-df-convert');\n",
       "        buttonEl.style.display =\n",
       "          google.colab.kernel.accessAllowed ? 'block' : 'none';\n",
       "\n",
       "        async function convertToInteractive(key) {\n",
       "          const element = document.querySelector('#df-f327f9f3-cd0a-4152-bcc7-02f816f7915d');\n",
       "          const dataTable =\n",
       "            await google.colab.kernel.invokeFunction('convertToInteractive',\n",
       "                                                     [key], {});\n",
       "          if (!dataTable) return;\n",
       "\n",
       "          const docLinkHtml = 'Like what you see? Visit the ' +\n",
       "            '<a target=\"_blank\" href=https://colab.research.google.com/notebooks/data_table.ipynb>data table notebook</a>'\n",
       "            + ' to learn more about interactive tables.';\n",
       "          element.innerHTML = '';\n",
       "          dataTable['output_type'] = 'display_data';\n",
       "          await google.colab.output.renderOutput(dataTable, element);\n",
       "          const docLink = document.createElement('div');\n",
       "          docLink.innerHTML = docLinkHtml;\n",
       "          element.appendChild(docLink);\n",
       "        }\n",
       "      </script>\n",
       "    </div>\n",
       "  </div>\n",
       "  "
      ],
      "text/plain": [
       "     0    1    2    3    4    5    6    7    8\n",
       "0  0.0  1.0  0.0  0.0  0.0  0.0  1.0  0.0  0.0\n",
       "1  0.0  1.0  0.0  0.0  0.0  0.0  0.0  1.0  0.0\n",
       "2  0.0  0.0  0.0  1.0  0.0  0.0  1.0  0.0  0.0\n",
       "3  1.0  0.0  0.0  0.0  0.0  0.0  1.0  0.0  0.0\n",
       "4  0.0  1.0  0.0  0.0  0.0  0.0  1.0  0.0  0.0"
      ]
     },
     "execution_count": 139,
     "metadata": {},
     "output_type": "execute_result"
    }
   ],
   "source": [
    "from sklearn.preprocessing import OneHotEncoder\n",
    "\n",
    "ohe = OneHotEncoder(handle_unknown='ignore')\n",
    "train_enc = pd.DataFrame(ohe.fit_transform(train_x[cat_cols]).toarray(),)\n",
    "test_enc = pd.DataFrame(ohe.transform(test_x[cat_cols]).toarray(),)\n",
    "\n",
    "train_enc.head()"
   ]
  },
  {
   "cell_type": "code",
   "execution_count": null,
   "metadata": {
    "colab": {
     "base_uri": "https://localhost:8080/",
     "height": 206
    },
    "id": "7I9FmQ0U3mU-",
    "outputId": "3e79ebc1-5b33-4f01-f9ed-98e46d55c4b0",
    "scrolled": true
   },
   "outputs": [
    {
     "data": {
      "text/html": [
       "\n",
       "  <div id=\"df-00157b2b-78b9-4e73-bbaa-ff445e719822\">\n",
       "    <div class=\"colab-df-container\">\n",
       "      <div>\n",
       "<style scoped>\n",
       "    .dataframe tbody tr th:only-of-type {\n",
       "        vertical-align: middle;\n",
       "    }\n",
       "\n",
       "    .dataframe tbody tr th {\n",
       "        vertical-align: top;\n",
       "    }\n",
       "\n",
       "    .dataframe thead th {\n",
       "        text-align: right;\n",
       "    }\n",
       "</style>\n",
       "<table border=\"1\" class=\"dataframe\">\n",
       "  <thead>\n",
       "    <tr style=\"text-align: right;\">\n",
       "      <th></th>\n",
       "      <th>gender</th>\n",
       "      <th>age</th>\n",
       "      <th>hypertension</th>\n",
       "      <th>heart_disease</th>\n",
       "      <th>ever_married</th>\n",
       "      <th>Residence_type</th>\n",
       "      <th>avg_glucose_level</th>\n",
       "      <th>bmi</th>\n",
       "      <th>0</th>\n",
       "      <th>1</th>\n",
       "      <th>2</th>\n",
       "      <th>3</th>\n",
       "      <th>4</th>\n",
       "      <th>5</th>\n",
       "      <th>6</th>\n",
       "      <th>7</th>\n",
       "      <th>8</th>\n",
       "    </tr>\n",
       "  </thead>\n",
       "  <tbody>\n",
       "    <tr>\n",
       "      <th>1830</th>\n",
       "      <td>1</td>\n",
       "      <td>61</td>\n",
       "      <td>1</td>\n",
       "      <td>1</td>\n",
       "      <td>0</td>\n",
       "      <td>0</td>\n",
       "      <td>148.240000</td>\n",
       "      <td>32.200000</td>\n",
       "      <td>0.0</td>\n",
       "      <td>1.0</td>\n",
       "      <td>0.0</td>\n",
       "      <td>0.0</td>\n",
       "      <td>0.0</td>\n",
       "      <td>0.0</td>\n",
       "      <td>1.0</td>\n",
       "      <td>0.0</td>\n",
       "      <td>0.0</td>\n",
       "    </tr>\n",
       "    <tr>\n",
       "      <th>3392</th>\n",
       "      <td>1</td>\n",
       "      <td>74</td>\n",
       "      <td>1</td>\n",
       "      <td>0</td>\n",
       "      <td>1</td>\n",
       "      <td>0</td>\n",
       "      <td>194.779099</td>\n",
       "      <td>30.827056</td>\n",
       "      <td>0.0</td>\n",
       "      <td>1.0</td>\n",
       "      <td>0.0</td>\n",
       "      <td>0.0</td>\n",
       "      <td>0.0</td>\n",
       "      <td>0.0</td>\n",
       "      <td>0.0</td>\n",
       "      <td>1.0</td>\n",
       "      <td>0.0</td>\n",
       "    </tr>\n",
       "    <tr>\n",
       "      <th>3624</th>\n",
       "      <td>1</td>\n",
       "      <td>80</td>\n",
       "      <td>0</td>\n",
       "      <td>0</td>\n",
       "      <td>1</td>\n",
       "      <td>1</td>\n",
       "      <td>73.479402</td>\n",
       "      <td>24.190924</td>\n",
       "      <td>0.0</td>\n",
       "      <td>0.0</td>\n",
       "      <td>0.0</td>\n",
       "      <td>1.0</td>\n",
       "      <td>0.0</td>\n",
       "      <td>0.0</td>\n",
       "      <td>1.0</td>\n",
       "      <td>0.0</td>\n",
       "      <td>0.0</td>\n",
       "    </tr>\n",
       "    <tr>\n",
       "      <th>1954</th>\n",
       "      <td>0</td>\n",
       "      <td>73</td>\n",
       "      <td>0</td>\n",
       "      <td>0</td>\n",
       "      <td>1</td>\n",
       "      <td>0</td>\n",
       "      <td>98.340000</td>\n",
       "      <td>30.900000</td>\n",
       "      <td>1.0</td>\n",
       "      <td>0.0</td>\n",
       "      <td>0.0</td>\n",
       "      <td>0.0</td>\n",
       "      <td>0.0</td>\n",
       "      <td>0.0</td>\n",
       "      <td>1.0</td>\n",
       "      <td>0.0</td>\n",
       "      <td>0.0</td>\n",
       "    </tr>\n",
       "    <tr>\n",
       "      <th>1037</th>\n",
       "      <td>1</td>\n",
       "      <td>80</td>\n",
       "      <td>0</td>\n",
       "      <td>0</td>\n",
       "      <td>1</td>\n",
       "      <td>1</td>\n",
       "      <td>248.408053</td>\n",
       "      <td>29.305082</td>\n",
       "      <td>0.0</td>\n",
       "      <td>1.0</td>\n",
       "      <td>0.0</td>\n",
       "      <td>0.0</td>\n",
       "      <td>0.0</td>\n",
       "      <td>0.0</td>\n",
       "      <td>1.0</td>\n",
       "      <td>0.0</td>\n",
       "      <td>0.0</td>\n",
       "    </tr>\n",
       "  </tbody>\n",
       "</table>\n",
       "</div>\n",
       "      <button class=\"colab-df-convert\" onclick=\"convertToInteractive('df-00157b2b-78b9-4e73-bbaa-ff445e719822')\"\n",
       "              title=\"Convert this dataframe to an interactive table.\"\n",
       "              style=\"display:none;\">\n",
       "        \n",
       "  <svg xmlns=\"http://www.w3.org/2000/svg\" height=\"24px\"viewBox=\"0 0 24 24\"\n",
       "       width=\"24px\">\n",
       "    <path d=\"M0 0h24v24H0V0z\" fill=\"none\"/>\n",
       "    <path d=\"M18.56 5.44l.94 2.06.94-2.06 2.06-.94-2.06-.94-.94-2.06-.94 2.06-2.06.94zm-11 1L8.5 8.5l.94-2.06 2.06-.94-2.06-.94L8.5 2.5l-.94 2.06-2.06.94zm10 10l.94 2.06.94-2.06 2.06-.94-2.06-.94-.94-2.06-.94 2.06-2.06.94z\"/><path d=\"M17.41 7.96l-1.37-1.37c-.4-.4-.92-.59-1.43-.59-.52 0-1.04.2-1.43.59L10.3 9.45l-7.72 7.72c-.78.78-.78 2.05 0 2.83L4 21.41c.39.39.9.59 1.41.59.51 0 1.02-.2 1.41-.59l7.78-7.78 2.81-2.81c.8-.78.8-2.07 0-2.86zM5.41 20L4 18.59l7.72-7.72 1.47 1.35L5.41 20z\"/>\n",
       "  </svg>\n",
       "      </button>\n",
       "      \n",
       "  <style>\n",
       "    .colab-df-container {\n",
       "      display:flex;\n",
       "      flex-wrap:wrap;\n",
       "      gap: 12px;\n",
       "    }\n",
       "\n",
       "    .colab-df-convert {\n",
       "      background-color: #E8F0FE;\n",
       "      border: none;\n",
       "      border-radius: 50%;\n",
       "      cursor: pointer;\n",
       "      display: none;\n",
       "      fill: #1967D2;\n",
       "      height: 32px;\n",
       "      padding: 0 0 0 0;\n",
       "      width: 32px;\n",
       "    }\n",
       "\n",
       "    .colab-df-convert:hover {\n",
       "      background-color: #E2EBFA;\n",
       "      box-shadow: 0px 1px 2px rgba(60, 64, 67, 0.3), 0px 1px 3px 1px rgba(60, 64, 67, 0.15);\n",
       "      fill: #174EA6;\n",
       "    }\n",
       "\n",
       "    [theme=dark] .colab-df-convert {\n",
       "      background-color: #3B4455;\n",
       "      fill: #D2E3FC;\n",
       "    }\n",
       "\n",
       "    [theme=dark] .colab-df-convert:hover {\n",
       "      background-color: #434B5C;\n",
       "      box-shadow: 0px 1px 3px 1px rgba(0, 0, 0, 0.15);\n",
       "      filter: drop-shadow(0px 1px 2px rgba(0, 0, 0, 0.3));\n",
       "      fill: #FFFFFF;\n",
       "    }\n",
       "  </style>\n",
       "\n",
       "      <script>\n",
       "        const buttonEl =\n",
       "          document.querySelector('#df-00157b2b-78b9-4e73-bbaa-ff445e719822 button.colab-df-convert');\n",
       "        buttonEl.style.display =\n",
       "          google.colab.kernel.accessAllowed ? 'block' : 'none';\n",
       "\n",
       "        async function convertToInteractive(key) {\n",
       "          const element = document.querySelector('#df-00157b2b-78b9-4e73-bbaa-ff445e719822');\n",
       "          const dataTable =\n",
       "            await google.colab.kernel.invokeFunction('convertToInteractive',\n",
       "                                                     [key], {});\n",
       "          if (!dataTable) return;\n",
       "\n",
       "          const docLinkHtml = 'Like what you see? Visit the ' +\n",
       "            '<a target=\"_blank\" href=https://colab.research.google.com/notebooks/data_table.ipynb>data table notebook</a>'\n",
       "            + ' to learn more about interactive tables.';\n",
       "          element.innerHTML = '';\n",
       "          dataTable['output_type'] = 'display_data';\n",
       "          await google.colab.output.renderOutput(dataTable, element);\n",
       "          const docLink = document.createElement('div');\n",
       "          docLink.innerHTML = docLinkHtml;\n",
       "          element.appendChild(docLink);\n",
       "        }\n",
       "      </script>\n",
       "    </div>\n",
       "  </div>\n",
       "  "
      ],
      "text/plain": [
       "      gender  age  hypertension  heart_disease  ever_married  Residence_type  \\\n",
       "1830       1   61             1              1             0               0   \n",
       "3392       1   74             1              0             1               0   \n",
       "3624       1   80             0              0             1               1   \n",
       "1954       0   73             0              0             1               0   \n",
       "1037       1   80             0              0             1               1   \n",
       "\n",
       "      avg_glucose_level        bmi    0    1    2    3    4    5    6    7  \\\n",
       "1830         148.240000  32.200000  0.0  1.0  0.0  0.0  0.0  0.0  1.0  0.0   \n",
       "3392         194.779099  30.827056  0.0  1.0  0.0  0.0  0.0  0.0  0.0  1.0   \n",
       "3624          73.479402  24.190924  0.0  0.0  0.0  1.0  0.0  0.0  1.0  0.0   \n",
       "1954          98.340000  30.900000  1.0  0.0  0.0  0.0  0.0  0.0  1.0  0.0   \n",
       "1037         248.408053  29.305082  0.0  1.0  0.0  0.0  0.0  0.0  1.0  0.0   \n",
       "\n",
       "        8  \n",
       "1830  0.0  \n",
       "3392  0.0  \n",
       "3624  0.0  \n",
       "1954  0.0  \n",
       "1037  0.0  "
      ]
     },
     "execution_count": 140,
     "metadata": {},
     "output_type": "execute_result"
    }
   ],
   "source": [
    "train_x = train_x.join(train_enc.set_index(train_x.index)).drop(cat_cols, axis=1)\n",
    "test_x = test_x.join(test_enc.set_index(test_x.index)).drop(cat_cols, axis=1)\n",
    "train_x.head()"
   ]
  },
  {
   "cell_type": "code",
   "execution_count": null,
   "metadata": {
    "colab": {
     "base_uri": "https://localhost:8080/"
    },
    "id": "TzV-yyfu4QEj",
    "outputId": "8c2f8dd9-7ac0-4ace-95c0-3ec6a9a3c9b3"
   },
   "outputs": [
    {
     "data": {
      "text/plain": [
       "0.8241666666666667"
      ]
     },
     "execution_count": 142,
     "metadata": {},
     "output_type": "execute_result"
    }
   ],
   "source": [
    "accuracy_score(test_y, pred)"
   ]
  },
  {
   "cell_type": "code",
   "execution_count": null,
   "metadata": {
    "colab": {
     "base_uri": "https://localhost:8080/"
    },
    "id": "Vr98dDp54WnQ",
    "outputId": "fbe43db8-9446-43ce-ec56-1a3497859bf7"
   },
   "outputs": [
    {
     "data": {
      "text/plain": [
       "array([[482, 103],\n",
       "       [108, 507]])"
      ]
     },
     "execution_count": 143,
     "metadata": {},
     "output_type": "execute_result"
    }
   ],
   "source": [
    "confusion_matrix(test_y, pred)"
   ]
  },
  {
   "cell_type": "code",
   "execution_count": null,
   "metadata": {
    "id": "KLcjPIXr6grN"
   },
   "outputs": [],
   "source": []
  }
 ],
 "metadata": {
  "colab": {
   "collapsed_sections": [],
   "name": "23.3 Практика. ipynb",
   "provenance": []
  },
  "kernelspec": {
   "display_name": "Python 3 (ipykernel)",
   "language": "python",
   "name": "python3"
  },
  "language_info": {
   "codemirror_mode": {
    "name": "ipython",
    "version": 3
   },
   "file_extension": ".py",
   "mimetype": "text/x-python",
   "name": "python",
   "nbconvert_exporter": "python",
   "pygments_lexer": "ipython3",
   "version": "3.9.7"
  }
 },
 "nbformat": 4,
 "nbformat_minor": 1
}
