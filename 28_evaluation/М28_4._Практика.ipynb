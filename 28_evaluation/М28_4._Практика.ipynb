{
 "cells": [
  {
   "cell_type": "markdown",
   "metadata": {
    "id": "cDjkYFnDODCG"
   },
   "source": [
    "## Подготовка модели к передаче"
   ]
  },
  {
   "cell_type": "markdown",
   "metadata": {
    "id": "6npkrsgiOSuA"
   },
   "source": [
    "В этом практическом задании два обязательных и одна дополнительная задача. \n",
    "<br>\n",
    "*Обязательные задачи* помогут проверить, что вы действительно усвоили материал. Если у вас всё получилось, можете переходить к следующей теме.\n",
    "<br>\n",
    "Удачи!"
   ]
  },
  {
   "cell_type": "markdown",
   "metadata": {
    "id": "I5kBJas7OWc3"
   },
   "source": [
    "Цели практического задания: \n",
    "\n",
    "1.   Потренироваться в работе с форматом `pickle`.\n",
    "2.   Потренироваться в работе моделей, загруженных из `pickle`.\n",
    "\n"
   ]
  },
  {
   "cell_type": "markdown",
   "metadata": {
    "id": "UjT-ToIuOmCu"
   },
   "source": [
    "## Обязательные задачи"
   ]
  },
  {
   "cell_type": "markdown",
   "metadata": {
    "id": "pYSG3t9ZTfws"
   },
   "source": [
    "**Задача 1. Функции dump, dumps**\n",
    "\n",
    "1. Инициализируйте словарь, в котором будет храниться три пары: (`first`: `a`); (`second`: `1.25`); (`third`: `[1,2,3]`).\n",
    "2. Запишите сериализованное представление этой переменной в файл `test_pickle.pickle`.\n",
    "3. С помощью функции `pickle.dumps` выведите байтовое представление этого словаря на экран.\n",
    "\n",
    "Документация по использованию функции [pickle.dumps](https://docs.python.org/3/library/pickle.html#pickle.dumps)"
   ]
  },
  {
   "cell_type": "code",
   "execution_count": 1,
   "metadata": {
    "id": "R3oK3UigVBW2"
   },
   "outputs": [],
   "source": [
    "# Ваш код здесь\n",
    "import pickle\n",
    "dict_var = {'first': 'a', 'second': 1.25, 'third': [1, 2, 3]}"
   ]
  },
  {
   "cell_type": "code",
   "execution_count": 2,
   "metadata": {},
   "outputs": [
    {
     "data": {
      "text/plain": [
       "{'first': 'a', 'second': 1.25, 'third': [1, 2, 3]}"
      ]
     },
     "execution_count": 2,
     "metadata": {},
     "output_type": "execute_result"
    }
   ],
   "source": [
    "dict_var"
   ]
  },
  {
   "cell_type": "code",
   "execution_count": 3,
   "metadata": {},
   "outputs": [],
   "source": [
    "filename = 'test_pickle.pickle'"
   ]
  },
  {
   "cell_type": "code",
   "execution_count": 4,
   "metadata": {},
   "outputs": [],
   "source": [
    "with open(filename, 'wb') as file:\n",
    "    pickle.dump(dict_var, file)"
   ]
  },
  {
   "cell_type": "code",
   "execution_count": 5,
   "metadata": {},
   "outputs": [
    {
     "name": "stdout",
     "output_type": "stream",
     "text": [
      "{'first': 'a', 'second': 1.25, 'third': [1, 2, 3]}\n"
     ]
    }
   ],
   "source": [
    "with open (filename, 'rb') as file:\n",
    "    print(pickle.load(file))"
   ]
  },
  {
   "cell_type": "markdown",
   "metadata": {},
   "source": [
    "С помощью функции pickle.dumps выведите байтовое представление этого словаря на экран."
   ]
  },
  {
   "cell_type": "code",
   "execution_count": 6,
   "metadata": {},
   "outputs": [
    {
     "name": "stdout",
     "output_type": "stream",
     "text": [
      "b'\\x80\\x04\\x955\\x00\\x00\\x00\\x00\\x00\\x00\\x00}\\x94(\\x8c\\x05first\\x94\\x8c\\x01a\\x94\\x8c\\x06second\\x94G?\\xf4\\x00\\x00\\x00\\x00\\x00\\x00\\x8c\\x05third\\x94]\\x94(K\\x01K\\x02K\\x03eu.'\n"
     ]
    }
   ],
   "source": [
    "print(pickle.dumps(dict_var))"
   ]
  },
  {
   "cell_type": "markdown",
   "metadata": {
    "tags": []
   },
   "source": [
    "## Работая с этим 'with open...' понял, что подзабыл как работать с файлами. И поэтому, освежаю здесь. "
   ]
  },
  {
   "cell_type": "code",
   "execution_count": 7,
   "metadata": {},
   "outputs": [],
   "source": [
    "f = open('text.txt', 'r')"
   ]
  },
  {
   "cell_type": "markdown",
   "metadata": {},
   "source": [
    "Режим\tОбозначение\n",
    "'r'\tоткрытие на чтение (является значением по умолчанию).\n",
    "\n",
    "'w'\tоткрытие на запись, содержимое файла удаляется, если файла не существует, создается новый.\n",
    "\n",
    "'x'\tоткрытие на запись, если файла не существует, иначе исключение.\n",
    "\n",
    "'a'\tоткрытие на дозапись, информация добавляется в конец файла.\n",
    "\n",
    "'b'\tоткрытие в двоичном режиме.\n",
    "\n",
    "'t'\tоткрытие в текстовом режиме (является значением по умолчанию).\n",
    "\n",
    "'+'\tоткрытие на чтение и запись"
   ]
  },
  {
   "cell_type": "markdown",
   "metadata": {},
   "source": [
    "Первый - метод read, читающий весь файл целиком, если был вызван без аргументов, и n символов, если был вызван с аргументом (целым числом n)."
   ]
  },
  {
   "cell_type": "code",
   "execution_count": 8,
   "metadata": {},
   "outputs": [
    {
     "data": {
      "text/plain": [
       "'Р—РґРµСЃСЊ\\nСЏ \\nРїРѕРєР°Р·С‹РІР°СЋ\\nРїСЂРёРјРµСЂ\\nС‚РµРєСЃС‚Р°.\\n'"
      ]
     },
     "execution_count": 8,
     "metadata": {},
     "output_type": "execute_result"
    }
   ],
   "source": [
    "f = open('text.txt')\n",
    "f.read()"
   ]
  },
  {
   "cell_type": "code",
   "execution_count": 9,
   "metadata": {},
   "outputs": [
    {
     "data": {
      "text/plain": [
       "'Р—Рґ'"
      ]
     },
     "execution_count": 9,
     "metadata": {},
     "output_type": "execute_result"
    }
   ],
   "source": [
    "f = open('text.txt')\n",
    "f.read(4)"
   ]
  },
  {
   "cell_type": "markdown",
   "metadata": {},
   "source": [
    "Добавим кодировку"
   ]
  },
  {
   "cell_type": "code",
   "execution_count": 10,
   "metadata": {},
   "outputs": [],
   "source": [
    "f = open('text.txt', encoding=\"utf-8\")\n",
    "text_1 = f.read()"
   ]
  },
  {
   "cell_type": "code",
   "execution_count": 11,
   "metadata": {},
   "outputs": [
    {
     "data": {
      "text/plain": [
       "'Здесь\\nя \\nпоказываю\\nпример\\nтекста.\\n'"
      ]
     },
     "execution_count": 11,
     "metadata": {},
     "output_type": "execute_result"
    }
   ],
   "source": [
    "text_1"
   ]
  },
  {
   "cell_type": "code",
   "execution_count": 12,
   "metadata": {},
   "outputs": [
    {
     "data": {
      "text/plain": [
       "'Здесь'"
      ]
     },
     "execution_count": 12,
     "metadata": {},
     "output_type": "execute_result"
    }
   ],
   "source": [
    "text_1[0:5]"
   ]
  },
  {
   "cell_type": "markdown",
   "metadata": {},
   "source": [
    "Ещё один способ сделать это - прочитать файл построчно, воспользовавшись циклом for:"
   ]
  },
  {
   "cell_type": "code",
   "execution_count": 13,
   "metadata": {},
   "outputs": [
    {
     "name": "stdout",
     "output_type": "stream",
     "text": [
      "Здесь\n",
      "\n",
      "я \n",
      "\n",
      "показываю\n",
      "\n",
      "пример\n",
      "\n",
      "текста.\n",
      "\n"
     ]
    }
   ],
   "source": [
    "f = open('text.txt', encoding=\"utf-8\")\n",
    "for line in f:\n",
    "    print(line)"
   ]
  },
  {
   "cell_type": "markdown",
   "metadata": {},
   "source": [
    "Запись в файл"
   ]
  },
  {
   "cell_type": "code",
   "execution_count": 14,
   "metadata": {},
   "outputs": [
    {
     "data": {
      "text/plain": [
       "['0-1',\n",
       " '10',\n",
       " '21',\n",
       " '32',\n",
       " '43',\n",
       " '54',\n",
       " '65',\n",
       " '76',\n",
       " '87',\n",
       " '98',\n",
       " '109',\n",
       " '1110',\n",
       " '1211',\n",
       " '1312',\n",
       " '1413',\n",
       " '1514',\n",
       " '1615',\n",
       " '1716',\n",
       " '1817',\n",
       " '1918']"
      ]
     },
     "execution_count": 14,
     "metadata": {},
     "output_type": "execute_result"
    }
   ],
   "source": [
    "l = [str(i)+str(i-1) for i in range(20)]\n",
    "l"
   ]
  },
  {
   "cell_type": "markdown",
   "metadata": {},
   "source": [
    "Откроем файл на запись"
   ]
  },
  {
   "cell_type": "code",
   "execution_count": 15,
   "metadata": {},
   "outputs": [],
   "source": [
    "f = open('text1.txt', 'w')"
   ]
  },
  {
   "cell_type": "code",
   "execution_count": 16,
   "metadata": {},
   "outputs": [],
   "source": [
    "for index in l:\n",
    "     f.write(index + '\\n')        "
   ]
  },
  {
   "cell_type": "markdown",
   "metadata": {},
   "source": [
    "После окончания работы с файлом его обязательно нужно закрыть с помощью метода close:"
   ]
  },
  {
   "cell_type": "code",
   "execution_count": 17,
   "metadata": {},
   "outputs": [],
   "source": [
    "f.close()"
   ]
  },
  {
   "cell_type": "code",
   "execution_count": 18,
   "metadata": {},
   "outputs": [],
   "source": [
    "f = open('text1.txt', 'r')"
   ]
  },
  {
   "cell_type": "code",
   "execution_count": 19,
   "metadata": {},
   "outputs": [],
   "source": [
    "l = [line.strip() for line in f]"
   ]
  },
  {
   "cell_type": "code",
   "execution_count": 20,
   "metadata": {},
   "outputs": [
    {
     "data": {
      "text/plain": [
       "['0-1',\n",
       " '10',\n",
       " '21',\n",
       " '32',\n",
       " '43',\n",
       " '54',\n",
       " '65',\n",
       " '76',\n",
       " '87',\n",
       " '98',\n",
       " '109',\n",
       " '1110',\n",
       " '1211',\n",
       " '1312',\n",
       " '1413',\n",
       " '1514',\n",
       " '1615',\n",
       " '1716',\n",
       " '1817',\n",
       " '1918']"
      ]
     },
     "execution_count": 20,
     "metadata": {},
     "output_type": "execute_result"
    }
   ],
   "source": [
    "l"
   ]
  },
  {
   "cell_type": "code",
   "execution_count": 21,
   "metadata": {},
   "outputs": [],
   "source": [
    "f.close()"
   ]
  },
  {
   "cell_type": "markdown",
   "metadata": {},
   "source": [
    "[Работа с файлами в Python](https://dvmn.org/encyclopedia/python_intermediate/python_files/#top)"
   ]
  },
  {
   "cell_type": "markdown",
   "metadata": {
    "tags": []
   },
   "source": [
    "## Шпаргалка по практике"
   ]
  },
  {
   "cell_type": "markdown",
   "metadata": {
    "id": "7l2QrlIZXfO0"
   },
   "source": [
    "**Задача 2. Загрузка обученной модели из pickle**\n",
    "\n",
    "Для выполнения этого задания скачайте из дополнительных материалов файл `gensim.pickle`. \n",
    "Gensim — модуль обработки естественного языка. С его помощью можно обрабатывать тексты, создавать тематические модели текстов. В файлe `gensim.pickle` находится обученная для английского языка модель, которая умеет находить близкие по контексту/смыслу слова.\n",
    "\n",
    "1. Загрузите обученную модель из pickle файла в переменную `model`.\n",
    "2. Выведите её тип.\n",
    "3. Найдите ближайшие слова с помощью метода модели `model.most_similar()`. В качестве входного аргумента в метод передайте слово, для которого нужно найти ближайшие по контексту/смыслу слова. Например, для слова sun ближайшими будут sky, moon и тд.\n",
    "\n",
    "**Предупреждение**:\n",
    "\n",
    "Во время загрузки модели у вас могут появляться ошибки, которые сигнализируют, что для работы обученной модели не хватает каких-то пакетов. Чтобы модель заработала, установите эти пакеты с помощью pip. \n",
    "\n",
    "В случае с библиотекой gensim рекомендуется установка версии 3.8.3: `pip install gensim==3.8.3`."
   ]
  },
  {
   "cell_type": "code",
   "execution_count": 22,
   "metadata": {},
   "outputs": [
    {
     "name": "stdout",
     "output_type": "stream",
     "text": [
      "Collecting gensim==3.8.3\n",
      "  Using cached gensim-3.8.3.tar.gz (23.4 MB)\n",
      "Requirement already satisfied: numpy>=1.11.3 in c:\\users\\hp z2\\anaconda3\\lib\\site-packages (from gensim==3.8.3) (1.20.3)\n",
      "Requirement already satisfied: scipy>=0.18.1 in c:\\users\\hp z2\\anaconda3\\lib\\site-packages (from gensim==3.8.3) (1.7.1)\n",
      "Requirement already satisfied: six>=1.5.0 in c:\\users\\hp z2\\anaconda3\\lib\\site-packages (from gensim==3.8.3) (1.16.0)\n",
      "Requirement already satisfied: smart_open>=1.8.1 in c:\\users\\hp z2\\anaconda3\\lib\\site-packages (from gensim==3.8.3) (6.3.0)\n",
      "Building wheels for collected packages: gensim\n",
      "  Building wheel for gensim (setup.py): started\n",
      "  Building wheel for gensim (setup.py): finished with status 'error'\n",
      "  Running setup.py clean for gensim\n",
      "Failed to build gensim\n",
      "Installing collected packages: gensim\n",
      "  Attempting uninstall: gensim\n",
      "    Found existing installation: gensim 4.3.0\n",
      "    Uninstalling gensim-4.3.0:\n",
      "      Successfully uninstalled gensim-4.3.0\n",
      "    Running setup.py install for gensim: started\n",
      "    Running setup.py install for gensim: finished with status 'error'\n",
      "  Rolling back uninstall of gensim\n",
      "  Moving to c:\\users\\hp z2\\anaconda3\\lib\\site-packages\\gensim-4.3.0.dist-info\\\n",
      "   from C:\\Users\\HP Z2\\anaconda3\\Lib\\site-packages\\~ensim-4.3.0.dist-info\n",
      "  Moving to c:\\users\\hp z2\\anaconda3\\lib\\site-packages\\gensim\\\n",
      "   from C:\\Users\\HP Z2\\anaconda3\\Lib\\site-packages\\~ensim\n",
      "Note: you may need to restart the kernel to use updated packages.\n"
     ]
    },
    {
     "name": "stderr",
     "output_type": "stream",
     "text": [
      "  ERROR: Command errored out with exit status 1:\n",
      "   command: 'C:\\Users\\HP Z2\\anaconda3\\python.exe' -u -c 'import io, os, sys, setuptools, tokenize; sys.argv[0] = '\"'\"'C:\\\\Users\\\\HP Z2\\\\AppData\\\\Local\\\\Temp\\\\pip-install-t7caktgk\\\\gensim_fd059d79adbf4afeb8eef02e8a11366b\\\\setup.py'\"'\"'; __file__='\"'\"'C:\\\\Users\\\\HP Z2\\\\AppData\\\\Local\\\\Temp\\\\pip-install-t7caktgk\\\\gensim_fd059d79adbf4afeb8eef02e8a11366b\\\\setup.py'\"'\"';f = getattr(tokenize, '\"'\"'open'\"'\"', open)(__file__) if os.path.exists(__file__) else io.StringIO('\"'\"'from setuptools import setup; setup()'\"'\"');code = f.read().replace('\"'\"'\\r\\n'\"'\"', '\"'\"'\\n'\"'\"');f.close();exec(compile(code, __file__, '\"'\"'exec'\"'\"'))' bdist_wheel -d 'C:\\Users\\HP Z2\\AppData\\Local\\Temp\\pip-wheel-g17wmq7e'\n",
      "       cwd: C:\\Users\\HP Z2\\AppData\\Local\\Temp\\pip-install-t7caktgk\\gensim_fd059d79adbf4afeb8eef02e8a11366b\\\n",
      "  Complete output (454 lines):\n",
      "  running bdist_wheel\n",
      "  running build\n",
      "  running build_py\n",
      "  creating build\n",
      "  creating build\\lib.win-amd64-3.9\n",
      "  creating build\\lib.win-amd64-3.9\\gensim\n",
      "  copying gensim\\downloader.py -> build\\lib.win-amd64-3.9\\gensim\n",
      "  copying gensim\\interfaces.py -> build\\lib.win-amd64-3.9\\gensim\n",
      "  copying gensim\\matutils.py -> build\\lib.win-amd64-3.9\\gensim\n",
      "  copying gensim\\nosy.py -> build\\lib.win-amd64-3.9\\gensim\n",
      "  copying gensim\\utils.py -> build\\lib.win-amd64-3.9\\gensim\n",
      "  copying gensim\\__init__.py -> build\\lib.win-amd64-3.9\\gensim\n",
      "  creating build\\lib.win-amd64-3.9\\gensim\\corpora\n",
      "  copying gensim\\corpora\\bleicorpus.py -> build\\lib.win-amd64-3.9\\gensim\\corpora\n",
      "  copying gensim\\corpora\\csvcorpus.py -> build\\lib.win-amd64-3.9\\gensim\\corpora\n",
      "  copying gensim\\corpora\\dictionary.py -> build\\lib.win-amd64-3.9\\gensim\\corpora\n",
      "  copying gensim\\corpora\\hashdictionary.py -> build\\lib.win-amd64-3.9\\gensim\\corpora\n",
      "  copying gensim\\corpora\\indexedcorpus.py -> build\\lib.win-amd64-3.9\\gensim\\corpora\n",
      "  copying gensim\\corpora\\lowcorpus.py -> build\\lib.win-amd64-3.9\\gensim\\corpora\n",
      "  copying gensim\\corpora\\malletcorpus.py -> build\\lib.win-amd64-3.9\\gensim\\corpora\n",
      "  copying gensim\\corpora\\mmcorpus.py -> build\\lib.win-amd64-3.9\\gensim\\corpora\n",
      "  copying gensim\\corpora\\sharded_corpus.py -> build\\lib.win-amd64-3.9\\gensim\\corpora\n",
      "  copying gensim\\corpora\\svmlightcorpus.py -> build\\lib.win-amd64-3.9\\gensim\\corpora\n",
      "  copying gensim\\corpora\\textcorpus.py -> build\\lib.win-amd64-3.9\\gensim\\corpora\n",
      "  copying gensim\\corpora\\ucicorpus.py -> build\\lib.win-amd64-3.9\\gensim\\corpora\n",
      "  copying gensim\\corpora\\wikicorpus.py -> build\\lib.win-amd64-3.9\\gensim\\corpora\n",
      "  copying gensim\\corpora\\__init__.py -> build\\lib.win-amd64-3.9\\gensim\\corpora\n",
      "  creating build\\lib.win-amd64-3.9\\gensim\\models\n",
      "  copying gensim\\models\\atmodel.py -> build\\lib.win-amd64-3.9\\gensim\\models\n",
      "  copying gensim\\models\\basemodel.py -> build\\lib.win-amd64-3.9\\gensim\\models\n",
      "  copying gensim\\models\\base_any2vec.py -> build\\lib.win-amd64-3.9\\gensim\\models\n",
      "  copying gensim\\models\\callbacks.py -> build\\lib.win-amd64-3.9\\gensim\\models\n",
      "  copying gensim\\models\\coherencemodel.py -> build\\lib.win-amd64-3.9\\gensim\\models\n",
      "  copying gensim\\models\\doc2vec.py -> build\\lib.win-amd64-3.9\\gensim\\models\n",
      "  copying gensim\\models\\fasttext.py -> build\\lib.win-amd64-3.9\\gensim\\models\n",
      "  copying gensim\\models\\hdpmodel.py -> build\\lib.win-amd64-3.9\\gensim\\models\n",
      "  copying gensim\\models\\keyedvectors.py -> build\\lib.win-amd64-3.9\\gensim\\models\n",
      "  copying gensim\\models\\ldamodel.py -> build\\lib.win-amd64-3.9\\gensim\\models\n",
      "  copying gensim\\models\\ldamulticore.py -> build\\lib.win-amd64-3.9\\gensim\\models\n",
      "  copying gensim\\models\\ldaseqmodel.py -> build\\lib.win-amd64-3.9\\gensim\\models\n",
      "  copying gensim\\models\\lda_dispatcher.py -> build\\lib.win-amd64-3.9\\gensim\\models\n",
      "  copying gensim\\models\\lda_worker.py -> build\\lib.win-amd64-3.9\\gensim\\models\n",
      "  copying gensim\\models\\logentropy_model.py -> build\\lib.win-amd64-3.9\\gensim\\models\n",
      "  copying gensim\\models\\lsimodel.py -> build\\lib.win-amd64-3.9\\gensim\\models\n",
      "  copying gensim\\models\\lsi_dispatcher.py -> build\\lib.win-amd64-3.9\\gensim\\models\n",
      "  copying gensim\\models\\lsi_worker.py -> build\\lib.win-amd64-3.9\\gensim\\models\n",
      "  copying gensim\\models\\nmf.py -> build\\lib.win-amd64-3.9\\gensim\\models\n",
      "  copying gensim\\models\\normmodel.py -> build\\lib.win-amd64-3.9\\gensim\\models\n",
      "  copying gensim\\models\\phrases.py -> build\\lib.win-amd64-3.9\\gensim\\models\n",
      "  copying gensim\\models\\poincare.py -> build\\lib.win-amd64-3.9\\gensim\\models\n",
      "  copying gensim\\models\\rpmodel.py -> build\\lib.win-amd64-3.9\\gensim\\models\n",
      "  copying gensim\\models\\tfidfmodel.py -> build\\lib.win-amd64-3.9\\gensim\\models\n",
      "  copying gensim\\models\\translation_matrix.py -> build\\lib.win-amd64-3.9\\gensim\\models\n",
      "  copying gensim\\models\\utils_any2vec.py -> build\\lib.win-amd64-3.9\\gensim\\models\n",
      "  copying gensim\\models\\word2vec.py -> build\\lib.win-amd64-3.9\\gensim\\models\n",
      "  copying gensim\\models\\_fasttext_bin.py -> build\\lib.win-amd64-3.9\\gensim\\models\n",
      "  copying gensim\\models\\__init__.py -> build\\lib.win-amd64-3.9\\gensim\\models\n",
      "  creating build\\lib.win-amd64-3.9\\gensim\\parsing\n",
      "  copying gensim\\parsing\\porter.py -> build\\lib.win-amd64-3.9\\gensim\\parsing\n",
      "  copying gensim\\parsing\\preprocessing.py -> build\\lib.win-amd64-3.9\\gensim\\parsing\n",
      "  copying gensim\\parsing\\__init__.py -> build\\lib.win-amd64-3.9\\gensim\\parsing\n",
      "  creating build\\lib.win-amd64-3.9\\gensim\\scripts\n",
      "  copying gensim\\scripts\\glove2word2vec.py -> build\\lib.win-amd64-3.9\\gensim\\scripts\n",
      "  copying gensim\\scripts\\make_wiki.py -> build\\lib.win-amd64-3.9\\gensim\\scripts\n",
      "  copying gensim\\scripts\\make_wikicorpus.py -> build\\lib.win-amd64-3.9\\gensim\\scripts\n",
      "  copying gensim\\scripts\\make_wiki_lemma.py -> build\\lib.win-amd64-3.9\\gensim\\scripts\n",
      "  copying gensim\\scripts\\make_wiki_online.py -> build\\lib.win-amd64-3.9\\gensim\\scripts\n",
      "  copying gensim\\scripts\\make_wiki_online_lemma.py -> build\\lib.win-amd64-3.9\\gensim\\scripts\n",
      "  copying gensim\\scripts\\make_wiki_online_nodebug.py -> build\\lib.win-amd64-3.9\\gensim\\scripts\n",
      "  copying gensim\\scripts\\package_info.py -> build\\lib.win-amd64-3.9\\gensim\\scripts\n",
      "  copying gensim\\scripts\\segment_wiki.py -> build\\lib.win-amd64-3.9\\gensim\\scripts\n",
      "  copying gensim\\scripts\\word2vec2tensor.py -> build\\lib.win-amd64-3.9\\gensim\\scripts\n",
      "  copying gensim\\scripts\\word2vec_standalone.py -> build\\lib.win-amd64-3.9\\gensim\\scripts\n",
      "  copying gensim\\scripts\\__init__.py -> build\\lib.win-amd64-3.9\\gensim\\scripts\n",
      "  creating build\\lib.win-amd64-3.9\\gensim\\similarities\n",
      "  copying gensim\\similarities\\docsim.py -> build\\lib.win-amd64-3.9\\gensim\\similarities\n",
      "  copying gensim\\similarities\\index.py -> build\\lib.win-amd64-3.9\\gensim\\similarities\n",
      "  copying gensim\\similarities\\levenshtein.py -> build\\lib.win-amd64-3.9\\gensim\\similarities\n",
      "  copying gensim\\similarities\\nmslib.py -> build\\lib.win-amd64-3.9\\gensim\\similarities\n",
      "  copying gensim\\similarities\\termsim.py -> build\\lib.win-amd64-3.9\\gensim\\similarities\n",
      "  copying gensim\\similarities\\__init__.py -> build\\lib.win-amd64-3.9\\gensim\\similarities\n",
      "  creating build\\lib.win-amd64-3.9\\gensim\\sklearn_api\n",
      "  copying gensim\\sklearn_api\\atmodel.py -> build\\lib.win-amd64-3.9\\gensim\\sklearn_api\n",
      "  copying gensim\\sklearn_api\\d2vmodel.py -> build\\lib.win-amd64-3.9\\gensim\\sklearn_api\n",
      "  copying gensim\\sklearn_api\\ftmodel.py -> build\\lib.win-amd64-3.9\\gensim\\sklearn_api\n",
      "  copying gensim\\sklearn_api\\hdp.py -> build\\lib.win-amd64-3.9\\gensim\\sklearn_api\n",
      "  copying gensim\\sklearn_api\\ldamodel.py -> build\\lib.win-amd64-3.9\\gensim\\sklearn_api\n",
      "  copying gensim\\sklearn_api\\ldaseqmodel.py -> build\\lib.win-amd64-3.9\\gensim\\sklearn_api\n",
      "  copying gensim\\sklearn_api\\lsimodel.py -> build\\lib.win-amd64-3.9\\gensim\\sklearn_api\n",
      "  copying gensim\\sklearn_api\\phrases.py -> build\\lib.win-amd64-3.9\\gensim\\sklearn_api\n",
      "  copying gensim\\sklearn_api\\rpmodel.py -> build\\lib.win-amd64-3.9\\gensim\\sklearn_api\n",
      "  copying gensim\\sklearn_api\\text2bow.py -> build\\lib.win-amd64-3.9\\gensim\\sklearn_api\n",
      "  copying gensim\\sklearn_api\\tfidf.py -> build\\lib.win-amd64-3.9\\gensim\\sklearn_api\n",
      "  copying gensim\\sklearn_api\\w2vmodel.py -> build\\lib.win-amd64-3.9\\gensim\\sklearn_api\n",
      "  copying gensim\\sklearn_api\\__init__.py -> build\\lib.win-amd64-3.9\\gensim\\sklearn_api\n",
      "  creating build\\lib.win-amd64-3.9\\gensim\\summarization\n",
      "  copying gensim\\summarization\\bm25.py -> build\\lib.win-amd64-3.9\\gensim\\summarization\n",
      "  copying gensim\\summarization\\commons.py -> build\\lib.win-amd64-3.9\\gensim\\summarization\n",
      "  copying gensim\\summarization\\graph.py -> build\\lib.win-amd64-3.9\\gensim\\summarization\n",
      "  copying gensim\\summarization\\keywords.py -> build\\lib.win-amd64-3.9\\gensim\\summarization\n",
      "  copying gensim\\summarization\\mz_entropy.py -> build\\lib.win-amd64-3.9\\gensim\\summarization\n",
      "  copying gensim\\summarization\\pagerank_weighted.py -> build\\lib.win-amd64-3.9\\gensim\\summarization\n",
      "  copying gensim\\summarization\\summarizer.py -> build\\lib.win-amd64-3.9\\gensim\\summarization\n",
      "  copying gensim\\summarization\\syntactic_unit.py -> build\\lib.win-amd64-3.9\\gensim\\summarization\n",
      "  copying gensim\\summarization\\textcleaner.py -> build\\lib.win-amd64-3.9\\gensim\\summarization\n",
      "  copying gensim\\summarization\\__init__.py -> build\\lib.win-amd64-3.9\\gensim\\summarization\n",
      "  creating build\\lib.win-amd64-3.9\\gensim\\test\n",
      "  copying gensim\\test\\basetmtests.py -> build\\lib.win-amd64-3.9\\gensim\\test\n",
      "  copying gensim\\test\\simspeed.py -> build\\lib.win-amd64-3.9\\gensim\\test\n",
      "  copying gensim\\test\\simspeed2.py -> build\\lib.win-amd64-3.9\\gensim\\test\n",
      "  copying gensim\\test\\svd_error.py -> build\\lib.win-amd64-3.9\\gensim\\test\n",
      "  copying gensim\\test\\test_aggregation.py -> build\\lib.win-amd64-3.9\\gensim\\test\n",
      "  copying gensim\\test\\test_api.py -> build\\lib.win-amd64-3.9\\gensim\\test\n",
      "  copying gensim\\test\\test_atmodel.py -> build\\lib.win-amd64-3.9\\gensim\\test\n",
      "  copying gensim\\test\\test_big.py -> build\\lib.win-amd64-3.9\\gensim\\test\n",
      "  copying gensim\\test\\test_BM25.py -> build\\lib.win-amd64-3.9\\gensim\\test\n",
      "  copying gensim\\test\\test_coherencemodel.py -> build\\lib.win-amd64-3.9\\gensim\\test\n",
      "  copying gensim\\test\\test_corpora.py -> build\\lib.win-amd64-3.9\\gensim\\test\n",
      "  copying gensim\\test\\test_corpora_dictionary.py -> build\\lib.win-amd64-3.9\\gensim\\test\n",
      "  copying gensim\\test\\test_corpora_hashdictionary.py -> build\\lib.win-amd64-3.9\\gensim\\test\n",
      "  copying gensim\\test\\test_d2vmodel.py -> build\\lib.win-amd64-3.9\\gensim\\test\n",
      "  copying gensim\\test\\test_datatype.py -> build\\lib.win-amd64-3.9\\gensim\\test\n",
      "  copying gensim\\test\\test_direct_confirmation.py -> build\\lib.win-amd64-3.9\\gensim\\test\n",
      "  copying gensim\\test\\test_doc2vec.py -> build\\lib.win-amd64-3.9\\gensim\\test\n",
      "  copying gensim\\test\\test_dtm.py -> build\\lib.win-amd64-3.9\\gensim\\test\n",
      "  copying gensim\\test\\test_fasttext.py -> build\\lib.win-amd64-3.9\\gensim\\test\n",
      "  copying gensim\\test\\test_fasttext_wrapper.py -> build\\lib.win-amd64-3.9\\gensim\\test\n",
      "  copying gensim\\test\\test_glove2word2vec.py -> build\\lib.win-amd64-3.9\\gensim\\test\n",
      "  copying gensim\\test\\test_hdpmodel.py -> build\\lib.win-amd64-3.9\\gensim\\test\n",
      "  copying gensim\\test\\test_indirect_confirmation.py -> build\\lib.win-amd64-3.9\\gensim\\test\n",
      "  copying gensim\\test\\test_keras_integration.py -> build\\lib.win-amd64-3.9\\gensim\\test\n",
      "  copying gensim\\test\\test_keyedvectors.py -> build\\lib.win-amd64-3.9\\gensim\\test\n",
      "  copying gensim\\test\\test_keywords.py -> build\\lib.win-amd64-3.9\\gensim\\test\n",
      "  copying gensim\\test\\test_ldamallet_wrapper.py -> build\\lib.win-amd64-3.9\\gensim\\test\n",
      "  copying gensim\\test\\test_ldamodel.py -> build\\lib.win-amd64-3.9\\gensim\\test\n",
      "  copying gensim\\test\\test_ldaseqmodel.py -> build\\lib.win-amd64-3.9\\gensim\\test\n",
      "  copying gensim\\test\\test_ldavowpalwabbit_wrapper.py -> build\\lib.win-amd64-3.9\\gensim\\test\n",
      "  copying gensim\\test\\test_lda_callback.py -> build\\lib.win-amd64-3.9\\gensim\\test\n",
      "  copying gensim\\test\\test_lee.py -> build\\lib.win-amd64-3.9\\gensim\\test\n",
      "  copying gensim\\test\\test_logentropy_model.py -> build\\lib.win-amd64-3.9\\gensim\\test\n",
      "  copying gensim\\test\\test_lsimodel.py -> build\\lib.win-amd64-3.9\\gensim\\test\n",
      "  copying gensim\\test\\test_matutils.py -> build\\lib.win-amd64-3.9\\gensim\\test\n",
      "  copying gensim\\test\\test_miislita.py -> build\\lib.win-amd64-3.9\\gensim\\test\n",
      "  copying gensim\\test\\test_nmf.py -> build\\lib.win-amd64-3.9\\gensim\\test\n",
      "  copying gensim\\test\\test_normmodel.py -> build\\lib.win-amd64-3.9\\gensim\\test\n",
      "  copying gensim\\test\\test_parsing.py -> build\\lib.win-amd64-3.9\\gensim\\test\n",
      "  copying gensim\\test\\test_phrases.py -> build\\lib.win-amd64-3.9\\gensim\\test\n",
      "  copying gensim\\test\\test_poincare.py -> build\\lib.win-amd64-3.9\\gensim\\test\n",
      "  copying gensim\\test\\test_probability_estimation.py -> build\\lib.win-amd64-3.9\\gensim\\test\n",
      "  copying gensim\\test\\test_rpmodel.py -> build\\lib.win-amd64-3.9\\gensim\\test\n",
      "  copying gensim\\test\\test_scripts.py -> build\\lib.win-amd64-3.9\\gensim\\test\n",
      "  copying gensim\\test\\test_segmentation.py -> build\\lib.win-amd64-3.9\\gensim\\test\n",
      "  copying gensim\\test\\test_sharded_corpus.py -> build\\lib.win-amd64-3.9\\gensim\\test\n",
      "  copying gensim\\test\\test_similarities.py -> build\\lib.win-amd64-3.9\\gensim\\test\n",
      "  copying gensim\\test\\test_similarity_metrics.py -> build\\lib.win-amd64-3.9\\gensim\\test\n",
      "  copying gensim\\test\\test_sklearn_api.py -> build\\lib.win-amd64-3.9\\gensim\\test\n",
      "  copying gensim\\test\\test_summarization.py -> build\\lib.win-amd64-3.9\\gensim\\test\n",
      "  copying gensim\\test\\test_text_analysis.py -> build\\lib.win-amd64-3.9\\gensim\\test\n",
      "  copying gensim\\test\\test_tfidfmodel.py -> build\\lib.win-amd64-3.9\\gensim\\test\n",
      "  copying gensim\\test\\test_tmdiff.py -> build\\lib.win-amd64-3.9\\gensim\\test\n",
      "  copying gensim\\test\\test_translation_matrix.py -> build\\lib.win-amd64-3.9\\gensim\\test\n",
      "  copying gensim\\test\\test_utils.py -> build\\lib.win-amd64-3.9\\gensim\\test\n",
      "  copying gensim\\test\\test_utils_any2vec.py -> build\\lib.win-amd64-3.9\\gensim\\test\n",
      "  copying gensim\\test\\test_varembed_wrapper.py -> build\\lib.win-amd64-3.9\\gensim\\test\n",
      "  copying gensim\\test\\test_word2vec.py -> build\\lib.win-amd64-3.9\\gensim\\test\n",
      "  copying gensim\\test\\test_wordrank_wrapper.py -> build\\lib.win-amd64-3.9\\gensim\\test\n",
      "  copying gensim\\test\\utils.py -> build\\lib.win-amd64-3.9\\gensim\\test\n",
      "  copying gensim\\test\\__init__.py -> build\\lib.win-amd64-3.9\\gensim\\test\n",
      "  creating build\\lib.win-amd64-3.9\\gensim\\topic_coherence\n",
      "  copying gensim\\topic_coherence\\aggregation.py -> build\\lib.win-amd64-3.9\\gensim\\topic_coherence\n",
      "  copying gensim\\topic_coherence\\direct_confirmation_measure.py -> build\\lib.win-amd64-3.9\\gensim\\topic_coherence\n",
      "  copying gensim\\topic_coherence\\indirect_confirmation_measure.py -> build\\lib.win-amd64-3.9\\gensim\\topic_coherence\n",
      "  copying gensim\\topic_coherence\\probability_estimation.py -> build\\lib.win-amd64-3.9\\gensim\\topic_coherence\n",
      "  copying gensim\\topic_coherence\\segmentation.py -> build\\lib.win-amd64-3.9\\gensim\\topic_coherence\n",
      "  copying gensim\\topic_coherence\\text_analysis.py -> build\\lib.win-amd64-3.9\\gensim\\topic_coherence\n",
      "  copying gensim\\topic_coherence\\__init__.py -> build\\lib.win-amd64-3.9\\gensim\\topic_coherence\n",
      "  creating build\\lib.win-amd64-3.9\\gensim\\viz\n",
      "  copying gensim\\viz\\poincare.py -> build\\lib.win-amd64-3.9\\gensim\\viz\n",
      "  copying gensim\\viz\\__init__.py -> build\\lib.win-amd64-3.9\\gensim\\viz\n",
      "  creating build\\lib.win-amd64-3.9\\gensim\\models\\deprecated\n",
      "  copying gensim\\models\\deprecated\\doc2vec.py -> build\\lib.win-amd64-3.9\\gensim\\models\\deprecated\n",
      "  copying gensim\\models\\deprecated\\fasttext.py -> build\\lib.win-amd64-3.9\\gensim\\models\\deprecated\n",
      "  copying gensim\\models\\deprecated\\fasttext_wrapper.py -> build\\lib.win-amd64-3.9\\gensim\\models\\deprecated\n",
      "  copying gensim\\models\\deprecated\\keyedvectors.py -> build\\lib.win-amd64-3.9\\gensim\\models\\deprecated\n",
      "  copying gensim\\models\\deprecated\\old_saveload.py -> build\\lib.win-amd64-3.9\\gensim\\models\\deprecated\n",
      "  copying gensim\\models\\deprecated\\word2vec.py -> build\\lib.win-amd64-3.9\\gensim\\models\\deprecated\n",
      "  copying gensim\\models\\deprecated\\__init__.py -> build\\lib.win-amd64-3.9\\gensim\\models\\deprecated\n",
      "  creating build\\lib.win-amd64-3.9\\gensim\\models\\wrappers\n",
      "  copying gensim\\models\\wrappers\\dtmmodel.py -> build\\lib.win-amd64-3.9\\gensim\\models\\wrappers\n",
      "  copying gensim\\models\\wrappers\\fasttext.py -> build\\lib.win-amd64-3.9\\gensim\\models\\wrappers\n",
      "  copying gensim\\models\\wrappers\\ldamallet.py -> build\\lib.win-amd64-3.9\\gensim\\models\\wrappers\n",
      "  copying gensim\\models\\wrappers\\ldavowpalwabbit.py -> build\\lib.win-amd64-3.9\\gensim\\models\\wrappers\n",
      "  copying gensim\\models\\wrappers\\varembed.py -> build\\lib.win-amd64-3.9\\gensim\\models\\wrappers\n",
      "  copying gensim\\models\\wrappers\\wordrank.py -> build\\lib.win-amd64-3.9\\gensim\\models\\wrappers\n",
      "  copying gensim\\models\\wrappers\\__init__.py -> build\\lib.win-amd64-3.9\\gensim\\models\\wrappers\n",
      "  running egg_info\n",
      "  writing gensim.egg-info\\PKG-INFO\n",
      "  writing dependency_links to gensim.egg-info\\dependency_links.txt\n",
      "  writing requirements to gensim.egg-info\\requires.txt\n",
      "  writing top-level names to gensim.egg-info\\top_level.txt\n",
      "  reading manifest file 'gensim.egg-info\\SOURCES.txt'\n",
      "  reading manifest template 'MANIFEST.in'\n",
      "  warning: no files found matching 'COPYING.LESSER'\n",
      "  warning: no files found matching 'ez_setup.py'\n",
      "  warning: no files found matching 'gensim\\models\\doc2vec_inner.c'\n",
      "  adding license file 'COPYING'\n",
      "  writing manifest file 'gensim.egg-info\\SOURCES.txt'\n",
      "  copying gensim\\_matutils.c -> build\\lib.win-amd64-3.9\\gensim\n",
      "  copying gensim\\_matutils.pyx -> build\\lib.win-amd64-3.9\\gensim\n",
      "  copying gensim\\corpora\\_mmreader.c -> build\\lib.win-amd64-3.9\\gensim\\corpora\n",
      "  copying gensim\\models\\_utils_any2vec.c -> build\\lib.win-amd64-3.9\\gensim\\models\n",
      "  copying gensim\\models\\doc2vec_corpusfile.cpp -> build\\lib.win-amd64-3.9\\gensim\\models\n",
      "  copying gensim\\models\\doc2vec_inner.cpp -> build\\lib.win-amd64-3.9\\gensim\\models\n",
      "  copying gensim\\models\\fasttext_corpusfile.cpp -> build\\lib.win-amd64-3.9\\gensim\\models\n",
      "  copying gensim\\models\\fasttext_inner.c -> build\\lib.win-amd64-3.9\\gensim\\models\n",
      "  copying gensim\\models\\nmf_pgd.c -> build\\lib.win-amd64-3.9\\gensim\\models\n",
      "  copying gensim\\models\\word2vec_corpusfile.cpp -> build\\lib.win-amd64-3.9\\gensim\\models\n",
      "  copying gensim\\models\\word2vec_inner.c -> build\\lib.win-amd64-3.9\\gensim\\models\n",
      "  copying gensim\\corpora\\_mmreader.pyx -> build\\lib.win-amd64-3.9\\gensim\\corpora\n",
      "  copying gensim\\models\\_utils_any2vec.pyx -> build\\lib.win-amd64-3.9\\gensim\\models\n",
      "  copying gensim\\models\\doc2vec_corpusfile.pyx -> build\\lib.win-amd64-3.9\\gensim\\models\n",
      "  copying gensim\\models\\doc2vec_inner.pxd -> build\\lib.win-amd64-3.9\\gensim\\models\n",
      "  copying gensim\\models\\doc2vec_inner.pyx -> build\\lib.win-amd64-3.9\\gensim\\models\n",
      "  copying gensim\\models\\fast_line_sentence.h -> build\\lib.win-amd64-3.9\\gensim\\models\n",
      "  copying gensim\\models\\fasttext_corpusfile.pyx -> build\\lib.win-amd64-3.9\\gensim\\models\n",
      "  copying gensim\\models\\fasttext_inner.pxd -> build\\lib.win-amd64-3.9\\gensim\\models\n",
      "  copying gensim\\models\\fasttext_inner.pyx -> build\\lib.win-amd64-3.9\\gensim\\models\n",
      "  copying gensim\\models\\nmf_pgd.pyx -> build\\lib.win-amd64-3.9\\gensim\\models\n",
      "  copying gensim\\models\\stdint_wrapper.h -> build\\lib.win-amd64-3.9\\gensim\\models\n",
      "  copying gensim\\models\\voidptr.h -> build\\lib.win-amd64-3.9\\gensim\\models\n",
      "  copying gensim\\models\\word2vec_corpusfile.pxd -> build\\lib.win-amd64-3.9\\gensim\\models\n",
      "  copying gensim\\models\\word2vec_corpusfile.pyx -> build\\lib.win-amd64-3.9\\gensim\\models\n",
      "  copying gensim\\models\\word2vec_inner.pxd -> build\\lib.win-amd64-3.9\\gensim\\models\n",
      "  copying gensim\\models\\word2vec_inner.pyx -> build\\lib.win-amd64-3.9\\gensim\\models\n",
      "  creating build\\lib.win-amd64-3.9\\gensim\\test\\test_data\n",
      "  copying gensim\\test\\test_data\\EN.1-10.cbow1_wind5_hs0_neg10_size300_smpl1e-05.txt -> build\\lib.win-amd64-3.9\\gensim\\test\\test_data\n",
      "  copying gensim\\test\\test_data\\IT.1-10.cbow1_wind5_hs0_neg10_size300_smpl1e-05.txt -> build\\lib.win-amd64-3.9\\gensim\\test\\test_data\n",
      "  copying gensim\\test\\test_data\\OPUS_en_it_europarl_train_one2ten.txt -> build\\lib.win-amd64-3.9\\gensim\\test\\test_data\n",
      "  copying gensim\\test\\test_data\\alldata-id-10.txt -> build\\lib.win-amd64-3.9\\gensim\\test\\test_data\n",
      "  copying gensim\\test\\test_data\\atmodel_3_0_1_model -> build\\lib.win-amd64-3.9\\gensim\\test\\test_data\n",
      "  copying gensim\\test\\test_data\\atmodel_3_0_1_model.expElogbeta.npy -> build\\lib.win-amd64-3.9\\gensim\\test\\test_data\n",
      "  copying gensim\\test\\test_data\\atmodel_3_0_1_model.id2word -> build\\lib.win-amd64-3.9\\gensim\\test\\test_data\n",
      "  copying gensim\\test\\test_data\\atmodel_3_0_1_model.state -> build\\lib.win-amd64-3.9\\gensim\\test\\test_data\n",
      "  copying gensim\\test\\test_data\\bgwiki-latest-pages-articles-shortened.xml.bz2 -> build\\lib.win-amd64-3.9\\gensim\\test\\test_data\n",
      "  copying gensim\\test\\test_data\\compatible-hash-false.model -> build\\lib.win-amd64-3.9\\gensim\\test\\test_data\n",
      "  copying gensim\\test\\test_data\\compatible-hash-true.model -> build\\lib.win-amd64-3.9\\gensim\\test\\test_data\n",
      "  copying gensim\\test\\test_data\\cp852_fasttext.bin -> build\\lib.win-amd64-3.9\\gensim\\test\\test_data\n",
      "  copying gensim\\test\\test_data\\crime-and-punishment.bin -> build\\lib.win-amd64-3.9\\gensim\\test\\test_data\n",
      "  copying gensim\\test\\test_data\\crime-and-punishment.txt -> build\\lib.win-amd64-3.9\\gensim\\test\\test_data\n",
      "  copying gensim\\test\\test_data\\crime-and-punishment.vec -> build\\lib.win-amd64-3.9\\gensim\\test\\test_data\n",
      "  copying gensim\\test\\test_data\\d2v-lee-v0.13.0 -> build\\lib.win-amd64-3.9\\gensim\\test\\test_data\n",
      "  copying gensim\\test\\test_data\\doc2vec_old -> build\\lib.win-amd64-3.9\\gensim\\test\\test_data\n",
      "  copying gensim\\test\\test_data\\doc2vec_old_sep -> build\\lib.win-amd64-3.9\\gensim\\test\\test_data\n",
      "  copying gensim\\test\\test_data\\doc2vec_old_sep.syn0_lockf.npy -> build\\lib.win-amd64-3.9\\gensim\\test\\test_data\n",
      "  copying gensim\\test\\test_data\\doc2vec_old_sep.syn1neg.npy -> build\\lib.win-amd64-3.9\\gensim\\test\\test_data\n",
      "  copying gensim\\test\\test_data\\dtm_test.dict -> build\\lib.win-amd64-3.9\\gensim\\test\\test_data\n",
      "  copying gensim\\test\\test_data\\dtm_test.mm -> build\\lib.win-amd64-3.9\\gensim\\test\\test_data\n",
      "  copying gensim\\test\\test_data\\enwiki-latest-pages-articles1.xml-p000000010p000030302-shortened.bz2 -> build\\lib.win-amd64-3.9\\gensim\\test\\test_data\n",
      "  copying gensim\\test\\test_data\\enwiki-table-markup.xml.bz2 -> build\\lib.win-amd64-3.9\\gensim\\test\\test_data\n",
      "  copying gensim\\test\\test_data\\euclidean_vectors.bin -> build\\lib.win-amd64-3.9\\gensim\\test\\test_data\n",
      "  copying gensim\\test\\test_data\\fasttext_old -> build\\lib.win-amd64-3.9\\gensim\\test\\test_data\n",
      "  copying gensim\\test\\test_data\\fasttext_old_sep -> build\\lib.win-amd64-3.9\\gensim\\test\\test_data\n",
      "  copying gensim\\test\\test_data\\fasttext_old_sep.syn0_lockf.npy -> build\\lib.win-amd64-3.9\\gensim\\test\\test_data\n",
      "  copying gensim\\test\\test_data\\fasttext_old_sep.syn1neg.npy -> build\\lib.win-amd64-3.9\\gensim\\test\\test_data\n",
      "  copying gensim\\test\\test_data\\fb-ngrams.txt -> build\\lib.win-amd64-3.9\\gensim\\test\\test_data\n",
      "  copying gensim\\test\\test_data\\ft_kv_3.6.0.model.gz -> build\\lib.win-amd64-3.9\\gensim\\test\\test_data\n",
      "  copying gensim\\test\\test_data\\ft_model_2.3.0 -> build\\lib.win-amd64-3.9\\gensim\\test\\test_data\n",
      "  copying gensim\\test\\test_data\\head500.noblanks.cor -> build\\lib.win-amd64-3.9\\gensim\\test\\test_data\n",
      "  copying gensim\\test\\test_data\\head500.noblanks.cor.bz2 -> build\\lib.win-amd64-3.9\\gensim\\test\\test_data\n",
      "  copying gensim\\test\\test_data\\head500.noblanks.cor_tfidf.model -> build\\lib.win-amd64-3.9\\gensim\\test\\test_data\n",
      "  copying gensim\\test\\test_data\\head500.noblanks.cor_wordids.txt -> build\\lib.win-amd64-3.9\\gensim\\test\\test_data\n",
      "  copying gensim\\test\\test_data\\high_precision.kv.bin -> build\\lib.win-amd64-3.9\\gensim\\test\\test_data\n",
      "  copying gensim\\test\\test_data\\high_precision.kv.txt -> build\\lib.win-amd64-3.9\\gensim\\test\\test_data\n",
      "  copying gensim\\test\\test_data\\large_tag_doc_10_iter50 -> build\\lib.win-amd64-3.9\\gensim\\test\\test_data\n",
      "  copying gensim\\test\\test_data\\lda_3_0_1_model -> build\\lib.win-amd64-3.9\\gensim\\test\\test_data\n",
      "  copying gensim\\test\\test_data\\lda_3_0_1_model.expElogbeta.npy -> build\\lib.win-amd64-3.9\\gensim\\test\\test_data\n",
      "  copying gensim\\test\\test_data\\lda_3_0_1_model.id2word -> build\\lib.win-amd64-3.9\\gensim\\test\\test_data\n",
      "  copying gensim\\test\\test_data\\lda_3_0_1_model.state -> build\\lib.win-amd64-3.9\\gensim\\test\\test_data\n",
      "  copying gensim\\test\\test_data\\ldamodel_python_2_7 -> build\\lib.win-amd64-3.9\\gensim\\test\\test_data\n",
      "  copying gensim\\test\\test_data\\ldamodel_python_2_7.expElogbeta.npy -> build\\lib.win-amd64-3.9\\gensim\\test\\test_data\n",
      "  copying gensim\\test\\test_data\\ldamodel_python_2_7.id2word -> build\\lib.win-amd64-3.9\\gensim\\test\\test_data\n",
      "  copying gensim\\test\\test_data\\ldamodel_python_2_7.state -> build\\lib.win-amd64-3.9\\gensim\\test\\test_data\n",
      "  copying gensim\\test\\test_data\\ldamodel_python_3_5 -> build\\lib.win-amd64-3.9\\gensim\\test\\test_data\n",
      "  copying gensim\\test\\test_data\\ldamodel_python_3_5.expElogbeta.npy -> build\\lib.win-amd64-3.9\\gensim\\test\\test_data\n",
      "  copying gensim\\test\\test_data\\ldamodel_python_3_5.id2word -> build\\lib.win-amd64-3.9\\gensim\\test\\test_data\n",
      "  copying gensim\\test\\test_data\\ldamodel_python_3_5.state -> build\\lib.win-amd64-3.9\\gensim\\test\\test_data\n",
      "  copying gensim\\test\\test_data\\ldavowpalwabbit.dict.txt -> build\\lib.win-amd64-3.9\\gensim\\test\\test_data\n",
      "  copying gensim\\test\\test_data\\ldavowpalwabbit.txt -> build\\lib.win-amd64-3.9\\gensim\\test\\test_data\n",
      "  copying gensim\\test\\test_data\\lee.cor -> build\\lib.win-amd64-3.9\\gensim\\test\\test_data\n",
      "  copying gensim\\test\\test_data\\lee_background.cor -> build\\lib.win-amd64-3.9\\gensim\\test\\test_data\n",
      "  copying gensim\\test\\test_data\\lee_fasttext -> build\\lib.win-amd64-3.9\\gensim\\test\\test_data\n",
      "  copying gensim\\test\\test_data\\lee_fasttext.bin -> build\\lib.win-amd64-3.9\\gensim\\test\\test_data\n",
      "  copying gensim\\test\\test_data\\lee_fasttext.vec -> build\\lib.win-amd64-3.9\\gensim\\test\\test_data\n",
      "  copying gensim\\test\\test_data\\lee_fasttext_new.bin -> build\\lib.win-amd64-3.9\\gensim\\test\\test_data\n",
      "  copying gensim\\test\\test_data\\miIslita.cor -> build\\lib.win-amd64-3.9\\gensim\\test\\test_data\n",
      "  copying gensim\\test\\test_data\\mihalcea_tarau.kw.txt -> build\\lib.win-amd64-3.9\\gensim\\test\\test_data\n",
      "  copying gensim\\test\\test_data\\mihalcea_tarau.kwpos.txt -> build\\lib.win-amd64-3.9\\gensim\\test\\test_data\n",
      "  copying gensim\\test\\test_data\\mihalcea_tarau.summ.txt -> build\\lib.win-amd64-3.9\\gensim\\test\\test_data\n",
      "  copying gensim\\test\\test_data\\mihalcea_tarau.txt -> build\\lib.win-amd64-3.9\\gensim\\test\\test_data\n",
      "  copying gensim\\test\\test_data\\mini_newsgroup -> build\\lib.win-amd64-3.9\\gensim\\test\\test_data\n",
      "  copying gensim\\test\\test_data\\nmf_model -> build\\lib.win-amd64-3.9\\gensim\\test\\test_data\n",
      "  copying gensim\\test\\test_data\\non_ascii_fasttext.bin -> build\\lib.win-amd64-3.9\\gensim\\test\\test_data\n",
      "  copying gensim\\test\\test_data\\old_keyedvectors_320.dat -> build\\lib.win-amd64-3.9\\gensim\\test\\test_data\n",
      "  copying gensim\\test\\test_data\\pang_lee_polarity.cor -> build\\lib.win-amd64-3.9\\gensim\\test\\test_data\n",
      "  copying gensim\\test\\test_data\\pang_lee_polarity_fasttext.bin -> build\\lib.win-amd64-3.9\\gensim\\test\\test_data\n",
      "  copying gensim\\test\\test_data\\pang_lee_polarity_fasttext.vec -> build\\lib.win-amd64-3.9\\gensim\\test\\test_data\n",
      "  copying gensim\\test\\test_data\\para2para_text1.txt -> build\\lib.win-amd64-3.9\\gensim\\test\\test_data\n",
      "  copying gensim\\test\\test_data\\para2para_text2.txt -> build\\lib.win-amd64-3.9\\gensim\\test\\test_data\n",
      "  copying gensim\\test\\test_data\\phraser-3.6.0.model -> build\\lib.win-amd64-3.9\\gensim\\test\\test_data\n",
      "  copying gensim\\test\\test_data\\phraser-no-common-terms.pkl -> build\\lib.win-amd64-3.9\\gensim\\test\\test_data\n",
      "  copying gensim\\test\\test_data\\phraser-no-scoring.pkl -> build\\lib.win-amd64-3.9\\gensim\\test\\test_data\n",
      "  copying gensim\\test\\test_data\\phraser-scoring-str.pkl -> build\\lib.win-amd64-3.9\\gensim\\test\\test_data\n",
      "  copying gensim\\test\\test_data\\phrases-3.6.0.model -> build\\lib.win-amd64-3.9\\gensim\\test\\test_data\n",
      "  copying gensim\\test\\test_data\\phrases-no-common-terms.pkl -> build\\lib.win-amd64-3.9\\gensim\\test\\test_data\n",
      "  copying gensim\\test\\test_data\\phrases-no-scoring.pkl -> build\\lib.win-amd64-3.9\\gensim\\test\\test_data\n",
      "  copying gensim\\test\\test_data\\phrases-scoring-str.pkl -> build\\lib.win-amd64-3.9\\gensim\\test\\test_data\n",
      "  copying gensim\\test\\test_data\\phrases-transformer-new-v3-5-0.pkl -> build\\lib.win-amd64-3.9\\gensim\\test\\test_data\n",
      "  copying gensim\\test\\test_data\\phrases-transformer-v3-5-0.pkl -> build\\lib.win-amd64-3.9\\gensim\\test\\test_data\n",
      "  copying gensim\\test\\test_data\\poincare_cp852.tsv -> build\\lib.win-amd64-3.9\\gensim\\test\\test_data\n",
      "  copying gensim\\test\\test_data\\poincare_hypernyms.tsv -> build\\lib.win-amd64-3.9\\gensim\\test\\test_data\n",
      "  copying gensim\\test\\test_data\\poincare_hypernyms_large.tsv -> build\\lib.win-amd64-3.9\\gensim\\test\\test_data\n",
      "  copying gensim\\test\\test_data\\poincare_test_3.4.0 -> build\\lib.win-amd64-3.9\\gensim\\test\\test_data\n",
      "  copying gensim\\test\\test_data\\poincare_utf8.tsv -> build\\lib.win-amd64-3.9\\gensim\\test\\test_data\n",
      "  copying gensim\\test\\test_data\\poincare_vectors.bin -> build\\lib.win-amd64-3.9\\gensim\\test\\test_data\n",
      "  copying gensim\\test\\test_data\\pre_0_13_2_model -> build\\lib.win-amd64-3.9\\gensim\\test\\test_data\n",
      "  copying gensim\\test\\test_data\\pre_0_13_2_model.state -> build\\lib.win-amd64-3.9\\gensim\\test\\test_data\n",
      "  copying gensim\\test\\test_data\\pretrained.vec -> build\\lib.win-amd64-3.9\\gensim\\test\\test_data\n",
      "  copying gensim\\test\\test_data\\questions-words.txt -> build\\lib.win-amd64-3.9\\gensim\\test\\test_data\n",
      "  copying gensim\\test\\test_data\\reproduce.dat -> build\\lib.win-amd64-3.9\\gensim\\test\\test_data\n",
      "  copying gensim\\test\\test_data\\reproduce.dat.gz -> build\\lib.win-amd64-3.9\\gensim\\test\\test_data\n",
      "  copying gensim\\test\\test_data\\similarities0-1.txt -> build\\lib.win-amd64-3.9\\gensim\\test\\test_data\n",
      "  copying gensim\\test\\test_data\\simlex999.txt -> build\\lib.win-amd64-3.9\\gensim\\test\\test_data\n",
      "  copying gensim\\test\\test_data\\small_tag_doc_5_iter50 -> build\\lib.win-amd64-3.9\\gensim\\test\\test_data\n",
      "  copying gensim\\test\\test_data\\test_corpus_ok.mm -> build\\lib.win-amd64-3.9\\gensim\\test\\test_data\n",
      "  copying gensim\\test\\test_data\\test_corpus_small.mm -> build\\lib.win-amd64-3.9\\gensim\\test\\test_data\n",
      "  copying gensim\\test\\test_data\\test_glove.txt -> build\\lib.win-amd64-3.9\\gensim\\test\\test_data\n",
      "  copying gensim\\test\\test_data\\test_mmcorpus_corrupt.mm -> build\\lib.win-amd64-3.9\\gensim\\test\\test_data\n",
      "  copying gensim\\test\\test_data\\test_mmcorpus_no_index.mm -> build\\lib.win-amd64-3.9\\gensim\\test\\test_data\n",
      "  copying gensim\\test\\test_data\\test_mmcorpus_no_index.mm.bz2 -> build\\lib.win-amd64-3.9\\gensim\\test\\test_data\n",
      "  copying gensim\\test\\test_data\\test_mmcorpus_no_index.mm.gz -> build\\lib.win-amd64-3.9\\gensim\\test\\test_data\n",
      "  copying gensim\\test\\test_data\\test_mmcorpus_overflow.mm -> build\\lib.win-amd64-3.9\\gensim\\test\\test_data\n",
      "  copying gensim\\test\\test_data\\test_mmcorpus_with_index.mm -> build\\lib.win-amd64-3.9\\gensim\\test\\test_data\n",
      "  copying gensim\\test\\test_data\\test_mmcorpus_with_index.mm.index -> build\\lib.win-amd64-3.9\\gensim\\test\\test_data\n",
      "  copying gensim\\test\\test_data\\testcorpus.blei -> build\\lib.win-amd64-3.9\\gensim\\test\\test_data\n",
      "  copying gensim\\test\\test_data\\testcorpus.blei.index -> build\\lib.win-amd64-3.9\\gensim\\test\\test_data\n",
      "  copying gensim\\test\\test_data\\testcorpus.blei.vocab -> build\\lib.win-amd64-3.9\\gensim\\test\\test_data\n",
      "  copying gensim\\test\\test_data\\testcorpus.low -> build\\lib.win-amd64-3.9\\gensim\\test\\test_data\n",
      "  copying gensim\\test\\test_data\\testcorpus.low.index -> build\\lib.win-amd64-3.9\\gensim\\test\\test_data\n",
      "  copying gensim\\test\\test_data\\testcorpus.mallet -> build\\lib.win-amd64-3.9\\gensim\\test\\test_data\n",
      "  copying gensim\\test\\test_data\\testcorpus.mallet.index -> build\\lib.win-amd64-3.9\\gensim\\test\\test_data\n",
      "  copying gensim\\test\\test_data\\testcorpus.mm -> build\\lib.win-amd64-3.9\\gensim\\test\\test_data\n",
      "  copying gensim\\test\\test_data\\testcorpus.mm.index -> build\\lib.win-amd64-3.9\\gensim\\test\\test_data\n",
      "  copying gensim\\test\\test_data\\testcorpus.svmlight -> build\\lib.win-amd64-3.9\\gensim\\test\\test_data\n",
      "  copying gensim\\test\\test_data\\testcorpus.svmlight.index -> build\\lib.win-amd64-3.9\\gensim\\test\\test_data\n",
      "  copying gensim\\test\\test_data\\testcorpus.txt -> build\\lib.win-amd64-3.9\\gensim\\test\\test_data\n",
      "  copying gensim\\test\\test_data\\testcorpus.uci -> build\\lib.win-amd64-3.9\\gensim\\test\\test_data\n",
      "  copying gensim\\test\\test_data\\testcorpus.uci.index -> build\\lib.win-amd64-3.9\\gensim\\test\\test_data\n",
      "  copying gensim\\test\\test_data\\testcorpus.uci.vocab -> build\\lib.win-amd64-3.9\\gensim\\test\\test_data\n",
      "  copying gensim\\test\\test_data\\testcorpus.xml.bz2 -> build\\lib.win-amd64-3.9\\gensim\\test\\test_data\n",
      "  copying gensim\\test\\test_data\\testcorpus_serialization.mm.index -> build\\lib.win-amd64-3.9\\gensim\\test\\test_data\n",
      "  copying gensim\\test\\test_data\\testlowdistinctwords.txt -> build\\lib.win-amd64-3.9\\gensim\\test\\test_data\n",
      "  copying gensim\\test\\test_data\\testrepeatedkeywords.txt -> build\\lib.win-amd64-3.9\\gensim\\test\\test_data\n",
      "  copying gensim\\test\\test_data\\testsummarization_unrelated.txt -> build\\lib.win-amd64-3.9\\gensim\\test\\test_data\n",
      "  copying gensim\\test\\test_data\\tfidf_model.tst -> build\\lib.win-amd64-3.9\\gensim\\test\\test_data\n",
      "  copying gensim\\test\\test_data\\tfidf_model.tst.bz2 -> build\\lib.win-amd64-3.9\\gensim\\test\\test_data\n",
      "  copying gensim\\test\\test_data\\tfidf_model_3_2.tst -> build\\lib.win-amd64-3.9\\gensim\\test\\test_data\n",
      "  copying gensim\\test\\test_data\\toy-data.txt -> build\\lib.win-amd64-3.9\\gensim\\test\\test_data\n",
      "  copying gensim\\test\\test_data\\toy-model-pretrained.bin -> build\\lib.win-amd64-3.9\\gensim\\test\\test_data\n",
      "  copying gensim\\test\\test_data\\toy-model.bin -> build\\lib.win-amd64-3.9\\gensim\\test\\test_data\n",
      "  copying gensim\\test\\test_data\\toy-model.vec -> build\\lib.win-amd64-3.9\\gensim\\test\\test_data\n",
      "  copying gensim\\test\\test_data\\varembed_lee_subcorpus.cor -> build\\lib.win-amd64-3.9\\gensim\\test\\test_data\n",
      "  copying gensim\\test\\test_data\\varembed_morfessor.bin -> build\\lib.win-amd64-3.9\\gensim\\test\\test_data\n",
      "  copying gensim\\test\\test_data\\varembed_vectors.pkl -> build\\lib.win-amd64-3.9\\gensim\\test\\test_data\n",
      "  copying gensim\\test\\test_data\\w2v-lee-v0.12.0 -> build\\lib.win-amd64-3.9\\gensim\\test\\test_data\n",
      "  copying gensim\\test\\test_data\\w2v_keyedvectors_load_test.modeldata -> build\\lib.win-amd64-3.9\\gensim\\test\\test_data\n",
      "  copying gensim\\test\\test_data\\w2v_keyedvectors_load_test.vocab -> build\\lib.win-amd64-3.9\\gensim\\test\\test_data\n",
      "  copying gensim\\test\\test_data\\word2vec_3.3 -> build\\lib.win-amd64-3.9\\gensim\\test\\test_data\n",
      "  copying gensim\\test\\test_data\\word2vec_old -> build\\lib.win-amd64-3.9\\gensim\\test\\test_data\n",
      "  copying gensim\\test\\test_data\\word2vec_old_sep -> build\\lib.win-amd64-3.9\\gensim\\test\\test_data\n",
      "  copying gensim\\test\\test_data\\word2vec_old_sep.syn0_lockf.npy -> build\\lib.win-amd64-3.9\\gensim\\test\\test_data\n",
      "  copying gensim\\test\\test_data\\word2vec_old_sep.syn1neg.npy -> build\\lib.win-amd64-3.9\\gensim\\test\\test_data\n",
      "  copying gensim\\test\\test_data\\word2vec_pre_kv_c -> build\\lib.win-amd64-3.9\\gensim\\test\\test_data\n",
      "  copying gensim\\test\\test_data\\word2vec_pre_kv_py2 -> build\\lib.win-amd64-3.9\\gensim\\test\\test_data\n",
      "  copying gensim\\test\\test_data\\word2vec_pre_kv_py3 -> build\\lib.win-amd64-3.9\\gensim\\test\\test_data\n",
      "  copying gensim\\test\\test_data\\word2vec_pre_kv_py3_4 -> build\\lib.win-amd64-3.9\\gensim\\test\\test_data\n",
      "  copying gensim\\test\\test_data\\word2vec_pre_kv_sep_py2 -> build\\lib.win-amd64-3.9\\gensim\\test\\test_data\n",
      "  copying gensim\\test\\test_data\\word2vec_pre_kv_sep_py2.neg_labels.npy -> build\\lib.win-amd64-3.9\\gensim\\test\\test_data\n",
      "  copying gensim\\test\\test_data\\word2vec_pre_kv_sep_py2.syn0.npy -> build\\lib.win-amd64-3.9\\gensim\\test\\test_data\n",
      "  copying gensim\\test\\test_data\\word2vec_pre_kv_sep_py2.syn0_lockf.npy -> build\\lib.win-amd64-3.9\\gensim\\test\\test_data\n",
      "  copying gensim\\test\\test_data\\word2vec_pre_kv_sep_py2.syn1neg.npy -> build\\lib.win-amd64-3.9\\gensim\\test\\test_data\n",
      "  copying gensim\\test\\test_data\\word2vec_pre_kv_sep_py3 -> build\\lib.win-amd64-3.9\\gensim\\test\\test_data\n",
      "  copying gensim\\test\\test_data\\word2vec_pre_kv_sep_py3.neg_labels.npy -> build\\lib.win-amd64-3.9\\gensim\\test\\test_data\n",
      "  copying gensim\\test\\test_data\\word2vec_pre_kv_sep_py3.syn0.npy -> build\\lib.win-amd64-3.9\\gensim\\test\\test_data\n",
      "  copying gensim\\test\\test_data\\word2vec_pre_kv_sep_py3.syn0_lockf.npy -> build\\lib.win-amd64-3.9\\gensim\\test\\test_data\n",
      "  copying gensim\\test\\test_data\\word2vec_pre_kv_sep_py3.syn1neg.npy -> build\\lib.win-amd64-3.9\\gensim\\test\\test_data\n",
      "  copying gensim\\test\\test_data\\word2vec_pre_kv_sep_py3_4 -> build\\lib.win-amd64-3.9\\gensim\\test\\test_data\n",
      "  copying gensim\\test\\test_data\\word2vec_pre_kv_sep_py3_4.neg_labels.npy -> build\\lib.win-amd64-3.9\\gensim\\test\\test_data\n",
      "  copying gensim\\test\\test_data\\word2vec_pre_kv_sep_py3_4.syn0.npy -> build\\lib.win-amd64-3.9\\gensim\\test\\test_data\n",
      "  copying gensim\\test\\test_data\\word2vec_pre_kv_sep_py3_4.syn0_lockf.npy -> build\\lib.win-amd64-3.9\\gensim\\test\\test_data\n",
      "  copying gensim\\test\\test_data\\word2vec_pre_kv_sep_py3_4.syn1neg.npy -> build\\lib.win-amd64-3.9\\gensim\\test\\test_data\n",
      "  copying gensim\\test\\test_data\\wordsim353.tsv -> build\\lib.win-amd64-3.9\\gensim\\test\\test_data\n",
      "  creating build\\lib.win-amd64-3.9\\gensim\\test\\test_data\\DTM\n",
      "  copying gensim\\test\\test_data\\DTM\\ldaseq_3_0_1_model -> build\\lib.win-amd64-3.9\\gensim\\test\\test_data\\DTM\n",
      "  copying gensim\\test\\test_data\\DTM\\sstats_test.txt -> build\\lib.win-amd64-3.9\\gensim\\test\\test_data\\DTM\n",
      "  creating build\\lib.win-amd64-3.9\\gensim\\test\\test_data\\PathLineSentences\n",
      "  copying gensim\\test\\test_data\\PathLineSentences\\1.txt -> build\\lib.win-amd64-3.9\\gensim\\test\\test_data\\PathLineSentences\n",
      "  copying gensim\\test\\test_data\\PathLineSentences\\2.txt.bz2 -> build\\lib.win-amd64-3.9\\gensim\\test\\test_data\\PathLineSentences\n",
      "  creating build\\lib.win-amd64-3.9\\gensim\\test\\test_data\\old_d2v_models\n",
      "  copying gensim\\test\\test_data\\old_d2v_models\\d2v_0.12.0.mdl -> build\\lib.win-amd64-3.9\\gensim\\test\\test_data\\old_d2v_models\n",
      "  copying gensim\\test\\test_data\\old_d2v_models\\d2v_0.12.1.mdl -> build\\lib.win-amd64-3.9\\gensim\\test\\test_data\\old_d2v_models\n",
      "  copying gensim\\test\\test_data\\old_d2v_models\\d2v_0.12.2.mdl -> build\\lib.win-amd64-3.9\\gensim\\test\\test_data\\old_d2v_models\n",
      "  copying gensim\\test\\test_data\\old_d2v_models\\d2v_0.12.3.mdl -> build\\lib.win-amd64-3.9\\gensim\\test\\test_data\\old_d2v_models\n",
      "  copying gensim\\test\\test_data\\old_d2v_models\\d2v_0.12.4.mdl -> build\\lib.win-amd64-3.9\\gensim\\test\\test_data\\old_d2v_models\n",
      "  copying gensim\\test\\test_data\\old_d2v_models\\d2v_0.13.0.mdl -> build\\lib.win-amd64-3.9\\gensim\\test\\test_data\\old_d2v_models\n",
      "  copying gensim\\test\\test_data\\old_d2v_models\\d2v_0.13.1.mdl -> build\\lib.win-amd64-3.9\\gensim\\test\\test_data\\old_d2v_models\n",
      "  copying gensim\\test\\test_data\\old_d2v_models\\d2v_0.13.2.mdl -> build\\lib.win-amd64-3.9\\gensim\\test\\test_data\\old_d2v_models\n",
      "  copying gensim\\test\\test_data\\old_d2v_models\\d2v_0.13.3.mdl -> build\\lib.win-amd64-3.9\\gensim\\test\\test_data\\old_d2v_models\n",
      "  copying gensim\\test\\test_data\\old_d2v_models\\d2v_0.13.4.mdl -> build\\lib.win-amd64-3.9\\gensim\\test\\test_data\\old_d2v_models\n",
      "  copying gensim\\test\\test_data\\old_d2v_models\\d2v_1.0.0.mdl -> build\\lib.win-amd64-3.9\\gensim\\test\\test_data\\old_d2v_models\n",
      "  copying gensim\\test\\test_data\\old_d2v_models\\d2v_1.0.1.mdl -> build\\lib.win-amd64-3.9\\gensim\\test\\test_data\\old_d2v_models\n",
      "  copying gensim\\test\\test_data\\old_d2v_models\\d2v_2.0.0.mdl -> build\\lib.win-amd64-3.9\\gensim\\test\\test_data\\old_d2v_models\n",
      "  copying gensim\\test\\test_data\\old_d2v_models\\d2v_2.1.0.mdl -> build\\lib.win-amd64-3.9\\gensim\\test\\test_data\\old_d2v_models\n",
      "  copying gensim\\test\\test_data\\old_d2v_models\\d2v_2.2.0.mdl -> build\\lib.win-amd64-3.9\\gensim\\test\\test_data\\old_d2v_models\n",
      "  copying gensim\\test\\test_data\\old_d2v_models\\d2v_2.3.0.mdl -> build\\lib.win-amd64-3.9\\gensim\\test\\test_data\\old_d2v_models\n",
      "  copying gensim\\test\\test_data\\old_d2v_models\\d2v_3.0.0.mdl -> build\\lib.win-amd64-3.9\\gensim\\test\\test_data\\old_d2v_models\n",
      "  copying gensim\\test\\test_data\\old_d2v_models\\d2v_3.1.0.mdl -> build\\lib.win-amd64-3.9\\gensim\\test\\test_data\\old_d2v_models\n",
      "  copying gensim\\test\\test_data\\old_d2v_models\\d2v_3.2.0.mdl -> build\\lib.win-amd64-3.9\\gensim\\test\\test_data\\old_d2v_models\n",
      "  copying gensim\\test\\test_data\\old_d2v_models\\d2v_3.3.0.mdl -> build\\lib.win-amd64-3.9\\gensim\\test\\test_data\\old_d2v_models\n",
      "  copying gensim\\test\\test_data\\old_d2v_models\\d2v_3.4.0.mdl -> build\\lib.win-amd64-3.9\\gensim\\test\\test_data\\old_d2v_models\n",
      "  creating build\\lib.win-amd64-3.9\\gensim\\test\\test_data\\old_w2v_models\n",
      "  copying gensim\\test\\test_data\\old_w2v_models\\w2v_0.12.0.mdl -> build\\lib.win-amd64-3.9\\gensim\\test\\test_data\\old_w2v_models\n",
      "  copying gensim\\test\\test_data\\old_w2v_models\\w2v_0.12.1.mdl -> build\\lib.win-amd64-3.9\\gensim\\test\\test_data\\old_w2v_models\n",
      "  copying gensim\\test\\test_data\\old_w2v_models\\w2v_0.12.2.mdl -> build\\lib.win-amd64-3.9\\gensim\\test\\test_data\\old_w2v_models\n",
      "  copying gensim\\test\\test_data\\old_w2v_models\\w2v_0.12.3.mdl -> build\\lib.win-amd64-3.9\\gensim\\test\\test_data\\old_w2v_models\n",
      "  copying gensim\\test\\test_data\\old_w2v_models\\w2v_0.12.4.mdl -> build\\lib.win-amd64-3.9\\gensim\\test\\test_data\\old_w2v_models\n",
      "  copying gensim\\test\\test_data\\old_w2v_models\\w2v_0.13.0.mdl -> build\\lib.win-amd64-3.9\\gensim\\test\\test_data\\old_w2v_models\n",
      "  copying gensim\\test\\test_data\\old_w2v_models\\w2v_0.13.1.mdl -> build\\lib.win-amd64-3.9\\gensim\\test\\test_data\\old_w2v_models\n",
      "  copying gensim\\test\\test_data\\old_w2v_models\\w2v_0.13.2.mdl -> build\\lib.win-amd64-3.9\\gensim\\test\\test_data\\old_w2v_models\n",
      "  copying gensim\\test\\test_data\\old_w2v_models\\w2v_0.13.3.mdl -> build\\lib.win-amd64-3.9\\gensim\\test\\test_data\\old_w2v_models\n",
      "  copying gensim\\test\\test_data\\old_w2v_models\\w2v_0.13.4.mdl -> build\\lib.win-amd64-3.9\\gensim\\test\\test_data\\old_w2v_models\n",
      "  copying gensim\\test\\test_data\\old_w2v_models\\w2v_1.0.0.mdl -> build\\lib.win-amd64-3.9\\gensim\\test\\test_data\\old_w2v_models\n",
      "  copying gensim\\test\\test_data\\old_w2v_models\\w2v_1.0.1.mdl -> build\\lib.win-amd64-3.9\\gensim\\test\\test_data\\old_w2v_models\n",
      "  copying gensim\\test\\test_data\\old_w2v_models\\w2v_2.0.0.mdl -> build\\lib.win-amd64-3.9\\gensim\\test\\test_data\\old_w2v_models\n",
      "  copying gensim\\test\\test_data\\old_w2v_models\\w2v_2.1.0.mdl -> build\\lib.win-amd64-3.9\\gensim\\test\\test_data\\old_w2v_models\n",
      "  copying gensim\\test\\test_data\\old_w2v_models\\w2v_2.2.0.mdl -> build\\lib.win-amd64-3.9\\gensim\\test\\test_data\\old_w2v_models\n",
      "  copying gensim\\test\\test_data\\old_w2v_models\\w2v_2.3.0.mdl -> build\\lib.win-amd64-3.9\\gensim\\test\\test_data\\old_w2v_models\n",
      "  copying gensim\\test\\test_data\\old_w2v_models\\w2v_3.0.0.mdl -> build\\lib.win-amd64-3.9\\gensim\\test\\test_data\\old_w2v_models\n",
      "  copying gensim\\test\\test_data\\old_w2v_models\\w2v_3.1.0.mdl -> build\\lib.win-amd64-3.9\\gensim\\test\\test_data\\old_w2v_models\n",
      "  copying gensim\\test\\test_data\\old_w2v_models\\w2v_3.2.0.mdl -> build\\lib.win-amd64-3.9\\gensim\\test\\test_data\\old_w2v_models\n",
      "  copying gensim\\test\\test_data\\old_w2v_models\\w2v_3.3.0.mdl -> build\\lib.win-amd64-3.9\\gensim\\test\\test_data\\old_w2v_models\n",
      "  copying gensim\\test\\test_data\\old_w2v_models\\w2v_3.4.0.mdl -> build\\lib.win-amd64-3.9\\gensim\\test\\test_data\\old_w2v_models\n",
      "  running build_ext\n",
      "  building 'gensim.models.word2vec_inner' extension\n",
      "  error: Microsoft Visual C++ 14.0 or greater is required. Get it with \"Microsoft C++ Build Tools\": https://visualstudio.microsoft.com/visual-cpp-build-tools/\n",
      "  ----------------------------------------\n",
      "  ERROR: Failed building wheel for gensim\n",
      "    ERROR: Command errored out with exit status 1:\n",
      "     command: 'C:\\Users\\HP Z2\\anaconda3\\python.exe' -u -c 'import io, os, sys, setuptools, tokenize; sys.argv[0] = '\"'\"'C:\\\\Users\\\\HP Z2\\\\AppData\\\\Local\\\\Temp\\\\pip-install-t7caktgk\\\\gensim_fd059d79adbf4afeb8eef02e8a11366b\\\\setup.py'\"'\"'; __file__='\"'\"'C:\\\\Users\\\\HP Z2\\\\AppData\\\\Local\\\\Temp\\\\pip-install-t7caktgk\\\\gensim_fd059d79adbf4afeb8eef02e8a11366b\\\\setup.py'\"'\"';f = getattr(tokenize, '\"'\"'open'\"'\"', open)(__file__) if os.path.exists(__file__) else io.StringIO('\"'\"'from setuptools import setup; setup()'\"'\"');code = f.read().replace('\"'\"'\\r\\n'\"'\"', '\"'\"'\\n'\"'\"');f.close();exec(compile(code, __file__, '\"'\"'exec'\"'\"'))' install --record 'C:\\Users\\HP Z2\\AppData\\Local\\Temp\\pip-record-ec0l0iwo\\install-record.txt' --single-version-externally-managed --compile --install-headers 'C:\\Users\\HP Z2\\anaconda3\\Include\\gensim'\n",
      "         cwd: C:\\Users\\HP Z2\\AppData\\Local\\Temp\\pip-install-t7caktgk\\gensim_fd059d79adbf4afeb8eef02e8a11366b\\\n",
      "    Complete output (454 lines):\n",
      "    running install\n",
      "    running build\n",
      "    running build_py\n",
      "    creating build\n",
      "    creating build\\lib.win-amd64-3.9\n",
      "    creating build\\lib.win-amd64-3.9\\gensim\n",
      "    copying gensim\\downloader.py -> build\\lib.win-amd64-3.9\\gensim\n",
      "    copying gensim\\interfaces.py -> build\\lib.win-amd64-3.9\\gensim\n",
      "    copying gensim\\matutils.py -> build\\lib.win-amd64-3.9\\gensim\n",
      "    copying gensim\\nosy.py -> build\\lib.win-amd64-3.9\\gensim\n",
      "    copying gensim\\utils.py -> build\\lib.win-amd64-3.9\\gensim\n",
      "    copying gensim\\__init__.py -> build\\lib.win-amd64-3.9\\gensim\n",
      "    creating build\\lib.win-amd64-3.9\\gensim\\corpora\n",
      "    copying gensim\\corpora\\bleicorpus.py -> build\\lib.win-amd64-3.9\\gensim\\corpora\n",
      "    copying gensim\\corpora\\csvcorpus.py -> build\\lib.win-amd64-3.9\\gensim\\corpora\n",
      "    copying gensim\\corpora\\dictionary.py -> build\\lib.win-amd64-3.9\\gensim\\corpora\n",
      "    copying gensim\\corpora\\hashdictionary.py -> build\\lib.win-amd64-3.9\\gensim\\corpora\n",
      "    copying gensim\\corpora\\indexedcorpus.py -> build\\lib.win-amd64-3.9\\gensim\\corpora\n",
      "    copying gensim\\corpora\\lowcorpus.py -> build\\lib.win-amd64-3.9\\gensim\\corpora\n",
      "    copying gensim\\corpora\\malletcorpus.py -> build\\lib.win-amd64-3.9\\gensim\\corpora\n",
      "    copying gensim\\corpora\\mmcorpus.py -> build\\lib.win-amd64-3.9\\gensim\\corpora\n",
      "    copying gensim\\corpora\\sharded_corpus.py -> build\\lib.win-amd64-3.9\\gensim\\corpora\n",
      "    copying gensim\\corpora\\svmlightcorpus.py -> build\\lib.win-amd64-3.9\\gensim\\corpora\n",
      "    copying gensim\\corpora\\textcorpus.py -> build\\lib.win-amd64-3.9\\gensim\\corpora\n",
      "    copying gensim\\corpora\\ucicorpus.py -> build\\lib.win-amd64-3.9\\gensim\\corpora\n",
      "    copying gensim\\corpora\\wikicorpus.py -> build\\lib.win-amd64-3.9\\gensim\\corpora\n",
      "    copying gensim\\corpora\\__init__.py -> build\\lib.win-amd64-3.9\\gensim\\corpora\n",
      "    creating build\\lib.win-amd64-3.9\\gensim\\models\n",
      "    copying gensim\\models\\atmodel.py -> build\\lib.win-amd64-3.9\\gensim\\models\n",
      "    copying gensim\\models\\basemodel.py -> build\\lib.win-amd64-3.9\\gensim\\models\n",
      "    copying gensim\\models\\base_any2vec.py -> build\\lib.win-amd64-3.9\\gensim\\models\n",
      "    copying gensim\\models\\callbacks.py -> build\\lib.win-amd64-3.9\\gensim\\models\n",
      "    copying gensim\\models\\coherencemodel.py -> build\\lib.win-amd64-3.9\\gensim\\models\n",
      "    copying gensim\\models\\doc2vec.py -> build\\lib.win-amd64-3.9\\gensim\\models\n",
      "    copying gensim\\models\\fasttext.py -> build\\lib.win-amd64-3.9\\gensim\\models\n",
      "    copying gensim\\models\\hdpmodel.py -> build\\lib.win-amd64-3.9\\gensim\\models\n",
      "    copying gensim\\models\\keyedvectors.py -> build\\lib.win-amd64-3.9\\gensim\\models\n",
      "    copying gensim\\models\\ldamodel.py -> build\\lib.win-amd64-3.9\\gensim\\models\n",
      "    copying gensim\\models\\ldamulticore.py -> build\\lib.win-amd64-3.9\\gensim\\models\n",
      "    copying gensim\\models\\ldaseqmodel.py -> build\\lib.win-amd64-3.9\\gensim\\models\n",
      "    copying gensim\\models\\lda_dispatcher.py -> build\\lib.win-amd64-3.9\\gensim\\models\n",
      "    copying gensim\\models\\lda_worker.py -> build\\lib.win-amd64-3.9\\gensim\\models\n",
      "    copying gensim\\models\\logentropy_model.py -> build\\lib.win-amd64-3.9\\gensim\\models\n",
      "    copying gensim\\models\\lsimodel.py -> build\\lib.win-amd64-3.9\\gensim\\models\n",
      "    copying gensim\\models\\lsi_dispatcher.py -> build\\lib.win-amd64-3.9\\gensim\\models\n",
      "    copying gensim\\models\\lsi_worker.py -> build\\lib.win-amd64-3.9\\gensim\\models\n",
      "    copying gensim\\models\\nmf.py -> build\\lib.win-amd64-3.9\\gensim\\models\n",
      "    copying gensim\\models\\normmodel.py -> build\\lib.win-amd64-3.9\\gensim\\models\n",
      "    copying gensim\\models\\phrases.py -> build\\lib.win-amd64-3.9\\gensim\\models\n",
      "    copying gensim\\models\\poincare.py -> build\\lib.win-amd64-3.9\\gensim\\models\n",
      "    copying gensim\\models\\rpmodel.py -> build\\lib.win-amd64-3.9\\gensim\\models\n",
      "    copying gensim\\models\\tfidfmodel.py -> build\\lib.win-amd64-3.9\\gensim\\models\n",
      "    copying gensim\\models\\translation_matrix.py -> build\\lib.win-amd64-3.9\\gensim\\models\n",
      "    copying gensim\\models\\utils_any2vec.py -> build\\lib.win-amd64-3.9\\gensim\\models\n",
      "    copying gensim\\models\\word2vec.py -> build\\lib.win-amd64-3.9\\gensim\\models\n",
      "    copying gensim\\models\\_fasttext_bin.py -> build\\lib.win-amd64-3.9\\gensim\\models\n",
      "    copying gensim\\models\\__init__.py -> build\\lib.win-amd64-3.9\\gensim\\models\n",
      "    creating build\\lib.win-amd64-3.9\\gensim\\parsing\n",
      "    copying gensim\\parsing\\porter.py -> build\\lib.win-amd64-3.9\\gensim\\parsing\n",
      "    copying gensim\\parsing\\preprocessing.py -> build\\lib.win-amd64-3.9\\gensim\\parsing\n",
      "    copying gensim\\parsing\\__init__.py -> build\\lib.win-amd64-3.9\\gensim\\parsing\n",
      "    creating build\\lib.win-amd64-3.9\\gensim\\scripts\n",
      "    copying gensim\\scripts\\glove2word2vec.py -> build\\lib.win-amd64-3.9\\gensim\\scripts\n",
      "    copying gensim\\scripts\\make_wiki.py -> build\\lib.win-amd64-3.9\\gensim\\scripts\n",
      "    copying gensim\\scripts\\make_wikicorpus.py -> build\\lib.win-amd64-3.9\\gensim\\scripts\n",
      "    copying gensim\\scripts\\make_wiki_lemma.py -> build\\lib.win-amd64-3.9\\gensim\\scripts\n",
      "    copying gensim\\scripts\\make_wiki_online.py -> build\\lib.win-amd64-3.9\\gensim\\scripts\n",
      "    copying gensim\\scripts\\make_wiki_online_lemma.py -> build\\lib.win-amd64-3.9\\gensim\\scripts\n",
      "    copying gensim\\scripts\\make_wiki_online_nodebug.py -> build\\lib.win-amd64-3.9\\gensim\\scripts\n",
      "    copying gensim\\scripts\\package_info.py -> build\\lib.win-amd64-3.9\\gensim\\scripts\n",
      "    copying gensim\\scripts\\segment_wiki.py -> build\\lib.win-amd64-3.9\\gensim\\scripts\n",
      "    copying gensim\\scripts\\word2vec2tensor.py -> build\\lib.win-amd64-3.9\\gensim\\scripts\n",
      "    copying gensim\\scripts\\word2vec_standalone.py -> build\\lib.win-amd64-3.9\\gensim\\scripts\n",
      "    copying gensim\\scripts\\__init__.py -> build\\lib.win-amd64-3.9\\gensim\\scripts\n",
      "    creating build\\lib.win-amd64-3.9\\gensim\\similarities\n",
      "    copying gensim\\similarities\\docsim.py -> build\\lib.win-amd64-3.9\\gensim\\similarities\n",
      "    copying gensim\\similarities\\index.py -> build\\lib.win-amd64-3.9\\gensim\\similarities\n",
      "    copying gensim\\similarities\\levenshtein.py -> build\\lib.win-amd64-3.9\\gensim\\similarities\n",
      "    copying gensim\\similarities\\nmslib.py -> build\\lib.win-amd64-3.9\\gensim\\similarities\n",
      "    copying gensim\\similarities\\termsim.py -> build\\lib.win-amd64-3.9\\gensim\\similarities\n",
      "    copying gensim\\similarities\\__init__.py -> build\\lib.win-amd64-3.9\\gensim\\similarities\n",
      "    creating build\\lib.win-amd64-3.9\\gensim\\sklearn_api\n",
      "    copying gensim\\sklearn_api\\atmodel.py -> build\\lib.win-amd64-3.9\\gensim\\sklearn_api\n",
      "    copying gensim\\sklearn_api\\d2vmodel.py -> build\\lib.win-amd64-3.9\\gensim\\sklearn_api\n",
      "    copying gensim\\sklearn_api\\ftmodel.py -> build\\lib.win-amd64-3.9\\gensim\\sklearn_api\n",
      "    copying gensim\\sklearn_api\\hdp.py -> build\\lib.win-amd64-3.9\\gensim\\sklearn_api\n",
      "    copying gensim\\sklearn_api\\ldamodel.py -> build\\lib.win-amd64-3.9\\gensim\\sklearn_api\n",
      "    copying gensim\\sklearn_api\\ldaseqmodel.py -> build\\lib.win-amd64-3.9\\gensim\\sklearn_api\n",
      "    copying gensim\\sklearn_api\\lsimodel.py -> build\\lib.win-amd64-3.9\\gensim\\sklearn_api\n",
      "    copying gensim\\sklearn_api\\phrases.py -> build\\lib.win-amd64-3.9\\gensim\\sklearn_api\n",
      "    copying gensim\\sklearn_api\\rpmodel.py -> build\\lib.win-amd64-3.9\\gensim\\sklearn_api\n",
      "    copying gensim\\sklearn_api\\text2bow.py -> build\\lib.win-amd64-3.9\\gensim\\sklearn_api\n",
      "    copying gensim\\sklearn_api\\tfidf.py -> build\\lib.win-amd64-3.9\\gensim\\sklearn_api\n",
      "    copying gensim\\sklearn_api\\w2vmodel.py -> build\\lib.win-amd64-3.9\\gensim\\sklearn_api\n",
      "    copying gensim\\sklearn_api\\__init__.py -> build\\lib.win-amd64-3.9\\gensim\\sklearn_api\n",
      "    creating build\\lib.win-amd64-3.9\\gensim\\summarization\n",
      "    copying gensim\\summarization\\bm25.py -> build\\lib.win-amd64-3.9\\gensim\\summarization\n",
      "    copying gensim\\summarization\\commons.py -> build\\lib.win-amd64-3.9\\gensim\\summarization\n",
      "    copying gensim\\summarization\\graph.py -> build\\lib.win-amd64-3.9\\gensim\\summarization\n",
      "    copying gensim\\summarization\\keywords.py -> build\\lib.win-amd64-3.9\\gensim\\summarization\n",
      "    copying gensim\\summarization\\mz_entropy.py -> build\\lib.win-amd64-3.9\\gensim\\summarization\n",
      "    copying gensim\\summarization\\pagerank_weighted.py -> build\\lib.win-amd64-3.9\\gensim\\summarization\n",
      "    copying gensim\\summarization\\summarizer.py -> build\\lib.win-amd64-3.9\\gensim\\summarization\n",
      "    copying gensim\\summarization\\syntactic_unit.py -> build\\lib.win-amd64-3.9\\gensim\\summarization\n",
      "    copying gensim\\summarization\\textcleaner.py -> build\\lib.win-amd64-3.9\\gensim\\summarization\n",
      "    copying gensim\\summarization\\__init__.py -> build\\lib.win-amd64-3.9\\gensim\\summarization\n",
      "    creating build\\lib.win-amd64-3.9\\gensim\\test\n",
      "    copying gensim\\test\\basetmtests.py -> build\\lib.win-amd64-3.9\\gensim\\test\n",
      "    copying gensim\\test\\simspeed.py -> build\\lib.win-amd64-3.9\\gensim\\test\n",
      "    copying gensim\\test\\simspeed2.py -> build\\lib.win-amd64-3.9\\gensim\\test\n",
      "    copying gensim\\test\\svd_error.py -> build\\lib.win-amd64-3.9\\gensim\\test\n",
      "    copying gensim\\test\\test_aggregation.py -> build\\lib.win-amd64-3.9\\gensim\\test\n",
      "    copying gensim\\test\\test_api.py -> build\\lib.win-amd64-3.9\\gensim\\test\n",
      "    copying gensim\\test\\test_atmodel.py -> build\\lib.win-amd64-3.9\\gensim\\test\n",
      "    copying gensim\\test\\test_big.py -> build\\lib.win-amd64-3.9\\gensim\\test\n",
      "    copying gensim\\test\\test_BM25.py -> build\\lib.win-amd64-3.9\\gensim\\test\n",
      "    copying gensim\\test\\test_coherencemodel.py -> build\\lib.win-amd64-3.9\\gensim\\test\n",
      "    copying gensim\\test\\test_corpora.py -> build\\lib.win-amd64-3.9\\gensim\\test\n",
      "    copying gensim\\test\\test_corpora_dictionary.py -> build\\lib.win-amd64-3.9\\gensim\\test\n",
      "    copying gensim\\test\\test_corpora_hashdictionary.py -> build\\lib.win-amd64-3.9\\gensim\\test\n",
      "    copying gensim\\test\\test_d2vmodel.py -> build\\lib.win-amd64-3.9\\gensim\\test\n",
      "    copying gensim\\test\\test_datatype.py -> build\\lib.win-amd64-3.9\\gensim\\test\n",
      "    copying gensim\\test\\test_direct_confirmation.py -> build\\lib.win-amd64-3.9\\gensim\\test\n",
      "    copying gensim\\test\\test_doc2vec.py -> build\\lib.win-amd64-3.9\\gensim\\test\n",
      "    copying gensim\\test\\test_dtm.py -> build\\lib.win-amd64-3.9\\gensim\\test\n",
      "    copying gensim\\test\\test_fasttext.py -> build\\lib.win-amd64-3.9\\gensim\\test\n",
      "    copying gensim\\test\\test_fasttext_wrapper.py -> build\\lib.win-amd64-3.9\\gensim\\test\n",
      "    copying gensim\\test\\test_glove2word2vec.py -> build\\lib.win-amd64-3.9\\gensim\\test\n",
      "    copying gensim\\test\\test_hdpmodel.py -> build\\lib.win-amd64-3.9\\gensim\\test\n",
      "    copying gensim\\test\\test_indirect_confirmation.py -> build\\lib.win-amd64-3.9\\gensim\\test\n",
      "    copying gensim\\test\\test_keras_integration.py -> build\\lib.win-amd64-3.9\\gensim\\test\n",
      "    copying gensim\\test\\test_keyedvectors.py -> build\\lib.win-amd64-3.9\\gensim\\test\n",
      "    copying gensim\\test\\test_keywords.py -> build\\lib.win-amd64-3.9\\gensim\\test\n",
      "    copying gensim\\test\\test_ldamallet_wrapper.py -> build\\lib.win-amd64-3.9\\gensim\\test\n",
      "    copying gensim\\test\\test_ldamodel.py -> build\\lib.win-amd64-3.9\\gensim\\test\n",
      "    copying gensim\\test\\test_ldaseqmodel.py -> build\\lib.win-amd64-3.9\\gensim\\test\n",
      "    copying gensim\\test\\test_ldavowpalwabbit_wrapper.py -> build\\lib.win-amd64-3.9\\gensim\\test\n",
      "    copying gensim\\test\\test_lda_callback.py -> build\\lib.win-amd64-3.9\\gensim\\test\n",
      "    copying gensim\\test\\test_lee.py -> build\\lib.win-amd64-3.9\\gensim\\test\n",
      "    copying gensim\\test\\test_logentropy_model.py -> build\\lib.win-amd64-3.9\\gensim\\test\n",
      "    copying gensim\\test\\test_lsimodel.py -> build\\lib.win-amd64-3.9\\gensim\\test\n",
      "    copying gensim\\test\\test_matutils.py -> build\\lib.win-amd64-3.9\\gensim\\test\n",
      "    copying gensim\\test\\test_miislita.py -> build\\lib.win-amd64-3.9\\gensim\\test\n",
      "    copying gensim\\test\\test_nmf.py -> build\\lib.win-amd64-3.9\\gensim\\test\n",
      "    copying gensim\\test\\test_normmodel.py -> build\\lib.win-amd64-3.9\\gensim\\test\n",
      "    copying gensim\\test\\test_parsing.py -> build\\lib.win-amd64-3.9\\gensim\\test\n",
      "    copying gensim\\test\\test_phrases.py -> build\\lib.win-amd64-3.9\\gensim\\test\n",
      "    copying gensim\\test\\test_poincare.py -> build\\lib.win-amd64-3.9\\gensim\\test\n",
      "    copying gensim\\test\\test_probability_estimation.py -> build\\lib.win-amd64-3.9\\gensim\\test\n",
      "    copying gensim\\test\\test_rpmodel.py -> build\\lib.win-amd64-3.9\\gensim\\test\n",
      "    copying gensim\\test\\test_scripts.py -> build\\lib.win-amd64-3.9\\gensim\\test\n",
      "    copying gensim\\test\\test_segmentation.py -> build\\lib.win-amd64-3.9\\gensim\\test\n",
      "    copying gensim\\test\\test_sharded_corpus.py -> build\\lib.win-amd64-3.9\\gensim\\test\n",
      "    copying gensim\\test\\test_similarities.py -> build\\lib.win-amd64-3.9\\gensim\\test\n",
      "    copying gensim\\test\\test_similarity_metrics.py -> build\\lib.win-amd64-3.9\\gensim\\test\n",
      "    copying gensim\\test\\test_sklearn_api.py -> build\\lib.win-amd64-3.9\\gensim\\test\n",
      "    copying gensim\\test\\test_summarization.py -> build\\lib.win-amd64-3.9\\gensim\\test\n",
      "    copying gensim\\test\\test_text_analysis.py -> build\\lib.win-amd64-3.9\\gensim\\test\n",
      "    copying gensim\\test\\test_tfidfmodel.py -> build\\lib.win-amd64-3.9\\gensim\\test\n",
      "    copying gensim\\test\\test_tmdiff.py -> build\\lib.win-amd64-3.9\\gensim\\test\n",
      "    copying gensim\\test\\test_translation_matrix.py -> build\\lib.win-amd64-3.9\\gensim\\test\n",
      "    copying gensim\\test\\test_utils.py -> build\\lib.win-amd64-3.9\\gensim\\test\n",
      "    copying gensim\\test\\test_utils_any2vec.py -> build\\lib.win-amd64-3.9\\gensim\\test\n",
      "    copying gensim\\test\\test_varembed_wrapper.py -> build\\lib.win-amd64-3.9\\gensim\\test\n",
      "    copying gensim\\test\\test_word2vec.py -> build\\lib.win-amd64-3.9\\gensim\\test\n",
      "    copying gensim\\test\\test_wordrank_wrapper.py -> build\\lib.win-amd64-3.9\\gensim\\test\n",
      "    copying gensim\\test\\utils.py -> build\\lib.win-amd64-3.9\\gensim\\test\n",
      "    copying gensim\\test\\__init__.py -> build\\lib.win-amd64-3.9\\gensim\\test\n",
      "    creating build\\lib.win-amd64-3.9\\gensim\\topic_coherence\n",
      "    copying gensim\\topic_coherence\\aggregation.py -> build\\lib.win-amd64-3.9\\gensim\\topic_coherence\n",
      "    copying gensim\\topic_coherence\\direct_confirmation_measure.py -> build\\lib.win-amd64-3.9\\gensim\\topic_coherence\n",
      "    copying gensim\\topic_coherence\\indirect_confirmation_measure.py -> build\\lib.win-amd64-3.9\\gensim\\topic_coherence\n",
      "    copying gensim\\topic_coherence\\probability_estimation.py -> build\\lib.win-amd64-3.9\\gensim\\topic_coherence\n",
      "    copying gensim\\topic_coherence\\segmentation.py -> build\\lib.win-amd64-3.9\\gensim\\topic_coherence\n",
      "    copying gensim\\topic_coherence\\text_analysis.py -> build\\lib.win-amd64-3.9\\gensim\\topic_coherence\n",
      "    copying gensim\\topic_coherence\\__init__.py -> build\\lib.win-amd64-3.9\\gensim\\topic_coherence\n",
      "    creating build\\lib.win-amd64-3.9\\gensim\\viz\n",
      "    copying gensim\\viz\\poincare.py -> build\\lib.win-amd64-3.9\\gensim\\viz\n",
      "    copying gensim\\viz\\__init__.py -> build\\lib.win-amd64-3.9\\gensim\\viz\n",
      "    creating build\\lib.win-amd64-3.9\\gensim\\models\\deprecated\n",
      "    copying gensim\\models\\deprecated\\doc2vec.py -> build\\lib.win-amd64-3.9\\gensim\\models\\deprecated\n",
      "    copying gensim\\models\\deprecated\\fasttext.py -> build\\lib.win-amd64-3.9\\gensim\\models\\deprecated\n",
      "    copying gensim\\models\\deprecated\\fasttext_wrapper.py -> build\\lib.win-amd64-3.9\\gensim\\models\\deprecated\n",
      "    copying gensim\\models\\deprecated\\keyedvectors.py -> build\\lib.win-amd64-3.9\\gensim\\models\\deprecated\n",
      "    copying gensim\\models\\deprecated\\old_saveload.py -> build\\lib.win-amd64-3.9\\gensim\\models\\deprecated\n",
      "    copying gensim\\models\\deprecated\\word2vec.py -> build\\lib.win-amd64-3.9\\gensim\\models\\deprecated\n",
      "    copying gensim\\models\\deprecated\\__init__.py -> build\\lib.win-amd64-3.9\\gensim\\models\\deprecated\n",
      "    creating build\\lib.win-amd64-3.9\\gensim\\models\\wrappers\n",
      "    copying gensim\\models\\wrappers\\dtmmodel.py -> build\\lib.win-amd64-3.9\\gensim\\models\\wrappers\n",
      "    copying gensim\\models\\wrappers\\fasttext.py -> build\\lib.win-amd64-3.9\\gensim\\models\\wrappers\n",
      "    copying gensim\\models\\wrappers\\ldamallet.py -> build\\lib.win-amd64-3.9\\gensim\\models\\wrappers\n",
      "    copying gensim\\models\\wrappers\\ldavowpalwabbit.py -> build\\lib.win-amd64-3.9\\gensim\\models\\wrappers\n",
      "    copying gensim\\models\\wrappers\\varembed.py -> build\\lib.win-amd64-3.9\\gensim\\models\\wrappers\n",
      "    copying gensim\\models\\wrappers\\wordrank.py -> build\\lib.win-amd64-3.9\\gensim\\models\\wrappers\n",
      "    copying gensim\\models\\wrappers\\__init__.py -> build\\lib.win-amd64-3.9\\gensim\\models\\wrappers\n",
      "    running egg_info\n",
      "    writing gensim.egg-info\\PKG-INFO\n",
      "    writing dependency_links to gensim.egg-info\\dependency_links.txt\n",
      "    writing requirements to gensim.egg-info\\requires.txt\n",
      "    writing top-level names to gensim.egg-info\\top_level.txt\n",
      "    reading manifest file 'gensim.egg-info\\SOURCES.txt'\n",
      "    reading manifest template 'MANIFEST.in'\n",
      "    warning: no files found matching 'COPYING.LESSER'\n",
      "    warning: no files found matching 'ez_setup.py'\n",
      "    warning: no files found matching 'gensim\\models\\doc2vec_inner.c'\n",
      "    adding license file 'COPYING'\n",
      "    writing manifest file 'gensim.egg-info\\SOURCES.txt'\n",
      "    copying gensim\\_matutils.c -> build\\lib.win-amd64-3.9\\gensim\n",
      "    copying gensim\\_matutils.pyx -> build\\lib.win-amd64-3.9\\gensim\n",
      "    copying gensim\\corpora\\_mmreader.c -> build\\lib.win-amd64-3.9\\gensim\\corpora\n",
      "    copying gensim\\models\\_utils_any2vec.c -> build\\lib.win-amd64-3.9\\gensim\\models\n",
      "    copying gensim\\models\\doc2vec_corpusfile.cpp -> build\\lib.win-amd64-3.9\\gensim\\models\n",
      "    copying gensim\\models\\doc2vec_inner.cpp -> build\\lib.win-amd64-3.9\\gensim\\models\n",
      "    copying gensim\\models\\fasttext_corpusfile.cpp -> build\\lib.win-amd64-3.9\\gensim\\models\n",
      "    copying gensim\\models\\fasttext_inner.c -> build\\lib.win-amd64-3.9\\gensim\\models\n",
      "    copying gensim\\models\\nmf_pgd.c -> build\\lib.win-amd64-3.9\\gensim\\models\n",
      "    copying gensim\\models\\word2vec_corpusfile.cpp -> build\\lib.win-amd64-3.9\\gensim\\models\n",
      "    copying gensim\\models\\word2vec_inner.c -> build\\lib.win-amd64-3.9\\gensim\\models\n",
      "    copying gensim\\corpora\\_mmreader.pyx -> build\\lib.win-amd64-3.9\\gensim\\corpora\n",
      "    copying gensim\\models\\_utils_any2vec.pyx -> build\\lib.win-amd64-3.9\\gensim\\models\n",
      "    copying gensim\\models\\doc2vec_corpusfile.pyx -> build\\lib.win-amd64-3.9\\gensim\\models\n",
      "    copying gensim\\models\\doc2vec_inner.pxd -> build\\lib.win-amd64-3.9\\gensim\\models\n",
      "    copying gensim\\models\\doc2vec_inner.pyx -> build\\lib.win-amd64-3.9\\gensim\\models\n",
      "    copying gensim\\models\\fast_line_sentence.h -> build\\lib.win-amd64-3.9\\gensim\\models\n",
      "    copying gensim\\models\\fasttext_corpusfile.pyx -> build\\lib.win-amd64-3.9\\gensim\\models\n",
      "    copying gensim\\models\\fasttext_inner.pxd -> build\\lib.win-amd64-3.9\\gensim\\models\n",
      "    copying gensim\\models\\fasttext_inner.pyx -> build\\lib.win-amd64-3.9\\gensim\\models\n",
      "    copying gensim\\models\\nmf_pgd.pyx -> build\\lib.win-amd64-3.9\\gensim\\models\n",
      "    copying gensim\\models\\stdint_wrapper.h -> build\\lib.win-amd64-3.9\\gensim\\models\n",
      "    copying gensim\\models\\voidptr.h -> build\\lib.win-amd64-3.9\\gensim\\models\n",
      "    copying gensim\\models\\word2vec_corpusfile.pxd -> build\\lib.win-amd64-3.9\\gensim\\models\n",
      "    copying gensim\\models\\word2vec_corpusfile.pyx -> build\\lib.win-amd64-3.9\\gensim\\models\n",
      "    copying gensim\\models\\word2vec_inner.pxd -> build\\lib.win-amd64-3.9\\gensim\\models\n",
      "    copying gensim\\models\\word2vec_inner.pyx -> build\\lib.win-amd64-3.9\\gensim\\models\n",
      "    creating build\\lib.win-amd64-3.9\\gensim\\test\\test_data\n",
      "    copying gensim\\test\\test_data\\EN.1-10.cbow1_wind5_hs0_neg10_size300_smpl1e-05.txt -> build\\lib.win-amd64-3.9\\gensim\\test\\test_data\n",
      "    copying gensim\\test\\test_data\\IT.1-10.cbow1_wind5_hs0_neg10_size300_smpl1e-05.txt -> build\\lib.win-amd64-3.9\\gensim\\test\\test_data\n",
      "    copying gensim\\test\\test_data\\OPUS_en_it_europarl_train_one2ten.txt -> build\\lib.win-amd64-3.9\\gensim\\test\\test_data\n",
      "    copying gensim\\test\\test_data\\alldata-id-10.txt -> build\\lib.win-amd64-3.9\\gensim\\test\\test_data\n",
      "    copying gensim\\test\\test_data\\atmodel_3_0_1_model -> build\\lib.win-amd64-3.9\\gensim\\test\\test_data\n",
      "    copying gensim\\test\\test_data\\atmodel_3_0_1_model.expElogbeta.npy -> build\\lib.win-amd64-3.9\\gensim\\test\\test_data\n",
      "    copying gensim\\test\\test_data\\atmodel_3_0_1_model.id2word -> build\\lib.win-amd64-3.9\\gensim\\test\\test_data\n",
      "    copying gensim\\test\\test_data\\atmodel_3_0_1_model.state -> build\\lib.win-amd64-3.9\\gensim\\test\\test_data\n",
      "    copying gensim\\test\\test_data\\bgwiki-latest-pages-articles-shortened.xml.bz2 -> build\\lib.win-amd64-3.9\\gensim\\test\\test_data\n",
      "    copying gensim\\test\\test_data\\compatible-hash-false.model -> build\\lib.win-amd64-3.9\\gensim\\test\\test_data\n",
      "    copying gensim\\test\\test_data\\compatible-hash-true.model -> build\\lib.win-amd64-3.9\\gensim\\test\\test_data\n",
      "    copying gensim\\test\\test_data\\cp852_fasttext.bin -> build\\lib.win-amd64-3.9\\gensim\\test\\test_data\n",
      "    copying gensim\\test\\test_data\\crime-and-punishment.bin -> build\\lib.win-amd64-3.9\\gensim\\test\\test_data\n",
      "    copying gensim\\test\\test_data\\crime-and-punishment.txt -> build\\lib.win-amd64-3.9\\gensim\\test\\test_data\n",
      "    copying gensim\\test\\test_data\\crime-and-punishment.vec -> build\\lib.win-amd64-3.9\\gensim\\test\\test_data\n",
      "    copying gensim\\test\\test_data\\d2v-lee-v0.13.0 -> build\\lib.win-amd64-3.9\\gensim\\test\\test_data\n",
      "    copying gensim\\test\\test_data\\doc2vec_old -> build\\lib.win-amd64-3.9\\gensim\\test\\test_data\n",
      "    copying gensim\\test\\test_data\\doc2vec_old_sep -> build\\lib.win-amd64-3.9\\gensim\\test\\test_data\n",
      "    copying gensim\\test\\test_data\\doc2vec_old_sep.syn0_lockf.npy -> build\\lib.win-amd64-3.9\\gensim\\test\\test_data\n",
      "    copying gensim\\test\\test_data\\doc2vec_old_sep.syn1neg.npy -> build\\lib.win-amd64-3.9\\gensim\\test\\test_data\n",
      "    copying gensim\\test\\test_data\\dtm_test.dict -> build\\lib.win-amd64-3.9\\gensim\\test\\test_data\n",
      "    copying gensim\\test\\test_data\\dtm_test.mm -> build\\lib.win-amd64-3.9\\gensim\\test\\test_data\n",
      "    copying gensim\\test\\test_data\\enwiki-latest-pages-articles1.xml-p000000010p000030302-shortened.bz2 -> build\\lib.win-amd64-3.9\\gensim\\test\\test_data\n",
      "    copying gensim\\test\\test_data\\enwiki-table-markup.xml.bz2 -> build\\lib.win-amd64-3.9\\gensim\\test\\test_data\n",
      "    copying gensim\\test\\test_data\\euclidean_vectors.bin -> build\\lib.win-amd64-3.9\\gensim\\test\\test_data\n",
      "    copying gensim\\test\\test_data\\fasttext_old -> build\\lib.win-amd64-3.9\\gensim\\test\\test_data\n",
      "    copying gensim\\test\\test_data\\fasttext_old_sep -> build\\lib.win-amd64-3.9\\gensim\\test\\test_data\n",
      "    copying gensim\\test\\test_data\\fasttext_old_sep.syn0_lockf.npy -> build\\lib.win-amd64-3.9\\gensim\\test\\test_data\n",
      "    copying gensim\\test\\test_data\\fasttext_old_sep.syn1neg.npy -> build\\lib.win-amd64-3.9\\gensim\\test\\test_data\n",
      "    copying gensim\\test\\test_data\\fb-ngrams.txt -> build\\lib.win-amd64-3.9\\gensim\\test\\test_data\n",
      "    copying gensim\\test\\test_data\\ft_kv_3.6.0.model.gz -> build\\lib.win-amd64-3.9\\gensim\\test\\test_data\n",
      "    copying gensim\\test\\test_data\\ft_model_2.3.0 -> build\\lib.win-amd64-3.9\\gensim\\test\\test_data\n",
      "    copying gensim\\test\\test_data\\head500.noblanks.cor -> build\\lib.win-amd64-3.9\\gensim\\test\\test_data\n",
      "    copying gensim\\test\\test_data\\head500.noblanks.cor.bz2 -> build\\lib.win-amd64-3.9\\gensim\\test\\test_data\n",
      "    copying gensim\\test\\test_data\\head500.noblanks.cor_tfidf.model -> build\\lib.win-amd64-3.9\\gensim\\test\\test_data\n",
      "    copying gensim\\test\\test_data\\head500.noblanks.cor_wordids.txt -> build\\lib.win-amd64-3.9\\gensim\\test\\test_data\n",
      "    copying gensim\\test\\test_data\\high_precision.kv.bin -> build\\lib.win-amd64-3.9\\gensim\\test\\test_data\n",
      "    copying gensim\\test\\test_data\\high_precision.kv.txt -> build\\lib.win-amd64-3.9\\gensim\\test\\test_data\n",
      "    copying gensim\\test\\test_data\\large_tag_doc_10_iter50 -> build\\lib.win-amd64-3.9\\gensim\\test\\test_data\n",
      "    copying gensim\\test\\test_data\\lda_3_0_1_model -> build\\lib.win-amd64-3.9\\gensim\\test\\test_data\n",
      "    copying gensim\\test\\test_data\\lda_3_0_1_model.expElogbeta.npy -> build\\lib.win-amd64-3.9\\gensim\\test\\test_data\n",
      "    copying gensim\\test\\test_data\\lda_3_0_1_model.id2word -> build\\lib.win-amd64-3.9\\gensim\\test\\test_data\n",
      "    copying gensim\\test\\test_data\\lda_3_0_1_model.state -> build\\lib.win-amd64-3.9\\gensim\\test\\test_data\n",
      "    copying gensim\\test\\test_data\\ldamodel_python_2_7 -> build\\lib.win-amd64-3.9\\gensim\\test\\test_data\n",
      "    copying gensim\\test\\test_data\\ldamodel_python_2_7.expElogbeta.npy -> build\\lib.win-amd64-3.9\\gensim\\test\\test_data\n",
      "    copying gensim\\test\\test_data\\ldamodel_python_2_7.id2word -> build\\lib.win-amd64-3.9\\gensim\\test\\test_data\n",
      "    copying gensim\\test\\test_data\\ldamodel_python_2_7.state -> build\\lib.win-amd64-3.9\\gensim\\test\\test_data\n",
      "    copying gensim\\test\\test_data\\ldamodel_python_3_5 -> build\\lib.win-amd64-3.9\\gensim\\test\\test_data\n",
      "    copying gensim\\test\\test_data\\ldamodel_python_3_5.expElogbeta.npy -> build\\lib.win-amd64-3.9\\gensim\\test\\test_data\n",
      "    copying gensim\\test\\test_data\\ldamodel_python_3_5.id2word -> build\\lib.win-amd64-3.9\\gensim\\test\\test_data\n",
      "    copying gensim\\test\\test_data\\ldamodel_python_3_5.state -> build\\lib.win-amd64-3.9\\gensim\\test\\test_data\n",
      "    copying gensim\\test\\test_data\\ldavowpalwabbit.dict.txt -> build\\lib.win-amd64-3.9\\gensim\\test\\test_data\n",
      "    copying gensim\\test\\test_data\\ldavowpalwabbit.txt -> build\\lib.win-amd64-3.9\\gensim\\test\\test_data\n",
      "    copying gensim\\test\\test_data\\lee.cor -> build\\lib.win-amd64-3.9\\gensim\\test\\test_data\n",
      "    copying gensim\\test\\test_data\\lee_background.cor -> build\\lib.win-amd64-3.9\\gensim\\test\\test_data\n",
      "    copying gensim\\test\\test_data\\lee_fasttext -> build\\lib.win-amd64-3.9\\gensim\\test\\test_data\n",
      "    copying gensim\\test\\test_data\\lee_fasttext.bin -> build\\lib.win-amd64-3.9\\gensim\\test\\test_data\n",
      "    copying gensim\\test\\test_data\\lee_fasttext.vec -> build\\lib.win-amd64-3.9\\gensim\\test\\test_data\n",
      "    copying gensim\\test\\test_data\\lee_fasttext_new.bin -> build\\lib.win-amd64-3.9\\gensim\\test\\test_data\n",
      "    copying gensim\\test\\test_data\\miIslita.cor -> build\\lib.win-amd64-3.9\\gensim\\test\\test_data\n",
      "    copying gensim\\test\\test_data\\mihalcea_tarau.kw.txt -> build\\lib.win-amd64-3.9\\gensim\\test\\test_data\n",
      "    copying gensim\\test\\test_data\\mihalcea_tarau.kwpos.txt -> build\\lib.win-amd64-3.9\\gensim\\test\\test_data\n",
      "    copying gensim\\test\\test_data\\mihalcea_tarau.summ.txt -> build\\lib.win-amd64-3.9\\gensim\\test\\test_data\n",
      "    copying gensim\\test\\test_data\\mihalcea_tarau.txt -> build\\lib.win-amd64-3.9\\gensim\\test\\test_data\n",
      "    copying gensim\\test\\test_data\\mini_newsgroup -> build\\lib.win-amd64-3.9\\gensim\\test\\test_data\n",
      "    copying gensim\\test\\test_data\\nmf_model -> build\\lib.win-amd64-3.9\\gensim\\test\\test_data\n",
      "    copying gensim\\test\\test_data\\non_ascii_fasttext.bin -> build\\lib.win-amd64-3.9\\gensim\\test\\test_data\n",
      "    copying gensim\\test\\test_data\\old_keyedvectors_320.dat -> build\\lib.win-amd64-3.9\\gensim\\test\\test_data\n",
      "    copying gensim\\test\\test_data\\pang_lee_polarity.cor -> build\\lib.win-amd64-3.9\\gensim\\test\\test_data\n",
      "    copying gensim\\test\\test_data\\pang_lee_polarity_fasttext.bin -> build\\lib.win-amd64-3.9\\gensim\\test\\test_data\n",
      "    copying gensim\\test\\test_data\\pang_lee_polarity_fasttext.vec -> build\\lib.win-amd64-3.9\\gensim\\test\\test_data\n",
      "    copying gensim\\test\\test_data\\para2para_text1.txt -> build\\lib.win-amd64-3.9\\gensim\\test\\test_data\n",
      "    copying gensim\\test\\test_data\\para2para_text2.txt -> build\\lib.win-amd64-3.9\\gensim\\test\\test_data\n",
      "    copying gensim\\test\\test_data\\phraser-3.6.0.model -> build\\lib.win-amd64-3.9\\gensim\\test\\test_data\n",
      "    copying gensim\\test\\test_data\\phraser-no-common-terms.pkl -> build\\lib.win-amd64-3.9\\gensim\\test\\test_data\n",
      "    copying gensim\\test\\test_data\\phraser-no-scoring.pkl -> build\\lib.win-amd64-3.9\\gensim\\test\\test_data\n",
      "    copying gensim\\test\\test_data\\phraser-scoring-str.pkl -> build\\lib.win-amd64-3.9\\gensim\\test\\test_data\n",
      "    copying gensim\\test\\test_data\\phrases-3.6.0.model -> build\\lib.win-amd64-3.9\\gensim\\test\\test_data\n",
      "    copying gensim\\test\\test_data\\phrases-no-common-terms.pkl -> build\\lib.win-amd64-3.9\\gensim\\test\\test_data\n",
      "    copying gensim\\test\\test_data\\phrases-no-scoring.pkl -> build\\lib.win-amd64-3.9\\gensim\\test\\test_data\n",
      "    copying gensim\\test\\test_data\\phrases-scoring-str.pkl -> build\\lib.win-amd64-3.9\\gensim\\test\\test_data\n",
      "    copying gensim\\test\\test_data\\phrases-transformer-new-v3-5-0.pkl -> build\\lib.win-amd64-3.9\\gensim\\test\\test_data\n",
      "    copying gensim\\test\\test_data\\phrases-transformer-v3-5-0.pkl -> build\\lib.win-amd64-3.9\\gensim\\test\\test_data\n",
      "    copying gensim\\test\\test_data\\poincare_cp852.tsv -> build\\lib.win-amd64-3.9\\gensim\\test\\test_data\n",
      "    copying gensim\\test\\test_data\\poincare_hypernyms.tsv -> build\\lib.win-amd64-3.9\\gensim\\test\\test_data\n",
      "    copying gensim\\test\\test_data\\poincare_hypernyms_large.tsv -> build\\lib.win-amd64-3.9\\gensim\\test\\test_data\n",
      "    copying gensim\\test\\test_data\\poincare_test_3.4.0 -> build\\lib.win-amd64-3.9\\gensim\\test\\test_data\n",
      "    copying gensim\\test\\test_data\\poincare_utf8.tsv -> build\\lib.win-amd64-3.9\\gensim\\test\\test_data\n",
      "    copying gensim\\test\\test_data\\poincare_vectors.bin -> build\\lib.win-amd64-3.9\\gensim\\test\\test_data\n",
      "    copying gensim\\test\\test_data\\pre_0_13_2_model -> build\\lib.win-amd64-3.9\\gensim\\test\\test_data\n",
      "    copying gensim\\test\\test_data\\pre_0_13_2_model.state -> build\\lib.win-amd64-3.9\\gensim\\test\\test_data\n",
      "    copying gensim\\test\\test_data\\pretrained.vec -> build\\lib.win-amd64-3.9\\gensim\\test\\test_data\n",
      "    copying gensim\\test\\test_data\\questions-words.txt -> build\\lib.win-amd64-3.9\\gensim\\test\\test_data\n",
      "    copying gensim\\test\\test_data\\reproduce.dat -> build\\lib.win-amd64-3.9\\gensim\\test\\test_data\n",
      "    copying gensim\\test\\test_data\\reproduce.dat.gz -> build\\lib.win-amd64-3.9\\gensim\\test\\test_data\n",
      "    copying gensim\\test\\test_data\\similarities0-1.txt -> build\\lib.win-amd64-3.9\\gensim\\test\\test_data\n",
      "    copying gensim\\test\\test_data\\simlex999.txt -> build\\lib.win-amd64-3.9\\gensim\\test\\test_data\n",
      "    copying gensim\\test\\test_data\\small_tag_doc_5_iter50 -> build\\lib.win-amd64-3.9\\gensim\\test\\test_data\n",
      "    copying gensim\\test\\test_data\\test_corpus_ok.mm -> build\\lib.win-amd64-3.9\\gensim\\test\\test_data\n",
      "    copying gensim\\test\\test_data\\test_corpus_small.mm -> build\\lib.win-amd64-3.9\\gensim\\test\\test_data\n",
      "    copying gensim\\test\\test_data\\test_glove.txt -> build\\lib.win-amd64-3.9\\gensim\\test\\test_data\n",
      "    copying gensim\\test\\test_data\\test_mmcorpus_corrupt.mm -> build\\lib.win-amd64-3.9\\gensim\\test\\test_data\n",
      "    copying gensim\\test\\test_data\\test_mmcorpus_no_index.mm -> build\\lib.win-amd64-3.9\\gensim\\test\\test_data\n",
      "    copying gensim\\test\\test_data\\test_mmcorpus_no_index.mm.bz2 -> build\\lib.win-amd64-3.9\\gensim\\test\\test_data\n",
      "    copying gensim\\test\\test_data\\test_mmcorpus_no_index.mm.gz -> build\\lib.win-amd64-3.9\\gensim\\test\\test_data\n",
      "    copying gensim\\test\\test_data\\test_mmcorpus_overflow.mm -> build\\lib.win-amd64-3.9\\gensim\\test\\test_data\n",
      "    copying gensim\\test\\test_data\\test_mmcorpus_with_index.mm -> build\\lib.win-amd64-3.9\\gensim\\test\\test_data\n",
      "    copying gensim\\test\\test_data\\test_mmcorpus_with_index.mm.index -> build\\lib.win-amd64-3.9\\gensim\\test\\test_data\n",
      "    copying gensim\\test\\test_data\\testcorpus.blei -> build\\lib.win-amd64-3.9\\gensim\\test\\test_data\n",
      "    copying gensim\\test\\test_data\\testcorpus.blei.index -> build\\lib.win-amd64-3.9\\gensim\\test\\test_data\n",
      "    copying gensim\\test\\test_data\\testcorpus.blei.vocab -> build\\lib.win-amd64-3.9\\gensim\\test\\test_data\n",
      "    copying gensim\\test\\test_data\\testcorpus.low -> build\\lib.win-amd64-3.9\\gensim\\test\\test_data\n",
      "    copying gensim\\test\\test_data\\testcorpus.low.index -> build\\lib.win-amd64-3.9\\gensim\\test\\test_data\n",
      "    copying gensim\\test\\test_data\\testcorpus.mallet -> build\\lib.win-amd64-3.9\\gensim\\test\\test_data\n",
      "    copying gensim\\test\\test_data\\testcorpus.mallet.index -> build\\lib.win-amd64-3.9\\gensim\\test\\test_data\n",
      "    copying gensim\\test\\test_data\\testcorpus.mm -> build\\lib.win-amd64-3.9\\gensim\\test\\test_data\n",
      "    copying gensim\\test\\test_data\\testcorpus.mm.index -> build\\lib.win-amd64-3.9\\gensim\\test\\test_data\n",
      "    copying gensim\\test\\test_data\\testcorpus.svmlight -> build\\lib.win-amd64-3.9\\gensim\\test\\test_data\n",
      "    copying gensim\\test\\test_data\\testcorpus.svmlight.index -> build\\lib.win-amd64-3.9\\gensim\\test\\test_data\n",
      "    copying gensim\\test\\test_data\\testcorpus.txt -> build\\lib.win-amd64-3.9\\gensim\\test\\test_data\n",
      "    copying gensim\\test\\test_data\\testcorpus.uci -> build\\lib.win-amd64-3.9\\gensim\\test\\test_data\n",
      "    copying gensim\\test\\test_data\\testcorpus.uci.index -> build\\lib.win-amd64-3.9\\gensim\\test\\test_data\n",
      "    copying gensim\\test\\test_data\\testcorpus.uci.vocab -> build\\lib.win-amd64-3.9\\gensim\\test\\test_data\n",
      "    copying gensim\\test\\test_data\\testcorpus.xml.bz2 -> build\\lib.win-amd64-3.9\\gensim\\test\\test_data\n",
      "    copying gensim\\test\\test_data\\testcorpus_serialization.mm.index -> build\\lib.win-amd64-3.9\\gensim\\test\\test_data\n",
      "    copying gensim\\test\\test_data\\testlowdistinctwords.txt -> build\\lib.win-amd64-3.9\\gensim\\test\\test_data\n",
      "    copying gensim\\test\\test_data\\testrepeatedkeywords.txt -> build\\lib.win-amd64-3.9\\gensim\\test\\test_data\n",
      "    copying gensim\\test\\test_data\\testsummarization_unrelated.txt -> build\\lib.win-amd64-3.9\\gensim\\test\\test_data\n",
      "    copying gensim\\test\\test_data\\tfidf_model.tst -> build\\lib.win-amd64-3.9\\gensim\\test\\test_data\n",
      "    copying gensim\\test\\test_data\\tfidf_model.tst.bz2 -> build\\lib.win-amd64-3.9\\gensim\\test\\test_data\n",
      "    copying gensim\\test\\test_data\\tfidf_model_3_2.tst -> build\\lib.win-amd64-3.9\\gensim\\test\\test_data\n",
      "    copying gensim\\test\\test_data\\toy-data.txt -> build\\lib.win-amd64-3.9\\gensim\\test\\test_data\n",
      "    copying gensim\\test\\test_data\\toy-model-pretrained.bin -> build\\lib.win-amd64-3.9\\gensim\\test\\test_data\n",
      "    copying gensim\\test\\test_data\\toy-model.bin -> build\\lib.win-amd64-3.9\\gensim\\test\\test_data\n",
      "    copying gensim\\test\\test_data\\toy-model.vec -> build\\lib.win-amd64-3.9\\gensim\\test\\test_data\n",
      "    copying gensim\\test\\test_data\\varembed_lee_subcorpus.cor -> build\\lib.win-amd64-3.9\\gensim\\test\\test_data\n",
      "    copying gensim\\test\\test_data\\varembed_morfessor.bin -> build\\lib.win-amd64-3.9\\gensim\\test\\test_data\n",
      "    copying gensim\\test\\test_data\\varembed_vectors.pkl -> build\\lib.win-amd64-3.9\\gensim\\test\\test_data\n",
      "    copying gensim\\test\\test_data\\w2v-lee-v0.12.0 -> build\\lib.win-amd64-3.9\\gensim\\test\\test_data\n",
      "    copying gensim\\test\\test_data\\w2v_keyedvectors_load_test.modeldata -> build\\lib.win-amd64-3.9\\gensim\\test\\test_data\n",
      "    copying gensim\\test\\test_data\\w2v_keyedvectors_load_test.vocab -> build\\lib.win-amd64-3.9\\gensim\\test\\test_data\n",
      "    copying gensim\\test\\test_data\\word2vec_3.3 -> build\\lib.win-amd64-3.9\\gensim\\test\\test_data\n",
      "    copying gensim\\test\\test_data\\word2vec_old -> build\\lib.win-amd64-3.9\\gensim\\test\\test_data\n",
      "    copying gensim\\test\\test_data\\word2vec_old_sep -> build\\lib.win-amd64-3.9\\gensim\\test\\test_data\n",
      "    copying gensim\\test\\test_data\\word2vec_old_sep.syn0_lockf.npy -> build\\lib.win-amd64-3.9\\gensim\\test\\test_data\n",
      "    copying gensim\\test\\test_data\\word2vec_old_sep.syn1neg.npy -> build\\lib.win-amd64-3.9\\gensim\\test\\test_data\n",
      "    copying gensim\\test\\test_data\\word2vec_pre_kv_c -> build\\lib.win-amd64-3.9\\gensim\\test\\test_data\n",
      "    copying gensim\\test\\test_data\\word2vec_pre_kv_py2 -> build\\lib.win-amd64-3.9\\gensim\\test\\test_data\n",
      "    copying gensim\\test\\test_data\\word2vec_pre_kv_py3 -> build\\lib.win-amd64-3.9\\gensim\\test\\test_data\n",
      "    copying gensim\\test\\test_data\\word2vec_pre_kv_py3_4 -> build\\lib.win-amd64-3.9\\gensim\\test\\test_data\n",
      "    copying gensim\\test\\test_data\\word2vec_pre_kv_sep_py2 -> build\\lib.win-amd64-3.9\\gensim\\test\\test_data\n",
      "    copying gensim\\test\\test_data\\word2vec_pre_kv_sep_py2.neg_labels.npy -> build\\lib.win-amd64-3.9\\gensim\\test\\test_data\n",
      "    copying gensim\\test\\test_data\\word2vec_pre_kv_sep_py2.syn0.npy -> build\\lib.win-amd64-3.9\\gensim\\test\\test_data\n",
      "    copying gensim\\test\\test_data\\word2vec_pre_kv_sep_py2.syn0_lockf.npy -> build\\lib.win-amd64-3.9\\gensim\\test\\test_data\n",
      "    copying gensim\\test\\test_data\\word2vec_pre_kv_sep_py2.syn1neg.npy -> build\\lib.win-amd64-3.9\\gensim\\test\\test_data\n",
      "    copying gensim\\test\\test_data\\word2vec_pre_kv_sep_py3 -> build\\lib.win-amd64-3.9\\gensim\\test\\test_data\n",
      "    copying gensim\\test\\test_data\\word2vec_pre_kv_sep_py3.neg_labels.npy -> build\\lib.win-amd64-3.9\\gensim\\test\\test_data\n",
      "    copying gensim\\test\\test_data\\word2vec_pre_kv_sep_py3.syn0.npy -> build\\lib.win-amd64-3.9\\gensim\\test\\test_data\n",
      "    copying gensim\\test\\test_data\\word2vec_pre_kv_sep_py3.syn0_lockf.npy -> build\\lib.win-amd64-3.9\\gensim\\test\\test_data\n",
      "    copying gensim\\test\\test_data\\word2vec_pre_kv_sep_py3.syn1neg.npy -> build\\lib.win-amd64-3.9\\gensim\\test\\test_data\n",
      "    copying gensim\\test\\test_data\\word2vec_pre_kv_sep_py3_4 -> build\\lib.win-amd64-3.9\\gensim\\test\\test_data\n",
      "    copying gensim\\test\\test_data\\word2vec_pre_kv_sep_py3_4.neg_labels.npy -> build\\lib.win-amd64-3.9\\gensim\\test\\test_data\n",
      "    copying gensim\\test\\test_data\\word2vec_pre_kv_sep_py3_4.syn0.npy -> build\\lib.win-amd64-3.9\\gensim\\test\\test_data\n",
      "    copying gensim\\test\\test_data\\word2vec_pre_kv_sep_py3_4.syn0_lockf.npy -> build\\lib.win-amd64-3.9\\gensim\\test\\test_data\n",
      "    copying gensim\\test\\test_data\\word2vec_pre_kv_sep_py3_4.syn1neg.npy -> build\\lib.win-amd64-3.9\\gensim\\test\\test_data\n",
      "    copying gensim\\test\\test_data\\wordsim353.tsv -> build\\lib.win-amd64-3.9\\gensim\\test\\test_data\n",
      "    creating build\\lib.win-amd64-3.9\\gensim\\test\\test_data\\DTM\n",
      "    copying gensim\\test\\test_data\\DTM\\ldaseq_3_0_1_model -> build\\lib.win-amd64-3.9\\gensim\\test\\test_data\\DTM\n",
      "    copying gensim\\test\\test_data\\DTM\\sstats_test.txt -> build\\lib.win-amd64-3.9\\gensim\\test\\test_data\\DTM\n",
      "    creating build\\lib.win-amd64-3.9\\gensim\\test\\test_data\\PathLineSentences\n",
      "    copying gensim\\test\\test_data\\PathLineSentences\\1.txt -> build\\lib.win-amd64-3.9\\gensim\\test\\test_data\\PathLineSentences\n",
      "    copying gensim\\test\\test_data\\PathLineSentences\\2.txt.bz2 -> build\\lib.win-amd64-3.9\\gensim\\test\\test_data\\PathLineSentences\n",
      "    creating build\\lib.win-amd64-3.9\\gensim\\test\\test_data\\old_d2v_models\n",
      "    copying gensim\\test\\test_data\\old_d2v_models\\d2v_0.12.0.mdl -> build\\lib.win-amd64-3.9\\gensim\\test\\test_data\\old_d2v_models\n",
      "    copying gensim\\test\\test_data\\old_d2v_models\\d2v_0.12.1.mdl -> build\\lib.win-amd64-3.9\\gensim\\test\\test_data\\old_d2v_models\n",
      "    copying gensim\\test\\test_data\\old_d2v_models\\d2v_0.12.2.mdl -> build\\lib.win-amd64-3.9\\gensim\\test\\test_data\\old_d2v_models\n",
      "    copying gensim\\test\\test_data\\old_d2v_models\\d2v_0.12.3.mdl -> build\\lib.win-amd64-3.9\\gensim\\test\\test_data\\old_d2v_models\n",
      "    copying gensim\\test\\test_data\\old_d2v_models\\d2v_0.12.4.mdl -> build\\lib.win-amd64-3.9\\gensim\\test\\test_data\\old_d2v_models\n",
      "    copying gensim\\test\\test_data\\old_d2v_models\\d2v_0.13.0.mdl -> build\\lib.win-amd64-3.9\\gensim\\test\\test_data\\old_d2v_models\n",
      "    copying gensim\\test\\test_data\\old_d2v_models\\d2v_0.13.1.mdl -> build\\lib.win-amd64-3.9\\gensim\\test\\test_data\\old_d2v_models\n",
      "    copying gensim\\test\\test_data\\old_d2v_models\\d2v_0.13.2.mdl -> build\\lib.win-amd64-3.9\\gensim\\test\\test_data\\old_d2v_models\n",
      "    copying gensim\\test\\test_data\\old_d2v_models\\d2v_0.13.3.mdl -> build\\lib.win-amd64-3.9\\gensim\\test\\test_data\\old_d2v_models\n",
      "    copying gensim\\test\\test_data\\old_d2v_models\\d2v_0.13.4.mdl -> build\\lib.win-amd64-3.9\\gensim\\test\\test_data\\old_d2v_models\n",
      "    copying gensim\\test\\test_data\\old_d2v_models\\d2v_1.0.0.mdl -> build\\lib.win-amd64-3.9\\gensim\\test\\test_data\\old_d2v_models\n",
      "    copying gensim\\test\\test_data\\old_d2v_models\\d2v_1.0.1.mdl -> build\\lib.win-amd64-3.9\\gensim\\test\\test_data\\old_d2v_models\n",
      "    copying gensim\\test\\test_data\\old_d2v_models\\d2v_2.0.0.mdl -> build\\lib.win-amd64-3.9\\gensim\\test\\test_data\\old_d2v_models\n",
      "    copying gensim\\test\\test_data\\old_d2v_models\\d2v_2.1.0.mdl -> build\\lib.win-amd64-3.9\\gensim\\test\\test_data\\old_d2v_models\n",
      "    copying gensim\\test\\test_data\\old_d2v_models\\d2v_2.2.0.mdl -> build\\lib.win-amd64-3.9\\gensim\\test\\test_data\\old_d2v_models\n",
      "    copying gensim\\test\\test_data\\old_d2v_models\\d2v_2.3.0.mdl -> build\\lib.win-amd64-3.9\\gensim\\test\\test_data\\old_d2v_models\n",
      "    copying gensim\\test\\test_data\\old_d2v_models\\d2v_3.0.0.mdl -> build\\lib.win-amd64-3.9\\gensim\\test\\test_data\\old_d2v_models\n",
      "    copying gensim\\test\\test_data\\old_d2v_models\\d2v_3.1.0.mdl -> build\\lib.win-amd64-3.9\\gensim\\test\\test_data\\old_d2v_models\n",
      "    copying gensim\\test\\test_data\\old_d2v_models\\d2v_3.2.0.mdl -> build\\lib.win-amd64-3.9\\gensim\\test\\test_data\\old_d2v_models\n",
      "    copying gensim\\test\\test_data\\old_d2v_models\\d2v_3.3.0.mdl -> build\\lib.win-amd64-3.9\\gensim\\test\\test_data\\old_d2v_models\n",
      "    copying gensim\\test\\test_data\\old_d2v_models\\d2v_3.4.0.mdl -> build\\lib.win-amd64-3.9\\gensim\\test\\test_data\\old_d2v_models\n",
      "    creating build\\lib.win-amd64-3.9\\gensim\\test\\test_data\\old_w2v_models\n",
      "    copying gensim\\test\\test_data\\old_w2v_models\\w2v_0.12.0.mdl -> build\\lib.win-amd64-3.9\\gensim\\test\\test_data\\old_w2v_models\n",
      "    copying gensim\\test\\test_data\\old_w2v_models\\w2v_0.12.1.mdl -> build\\lib.win-amd64-3.9\\gensim\\test\\test_data\\old_w2v_models\n",
      "    copying gensim\\test\\test_data\\old_w2v_models\\w2v_0.12.2.mdl -> build\\lib.win-amd64-3.9\\gensim\\test\\test_data\\old_w2v_models\n",
      "    copying gensim\\test\\test_data\\old_w2v_models\\w2v_0.12.3.mdl -> build\\lib.win-amd64-3.9\\gensim\\test\\test_data\\old_w2v_models\n",
      "    copying gensim\\test\\test_data\\old_w2v_models\\w2v_0.12.4.mdl -> build\\lib.win-amd64-3.9\\gensim\\test\\test_data\\old_w2v_models\n",
      "    copying gensim\\test\\test_data\\old_w2v_models\\w2v_0.13.0.mdl -> build\\lib.win-amd64-3.9\\gensim\\test\\test_data\\old_w2v_models\n",
      "    copying gensim\\test\\test_data\\old_w2v_models\\w2v_0.13.1.mdl -> build\\lib.win-amd64-3.9\\gensim\\test\\test_data\\old_w2v_models\n",
      "    copying gensim\\test\\test_data\\old_w2v_models\\w2v_0.13.2.mdl -> build\\lib.win-amd64-3.9\\gensim\\test\\test_data\\old_w2v_models\n",
      "    copying gensim\\test\\test_data\\old_w2v_models\\w2v_0.13.3.mdl -> build\\lib.win-amd64-3.9\\gensim\\test\\test_data\\old_w2v_models\n",
      "    copying gensim\\test\\test_data\\old_w2v_models\\w2v_0.13.4.mdl -> build\\lib.win-amd64-3.9\\gensim\\test\\test_data\\old_w2v_models\n",
      "    copying gensim\\test\\test_data\\old_w2v_models\\w2v_1.0.0.mdl -> build\\lib.win-amd64-3.9\\gensim\\test\\test_data\\old_w2v_models\n",
      "    copying gensim\\test\\test_data\\old_w2v_models\\w2v_1.0.1.mdl -> build\\lib.win-amd64-3.9\\gensim\\test\\test_data\\old_w2v_models\n",
      "    copying gensim\\test\\test_data\\old_w2v_models\\w2v_2.0.0.mdl -> build\\lib.win-amd64-3.9\\gensim\\test\\test_data\\old_w2v_models\n",
      "    copying gensim\\test\\test_data\\old_w2v_models\\w2v_2.1.0.mdl -> build\\lib.win-amd64-3.9\\gensim\\test\\test_data\\old_w2v_models\n",
      "    copying gensim\\test\\test_data\\old_w2v_models\\w2v_2.2.0.mdl -> build\\lib.win-amd64-3.9\\gensim\\test\\test_data\\old_w2v_models\n",
      "    copying gensim\\test\\test_data\\old_w2v_models\\w2v_2.3.0.mdl -> build\\lib.win-amd64-3.9\\gensim\\test\\test_data\\old_w2v_models\n",
      "    copying gensim\\test\\test_data\\old_w2v_models\\w2v_3.0.0.mdl -> build\\lib.win-amd64-3.9\\gensim\\test\\test_data\\old_w2v_models\n",
      "    copying gensim\\test\\test_data\\old_w2v_models\\w2v_3.1.0.mdl -> build\\lib.win-amd64-3.9\\gensim\\test\\test_data\\old_w2v_models\n",
      "    copying gensim\\test\\test_data\\old_w2v_models\\w2v_3.2.0.mdl -> build\\lib.win-amd64-3.9\\gensim\\test\\test_data\\old_w2v_models\n",
      "    copying gensim\\test\\test_data\\old_w2v_models\\w2v_3.3.0.mdl -> build\\lib.win-amd64-3.9\\gensim\\test\\test_data\\old_w2v_models\n",
      "    copying gensim\\test\\test_data\\old_w2v_models\\w2v_3.4.0.mdl -> build\\lib.win-amd64-3.9\\gensim\\test\\test_data\\old_w2v_models\n",
      "    running build_ext\n",
      "    building 'gensim.models.word2vec_inner' extension\n",
      "    error: Microsoft Visual C++ 14.0 or greater is required. Get it with \"Microsoft C++ Build Tools\": https://visualstudio.microsoft.com/visual-cpp-build-tools/\n",
      "    ----------------------------------------\n",
      "ERROR: Command errored out with exit status 1: 'C:\\Users\\HP Z2\\anaconda3\\python.exe' -u -c 'import io, os, sys, setuptools, tokenize; sys.argv[0] = '\"'\"'C:\\\\Users\\\\HP Z2\\\\AppData\\\\Local\\\\Temp\\\\pip-install-t7caktgk\\\\gensim_fd059d79adbf4afeb8eef02e8a11366b\\\\setup.py'\"'\"'; __file__='\"'\"'C:\\\\Users\\\\HP Z2\\\\AppData\\\\Local\\\\Temp\\\\pip-install-t7caktgk\\\\gensim_fd059d79adbf4afeb8eef02e8a11366b\\\\setup.py'\"'\"';f = getattr(tokenize, '\"'\"'open'\"'\"', open)(__file__) if os.path.exists(__file__) else io.StringIO('\"'\"'from setuptools import setup; setup()'\"'\"');code = f.read().replace('\"'\"'\\r\\n'\"'\"', '\"'\"'\\n'\"'\"');f.close();exec(compile(code, __file__, '\"'\"'exec'\"'\"'))' install --record 'C:\\Users\\HP Z2\\AppData\\Local\\Temp\\pip-record-ec0l0iwo\\install-record.txt' --single-version-externally-managed --compile --install-headers 'C:\\Users\\HP Z2\\anaconda3\\Include\\gensim' Check the logs for full command output.\n"
     ]
    }
   ],
   "source": [
    "pip install gensim==3.8.3"
   ]
  },
  {
   "cell_type": "code",
   "execution_count": 23,
   "metadata": {},
   "outputs": [],
   "source": [
    "filename = 'data/gensim.pickle'\n",
    "with open(filename, 'rb') as file:\n",
    "    gensim_model = pickle.load(file)"
   ]
  },
  {
   "cell_type": "code",
   "execution_count": 4,
   "metadata": {},
   "outputs": [
    {
     "name": "stdout",
     "output_type": "stream",
     "text": [
      "Requirement already satisfied: gensim in c:\\users\\hp z2\\anaconda3\\lib\\site-packages (4.3.0)\n",
      "Requirement already satisfied: numpy>=1.18.5 in c:\\users\\hp z2\\anaconda3\\lib\\site-packages (from gensim) (1.20.3)\n",
      "Requirement already satisfied: scipy>=1.7.0 in c:\\users\\hp z2\\anaconda3\\lib\\site-packages (from gensim) (1.7.1)\n",
      "Requirement already satisfied: smart-open>=1.8.1 in c:\\users\\hp z2\\anaconda3\\lib\\site-packages (from gensim) (6.3.0)\n",
      "Requirement already satisfied: Cython==0.29.32 in c:\\users\\hp z2\\anaconda3\\lib\\site-packages (from gensim) (0.29.32)\n",
      "Requirement already satisfied: FuzzyTM>=0.4.0 in c:\\users\\hp z2\\anaconda3\\lib\\site-packages (from gensim) (2.0.5)\n",
      "Requirement already satisfied: pyfume in c:\\users\\hp z2\\anaconda3\\lib\\site-packages (from FuzzyTM>=0.4.0->gensim) (0.2.25)\n",
      "Requirement already satisfied: pandas in c:\\users\\hp z2\\anaconda3\\lib\\site-packages (from FuzzyTM>=0.4.0->gensim) (1.3.4)\n",
      "Requirement already satisfied: pytz>=2017.3 in c:\\users\\hp z2\\anaconda3\\lib\\site-packages (from pandas->FuzzyTM>=0.4.0->gensim) (2021.3)\n",
      "Requirement already satisfied: python-dateutil>=2.7.3 in c:\\users\\hp z2\\anaconda3\\lib\\site-packages (from pandas->FuzzyTM>=0.4.0->gensim) (2.8.2)\n",
      "Requirement already satisfied: six>=1.5 in c:\\users\\hp z2\\anaconda3\\lib\\site-packages (from python-dateutil>=2.7.3->pandas->FuzzyTM>=0.4.0->gensim) (1.16.0)\n",
      "Requirement already satisfied: simpful in c:\\users\\hp z2\\anaconda3\\lib\\site-packages (from pyfume->FuzzyTM>=0.4.0->gensim) (2.9.0)\n",
      "Requirement already satisfied: fst-pso in c:\\users\\hp z2\\anaconda3\\lib\\site-packages (from pyfume->FuzzyTM>=0.4.0->gensim) (1.8.1)\n",
      "Requirement already satisfied: miniful in c:\\users\\hp z2\\anaconda3\\lib\\site-packages (from fst-pso->pyfume->FuzzyTM>=0.4.0->gensim) (0.0.6)\n",
      "Requirement already satisfied: requests in c:\\users\\hp z2\\anaconda3\\lib\\site-packages (from simpful->pyfume->FuzzyTM>=0.4.0->gensim) (2.26.0)\n",
      "Requirement already satisfied: idna<4,>=2.5 in c:\\users\\hp z2\\anaconda3\\lib\\site-packages (from requests->simpful->pyfume->FuzzyTM>=0.4.0->gensim) (3.2)\n",
      "Requirement already satisfied: certifi>=2017.4.17 in c:\\users\\hp z2\\anaconda3\\lib\\site-packages (from requests->simpful->pyfume->FuzzyTM>=0.4.0->gensim) (2021.10.8)\n",
      "Requirement already satisfied: urllib3<1.27,>=1.21.1 in c:\\users\\hp z2\\anaconda3\\lib\\site-packages (from requests->simpful->pyfume->FuzzyTM>=0.4.0->gensim) (1.26.7)\n",
      "Requirement already satisfied: charset-normalizer~=2.0.0 in c:\\users\\hp z2\\anaconda3\\lib\\site-packages (from requests->simpful->pyfume->FuzzyTM>=0.4.0->gensim) (2.0.4)\n"
     ]
    }
   ],
   "source": [
    "!pip install gensim"
   ]
  },
  {
   "cell_type": "code",
   "execution_count": 3,
   "metadata": {},
   "outputs": [
    {
     "ename": "NameError",
     "evalue": "name 'pickle' is not defined",
     "output_type": "error",
     "traceback": [
      "\u001b[1;31m---------------------------------------------------------------------------\u001b[0m",
      "\u001b[1;31mNameError\u001b[0m                                 Traceback (most recent call last)",
      "\u001b[1;32mC:\\Users\\HPZ2~1\\AppData\\Local\\Temp/ipykernel_7016/575042339.py\u001b[0m in \u001b[0;36m<module>\u001b[1;34m\u001b[0m\n\u001b[0;32m      1\u001b[0m \u001b[0mfilename\u001b[0m \u001b[1;33m=\u001b[0m \u001b[1;34m'data/gensim.pickle'\u001b[0m\u001b[1;33m\u001b[0m\u001b[1;33m\u001b[0m\u001b[0m\n\u001b[0;32m      2\u001b[0m \u001b[1;32mwith\u001b[0m \u001b[0mopen\u001b[0m\u001b[1;33m(\u001b[0m\u001b[0mfilename\u001b[0m\u001b[1;33m,\u001b[0m \u001b[1;34m'rb'\u001b[0m\u001b[1;33m)\u001b[0m \u001b[1;32mas\u001b[0m \u001b[0mfile\u001b[0m\u001b[1;33m:\u001b[0m\u001b[1;33m\u001b[0m\u001b[1;33m\u001b[0m\u001b[0m\n\u001b[1;32m----> 3\u001b[1;33m     \u001b[0mgensim_model\u001b[0m \u001b[1;33m=\u001b[0m \u001b[0mpickle\u001b[0m\u001b[1;33m.\u001b[0m\u001b[0mload\u001b[0m\u001b[1;33m(\u001b[0m\u001b[0mfile\u001b[0m\u001b[1;33m)\u001b[0m\u001b[1;33m\u001b[0m\u001b[1;33m\u001b[0m\u001b[0m\n\u001b[0m",
      "\u001b[1;31mNameError\u001b[0m: name 'pickle' is not defined"
     ]
    }
   ],
   "source": [
    "filename = 'data/gensim.pickle'\n",
    "with open(filename, 'rb') as file:\n",
    "    gensim_model = pickle.load(file)"
   ]
  },
  {
   "cell_type": "code",
   "execution_count": 24,
   "metadata": {
    "id": "OkxY0ibzyLb_"
   },
   "outputs": [
    {
     "data": {
      "text/plain": [
       "<gensim.models.keyedvectors.KeyedVectors at 0x206ed412040>"
      ]
     },
     "execution_count": 24,
     "metadata": {},
     "output_type": "execute_result"
    }
   ],
   "source": [
    "gensim_model"
   ]
  },
  {
   "cell_type": "code",
   "execution_count": 25,
   "metadata": {},
   "outputs": [
    {
     "ename": "AttributeError",
     "evalue": "'KeyedVectors' object has no attribute 'norms'",
     "output_type": "error",
     "traceback": [
      "\u001b[1;31m---------------------------------------------------------------------------\u001b[0m",
      "\u001b[1;31mAttributeError\u001b[0m                            Traceback (most recent call last)",
      "\u001b[1;32mC:\\Users\\HPZ2~1\\AppData\\Local\\Temp/ipykernel_15176/3848351581.py\u001b[0m in \u001b[0;36m<module>\u001b[1;34m\u001b[0m\n\u001b[1;32m----> 1\u001b[1;33m \u001b[0mgensim_model\u001b[0m\u001b[1;33m.\u001b[0m\u001b[0mmost_similar\u001b[0m\u001b[1;33m(\u001b[0m\u001b[1;34m'sun'\u001b[0m\u001b[1;33m)\u001b[0m\u001b[1;33m\u001b[0m\u001b[1;33m\u001b[0m\u001b[0m\n\u001b[0m",
      "\u001b[1;32m~\\anaconda3\\lib\\site-packages\\gensim\\models\\keyedvectors.py\u001b[0m in \u001b[0;36mmost_similar\u001b[1;34m(self, positive, negative, topn, clip_start, clip_end, restrict_vocab, indexer)\u001b[0m\n\u001b[0;32m    821\u001b[0m         \u001b[0mnegative\u001b[0m \u001b[1;33m=\u001b[0m \u001b[0m_ensure_list\u001b[0m\u001b[1;33m(\u001b[0m\u001b[0mnegative\u001b[0m\u001b[1;33m)\u001b[0m\u001b[1;33m\u001b[0m\u001b[1;33m\u001b[0m\u001b[0m\n\u001b[0;32m    822\u001b[0m \u001b[1;33m\u001b[0m\u001b[0m\n\u001b[1;32m--> 823\u001b[1;33m         \u001b[0mself\u001b[0m\u001b[1;33m.\u001b[0m\u001b[0mfill_norms\u001b[0m\u001b[1;33m(\u001b[0m\u001b[1;33m)\u001b[0m\u001b[1;33m\u001b[0m\u001b[1;33m\u001b[0m\u001b[0m\n\u001b[0m\u001b[0;32m    824\u001b[0m         \u001b[0mclip_end\u001b[0m \u001b[1;33m=\u001b[0m \u001b[0mclip_end\u001b[0m \u001b[1;32mor\u001b[0m \u001b[0mlen\u001b[0m\u001b[1;33m(\u001b[0m\u001b[0mself\u001b[0m\u001b[1;33m.\u001b[0m\u001b[0mvectors\u001b[0m\u001b[1;33m)\u001b[0m\u001b[1;33m\u001b[0m\u001b[1;33m\u001b[0m\u001b[0m\n\u001b[0;32m    825\u001b[0m \u001b[1;33m\u001b[0m\u001b[0m\n",
      "\u001b[1;32m~\\anaconda3\\lib\\site-packages\\gensim\\models\\keyedvectors.py\u001b[0m in \u001b[0;36mfill_norms\u001b[1;34m(self, force)\u001b[0m\n\u001b[0;32m    705\u001b[0m \u001b[1;33m\u001b[0m\u001b[0m\n\u001b[0;32m    706\u001b[0m         \"\"\"\n\u001b[1;32m--> 707\u001b[1;33m         \u001b[1;32mif\u001b[0m \u001b[0mself\u001b[0m\u001b[1;33m.\u001b[0m\u001b[0mnorms\u001b[0m \u001b[1;32mis\u001b[0m \u001b[1;32mNone\u001b[0m \u001b[1;32mor\u001b[0m \u001b[0mforce\u001b[0m\u001b[1;33m:\u001b[0m\u001b[1;33m\u001b[0m\u001b[1;33m\u001b[0m\u001b[0m\n\u001b[0m\u001b[0;32m    708\u001b[0m             \u001b[0mself\u001b[0m\u001b[1;33m.\u001b[0m\u001b[0mnorms\u001b[0m \u001b[1;33m=\u001b[0m \u001b[0mnp\u001b[0m\u001b[1;33m.\u001b[0m\u001b[0mlinalg\u001b[0m\u001b[1;33m.\u001b[0m\u001b[0mnorm\u001b[0m\u001b[1;33m(\u001b[0m\u001b[0mself\u001b[0m\u001b[1;33m.\u001b[0m\u001b[0mvectors\u001b[0m\u001b[1;33m,\u001b[0m \u001b[0maxis\u001b[0m\u001b[1;33m=\u001b[0m\u001b[1;36m1\u001b[0m\u001b[1;33m)\u001b[0m\u001b[1;33m\u001b[0m\u001b[1;33m\u001b[0m\u001b[0m\n\u001b[0;32m    709\u001b[0m \u001b[1;33m\u001b[0m\u001b[0m\n",
      "\u001b[1;31mAttributeError\u001b[0m: 'KeyedVectors' object has no attribute 'norms'"
     ]
    }
   ],
   "source": [
    "gensim_model.most_similar('sun')"
   ]
  },
  {
   "cell_type": "code",
   "execution_count": null,
   "metadata": {
    "id": "eOaxJAydN92k"
   },
   "outputs": [],
   "source": [
    "# Решение Задача 1\n",
    "import pickle\n",
    "\n",
    "dict_var = {\"first\": \"a\", \"second\": 2, \"third\": [1, 2, 3]}"
   ]
  },
  {
   "cell_type": "code",
   "execution_count": null,
   "metadata": {
    "id": "R0tCklfRVgCD"
   },
   "outputs": [],
   "source": [
    "filename = \"test_pickle.pickle\"\n",
    "\n",
    "with open(filename, 'wb') as file:\n",
    "    pickle.dump(dict_var, file)"
   ]
  },
  {
   "cell_type": "code",
   "execution_count": null,
   "metadata": {
    "colab": {
     "base_uri": "https://localhost:8080/"
    },
    "id": "MOtDjAoaWQd1",
    "outputId": "78652bc7-d980-4343-88bc-b74330e74c06"
   },
   "outputs": [
    {
     "name": "stdout",
     "output_type": "stream",
     "text": [
      "{'first': 'a', 'second': 2, 'third': [1, 2, 3]}\n"
     ]
    }
   ],
   "source": [
    "with open(filename, 'rb') as file:\n",
    "    print(pickle.load(file))"
   ]
  },
  {
   "cell_type": "code",
   "execution_count": null,
   "metadata": {
    "colab": {
     "base_uri": "https://localhost:8080/"
    },
    "id": "Lc7jmHEGTDYM",
    "outputId": "c105f368-62e7-4061-c939-173d3745209f"
   },
   "outputs": [
    {
     "name": "stdout",
     "output_type": "stream",
     "text": [
      "b'\\x80\\x03}q\\x00(X\\x05\\x00\\x00\\x00firstq\\x01X\\x01\\x00\\x00\\x00aq\\x02X\\x06\\x00\\x00\\x00secondq\\x03K\\x02X\\x05\\x00\\x00\\x00thirdq\\x04]q\\x05(K\\x01K\\x02K\\x03eu.'\n"
     ]
    }
   ],
   "source": [
    "print(pickle.dumps(dict_var))"
   ]
  },
  {
   "cell_type": "code",
   "execution_count": null,
   "metadata": {
    "id": "4Uce0H2TfIrC"
   },
   "outputs": [],
   "source": []
  },
  {
   "cell_type": "code",
   "execution_count": 90,
   "metadata": {
    "id": "KKV-VOw4xHEj"
   },
   "outputs": [],
   "source": [
    "# Решение Задача 2\n",
    "with open('gensim.pickle', 'rb') as file:\n",
    "    gensim_model = pickle.load(file)"
   ]
  },
  {
   "cell_type": "code",
   "execution_count": 91,
   "metadata": {
    "colab": {
     "base_uri": "https://localhost:8080/"
    },
    "id": "0qnDETu0xOQO",
    "outputId": "dee08f1c-791d-4c88-ee46-5b808e26c136"
   },
   "outputs": [
    {
     "data": {
      "text/plain": [
       "<gensim.models.keyedvectors.KeyedVectors at 0x1ffb3c776a0>"
      ]
     },
     "execution_count": 91,
     "metadata": {},
     "output_type": "execute_result"
    }
   ],
   "source": [
    "gensim_model"
   ]
  },
  {
   "cell_type": "code",
   "execution_count": null,
   "metadata": {
    "colab": {
     "base_uri": "https://localhost:8080/"
    },
    "id": "HSnzvHcwyHoT",
    "outputId": "eb9b9ba4-4b89-4f55-bb6d-ebcf0868486e"
   },
   "outputs": [
    {
     "data": {
      "text/plain": [
       "[('sky', 0.6636756658554077),\n",
       " ('moon', 0.6543077826499939),\n",
       " ('bright', 0.6353483200073242),\n",
       " ('cloud', 0.6326698660850525),\n",
       " ('blue', 0.626328706741333),\n",
       " ('hung', 0.6210830807685852),\n",
       " ('light', 0.6164969801902771),\n",
       " ('earth', 0.6038159728050232),\n",
       " ('hang', 0.6001001000404358),\n",
       " ('hot', 0.5976690649986267)]"
      ]
     },
     "execution_count": 8,
     "metadata": {},
     "output_type": "execute_result"
    }
   ],
   "source": [
    "gensim_model.most_similar('sun')"
   ]
  },
  {
   "cell_type": "code",
   "execution_count": 2,
   "metadata": {},
   "outputs": [
    {
     "name": "stdout",
     "output_type": "stream",
     "text": [
      "Requirement already satisfied: gensim in c:\\users\\hp z2\\anaconda3\\lib\\site-packages (4.3.0)\n",
      "Requirement already satisfied: Cython==0.29.32 in c:\\users\\hp z2\\anaconda3\\lib\\site-packages (from gensim) (0.29.32)\n",
      "Requirement already satisfied: scipy>=1.7.0 in c:\\users\\hp z2\\anaconda3\\lib\\site-packages (from gensim) (1.7.1)\n",
      "Requirement already satisfied: smart-open>=1.8.1 in c:\\users\\hp z2\\anaconda3\\lib\\site-packages (from gensim) (6.3.0)\n",
      "Requirement already satisfied: numpy>=1.18.5 in c:\\users\\hp z2\\anaconda3\\lib\\site-packages (from gensim) (1.20.3)\n",
      "Requirement already satisfied: FuzzyTM>=0.4.0 in c:\\users\\hp z2\\anaconda3\\lib\\site-packages (from gensim) (2.0.5)\n",
      "Requirement already satisfied: pandas in c:\\users\\hp z2\\anaconda3\\lib\\site-packages (from FuzzyTM>=0.4.0->gensim) (1.3.4)\n",
      "Requirement already satisfied: pyfume in c:\\users\\hp z2\\anaconda3\\lib\\site-packages (from FuzzyTM>=0.4.0->gensim) (0.2.25)\n",
      "Requirement already satisfied: pytz>=2017.3 in c:\\users\\hp z2\\anaconda3\\lib\\site-packages (from pandas->FuzzyTM>=0.4.0->gensim) (2021.3)\n",
      "Requirement already satisfied: python-dateutil>=2.7.3 in c:\\users\\hp z2\\anaconda3\\lib\\site-packages (from pandas->FuzzyTM>=0.4.0->gensim) (2.8.2)\n",
      "Requirement already satisfied: six>=1.5 in c:\\users\\hp z2\\anaconda3\\lib\\site-packages (from python-dateutil>=2.7.3->pandas->FuzzyTM>=0.4.0->gensim) (1.16.0)\n",
      "Requirement already satisfied: simpful in c:\\users\\hp z2\\anaconda3\\lib\\site-packages (from pyfume->FuzzyTM>=0.4.0->gensim) (2.9.0)\n",
      "Requirement already satisfied: fst-pso in c:\\users\\hp z2\\anaconda3\\lib\\site-packages (from pyfume->FuzzyTM>=0.4.0->gensim) (1.8.1)\n",
      "Requirement already satisfied: miniful in c:\\users\\hp z2\\anaconda3\\lib\\site-packages (from fst-pso->pyfume->FuzzyTM>=0.4.0->gensim) (0.0.6)\n",
      "Requirement already satisfied: requests in c:\\users\\hp z2\\anaconda3\\lib\\site-packages (from simpful->pyfume->FuzzyTM>=0.4.0->gensim) (2.26.0)\n",
      "Requirement already satisfied: charset-normalizer~=2.0.0 in c:\\users\\hp z2\\anaconda3\\lib\\site-packages (from requests->simpful->pyfume->FuzzyTM>=0.4.0->gensim) (2.0.4)\n",
      "Requirement already satisfied: idna<4,>=2.5 in c:\\users\\hp z2\\anaconda3\\lib\\site-packages (from requests->simpful->pyfume->FuzzyTM>=0.4.0->gensim) (3.2)\n",
      "Requirement already satisfied: urllib3<1.27,>=1.21.1 in c:\\users\\hp z2\\anaconda3\\lib\\site-packages (from requests->simpful->pyfume->FuzzyTM>=0.4.0->gensim) (1.26.7)\n",
      "Requirement already satisfied: certifi>=2017.4.17 in c:\\users\\hp z2\\anaconda3\\lib\\site-packages (from requests->simpful->pyfume->FuzzyTM>=0.4.0->gensim) (2021.10.8)\n",
      "Note: you may need to restart the kernel to use updated packages.\n"
     ]
    }
   ],
   "source": [
    "pip install gensim"
   ]
  },
  {
   "cell_type": "code",
   "execution_count": null,
   "metadata": {},
   "outputs": [],
   "source": []
  }
 ],
 "metadata": {
  "colab": {
   "collapsed_sections": [],
   "name": "Урок 4. Практика.ipynb",
   "provenance": []
  },
  "kernelspec": {
   "display_name": "Python 3 (ipykernel)",
   "language": "python",
   "name": "python3"
  },
  "language_info": {
   "codemirror_mode": {
    "name": "ipython",
    "version": 3
   },
   "file_extension": ".py",
   "mimetype": "text/x-python",
   "name": "python",
   "nbconvert_exporter": "python",
   "pygments_lexer": "ipython3",
   "version": "3.9.7"
  }
 },
 "nbformat": 4,
 "nbformat_minor": 4
}
