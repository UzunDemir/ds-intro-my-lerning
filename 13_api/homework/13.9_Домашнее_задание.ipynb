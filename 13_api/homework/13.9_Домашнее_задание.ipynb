{
 "cells": [
  {
   "cell_type": "markdown",
   "metadata": {
    "id": "zUqy3u0mOqRA"
   },
   "source": [
    "# Получение данных с помощью API. Домашнее задание\n",
    "\n",
    "В домашнем задании есть обязательные и дополнительные задачи.\n",
    "\n",
    "*Обязательные задачи* нужно сделать, чтобы проверить, что вы действительно усвоили материал модуля. Они обязательны к загрузке на проверку преподавателю.\n",
    "\n",
    "*Дополнительные задачи* для тех, кто чувствует, что нужно ещё немного потренироваться работе с Git. Вы также можете загрузить их на проверку преподавателю и получить по ним обратную связь.\n",
    "\n",
    "Удачи!"
   ]
  },
  {
   "cell_type": "markdown",
   "metadata": {
    "id": "5b2c9q-uRFgE"
   },
   "source": [
    "\n",
    "\n",
    "---\n",
    "\n",
    "\n",
    "\n",
    "---\n",
    "\n"
   ]
  },
  {
   "cell_type": "markdown",
   "metadata": {
    "id": "9YruChoFPlTH"
   },
   "source": [
    "**Цели домашнего задания:**\n",
    "1. Научиться выполнять HTTP-запросы с использованием библиотеки Requests.\n",
    "2. Научиться сохранять данные из датафрейма в файлы xlsx и csv.\n",
    "3. Научиться работать c Git и сохранять результаты своей работы в GitLab.\n"
   ]
  },
  {
   "cell_type": "markdown",
   "metadata": {
    "id": "s0ln3tQ_QZK4"
   },
   "source": [
    "**Что входит в домашнее задание:**\n",
    "1. *Обязательные задачи*:\n",
    "\n",
    "- две задачи на работу с Git,\n",
    "- две задачи на работу с бибилотекой Requests,\n",
    "- одна задача на сохранение данных из датафрейма в файлы.\n",
    "\n",
    "2. *Дополнительные задачи*:\n",
    "\n",
    "- две задачи на закрепление работы с запросами,\n",
    "- одна задача на закрепление работы с Git.\n"
   ]
  },
  {
   "cell_type": "markdown",
   "metadata": {
    "id": "QLCrcUsFLTVr"
   },
   "source": [
    "**Критерии оценки:**\n",
    "- программа выдаёт верный ответ на заданном наборе данных;\n",
    "- код читабелен: переменным даны осмысленные названия, отступы и правила расстановки пробелов соблюдены;\n",
    "- репозиторий проекта содержит осмысленные коммиты, содержащие конкретные реализованные фичи, ветки названы согласно назначению, лишние файлы не хранятся в репозитории;\n",
    "- в репозитории проекта соблюдена иерархия директорий согласно списку модулей и содержащихся в них уроках;\n",
    "- репозиторий проекта содержит файлы с данными, полученными в результате выполнения домашнего задания.\n",
    "\n"
   ]
  },
  {
   "cell_type": "markdown",
   "metadata": {
    "id": "UKH0UuMA7pyF"
   },
   "source": [
    "**Как отправить задание на проверку**\n",
    "\n",
    "Сдайте домашние работы этого модуля через систему контроля версий Git сервиса Skillbox Gitlab. После загрузки работы на проверку необходимо сообщить об этом в LMS своему проверяющему преподавателю."
   ]
  },
  {
   "cell_type": "markdown",
   "metadata": {
    "id": "hYa6ZRVRRHbE"
   },
   "source": [
    "\n",
    "\n",
    "---\n",
    "\n",
    "\n",
    "---\n",
    "\n"
   ]
  },
  {
   "cell_type": "markdown",
   "metadata": {
    "id": "UgcrtNvYQ_01"
   },
   "source": [
    "**Обязательные задачи**"
   ]
  },
  {
   "cell_type": "markdown",
   "metadata": {
    "id": "p0t9GY6BOjpL"
   },
   "source": [
    "Вы продолжите работать с [iTunes Search API](https://affiliate.itunes.apple.com/resources/documentation/itunes-store-web-service-search-api/), чтобы познакомиться поближе с [Луи Армстронгом](https://ru.wikipedia.org/wiki/%D0%90%D1%80%D0%BC%D1%81%D1%82%D1%80%D0%BE%D0%BD%D0%B3,_%D0%9B%D1%83%D0%B8). Для этого вам нужно будет изучить документацию к [iTunes Search API](https://affiliate.itunes.apple.com/resources/documentation/itunes-store-web-service-search-api/) и выполнить задания.\n",
    "\n",
    "Репозиторий проекта располагается по адресу https://gitlab.skillbox.ru/LOGIN/ds-intro, где LOGIN — ваш логин в системе."
   ]
  },
  {
   "cell_type": "code",
   "execution_count": 2,
   "metadata": {
    "id": "A_cq5_c0QVlL"
   },
   "outputs": [],
   "source": [
    "# Импортируйте необходимые библиотеки\n",
    "import requests\n",
    "import pandas as pd"
   ]
  },
  {
   "cell_type": "markdown",
   "metadata": {
    "id": "683m2WjxQVlN"
   },
   "source": [
    "***Задача 1***\n",
    "\n",
    "1. С помощью `git clone` по SSH скопируйте на свой компьютер репозиторий `ds-intro.git`, если это не было сделано ранее.\n",
    "Если репозиторий уже скачан, обновите его состояние до актуальной версии с помощью `git pull`.\n",
    "\n",
    "2. Перейдите в директорию `13_api/homework` и откройте ноутбук для выполнения домашнего задания.\n",
    "\n",
    "3. Создайте ветку `homework_13` с помощью `git branch` и перейдите в неё. Далее работа должна продолжаться в новой ветке.\n",
    "\n",
    "**_Советы и рекомендации_**\n",
    "\n",
    "В дальнейшем, когда вы будете создавать новые ветки и работать с Git в этом и других модулях, придерживайтесь шаблона наименования веток:\n",
    "- `homework_module` для домашнего задания к модулю с номером `module`;\n",
    "- `practice_module` для практических заданий к модулю с номером `module`."
   ]
  },
  {
   "cell_type": "markdown",
   "metadata": {
    "id": "kr8Q_RUzOjpM"
   },
   "source": [
    "**Задача 2**\n",
    "\n",
    "1. Выполните GET-запрос https://itunes.apple.com/lookup?id=518462 и распечатайте ответ в формате json."
   ]
  },
  {
   "cell_type": "code",
   "execution_count": 16,
   "metadata": {
    "ExecuteTime": {
     "end_time": "2021-10-24T10:55:47.101496Z",
     "start_time": "2021-10-24T10:55:47.098939Z"
    },
    "id": "hLC8F1acOjpN"
   },
   "outputs": [
    {
     "data": {
      "text/plain": [
       "{'resultCount': 1,\n",
       " 'results': [{'wrapperType': 'artist',\n",
       "   'artistType': 'Artist',\n",
       "   'artistName': 'Louis Armstrong',\n",
       "   'artistLinkUrl': 'https://music.apple.com/us/artist/louis-armstrong/518462?uo=4',\n",
       "   'artistId': 518462,\n",
       "   'amgArtistId': 52456,\n",
       "   'primaryGenreName': 'Jazz',\n",
       "   'primaryGenreId': 11}]}"
      ]
     },
     "execution_count": 16,
     "metadata": {},
     "output_type": "execute_result"
    }
   ],
   "source": [
    "# Ваш код здесь\n",
    "url = ' https://itunes.apple.com/lookup'\n",
    "params = {'id': '518462'}    \n",
    "response = requests.get(url, params=params)\n",
    "response_json = response.json()\n",
    "response_json"
   ]
  },
  {
   "cell_type": "markdown",
   "metadata": {
    "id": "J1YHZdzPQVlR"
   },
   "source": [
    "2. Распечатайте код ответа."
   ]
  },
  {
   "cell_type": "code",
   "execution_count": 4,
   "metadata": {
    "id": "Eto3BcM2QVlR"
   },
   "outputs": [
    {
     "data": {
      "text/plain": [
       "200"
      ]
     },
     "execution_count": 4,
     "metadata": {},
     "output_type": "execute_result"
    }
   ],
   "source": [
    "# Ваш код здесь\n",
    "response.status_code"
   ]
  },
  {
   "cell_type": "code",
   "execution_count": 5,
   "metadata": {},
   "outputs": [
    {
     "data": {
      "text/plain": [
       "<Response [200]>"
      ]
     },
     "execution_count": 5,
     "metadata": {},
     "output_type": "execute_result"
    }
   ],
   "source": [
    "response"
   ]
  },
  {
   "cell_type": "markdown",
   "metadata": {
    "id": "LcpYxnZsQVlT"
   },
   "source": [
    "3. Распечатайте строку запроса.\n",
    "\n",
    "    _Подсказка:_ строку запроса можно распечатать с помощью метода `url`."
   ]
  },
  {
   "cell_type": "code",
   "execution_count": 6,
   "metadata": {
    "ExecuteTime": {
     "end_time": "2021-11-15T22:58:07.910280Z",
     "start_time": "2021-11-15T22:58:07.907016Z"
    },
    "id": "HEivops6QVlT"
   },
   "outputs": [
    {
     "data": {
      "text/plain": [
       "'https://itunes.apple.com/lookup?id=518462'"
      ]
     },
     "execution_count": 6,
     "metadata": {},
     "output_type": "execute_result"
    }
   ],
   "source": [
    "# Ваш код здесь\n",
    "response.url"
   ]
  },
  {
   "cell_type": "markdown",
   "metadata": {
    "id": "QxZUUuH_QVlU"
   },
   "source": [
    "4. Сохраните в переменную `amg_artist_id` значение `amgArtistId` полученного ответа и распечатайте его."
   ]
  },
  {
   "cell_type": "code",
   "execution_count": 13,
   "metadata": {
    "ExecuteTime": {
     "end_time": "2021-11-15T23:14:37.737599Z",
     "start_time": "2021-11-15T23:14:37.734887Z"
    },
    "id": "jH9rOE3UQVlU"
   },
   "outputs": [
    {
     "data": {
      "text/plain": [
       "52456.0"
      ]
     },
     "execution_count": 13,
     "metadata": {},
     "output_type": "execute_result"
    }
   ],
   "source": [
    "# Ваш код здесь\n",
    "df = pd.DataFrame(response_json['results'])\n",
    "amg_artist_id = df.loc[0, 'amgArtistId']\n",
    "amg_artist_id"
   ]
  },
  {
   "cell_type": "markdown",
   "metadata": {
    "id": "cViBXi62OjpP"
   },
   "source": [
    "***Задача 3***\n",
    "\n",
    "1. Выполните POST-запрос к к ресурсу `lookup`, чтобы найти первые 100 записей, содержащих альбомы для артиста с `amgArtistId`, равного  полученному ранее `amg_artist_id`. Укажите время ожидания запроса 60 секунд и распечатайте ответ в формате json.\n"
   ]
  },
  {
   "cell_type": "code",
   "execution_count": 32,
   "metadata": {
    "ExecuteTime": {
     "end_time": "2021-10-24T10:41:11.069411Z",
     "start_time": "2021-10-24T10:41:11.066371Z"
    },
    "id": "Tx2VYklzOjpQ"
   },
   "outputs": [
    {
     "data": {
      "text/html": [
       "<div>\n",
       "<style scoped>\n",
       "    .dataframe tbody tr th:only-of-type {\n",
       "        vertical-align: middle;\n",
       "    }\n",
       "\n",
       "    .dataframe tbody tr th {\n",
       "        vertical-align: top;\n",
       "    }\n",
       "\n",
       "    .dataframe thead th {\n",
       "        text-align: right;\n",
       "    }\n",
       "</style>\n",
       "<table border=\"1\" class=\"dataframe\">\n",
       "  <thead>\n",
       "    <tr style=\"text-align: right;\">\n",
       "      <th></th>\n",
       "      <th>wrapperType</th>\n",
       "      <th>artistType</th>\n",
       "      <th>artistName</th>\n",
       "      <th>artistLinkUrl</th>\n",
       "      <th>artistId</th>\n",
       "      <th>amgArtistId</th>\n",
       "      <th>primaryGenreName</th>\n",
       "      <th>primaryGenreId</th>\n",
       "      <th>collectionType</th>\n",
       "      <th>collectionId</th>\n",
       "      <th>...</th>\n",
       "      <th>collectionViewUrl</th>\n",
       "      <th>artworkUrl60</th>\n",
       "      <th>artworkUrl100</th>\n",
       "      <th>collectionPrice</th>\n",
       "      <th>collectionExplicitness</th>\n",
       "      <th>trackCount</th>\n",
       "      <th>copyright</th>\n",
       "      <th>country</th>\n",
       "      <th>currency</th>\n",
       "      <th>releaseDate</th>\n",
       "    </tr>\n",
       "  </thead>\n",
       "  <tbody>\n",
       "    <tr>\n",
       "      <th>0</th>\n",
       "      <td>artist</td>\n",
       "      <td>Artist</td>\n",
       "      <td>Louis Armstrong</td>\n",
       "      <td>https://music.apple.com/us/artist/louis-armstr...</td>\n",
       "      <td>518462</td>\n",
       "      <td>52456.0</td>\n",
       "      <td>Jazz</td>\n",
       "      <td>11.0</td>\n",
       "      <td>NaN</td>\n",
       "      <td>NaN</td>\n",
       "      <td>...</td>\n",
       "      <td>NaN</td>\n",
       "      <td>NaN</td>\n",
       "      <td>NaN</td>\n",
       "      <td>NaN</td>\n",
       "      <td>NaN</td>\n",
       "      <td>NaN</td>\n",
       "      <td>NaN</td>\n",
       "      <td>NaN</td>\n",
       "      <td>NaN</td>\n",
       "      <td>NaN</td>\n",
       "    </tr>\n",
       "    <tr>\n",
       "      <th>1</th>\n",
       "      <td>collection</td>\n",
       "      <td>NaN</td>\n",
       "      <td>Louis Armstrong</td>\n",
       "      <td>NaN</td>\n",
       "      <td>518462</td>\n",
       "      <td>52456.0</td>\n",
       "      <td>Pop</td>\n",
       "      <td>NaN</td>\n",
       "      <td>Album</td>\n",
       "      <td>1.434915e+09</td>\n",
       "      <td>...</td>\n",
       "      <td>https://music.apple.com/us/album/all-time-grea...</td>\n",
       "      <td>https://is3-ssl.mzstatic.com/image/thumb/Music...</td>\n",
       "      <td>https://is3-ssl.mzstatic.com/image/thumb/Music...</td>\n",
       "      <td>9.99</td>\n",
       "      <td>notExplicit</td>\n",
       "      <td>18.0</td>\n",
       "      <td>A Geffen Records Release; This Compilation ℗ 1...</td>\n",
       "      <td>USA</td>\n",
       "      <td>USD</td>\n",
       "      <td>1994-01-01T08:00:00Z</td>\n",
       "    </tr>\n",
       "    <tr>\n",
       "      <th>2</th>\n",
       "      <td>collection</td>\n",
       "      <td>NaN</td>\n",
       "      <td>Ella Fitzgerald &amp; Louis Armstrong</td>\n",
       "      <td>NaN</td>\n",
       "      <td>73568</td>\n",
       "      <td>6503.0</td>\n",
       "      <td>Jazz</td>\n",
       "      <td>NaN</td>\n",
       "      <td>Album</td>\n",
       "      <td>1.431067e+09</td>\n",
       "      <td>...</td>\n",
       "      <td>https://music.apple.com/us/album/the-best-of-e...</td>\n",
       "      <td>https://is5-ssl.mzstatic.com/image/thumb/Music...</td>\n",
       "      <td>https://is5-ssl.mzstatic.com/image/thumb/Music...</td>\n",
       "      <td>9.99</td>\n",
       "      <td>notExplicit</td>\n",
       "      <td>15.0</td>\n",
       "      <td>A Verve Label Group release; This Compilation ...</td>\n",
       "      <td>USA</td>\n",
       "      <td>USD</td>\n",
       "      <td>1997-08-20T07:00:00Z</td>\n",
       "    </tr>\n",
       "    <tr>\n",
       "      <th>3</th>\n",
       "      <td>collection</td>\n",
       "      <td>NaN</td>\n",
       "      <td>Ella Fitzgerald &amp; Louis Armstrong</td>\n",
       "      <td>NaN</td>\n",
       "      <td>73568</td>\n",
       "      <td>6503.0</td>\n",
       "      <td>Jazz</td>\n",
       "      <td>NaN</td>\n",
       "      <td>Album</td>\n",
       "      <td>1.454735e+09</td>\n",
       "      <td>...</td>\n",
       "      <td>https://music.apple.com/us/album/ella-louis-fo...</td>\n",
       "      <td>https://is5-ssl.mzstatic.com/image/thumb/Music...</td>\n",
       "      <td>https://is5-ssl.mzstatic.com/image/thumb/Music...</td>\n",
       "      <td>9.99</td>\n",
       "      <td>notExplicit</td>\n",
       "      <td>11.0</td>\n",
       "      <td>A Verve Label Group Release; This Compilation ...</td>\n",
       "      <td>USA</td>\n",
       "      <td>USD</td>\n",
       "      <td>2005-06-06T07:00:00Z</td>\n",
       "    </tr>\n",
       "    <tr>\n",
       "      <th>4</th>\n",
       "      <td>collection</td>\n",
       "      <td>NaN</td>\n",
       "      <td>Louis Armstrong</td>\n",
       "      <td>NaN</td>\n",
       "      <td>518462</td>\n",
       "      <td>52456.0</td>\n",
       "      <td>Jazz</td>\n",
       "      <td>NaN</td>\n",
       "      <td>Album</td>\n",
       "      <td>1.440787e+09</td>\n",
       "      <td>...</td>\n",
       "      <td>https://music.apple.com/us/album/what-a-wonder...</td>\n",
       "      <td>https://is5-ssl.mzstatic.com/image/thumb/Music...</td>\n",
       "      <td>https://is5-ssl.mzstatic.com/image/thumb/Music...</td>\n",
       "      <td>5.99</td>\n",
       "      <td>notExplicit</td>\n",
       "      <td>11.0</td>\n",
       "      <td>This Compilation ℗ 1968 The Verve Music Group,...</td>\n",
       "      <td>USA</td>\n",
       "      <td>USD</td>\n",
       "      <td>1968-01-01T08:00:00Z</td>\n",
       "    </tr>\n",
       "    <tr>\n",
       "      <th>...</th>\n",
       "      <td>...</td>\n",
       "      <td>...</td>\n",
       "      <td>...</td>\n",
       "      <td>...</td>\n",
       "      <td>...</td>\n",
       "      <td>...</td>\n",
       "      <td>...</td>\n",
       "      <td>...</td>\n",
       "      <td>...</td>\n",
       "      <td>...</td>\n",
       "      <td>...</td>\n",
       "      <td>...</td>\n",
       "      <td>...</td>\n",
       "      <td>...</td>\n",
       "      <td>...</td>\n",
       "      <td>...</td>\n",
       "      <td>...</td>\n",
       "      <td>...</td>\n",
       "      <td>...</td>\n",
       "      <td>...</td>\n",
       "      <td>...</td>\n",
       "    </tr>\n",
       "    <tr>\n",
       "      <th>96</th>\n",
       "      <td>collection</td>\n",
       "      <td>NaN</td>\n",
       "      <td>Louis Armstrong</td>\n",
       "      <td>NaN</td>\n",
       "      <td>518462</td>\n",
       "      <td>52456.0</td>\n",
       "      <td>Jazz</td>\n",
       "      <td>NaN</td>\n",
       "      <td>Album</td>\n",
       "      <td>1.444083e+09</td>\n",
       "      <td>...</td>\n",
       "      <td>https://music.apple.com/us/album/satchmo-in-st...</td>\n",
       "      <td>https://is4-ssl.mzstatic.com/image/thumb/Music...</td>\n",
       "      <td>https://is4-ssl.mzstatic.com/image/thumb/Music...</td>\n",
       "      <td>7.99</td>\n",
       "      <td>notExplicit</td>\n",
       "      <td>16.0</td>\n",
       "      <td>This Compilation ℗ 2001 The Verve Music Group,...</td>\n",
       "      <td>USA</td>\n",
       "      <td>USD</td>\n",
       "      <td>1959-05-14T07:00:00Z</td>\n",
       "    </tr>\n",
       "    <tr>\n",
       "      <th>97</th>\n",
       "      <td>collection</td>\n",
       "      <td>NaN</td>\n",
       "      <td>Louis Armstrong</td>\n",
       "      <td>NaN</td>\n",
       "      <td>518462</td>\n",
       "      <td>52456.0</td>\n",
       "      <td>Jazz</td>\n",
       "      <td>NaN</td>\n",
       "      <td>Album</td>\n",
       "      <td>1.444041e+09</td>\n",
       "      <td>...</td>\n",
       "      <td>https://music.apple.com/us/album/louis-armstro...</td>\n",
       "      <td>https://is3-ssl.mzstatic.com/image/thumb/Music...</td>\n",
       "      <td>https://is3-ssl.mzstatic.com/image/thumb/Music...</td>\n",
       "      <td>7.99</td>\n",
       "      <td>notExplicit</td>\n",
       "      <td>22.0</td>\n",
       "      <td>This Compilation ℗ 1995 UMG Recordings, Inc.</td>\n",
       "      <td>USA</td>\n",
       "      <td>USD</td>\n",
       "      <td>1995-01-01T08:00:00Z</td>\n",
       "    </tr>\n",
       "    <tr>\n",
       "      <th>98</th>\n",
       "      <td>collection</td>\n",
       "      <td>NaN</td>\n",
       "      <td>Louis Armstrong</td>\n",
       "      <td>NaN</td>\n",
       "      <td>518462</td>\n",
       "      <td>52456.0</td>\n",
       "      <td>Jazz</td>\n",
       "      <td>NaN</td>\n",
       "      <td>Album</td>\n",
       "      <td>1.423291e+09</td>\n",
       "      <td>...</td>\n",
       "      <td>https://music.apple.com/us/album/oh-didnt-he-r...</td>\n",
       "      <td>https://is1-ssl.mzstatic.com/image/thumb/Music...</td>\n",
       "      <td>https://is1-ssl.mzstatic.com/image/thumb/Music...</td>\n",
       "      <td>9.99</td>\n",
       "      <td>notExplicit</td>\n",
       "      <td>10.0</td>\n",
       "      <td>A Verve Label Group release; This Compilation ...</td>\n",
       "      <td>USA</td>\n",
       "      <td>USD</td>\n",
       "      <td>1999-10-19T07:00:00Z</td>\n",
       "    </tr>\n",
       "    <tr>\n",
       "      <th>99</th>\n",
       "      <td>collection</td>\n",
       "      <td>NaN</td>\n",
       "      <td>Louis Armstrong &amp; The Louis Armstrong Orchestra</td>\n",
       "      <td>NaN</td>\n",
       "      <td>518462</td>\n",
       "      <td>52456.0</td>\n",
       "      <td>Jazz</td>\n",
       "      <td>NaN</td>\n",
       "      <td>Album</td>\n",
       "      <td>1.903090e+08</td>\n",
       "      <td>...</td>\n",
       "      <td>https://music.apple.com/us/album/the-great-ame...</td>\n",
       "      <td>https://is5-ssl.mzstatic.com/image/thumb/Music...</td>\n",
       "      <td>https://is5-ssl.mzstatic.com/image/thumb/Music...</td>\n",
       "      <td>-1.00</td>\n",
       "      <td>notExplicit</td>\n",
       "      <td>14.0</td>\n",
       "      <td>℗ Originally released 1929, 1930, 1931, 1932, ...</td>\n",
       "      <td>USA</td>\n",
       "      <td>USD</td>\n",
       "      <td>2006-08-25T07:00:00Z</td>\n",
       "    </tr>\n",
       "    <tr>\n",
       "      <th>100</th>\n",
       "      <td>collection</td>\n",
       "      <td>NaN</td>\n",
       "      <td>Louis Armstrong</td>\n",
       "      <td>NaN</td>\n",
       "      <td>518462</td>\n",
       "      <td>52456.0</td>\n",
       "      <td>Jazz</td>\n",
       "      <td>NaN</td>\n",
       "      <td>Album</td>\n",
       "      <td>1.434916e+09</td>\n",
       "      <td>...</td>\n",
       "      <td>https://music.apple.com/us/album/louis-armstro...</td>\n",
       "      <td>https://is3-ssl.mzstatic.com/image/thumb/Music...</td>\n",
       "      <td>https://is3-ssl.mzstatic.com/image/thumb/Music...</td>\n",
       "      <td>16.99</td>\n",
       "      <td>notExplicit</td>\n",
       "      <td>34.0</td>\n",
       "      <td>A Geffen Records Release; This Compilation ℗ 2...</td>\n",
       "      <td>USA</td>\n",
       "      <td>USD</td>\n",
       "      <td>2000-03-21T08:00:00Z</td>\n",
       "    </tr>\n",
       "  </tbody>\n",
       "</table>\n",
       "<p>101 rows × 23 columns</p>\n",
       "</div>"
      ],
      "text/plain": [
       "    wrapperType artistType                                       artistName  \\\n",
       "0        artist     Artist                                  Louis Armstrong   \n",
       "1    collection        NaN                                  Louis Armstrong   \n",
       "2    collection        NaN                Ella Fitzgerald & Louis Armstrong   \n",
       "3    collection        NaN                Ella Fitzgerald & Louis Armstrong   \n",
       "4    collection        NaN                                  Louis Armstrong   \n",
       "..          ...        ...                                              ...   \n",
       "96   collection        NaN                                  Louis Armstrong   \n",
       "97   collection        NaN                                  Louis Armstrong   \n",
       "98   collection        NaN                                  Louis Armstrong   \n",
       "99   collection        NaN  Louis Armstrong & The Louis Armstrong Orchestra   \n",
       "100  collection        NaN                                  Louis Armstrong   \n",
       "\n",
       "                                         artistLinkUrl  artistId  amgArtistId  \\\n",
       "0    https://music.apple.com/us/artist/louis-armstr...    518462      52456.0   \n",
       "1                                                  NaN    518462      52456.0   \n",
       "2                                                  NaN     73568       6503.0   \n",
       "3                                                  NaN     73568       6503.0   \n",
       "4                                                  NaN    518462      52456.0   \n",
       "..                                                 ...       ...          ...   \n",
       "96                                                 NaN    518462      52456.0   \n",
       "97                                                 NaN    518462      52456.0   \n",
       "98                                                 NaN    518462      52456.0   \n",
       "99                                                 NaN    518462      52456.0   \n",
       "100                                                NaN    518462      52456.0   \n",
       "\n",
       "    primaryGenreName  primaryGenreId collectionType  collectionId  ...  \\\n",
       "0               Jazz            11.0            NaN           NaN  ...   \n",
       "1                Pop             NaN          Album  1.434915e+09  ...   \n",
       "2               Jazz             NaN          Album  1.431067e+09  ...   \n",
       "3               Jazz             NaN          Album  1.454735e+09  ...   \n",
       "4               Jazz             NaN          Album  1.440787e+09  ...   \n",
       "..               ...             ...            ...           ...  ...   \n",
       "96              Jazz             NaN          Album  1.444083e+09  ...   \n",
       "97              Jazz             NaN          Album  1.444041e+09  ...   \n",
       "98              Jazz             NaN          Album  1.423291e+09  ...   \n",
       "99              Jazz             NaN          Album  1.903090e+08  ...   \n",
       "100             Jazz             NaN          Album  1.434916e+09  ...   \n",
       "\n",
       "                                     collectionViewUrl  \\\n",
       "0                                                  NaN   \n",
       "1    https://music.apple.com/us/album/all-time-grea...   \n",
       "2    https://music.apple.com/us/album/the-best-of-e...   \n",
       "3    https://music.apple.com/us/album/ella-louis-fo...   \n",
       "4    https://music.apple.com/us/album/what-a-wonder...   \n",
       "..                                                 ...   \n",
       "96   https://music.apple.com/us/album/satchmo-in-st...   \n",
       "97   https://music.apple.com/us/album/louis-armstro...   \n",
       "98   https://music.apple.com/us/album/oh-didnt-he-r...   \n",
       "99   https://music.apple.com/us/album/the-great-ame...   \n",
       "100  https://music.apple.com/us/album/louis-armstro...   \n",
       "\n",
       "                                          artworkUrl60  \\\n",
       "0                                                  NaN   \n",
       "1    https://is3-ssl.mzstatic.com/image/thumb/Music...   \n",
       "2    https://is5-ssl.mzstatic.com/image/thumb/Music...   \n",
       "3    https://is5-ssl.mzstatic.com/image/thumb/Music...   \n",
       "4    https://is5-ssl.mzstatic.com/image/thumb/Music...   \n",
       "..                                                 ...   \n",
       "96   https://is4-ssl.mzstatic.com/image/thumb/Music...   \n",
       "97   https://is3-ssl.mzstatic.com/image/thumb/Music...   \n",
       "98   https://is1-ssl.mzstatic.com/image/thumb/Music...   \n",
       "99   https://is5-ssl.mzstatic.com/image/thumb/Music...   \n",
       "100  https://is3-ssl.mzstatic.com/image/thumb/Music...   \n",
       "\n",
       "                                         artworkUrl100 collectionPrice  \\\n",
       "0                                                  NaN             NaN   \n",
       "1    https://is3-ssl.mzstatic.com/image/thumb/Music...            9.99   \n",
       "2    https://is5-ssl.mzstatic.com/image/thumb/Music...            9.99   \n",
       "3    https://is5-ssl.mzstatic.com/image/thumb/Music...            9.99   \n",
       "4    https://is5-ssl.mzstatic.com/image/thumb/Music...            5.99   \n",
       "..                                                 ...             ...   \n",
       "96   https://is4-ssl.mzstatic.com/image/thumb/Music...            7.99   \n",
       "97   https://is3-ssl.mzstatic.com/image/thumb/Music...            7.99   \n",
       "98   https://is1-ssl.mzstatic.com/image/thumb/Music...            9.99   \n",
       "99   https://is5-ssl.mzstatic.com/image/thumb/Music...           -1.00   \n",
       "100  https://is3-ssl.mzstatic.com/image/thumb/Music...           16.99   \n",
       "\n",
       "    collectionExplicitness trackCount  \\\n",
       "0                      NaN        NaN   \n",
       "1              notExplicit       18.0   \n",
       "2              notExplicit       15.0   \n",
       "3              notExplicit       11.0   \n",
       "4              notExplicit       11.0   \n",
       "..                     ...        ...   \n",
       "96             notExplicit       16.0   \n",
       "97             notExplicit       22.0   \n",
       "98             notExplicit       10.0   \n",
       "99             notExplicit       14.0   \n",
       "100            notExplicit       34.0   \n",
       "\n",
       "                                             copyright country  currency  \\\n",
       "0                                                  NaN     NaN       NaN   \n",
       "1    A Geffen Records Release; This Compilation ℗ 1...     USA       USD   \n",
       "2    A Verve Label Group release; This Compilation ...     USA       USD   \n",
       "3    A Verve Label Group Release; This Compilation ...     USA       USD   \n",
       "4    This Compilation ℗ 1968 The Verve Music Group,...     USA       USD   \n",
       "..                                                 ...     ...       ...   \n",
       "96   This Compilation ℗ 2001 The Verve Music Group,...     USA       USD   \n",
       "97        This Compilation ℗ 1995 UMG Recordings, Inc.     USA       USD   \n",
       "98   A Verve Label Group release; This Compilation ...     USA       USD   \n",
       "99   ℗ Originally released 1929, 1930, 1931, 1932, ...     USA       USD   \n",
       "100  A Geffen Records Release; This Compilation ℗ 2...     USA       USD   \n",
       "\n",
       "              releaseDate  \n",
       "0                     NaN  \n",
       "1    1994-01-01T08:00:00Z  \n",
       "2    1997-08-20T07:00:00Z  \n",
       "3    2005-06-06T07:00:00Z  \n",
       "4    1968-01-01T08:00:00Z  \n",
       "..                    ...  \n",
       "96   1959-05-14T07:00:00Z  \n",
       "97   1995-01-01T08:00:00Z  \n",
       "98   1999-10-19T07:00:00Z  \n",
       "99   2006-08-25T07:00:00Z  \n",
       "100  2000-03-21T08:00:00Z  \n",
       "\n",
       "[101 rows x 23 columns]"
      ]
     },
     "execution_count": 32,
     "metadata": {},
     "output_type": "execute_result"
    }
   ],
   "source": [
    "# Ваш код здесь\n",
    "url = ' https://itunes.apple.com/lookup'\n",
    "params = {'amgArtistId': '52456', 'limit': 100,  'entity': 'album'}    \n",
    "response = requests.post(url, data=params, timeout=10)\n",
    "response_json = response.json()\n",
    "df_1 = pd.DataFrame(response_json['results'])\n",
    "df_1"
   ]
  },
  {
   "cell_type": "markdown",
   "metadata": {
    "id": "cylUKYQlQVlW"
   },
   "source": [
    "2. Выведите количество записей в ответе."
   ]
  },
  {
   "cell_type": "code",
   "execution_count": 10,
   "metadata": {
    "id": "rsTsbuGXQVlW"
   },
   "outputs": [
    {
     "data": {
      "text/plain": [
       "(101, 23)"
      ]
     },
     "execution_count": 10,
     "metadata": {},
     "output_type": "execute_result"
    }
   ],
   "source": [
    "# Ваш код здесь\n",
    "df_1.shape"
   ]
  },
  {
   "cell_type": "markdown",
   "metadata": {
    "id": "5wqZG58CQVlX"
   },
   "source": [
    "3. Посмотрите внимательно на список с записями и обратите внимание, что мы запрашивали 100 альбомов, то есть на одну запись меньше, чем нам показал счётчик.\n",
    "**Ответьте, в чём причина:** Причина в том, что счетчик начинается с нуля (0, 1, 2,....99, 100)"
   ]
  },
  {
   "cell_type": "markdown",
   "metadata": {
    "id": "m95_sBKnQVlX"
   },
   "source": [
    "***Задача 4***\n",
    "\n",
    "1. С учётом ответа на предыдущий вопрос разделите список на два списка:\n",
    "- `data1` — альбомы с 1 по 30, \n",
    "- `data2` — оставшиеся альбомы. \n",
    "\n",
    "    Распечатайте количество элементов в каждом списке."
   ]
  },
  {
   "cell_type": "code",
   "execution_count": 43,
   "metadata": {
    "id": "HbEGYYySQVlY"
   },
   "outputs": [],
   "source": [
    "# Ваш код здесь\n",
    "data1 = df_1[1:31]\n",
    "data2 = df_1[31:]\n"
   ]
  },
  {
   "cell_type": "markdown",
   "metadata": {
    "id": "f6KP2YUgQVlY"
   },
   "source": [
    "2. Создайте датафрейм `df1` на основе списка `data1` и распечатайте его, а затем запишите его на лист `albums` в файл `30_albums.xlsx` в директории проекта `13_api/homework/data`. Не забудьте перед этим создать нужную директорию. \n"
   ]
  },
  {
   "cell_type": "code",
   "execution_count": 45,
   "metadata": {
    "id": "U5SYJKUZQVlZ"
   },
   "outputs": [],
   "source": [
    "# Ваш код здесь\n",
    "df1 = data1.copy(deep=True)\n",
    "df1\n",
    "df1.to_excel('C:/Users/Administrator/skillbox/ds-intro/13_api/homework/data/30_albums.xlsx',sheet_name='albums')"
   ]
  },
  {
   "cell_type": "markdown",
   "metadata": {
    "id": "OQQmF0xoiljN"
   },
   "source": [
    "Для удобства переиспользования путь к папке с данными удобно вынести в отдельную переменную. Оставьте текущий путь в `path` или пропишите полный путь от директории, в которой запущен Jupyter Notebook."
   ]
  },
  {
   "cell_type": "code",
   "execution_count": 47,
   "metadata": {
    "id": "5B1BAWrSiIfi"
   },
   "outputs": [],
   "source": [
    "path = 'C:/Users/Administrator/skillbox/ds-intro/13_api/homework/data/'"
   ]
  },
  {
   "cell_type": "markdown",
   "metadata": {
    "id": "OSFeJcPbQVla"
   },
   "source": [
    "3. Создайте датафрейм `df2` на основе списка `data2` и распечатайте его, а затем запишите его в файл `70_albums.csv` в директории проекта `13_api/homework/data`, указав в качестве разделителя знак табуляции."
   ]
  },
  {
   "cell_type": "code",
   "execution_count": 49,
   "metadata": {
    "id": "zOiTPTSBQVla"
   },
   "outputs": [],
   "source": [
    "# Ваш код здесь\n",
    "df2 = data2.copy(deep=True)\n",
    "df2.to_csv(path + '70_albums.csv')"
   ]
  },
  {
   "cell_type": "markdown",
   "metadata": {
    "ExecuteTime": {
     "end_time": "2021-11-16T21:41:34.123026Z",
     "start_time": "2021-11-16T21:41:34.115383Z"
    },
    "id": "GJ0l759lQVla"
   },
   "source": [
    "***Задача 5***\n",
    "\n",
    "Пришло время сохранить наши изменения в GitLab.\n",
    "\n",
    "1. Добавьте сделанные в папке проекта изменения с помощью `git add`.\n",
    "\n",
    "2. Если у вас в добавленных файлах появились файлы настроек, не забудьте добавить их в файл `.gitignore`, чтобы репозиторий содержал только релевантные файлы (подробнее о том, как правильно добавлять файлы в `.gitignore` можно узнать по ссылке в блоке [Запись изменений в репозиторий: Игнорирование файлов](https://git-scm.com/book/ru/v2/%D0%9E%D1%81%D0%BD%D0%BE%D0%B2%D1%8B-Git-%D0%97%D0%B0%D0%BF%D0%B8%D1%81%D1%8C-%D0%B8%D0%B7%D0%BC%D0%B5%D0%BD%D0%B5%D0%BD%D0%B8%D0%B9-%D0%B2-%D1%80%D0%B5%D0%BF%D0%BE%D0%B7%D0%B8%D1%82%D0%BE%D1%80%D0%B8%D0%B9)).\n",
    "\n",
    "3. Сохраните состояние проекта с помощью `git commit`, дайте тексту коммита осмысленное название.\n",
    "\n",
    "4. Отправьте изменения на сервер GitLab с помощью `git push` в текущую ветку `homework_13`.\n",
    "\n",
    "5. Зайдите в GitLab Skillbox и сделайте Merge Request включения текущей ветки в главную ветку `master`, указав в качестве адресата своего проверяющего преподавателя. Текущую ветку не удаляйте, она потребуется для проверки.\n",
    "\n",
    "_Напоминание:_ Не забудьте сохранить свои изменения в GitLab и после выполнения дополнительных задач 6 и 7."
   ]
  },
  {
   "cell_type": "code",
   "execution_count": null,
   "metadata": {},
   "outputs": [],
   "source": [
    "$ git config --global core.excludesfile ~/.gitignore_global\n",
    "#так создаем файл gitignor"
   ]
  },
  {
   "cell_type": "markdown",
   "metadata": {
    "id": "RIjvWCodQVlb"
   },
   "source": [
    "**Дополнительные задачи**"
   ]
  },
  {
   "cell_type": "markdown",
   "metadata": {
    "ExecuteTime": {
     "end_time": "2021-11-16T21:53:05.361052Z",
     "start_time": "2021-11-16T21:53:05.353283Z"
    },
    "id": "PzWuGyyYQVlb"
   },
   "source": [
    "***Задача 6***\n",
    "\n",
    "Для ответа на вопрос **Задачи 3** напишите код, результат которого наглядно показывает отличие некоторых записей от остальных."
   ]
  },
  {
   "cell_type": "code",
   "execution_count": null,
   "metadata": {
    "id": "j5NP6MusQVlb"
   },
   "outputs": [],
   "source": [
    "# Ваш код здесь\n",
    "...working on it"
   ]
  },
  {
   "cell_type": "markdown",
   "metadata": {
    "id": "7kLcc_RZbKbh"
   },
   "source": [
    "**Задача 7**\n",
    "\n",
    "Попробуйте сформировать запросы к [iTunes Search API](https://affiliate.itunes.apple.com/resources/documentation/itunes-store-web-service-search-api/) таким образом, чтобы получить статусы ответов, отличные от 200. Например, 400 и 404. Распечатайте коды статусов для каждого запроса.\n",
    "\n",
    "_Подсказка:_ воспользуйтесь [шпаргалкой по кодам ответа HTTP](https://developer.mozilla.org/ru/docs/Web/HTTP/Status), чтобы понять, как следует изменить запрос, чтобы сервер вернул определённую ошибку в ответе.\n"
   ]
  },
  {
   "cell_type": "code",
   "execution_count": null,
   "metadata": {
    "id": "aZgIKhLObI-k"
   },
   "outputs": [],
   "source": [
    "# Ваш код здесь"
   ]
  },
  {
   "cell_type": "markdown",
   "metadata": {
    "id": "v_D1TQYfQVlc"
   },
   "source": [
    "***Задача 8***\n",
    "\n",
    "Загрузите результат выполнения практического задания после урока 5 в GitLab проекта в директорию `13_api/practice`.\n",
    "\n",
    "Для этого создайте ветку `practice_13`, скопируйте файлы практического задания в проект, загрузите изменения в созданную ветку в GitLab, а затем создайте MergeRequest без указания проверяющего и сами же примите собственный запрос."
   ]
  }
 ],
 "metadata": {
  "colab": {
   "collapsed_sections": [],
   "name": "13.9_hw.ipynb",
   "provenance": [
    {
     "file_id": "1tbHQ8255v7HprXiSgWMn8PzOjW7vXUa7",
     "timestamp": 1636358961126
    }
   ]
  },
  "kernelspec": {
   "display_name": "Python 3",
   "language": "python",
   "name": "python3"
  },
  "language_info": {
   "codemirror_mode": {
    "name": "ipython",
    "version": 3
   },
   "file_extension": ".py",
   "mimetype": "text/x-python",
   "name": "python",
   "nbconvert_exporter": "python",
   "pygments_lexer": "ipython3",
   "version": "3.8.8"
  },
  "toc": {
   "base_numbering": 1,
   "nav_menu": {},
   "number_sections": true,
   "sideBar": true,
   "skip_h1_title": false,
   "title_cell": "Table of Contents",
   "title_sidebar": "Contents",
   "toc_cell": false,
   "toc_position": {},
   "toc_section_display": true,
   "toc_window_display": false
  }
 },
 "nbformat": 4,
 "nbformat_minor": 1
}
