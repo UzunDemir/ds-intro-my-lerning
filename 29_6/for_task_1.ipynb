{
 "cells": [
  {
   "cell_type": "code",
   "execution_count": null,
   "id": "61ed6f80-b93a-4ee7-8843-0a7d487336ec",
   "metadata": {},
   "outputs": [],
   "source": []
  },
  {
   "cell_type": "code",
   "execution_count": 5,
   "id": "1929b442-30af-486d-b46e-c3596b73fe61",
   "metadata": {
    "ExecuteTime": {
     "end_time": "2022-02-23T19:39:15.915860Z",
     "start_time": "2022-02-23T19:39:15.902436Z"
    },
    "id": "859c4d2b"
   },
   "outputs": [],
   "source": [
    "# Импортируйте необходимые библиотеки\n",
    "import pandas as pd\n",
    "import matplotlib.pyplot as plt"
   ]
  },
  {
   "cell_type": "code",
   "execution_count": 7,
   "id": "c2835c3f-fd28-47be-899f-8fd8cb00a9ae",
   "metadata": {
    "ExecuteTime": {
     "end_time": "2022-03-15T22:40:23.588946Z",
     "start_time": "2022-03-15T22:40:23.585461Z"
    },
    "id": "d536ad11",
    "scrolled": true
   },
   "outputs": [
    {
     "data": {
      "text/html": [
       "<div>\n",
       "<style scoped>\n",
       "    .dataframe tbody tr th:only-of-type {\n",
       "        vertical-align: middle;\n",
       "    }\n",
       "\n",
       "    .dataframe tbody tr th {\n",
       "        vertical-align: top;\n",
       "    }\n",
       "\n",
       "    .dataframe thead th {\n",
       "        text-align: right;\n",
       "    }\n",
       "</style>\n",
       "<table border=\"1\" class=\"dataframe\">\n",
       "  <thead>\n",
       "    <tr style=\"text-align: right;\">\n",
       "      <th></th>\n",
       "      <th>size</th>\n",
       "      <th>iterations</th>\n",
       "    </tr>\n",
       "  </thead>\n",
       "  <tbody>\n",
       "    <tr>\n",
       "      <th>0</th>\n",
       "      <td>10</td>\n",
       "      <td>45</td>\n",
       "    </tr>\n",
       "    <tr>\n",
       "      <th>1</th>\n",
       "      <td>20</td>\n",
       "      <td>190</td>\n",
       "    </tr>\n",
       "    <tr>\n",
       "      <th>2</th>\n",
       "      <td>30</td>\n",
       "      <td>435</td>\n",
       "    </tr>\n",
       "    <tr>\n",
       "      <th>3</th>\n",
       "      <td>40</td>\n",
       "      <td>780</td>\n",
       "    </tr>\n",
       "    <tr>\n",
       "      <th>4</th>\n",
       "      <td>50</td>\n",
       "      <td>1225</td>\n",
       "    </tr>\n",
       "  </tbody>\n",
       "</table>\n",
       "</div>"
      ],
      "text/plain": [
       "   size   iterations\n",
       "0    10           45\n",
       "1    20          190\n",
       "2    30          435\n",
       "3    40          780\n",
       "4    50         1225"
      ]
     },
     "execution_count": 7,
     "metadata": {},
     "output_type": "execute_result"
    }
   ],
   "source": [
    "# Ваш код здесь\n",
    "df = pd.read_csv('bubble.csv')\n",
    "df.head()"
   ]
  },
  {
   "cell_type": "code",
   "execution_count": 9,
   "id": "138f7f5c-bc46-4ac3-a955-d65534759182",
   "metadata": {},
   "outputs": [],
   "source": [
    "df['size2'] = df['size'] ** 2"
   ]
  },
  {
   "cell_type": "code",
   "execution_count": 10,
   "id": "0e9591a5-1b9f-4f19-9695-e79484936a24",
   "metadata": {},
   "outputs": [
    {
     "data": {
      "text/html": [
       "<div>\n",
       "<style scoped>\n",
       "    .dataframe tbody tr th:only-of-type {\n",
       "        vertical-align: middle;\n",
       "    }\n",
       "\n",
       "    .dataframe tbody tr th {\n",
       "        vertical-align: top;\n",
       "    }\n",
       "\n",
       "    .dataframe thead th {\n",
       "        text-align: right;\n",
       "    }\n",
       "</style>\n",
       "<table border=\"1\" class=\"dataframe\">\n",
       "  <thead>\n",
       "    <tr style=\"text-align: right;\">\n",
       "      <th></th>\n",
       "      <th>size</th>\n",
       "      <th>iterations</th>\n",
       "      <th>size2</th>\n",
       "    </tr>\n",
       "  </thead>\n",
       "  <tbody>\n",
       "    <tr>\n",
       "      <th>0</th>\n",
       "      <td>10</td>\n",
       "      <td>45</td>\n",
       "      <td>100</td>\n",
       "    </tr>\n",
       "    <tr>\n",
       "      <th>1</th>\n",
       "      <td>20</td>\n",
       "      <td>190</td>\n",
       "      <td>400</td>\n",
       "    </tr>\n",
       "    <tr>\n",
       "      <th>2</th>\n",
       "      <td>30</td>\n",
       "      <td>435</td>\n",
       "      <td>900</td>\n",
       "    </tr>\n",
       "    <tr>\n",
       "      <th>3</th>\n",
       "      <td>40</td>\n",
       "      <td>780</td>\n",
       "      <td>1600</td>\n",
       "    </tr>\n",
       "    <tr>\n",
       "      <th>4</th>\n",
       "      <td>50</td>\n",
       "      <td>1225</td>\n",
       "      <td>2500</td>\n",
       "    </tr>\n",
       "    <tr>\n",
       "      <th>...</th>\n",
       "      <td>...</td>\n",
       "      <td>...</td>\n",
       "      <td>...</td>\n",
       "    </tr>\n",
       "    <tr>\n",
       "      <th>95</th>\n",
       "      <td>960</td>\n",
       "      <td>460320</td>\n",
       "      <td>921600</td>\n",
       "    </tr>\n",
       "    <tr>\n",
       "      <th>96</th>\n",
       "      <td>970</td>\n",
       "      <td>469965</td>\n",
       "      <td>940900</td>\n",
       "    </tr>\n",
       "    <tr>\n",
       "      <th>97</th>\n",
       "      <td>980</td>\n",
       "      <td>479710</td>\n",
       "      <td>960400</td>\n",
       "    </tr>\n",
       "    <tr>\n",
       "      <th>98</th>\n",
       "      <td>990</td>\n",
       "      <td>489555</td>\n",
       "      <td>980100</td>\n",
       "    </tr>\n",
       "    <tr>\n",
       "      <th>99</th>\n",
       "      <td>1000</td>\n",
       "      <td>499500</td>\n",
       "      <td>1000000</td>\n",
       "    </tr>\n",
       "  </tbody>\n",
       "</table>\n",
       "<p>100 rows × 3 columns</p>\n",
       "</div>"
      ],
      "text/plain": [
       "    size   iterations    size2\n",
       "0     10           45      100\n",
       "1     20          190      400\n",
       "2     30          435      900\n",
       "3     40          780     1600\n",
       "4     50         1225     2500\n",
       "..   ...          ...      ...\n",
       "95   960       460320   921600\n",
       "96   970       469965   940900\n",
       "97   980       479710   960400\n",
       "98   990       489555   980100\n",
       "99  1000       499500  1000000\n",
       "\n",
       "[100 rows x 3 columns]"
      ]
     },
     "execution_count": 10,
     "metadata": {},
     "output_type": "execute_result"
    }
   ],
   "source": [
    "df"
   ]
  },
  {
   "cell_type": "code",
   "execution_count": 23,
   "id": "5973301b-cdeb-41d3-a93b-28747c86943e",
   "metadata": {},
   "outputs": [
    {
     "data": {
      "text/plain": [
       "Index(['size', ' iterations', 'size2'], dtype='object')"
      ]
     },
     "execution_count": 23,
     "metadata": {},
     "output_type": "execute_result"
    }
   ],
   "source": [
    "df.columns"
   ]
  },
  {
   "cell_type": "code",
   "execution_count": 26,
   "id": "d3b57687-1da1-4858-849f-cf549b4b62ba",
   "metadata": {},
   "outputs": [],
   "source": [
    "df.rename(columns = {' iterations':'iterations'}, inplace = True)"
   ]
  },
  {
   "cell_type": "code",
   "execution_count": 27,
   "id": "3d61f69a-fe8f-4c0a-ae7e-198f8379df61",
   "metadata": {},
   "outputs": [
    {
     "data": {
      "text/plain": [
       "Index(['size', 'iterations', 'size2'], dtype='object')"
      ]
     },
     "execution_count": 27,
     "metadata": {},
     "output_type": "execute_result"
    }
   ],
   "source": [
    "df.columns"
   ]
  },
  {
   "cell_type": "code",
   "execution_count": 17,
   "id": "4975642e-75a1-4a7a-9215-3f1548802b22",
   "metadata": {},
   "outputs": [
    {
     "data": {
      "image/png": "[encoded data removed]",
      "text/plain": [
       "<Figure size 432x288 with 1 Axes>"
      ]
     },
     "metadata": {
      "needs_background": "light"
     },
     "output_type": "display_data"
    }
   ],
   "source": [
    "plt.plot(df['size'], df['size2'])\n",
    "plt.show()"
   ]
  },
  {
   "cell_type": "code",
   "execution_count": 57,
   "id": "1c8cad1b-040d-4415-a1a4-82d5c89b5c87",
   "metadata": {},
   "outputs": [
    {
     "data": {
      "image/png": "[encoded data removed]",
      "text/plain": [
       "<Figure size 432x288 with 1 Axes>"
      ]
     },
     "metadata": {
      "needs_background": "light"
     },
     "output_type": "display_data"
    }
   ],
   "source": [
    "x = df['size']\n",
    "y2 = df['size2']\n",
    "y1 = df['iterations']\n",
    "# Построение графика\n",
    "plt.title(\"Зависимости: y1 = iterations, y2 = size2\") # заголовок\n",
    "plt.xlabel(\"size\")         # ось абсцисс\n",
    "plt.ylabel(\"size2, iterations\")    # ось ординат\n",
    " \n",
    "plt.plot(x, y1, label='iterations') # Визуализируем график для значения y1 (и задаем ему название (легенду))\n",
    " \n",
    "plt.plot(x, y2, label='size2') # Визуализируем график для значения y2 (и задаем ему название (легенду))\n",
    " \n",
    "\n",
    " \n",
    "plt.legend() # Вызываем отображение легенды на графике\n",
    "plt.grid()              # включение отображение сетки"
   ]
  },
  {
   "cell_type": "markdown",
   "id": "d5a43ae3-5120-46c6-90ed-4254439a6a73",
   "metadata": {},
   "source": [
    "Как же не обойтись без байки об Гауссе?\n",
    "Выполняя практическую работу по улучшению алгоритма пузырьковой сортировки, возник вопрос, как вывести аналитическую формулу, которая связывает число итераций оптимизированной пузырьковой сортировки от размера сортируемого массива?\n",
    "\n",
    "Итак имели что-то вроде (n-1) + (n-2) + (n-3) + 3 + 2 + 1\n",
    "\n",
    "Но ведь это похоже на 1 + 2 + 3 + …. + (n-1) !!!\n",
    "\n",
    "А это же старая байка о Гауссе, который решил моментально задачу сложения от 1 до 100, не успел учитель даже дверь класса закрыть.\n",
    "\n",
    "Согласно легенде, школьный учитель математики, чтобы занять детей на долгое время, предложил им сосчитать сумму чисел от 1 до 100. Юный Гаусс заметил, что попарные суммы с противоположных концов одинаковы: 1 + 100 = 101, 2 + 99 = 101 и т. д. Раз чисел в ряду у нас 100, это значит,что 50 пар числа 101. Затем умножаем 101 на 50 и мгновенно получим результат 101 * 50 = 5050.\n",
    "\n",
    "То есть n = 100.\n",
    "\n",
    "Тогда будет 50 = 100/2 = n/2\n",
    "\n",
    "а 101 это n+1\n",
    "\n",
    "Значит, формула Гаусса будет (n+1)*n/2\n",
    "\n",
    "Применительно к первому вопросу о формуле, описывающей число итераций оптимизированной пузырьковой сортировки, то здесь просто надо вместо n+1 вписать n-1\n",
    "\n",
    "то есть: (n-1)*n/2"
   ]
  },
  {
   "cell_type": "code",
   "execution_count": null,
   "id": "da854f91-a3c2-4ce5-9e8d-ab72e82e8327",
   "metadata": {},
   "outputs": [],
   "source": []
  }
 ],
 "metadata": {
  "kernelspec": {
   "display_name": "Python 3 (ipykernel)",
   "language": "python",
   "name": "python3"
  },
  "language_info": {
   "codemirror_mode": {
    "name": "ipython",
    "version": 3
   },
   "file_extension": ".py",
   "mimetype": "text/x-python",
   "name": "python",
   "nbconvert_exporter": "python",
   "pygments_lexer": "ipython3",
   "version": "3.9.7"
  }
 },
 "nbformat": 4,
 "nbformat_minor": 5
}
