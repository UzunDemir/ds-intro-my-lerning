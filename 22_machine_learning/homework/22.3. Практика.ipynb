{
 "cells": [
  {
   "cell_type": "markdown",
   "metadata": {
    "id": "EzoWQTAWoadH"
   },
   "source": [
    "## Метрики качества классификации"
   ]
  },
  {
   "cell_type": "markdown",
   "metadata": {
    "id": "7A3ElerQoX5T"
   },
   "source": [
    "В этом практическом задании три обязательные и одна дополнительная задача. \n",
    "<br>\n",
    "*Обязательные задачи* нужно сделать для того, чтобы проверить, что вы действительно усвоили материал. Если у вас всё получилось, то можете переходить к следующей теме.\n",
    "<br>\n",
    "*Дополнительные задачи* для тех, кто хочет немного углубиться в тему и тщательнее поработать с матрицей ошибок. \n",
    "<br>\n",
    "Удачи!"
   ]
  },
  {
   "cell_type": "markdown",
   "metadata": {
    "id": "1XvovnVHs-23"
   },
   "source": [
    "Цели практического задания: \n",
    "\n",
    "\n",
    "1.   Научиться рассчитывать метрику точности (Accuracy).\n",
    "2.   Научиться рассчитывать и интерпретировать матрицу ошибок (confusion matrix). \n",
    "\n",
    "\n"
   ]
  },
  {
   "cell_type": "markdown",
   "metadata": {
    "id": "GWi1oid4tLaT"
   },
   "source": [
    "\n",
    "\n",
    "---\n",
    "\n",
    "\n",
    "\n",
    "---\n",
    "\n"
   ]
  },
  {
   "cell_type": "markdown",
   "metadata": {
    "id": "yZ6B_-q9tPNQ"
   },
   "source": [
    "## Обязательные задачи"
   ]
  },
  {
   "cell_type": "markdown",
   "metadata": {
    "id": "Gk270x6Iyumk"
   },
   "source": [
    "1. *Размер тестовой выборки*\n",
    "\n",
    "Загрузите файл с данными `practice3.csv`. В нём содержатся результаты обучения модели машинного обучения. Она предсказывает, продлит ли пользователь подписку на сервис в следующем месяце. Значение 0 — не продлит, 1 — продлит. \n",
    "\n",
    "В колонке `true` находятся истинные значения целевой переменной (продлил ли пользователь подписку на самом деле).\n",
    "\n",
    "В колонке `pred` — значения, предсказанные моделью (прогноз модели по пользователю).\n",
    "\n",
    "В колонке `set_label` — к тренировочной или к тестовой выборке относится данное наблюдение.\n",
    "\n",
    "\n",
    "Узнайте, сколько процентов данных составляет тестовая выборка от общего количества наблюдений."
   ]
  },
  {
   "cell_type": "code",
   "execution_count": 4,
   "metadata": {
    "id": "kX6t_-S8oZye"
   },
   "outputs": [
    {
     "data": {
      "text/html": [
       "<div>\n",
       "<style scoped>\n",
       "    .dataframe tbody tr th:only-of-type {\n",
       "        vertical-align: middle;\n",
       "    }\n",
       "\n",
       "    .dataframe tbody tr th {\n",
       "        vertical-align: top;\n",
       "    }\n",
       "\n",
       "    .dataframe thead th {\n",
       "        text-align: right;\n",
       "    }\n",
       "</style>\n",
       "<table border=\"1\" class=\"dataframe\">\n",
       "  <thead>\n",
       "    <tr style=\"text-align: right;\">\n",
       "      <th></th>\n",
       "      <th>true</th>\n",
       "      <th>pred</th>\n",
       "      <th>set_label</th>\n",
       "    </tr>\n",
       "  </thead>\n",
       "  <tbody>\n",
       "    <tr>\n",
       "      <th>0</th>\n",
       "      <td>1</td>\n",
       "      <td>1</td>\n",
       "      <td>train</td>\n",
       "    </tr>\n",
       "    <tr>\n",
       "      <th>1</th>\n",
       "      <td>1</td>\n",
       "      <td>1</td>\n",
       "      <td>train</td>\n",
       "    </tr>\n",
       "    <tr>\n",
       "      <th>2</th>\n",
       "      <td>1</td>\n",
       "      <td>1</td>\n",
       "      <td>train</td>\n",
       "    </tr>\n",
       "    <tr>\n",
       "      <th>3</th>\n",
       "      <td>1</td>\n",
       "      <td>1</td>\n",
       "      <td>train</td>\n",
       "    </tr>\n",
       "    <tr>\n",
       "      <th>4</th>\n",
       "      <td>1</td>\n",
       "      <td>1</td>\n",
       "      <td>test</td>\n",
       "    </tr>\n",
       "    <tr>\n",
       "      <th>...</th>\n",
       "      <td>...</td>\n",
       "      <td>...</td>\n",
       "      <td>...</td>\n",
       "    </tr>\n",
       "    <tr>\n",
       "      <th>995</th>\n",
       "      <td>0</td>\n",
       "      <td>0</td>\n",
       "      <td>train</td>\n",
       "    </tr>\n",
       "    <tr>\n",
       "      <th>996</th>\n",
       "      <td>0</td>\n",
       "      <td>0</td>\n",
       "      <td>train</td>\n",
       "    </tr>\n",
       "    <tr>\n",
       "      <th>997</th>\n",
       "      <td>0</td>\n",
       "      <td>0</td>\n",
       "      <td>train</td>\n",
       "    </tr>\n",
       "    <tr>\n",
       "      <th>998</th>\n",
       "      <td>1</td>\n",
       "      <td>1</td>\n",
       "      <td>test</td>\n",
       "    </tr>\n",
       "    <tr>\n",
       "      <th>999</th>\n",
       "      <td>0</td>\n",
       "      <td>0</td>\n",
       "      <td>train</td>\n",
       "    </tr>\n",
       "  </tbody>\n",
       "</table>\n",
       "<p>1000 rows × 3 columns</p>\n",
       "</div>"
      ],
      "text/plain": [
       "     true  pred set_label\n",
       "0       1     1     train\n",
       "1       1     1     train\n",
       "2       1     1     train\n",
       "3       1     1     train\n",
       "4       1     1      test\n",
       "..    ...   ...       ...\n",
       "995     0     0     train\n",
       "996     0     0     train\n",
       "997     0     0     train\n",
       "998     1     1      test\n",
       "999     0     0     train\n",
       "\n",
       "[1000 rows x 3 columns]"
      ]
     },
     "execution_count": 4,
     "metadata": {},
     "output_type": "execute_result"
    }
   ],
   "source": [
    "# Здесь ваш код\n",
    "import pandas as pd\n",
    "df = pd.read_csv('data/practice3.csv')\n",
    "df"
   ]
  },
  {
   "cell_type": "code",
   "execution_count": 5,
   "metadata": {},
   "outputs": [
    {
     "data": {
      "text/plain": [
       "33.0"
      ]
     },
     "execution_count": 5,
     "metadata": {},
     "output_type": "execute_result"
    }
   ],
   "source": [
    "df['set_label'].value_counts()[1] / len(df) * 100"
   ]
  },
  {
   "cell_type": "markdown",
   "metadata": {
    "id": "xP3wJ6AA0Umf"
   },
   "source": [
    "2. *Точность модели*\n",
    "\n",
    "На данных из предыдущего задания посчитайте точность модели на тестовой и тренировочной выборках."
   ]
  },
  {
   "cell_type": "code",
   "execution_count": 6,
   "metadata": {
    "id": "MimxTz3fxM1V"
   },
   "outputs": [],
   "source": [
    "# Здесь ваш код\n",
    "df_train = df[df['set_label'] == 'train']\n",
    "df_test = df[df['set_label'] == 'test']"
   ]
  },
  {
   "cell_type": "code",
   "execution_count": 7,
   "metadata": {},
   "outputs": [],
   "source": [
    "from sklearn.metrics import accuracy_score, confusion_matrix"
   ]
  },
  {
   "cell_type": "code",
   "execution_count": 8,
   "metadata": {},
   "outputs": [
    {
     "name": "stdout",
     "output_type": "stream",
     "text": [
      " ACC TRAIN: 1.0\n",
      " ACC TEST : 0.7151515151515152\n"
     ]
    }
   ],
   "source": [
    "print(f' ACC TRAIN: {accuracy_score(df_train.true, df_train.pred)}')\n",
    "print(f' ACC TEST : {accuracy_score(df_test.true, df_test.pred)}')"
   ]
  },
  {
   "cell_type": "markdown",
   "metadata": {
    "id": "y7i8MYKj1bLy"
   },
   "source": [
    "3. *Матрица ошибок*\n",
    "\n",
    "На данных из предыдущего задания выведите матрицу ошибок для предсказаний на тестовых данных. Интерпретируйте результат: какие особенные характеристики есть у полученной модели на тестовых данных?"
   ]
  },
  {
   "cell_type": "code",
   "execution_count": 9,
   "metadata": {
    "id": "FB_6raSb2Q7E"
   },
   "outputs": [
    {
     "data": {
      "text/plain": [
       "array([[  0,  94],\n",
       "       [  0, 236]], dtype=int64)"
      ]
     },
     "execution_count": 9,
     "metadata": {},
     "output_type": "execute_result"
    }
   ],
   "source": [
    "# Здесь ваш код\n",
    "confusion_matrix(df_test.true, df_test.pred)"
   ]
  },
  {
   "cell_type": "markdown",
   "metadata": {},
   "source": [
    "ошибочно слишком часто предугадывает 1 и совсе не предсказывает 0"
   ]
  },
  {
   "cell_type": "markdown",
   "metadata": {
    "id": "iWEVBsRm270V"
   },
   "source": [
    "## Дополнительные задачи"
   ]
  },
  {
   "cell_type": "markdown",
   "metadata": {
    "id": "3hiTg9554NQz"
   },
   "source": [
    "Загрузите файл с данными `practice3_extra.csv`. В нём содержатся результаты обучения модели машинного обучения, которая предсказывает покупательскую способность клиента: 0 — низкая покупательская способность, 1 — средняя покупательская способность, 2 — высокая.\n",
    "\n",
    "В колонке `true` находятся истинные значения целевой переменной (к какому классу покупательской способности на самом деле относится клиент).\n",
    "\n",
    "В колонке `pred` — значения покупательской способности, предсказанные моделью.\n",
    "\n",
    "Выведите матрицу ошибок и, исходя из её результатов, ответьте на следующие вопросы:\n",
    "1. Сколько экземпляров класса 3 были предсказаны как класс 1?\n",
    "2. Сколько экземпляров класса 2 были предсказаны как класс 3?\n",
    "3. Какой класс модель угадывает хуже всего и почему?"
   ]
  },
  {
   "cell_type": "code",
   "execution_count": 10,
   "metadata": {
    "id": "Mg5Qdt4p8GJc"
   },
   "outputs": [
    {
     "data": {
      "text/html": [
       "<div>\n",
       "<style scoped>\n",
       "    .dataframe tbody tr th:only-of-type {\n",
       "        vertical-align: middle;\n",
       "    }\n",
       "\n",
       "    .dataframe tbody tr th {\n",
       "        vertical-align: top;\n",
       "    }\n",
       "\n",
       "    .dataframe thead th {\n",
       "        text-align: right;\n",
       "    }\n",
       "</style>\n",
       "<table border=\"1\" class=\"dataframe\">\n",
       "  <thead>\n",
       "    <tr style=\"text-align: right;\">\n",
       "      <th></th>\n",
       "      <th>true</th>\n",
       "      <th>pred</th>\n",
       "    </tr>\n",
       "  </thead>\n",
       "  <tbody>\n",
       "    <tr>\n",
       "      <th>0</th>\n",
       "      <td>3</td>\n",
       "      <td>2</td>\n",
       "    </tr>\n",
       "    <tr>\n",
       "      <th>1</th>\n",
       "      <td>2</td>\n",
       "      <td>2</td>\n",
       "    </tr>\n",
       "    <tr>\n",
       "      <th>2</th>\n",
       "      <td>1</td>\n",
       "      <td>1</td>\n",
       "    </tr>\n",
       "    <tr>\n",
       "      <th>3</th>\n",
       "      <td>1</td>\n",
       "      <td>1</td>\n",
       "    </tr>\n",
       "    <tr>\n",
       "      <th>4</th>\n",
       "      <td>1</td>\n",
       "      <td>0</td>\n",
       "    </tr>\n",
       "    <tr>\n",
       "      <th>...</th>\n",
       "      <td>...</td>\n",
       "      <td>...</td>\n",
       "    </tr>\n",
       "    <tr>\n",
       "      <th>695</th>\n",
       "      <td>1</td>\n",
       "      <td>1</td>\n",
       "    </tr>\n",
       "    <tr>\n",
       "      <th>696</th>\n",
       "      <td>0</td>\n",
       "      <td>0</td>\n",
       "    </tr>\n",
       "    <tr>\n",
       "      <th>697</th>\n",
       "      <td>2</td>\n",
       "      <td>2</td>\n",
       "    </tr>\n",
       "    <tr>\n",
       "      <th>698</th>\n",
       "      <td>1</td>\n",
       "      <td>1</td>\n",
       "    </tr>\n",
       "    <tr>\n",
       "      <th>699</th>\n",
       "      <td>3</td>\n",
       "      <td>3</td>\n",
       "    </tr>\n",
       "  </tbody>\n",
       "</table>\n",
       "<p>700 rows × 2 columns</p>\n",
       "</div>"
      ],
      "text/plain": [
       "     true  pred\n",
       "0       3     2\n",
       "1       2     2\n",
       "2       1     1\n",
       "3       1     1\n",
       "4       1     0\n",
       "..    ...   ...\n",
       "695     1     1\n",
       "696     0     0\n",
       "697     2     2\n",
       "698     1     1\n",
       "699     3     3\n",
       "\n",
       "[700 rows x 2 columns]"
      ]
     },
     "execution_count": 10,
     "metadata": {},
     "output_type": "execute_result"
    }
   ],
   "source": [
    "# Здесь ваш код\n",
    "df_extra = pd.read_csv('data/practice3_extra.csv')\n",
    "df_extra"
   ]
  },
  {
   "cell_type": "code",
   "execution_count": 12,
   "metadata": {},
   "outputs": [
    {
     "data": {
      "text/plain": [
       "array([[161,   5,   4,   5],\n",
       "       [  7, 147,   9,   6],\n",
       "       [  6,   5, 164,   7],\n",
       "       [  3,   6,   5, 160]], dtype=int64)"
      ]
     },
     "execution_count": 12,
     "metadata": {},
     "output_type": "execute_result"
    }
   ],
   "source": [
    "confusion_matrix(df_extra.true, df_extra.pred)"
   ]
  },
  {
   "cell_type": "markdown",
   "metadata": {
    "id": "pnMONac_B3PI"
   },
   "source": [
    "Тут также может помочь метрика Recall. Она показывает, какую долю объектов положительного класса из всех объектов положительного класса нашёл алгоритм. https://en.wikipedia.org/wiki/Precision_and_recall \n",
    "\n",
    "\n",
    "Чем больше значение метрики, тем больше объектов данного класса из всех его представителей было угадано. Вывести Recall для каждого класса можно с помощью функции `classification_report`."
   ]
  },
  {
   "cell_type": "code",
   "execution_count": 13,
   "metadata": {
    "colab": {
     "base_uri": "https://localhost:8080/"
    },
    "executionInfo": {
     "elapsed": 4,
     "status": "ok",
     "timestamp": 1648562690517,
     "user": {
      "displayName": "Yulduz Fattakhova",
      "userId": "14698334089562212742"
     },
     "user_tz": -180
    },
    "id": "lzUWaeRn8tiY",
    "outputId": "c0e97147-fd7d-45fa-c010-2dace47ee385"
   },
   "outputs": [
    {
     "name": "stdout",
     "output_type": "stream",
     "text": [
      "              precision    recall  f1-score   support\n",
      "\n",
      "           0       0.91      0.92      0.91       175\n",
      "           1       0.90      0.87      0.89       169\n",
      "           2       0.90      0.90      0.90       182\n",
      "           3       0.90      0.92      0.91       174\n",
      "\n",
      "    accuracy                           0.90       700\n",
      "   macro avg       0.90      0.90      0.90       700\n",
      "weighted avg       0.90      0.90      0.90       700\n",
      "\n"
     ]
    }
   ],
   "source": [
    "from sklearn.metrics import classification_report\n",
    "print(classification_report(df_extra.true, df_extra.pred))"
   ]
  },
  {
   "cell_type": "code",
   "execution_count": 14,
   "metadata": {
    "id": "FIpdp2piyqSQ"
   },
   "outputs": [
    {
     "data": {
      "text/plain": [
       "2    182\n",
       "0    175\n",
       "3    174\n",
       "1    169\n",
       "Name: true, dtype: int64"
      ]
     },
     "execution_count": 14,
     "metadata": {},
     "output_type": "execute_result"
    }
   ],
   "source": [
    "df_extra.true.value_counts()\n",
    "\n",
    "\n",
    "\n",
    "\n",
    "\n",
    "\n",
    "\n",
    "\n"
   ]
  },
  {
   "cell_type": "markdown",
   "metadata": {},
   "source": [
    "Сколько экземпляров класса 3 были предсказаны как класс 1? 6\n",
    "Сколько экземпляров класса 2 были предсказаны как класс 3? 7\n",
    "Какой класс модель угадывает хуже всего и почему? 1 = 0,13, так как 0 = 0,08, 1 = 0,13, 2 = 0,09, 3 = 0,08"
   ]
  },
  {
   "cell_type": "code",
   "execution_count": null,
   "metadata": {
    "id": "61L0U27J0IBM"
   },
   "outputs": [],
   "source": [
    "# Решение 1 \n",
    "\n",
    "import pandas as pd\n",
    "\n",
    "df = pd.read_csv('practice3.csv')\n",
    "df.set_label.value_counts()[1]/df.shape[0]*100"
   ]
  },
  {
   "cell_type": "code",
   "execution_count": null,
   "metadata": {
    "colab": {
     "base_uri": "https://localhost:8080/"
    },
    "executionInfo": {
     "elapsed": 411,
     "status": "ok",
     "timestamp": 1648559903080,
     "user": {
      "displayName": "Yulduz Fattakhova",
      "userId": "14698334089562212742"
     },
     "user_tz": -180
    },
    "id": "eOE10A71xWPE",
    "outputId": "492e059b-6b28-4379-9952-37d41a258ca3"
   },
   "outputs": [
    {
     "name": "stdout",
     "output_type": "stream",
     "text": [
      "TRAIN ACC: 1.0\n",
      "TRAIN ACC: 0.7151515151515152\n"
     ]
    }
   ],
   "source": [
    "# Решение 2 \n",
    "\n",
    "from sklearn.metrics import accuracy_score\n",
    "\n",
    "test = df[df.set_label == 'test']\n",
    "train = df[df.set_label == 'train']\n",
    "\n",
    "\n",
    "print(f'TRAIN ACC: {accuracy_score(train.true, train.pred)}')\n",
    "print(f'TEST ACC: {accuracy_score(test.true, test.pred)}')"
   ]
  },
  {
   "cell_type": "code",
   "execution_count": null,
   "metadata": {
    "colab": {
     "base_uri": "https://localhost:8080/"
    },
    "executionInfo": {
     "elapsed": 2,
     "status": "ok",
     "timestamp": 1648559267274,
     "user": {
      "displayName": "Yulduz Fattakhova",
      "userId": "14698334089562212742"
     },
     "user_tz": -180
    },
    "id": "3pJJoEj2xmT6",
    "outputId": "351234a9-8cfd-417f-a925-8d49d9e73f60"
   },
   "outputs": [
    {
     "data": {
      "text/plain": [
       "array([[  0,  94],\n",
       "       [  0, 236]])"
      ]
     },
     "execution_count": 37,
     "metadata": {},
     "output_type": "execute_result"
    }
   ],
   "source": [
    "# Решение 3\n",
    "from sklearn.metrics import confusion_matrix\n",
    "\n",
    "confusion_matrix(test.true, test.pred)\n",
    "\n",
    "# на тестовых данных модель везде предсказывает единицу и совсем не выявляет нулевой класс"
   ]
  },
  {
   "cell_type": "code",
   "execution_count": null,
   "metadata": {
    "colab": {
     "base_uri": "https://localhost:8080/"
    },
    "executionInfo": {
     "elapsed": 369,
     "status": "ok",
     "timestamp": 1648560509965,
     "user": {
      "displayName": "Yulduz Fattakhova",
      "userId": "14698334089562212742"
     },
     "user_tz": -180
    },
    "id": "jV6Q6ALB3PQA",
    "outputId": "4b3a244b-a864-4de4-fcdb-1200996ccb3e"
   },
   "outputs": [
    {
     "data": {
      "text/plain": [
       "true  pred  set_label\n",
       "1     1     test         236\n",
       "0     1     test          94\n",
       "dtype: int64"
      ]
     },
     "execution_count": 44,
     "metadata": {},
     "output_type": "execute_result"
    }
   ],
   "source": [
    "test.value_counts()"
   ]
  },
  {
   "cell_type": "code",
   "execution_count": null,
   "metadata": {
    "colab": {
     "base_uri": "https://localhost:8080/"
    },
    "executionInfo": {
     "elapsed": 804,
     "status": "ok",
     "timestamp": 1648561825631,
     "user": {
      "displayName": "Yulduz Fattakhova",
      "userId": "14698334089562212742"
     },
     "user_tz": -180
    },
    "id": "liNV2hlR8Krj",
    "outputId": "a035d65e-4c7a-44e2-8e7d-f80a4ff11ad8"
   },
   "outputs": [
    {
     "data": {
      "text/plain": [
       "array([[161,   5,   4,   5],\n",
       "       [  7, 147,   9,   6],\n",
       "       [  6,   5, 164,   7],\n",
       "       [  3,   6,   5, 160]])"
      ]
     },
     "execution_count": 58,
     "metadata": {},
     "output_type": "execute_result"
    }
   ],
   "source": [
    "# Решение Дополнительной задачи\n",
    "\n",
    "import pandas as pd\n",
    "\n",
    "df_extra = pd.read_csv('practice3_extra.csv')\n",
    "confusion_matrix(df_extra.true, df_extra.pred)"
   ]
  },
  {
   "cell_type": "code",
   "execution_count": null,
   "metadata": {
    "colab": {
     "base_uri": "https://localhost:8080/"
    },
    "executionInfo": {
     "elapsed": 385,
     "status": "ok",
     "timestamp": 1648565964411,
     "user": {
      "displayName": "Yulduz Fattakhova",
      "userId": "14698334089562212742"
     },
     "user_tz": -180
    },
    "id": "_4eaBBZdMB3J",
    "outputId": "a8ff8121-600a-428d-f33d-c86eaeef9be8"
   },
   "outputs": [
    {
     "data": {
      "text/plain": [
       "2    182\n",
       "0    175\n",
       "3    174\n",
       "1    169\n",
       "Name: true, dtype: int64"
      ]
     },
     "execution_count": 64,
     "metadata": {},
     "output_type": "execute_result"
    }
   ],
   "source": [
    "df_extra.true.value_counts()"
   ]
  },
  {
   "cell_type": "code",
   "execution_count": null,
   "metadata": {
    "id": "xUIV0DT28bUY"
   },
   "outputs": [],
   "source": [
    "# Ответы:\n",
    "# 1. 6\n",
    "# 2. 7\n",
    "# 3. Нужно посчитать количество ошибок для каждого класса в строках (0-14, 1-22, 2-18, 3-14). После чего посчитать процентное отношение ошибок \n",
    "# к общему количеству экземпляров в классе: 14/175 = 0.08.  22/169=0.13, 18/182=0.09, 14/174=0.08. Больший процент ошибок у класса 1"
   ]
  }
 ],
 "metadata": {
  "colab": {
   "name": "Урок 3. Практика.ipynb",
   "provenance": []
  },
  "kernelspec": {
   "display_name": "Python 3 (ipykernel)",
   "language": "python",
   "name": "python3"
  },
  "language_info": {
   "codemirror_mode": {
    "name": "ipython",
    "version": 3
   },
   "file_extension": ".py",
   "mimetype": "text/x-python",
   "name": "python",
   "nbconvert_exporter": "python",
   "pygments_lexer": "ipython3",
   "version": "3.9.7"
  }
 },
 "nbformat": 4,
 "nbformat_minor": 1
}
