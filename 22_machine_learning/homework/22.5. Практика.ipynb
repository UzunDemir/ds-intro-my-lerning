{
 "cells": [
  {
   "cell_type": "markdown",
   "metadata": {
    "id": "qONsoA7WSCZ1"
   },
   "source": [
    "## Обучение моделей"
   ]
  },
  {
   "cell_type": "markdown",
   "metadata": {
    "id": "J2Ad3BukSFEQ"
   },
   "source": [
    "В этом практическом задании две обязательные и одна дополнительная задача. \n",
    "<br>\n",
    "*Обязательные задачи* нужно сделать для того, чтобы проверить, что вы действительно усвоили материал. Если у вас всё получилось, то можете переходить к следующей теме.\n",
    "<br>\n",
    "*Дополнительные задачи* для тех, кто хочет потренироваться с функцией feature_importances_ в деревьях. \n",
    "<br>\n",
    "Удачи!"
   ]
  },
  {
   "cell_type": "markdown",
   "metadata": {
    "id": "wZipdNuaSLzz"
   },
   "source": [
    "Цели практического задания: \n",
    "\n",
    "1.   Научиться обучать модель дерева решений с помощью sklearn.\n",
    "2.   Научиться пользоваться параметром random_state в дереве решения \n",
    "3.   Научиться использовать знания о feature importances в дереве решения\n",
    "\n",
    "\n"
   ]
  },
  {
   "cell_type": "markdown",
   "metadata": {
    "id": "Z8R5w359v5RS"
   },
   "source": [
    "## Обязательные задачи"
   ]
  },
  {
   "cell_type": "markdown",
   "metadata": {
    "id": "Q-11BbVkwZ69"
   },
   "source": [
    "### Описание датасета:\n",
    "- `id`: идентификатор записи;\n",
    "- `is_manufacturer_name`: признак производителя автомобиля;\n",
    "\n",
    "- `region_*`: регион;\n",
    "- `x0_*`: тип топлива;\n",
    "- `manufacturer_*`: производитель;\n",
    "- `short_model_*`: сокращённая модель автомобиля;\n",
    "- `title_status_*`: статус;\n",
    "- `transmission_*`: коробка передач;\n",
    "- `state_*`: штат;\n",
    "- `age_category_*`: возрастная категория автомобиля;\n",
    "\n",
    "- `std_scaled_odometer`: количество пройденных миль (после стандартизации);\n",
    "- `year_std`: год выпуска (после стандартизации);\n",
    "- `lat_std`: широта (после стандартизации);\n",
    "- `long_std`: долгота (после стандартизации);\n",
    "- `odometer/price_std`: отношение стоимости к пробегу автомобиля (после стандартизации);\n",
    "- `desc_len_std`: количество символов в тексте объявления о продаже (после стандартизации);\n",
    "- `model_in_desc_std`: количество наименований модели автомобиля в тексте объявления о продаже (после стандартизации);\n",
    "- `model_len_std`: длина наименования автомобиля (после стандартизации);\n",
    "- `model_word_count_std`: количество слов в наименовании автомобиля (после стандартизации);\n",
    "- `month_std`: номер месяца размещения объявления о продаже автомобиля (после стандартизации);\n",
    "- `dayofweek_std`: день недели размещения объявления о продаже автомобиля (после стандартизации);\n",
    "- `diff_years_std`: количество лет между годом производства автомобиля и годом размещения объявления о продаже автомобиля (после стандартизации);\n",
    "\n",
    "- `price`: стоимость;\n",
    "- `price_category`: категория цены."
   ]
  },
  {
   "cell_type": "markdown",
   "metadata": {
    "id": "_9rGFJy3v6ih"
   },
   "source": [
    "1. *Обучение модели классификации*\n",
    "\n",
    "Обучите модель классификации с помощью DecisionTreeClassifier как продемонстрировано в материалах. Для этого сделайте следующие шаги:\n",
    "\n",
    "1. Загрузите файл с данными `vehicles_dataset_prepared.csv`\n",
    "2. Положите копию датасета из п1 в `df_prepared`\n",
    "3. Из `df_prepared` удалите колонки `price`, `odometer/price_std`\n",
    "4. Поделите датасет на тренировочную и тестовую выборки\n",
    "5. Обучите модель дерева решений на тренировочной выборке\n",
    "6. Сделайте предикт на тестовой выборке\n",
    "7. Замерьте точность на тестовой выборке и выведите матрицу ошибок "
   ]
  },
  {
   "cell_type": "code",
   "execution_count": 1,
   "metadata": {
    "id": "dZo0dX66R2TM"
   },
   "outputs": [],
   "source": [
    "import pandas as pd\n",
    "from sklearn.tree import DecisionTreeClassifier\n",
    "from sklearn.model_selection import train_test_split \n",
    "from sklearn.metrics import accuracy_score, confusion_matrix "
   ]
  },
  {
   "cell_type": "code",
   "execution_count": 31,
   "metadata": {
    "id": "7UE0uAPPCI4S"
   },
   "outputs": [],
   "source": [
    "# Здесь ваш код\n",
    "df = pd.read_csv('data/vehicles_dataset_prepared.csv')\n",
    "df_prepared = df.copy()\n"
   ]
  },
  {
   "cell_type": "code",
   "execution_count": 32,
   "metadata": {},
   "outputs": [],
   "source": [
    "\n",
    "df_prepared = df_prepared.drop(['price', 'odometer/price_std'], axis=1)\n"
   ]
  },
  {
   "cell_type": "code",
   "execution_count": 33,
   "metadata": {},
   "outputs": [],
   "source": [
    "x = df_prepared.drop(['price_category'], axis=1)\n",
    "y = df_prepared['price_category']"
   ]
  },
  {
   "cell_type": "code",
   "execution_count": 34,
   "metadata": {},
   "outputs": [],
   "source": [
    "x_train, x_test, y_train, y_test = train_test_split(x, y, test_size=0.3, random_state=42)"
   ]
  },
  {
   "cell_type": "code",
   "execution_count": 35,
   "metadata": {},
   "outputs": [
    {
     "data": {
      "text/plain": [
       "DecisionTreeClassifier()"
      ]
     },
     "execution_count": 35,
     "metadata": {},
     "output_type": "execute_result"
    }
   ],
   "source": [
    "clf = DecisionTreeClassifier()\n",
    "clf.fit(x_train, y_train)"
   ]
  },
  {
   "cell_type": "code",
   "execution_count": 37,
   "metadata": {},
   "outputs": [],
   "source": [
    "predicted_train = clf.predict(x_train)\n",
    "predicted_test = clf.predict(x_test)"
   ]
  },
  {
   "cell_type": "code",
   "execution_count": 38,
   "metadata": {},
   "outputs": [
    {
     "data": {
      "text/plain": [
       "0.6652806652806653"
      ]
     },
     "execution_count": 38,
     "metadata": {},
     "output_type": "execute_result"
    }
   ],
   "source": [
    "accuracy_score(y_test, predicted_test)"
   ]
  },
  {
   "cell_type": "code",
   "execution_count": 39,
   "metadata": {},
   "outputs": [
    {
     "data": {
      "text/plain": [
       "array([[740,  57, 200],\n",
       "       [ 45, 669, 239],\n",
       "       [193, 232, 511]], dtype=int64)"
      ]
     },
     "execution_count": 39,
     "metadata": {},
     "output_type": "execute_result"
    }
   ],
   "source": [
    "confusion_matrix(y_test, predicted_test)"
   ]
  },
  {
   "cell_type": "markdown",
   "metadata": {
    "id": "6kyN5BTeA24q"
   },
   "source": [
    "2. *Random_state в дереве решений*\n",
    "\n",
    "Попробуйте 10 раз обучить `clf = DecisionTreeClassifier()` на одних и тех же данных и замерьте значение точности. Покажите, что точность изменяется от прогона к прогону. \n",
    "\n",
    "Попробуйте сделать такой же эксперимент, но добавьте входной параметр random_state равным какому то числу, например `clf2 = DecisionTreeClassifier(random_state=42)`. Теперь повторите эксперимент. Меняется ли точность на тестовой выборке от прогона к прогону?"
   ]
  },
  {
   "cell_type": "code",
   "execution_count": 42,
   "metadata": {
    "id": "9a_0dQIEDScN"
   },
   "outputs": [
    {
     "name": "stdout",
     "output_type": "stream",
     "text": [
      "0.6760221760221761--0.6735966735966736--0.6649341649341649--0.6739431739431739--0.6791406791406791--0.6732501732501732--0.6760221760221761--0.6746361746361746--0.6732501732501732--0.6767151767151767--"
     ]
    }
   ],
   "source": [
    "# Ваш код для 1 эксперимента\n",
    "clf = DecisionTreeClassifier()\n",
    "for i in range(10):\n",
    "  clf.fit(x_train, y_train)\n",
    "\n",
    "  predicted_train = clf.predict(x_train)\n",
    "  predicted_test = clf.predict(x_test)\n",
    "\n",
    "  print(accuracy_score(y_test, predicted_test), end ='--')"
   ]
  },
  {
   "cell_type": "code",
   "execution_count": 43,
   "metadata": {
    "id": "BknnQdBIDUpO"
   },
   "outputs": [
    {
     "name": "stdout",
     "output_type": "stream",
     "text": [
      "0.6704781704781705--0.6704781704781705--0.6704781704781705--0.6704781704781705--0.6704781704781705--0.6704781704781705--0.6704781704781705--0.6704781704781705--0.6704781704781705--0.6704781704781705--"
     ]
    }
   ],
   "source": [
    "# Ваш код для 2 эксперимента\n",
    "clf2 = DecisionTreeClassifier(random_state=42)\n",
    "\n",
    "for i in range(10):\n",
    "  clf2.fit(x_train, y_train)\n",
    "\n",
    "  predicted_train = clf2.predict(x_train)\n",
    "  predicted_test = clf2.predict(x_test)\n",
    "\n",
    "  print(accuracy_score(y_test, predicted_test), end ='--')"
   ]
  },
  {
   "cell_type": "markdown",
   "metadata": {
    "id": "kX9kuY50DFd7"
   },
   "source": [
    "Узнайте, за что отвечает параметр random_state.\n",
    "\n",
    "https://scikit-learn.org/stable/modules/generated/sklearn.tree.DecisionTreeClassifier.html\n"
   ]
  },
  {
   "cell_type": "markdown",
   "metadata": {
    "id": "4o8VkxGHGYSy"
   },
   "source": [
    "Так же, как и при делении выборки на треин и тест, в объявлении дерева решении `random_state` позволяет вам обеспечить \"воспроизводимость\" результатов. `Random_state` - это семя генератора случайных чисел, которое используется для выбора фичей во время поиска фичи для наилучшего разделения в узле. \n",
    "\n",
    "Алгоритм работает таким образом, что выбирает n фичей случайным образом, из которых затем выбирает лучшую фичу для разделения. Чтобы зафиксировать множество фичей, которые выбираются случайным образом во время обучения, нужно установить параметр `random_state` равным какому-то числу. "
   ]
  },
  {
   "cell_type": "markdown",
   "metadata": {
    "id": "3j34pyw-E_NZ"
   },
   "source": [
    "## Дополнительные задачи"
   ]
  },
  {
   "cell_type": "markdown",
   "metadata": {
    "id": "FCKY74jEDNCq"
   },
   "source": [
    "\n",
    "\n",
    "\n",
    "\n",
    "Рассчитайте feature_importances для обученной модели. Удалите все фичи с нулевым весом из тренировочного и тестового датасетов, и заново обучите модель. Проверьте, что качество модели не ухудшилось. \n",
    "\n",
    "Затем заново рассчитайте feature_importances и визулизируйте важность первых 20 фичей с помощью горизонтального bar plot."
   ]
  },
  {
   "cell_type": "code",
   "execution_count": null,
   "metadata": {
    "id": "MKw4CigRny9e"
   },
   "outputs": [],
   "source": [
    "import matplotlib.pyplot as plt\n",
    "import numpy as np"
   ]
  },
  {
   "cell_type": "code",
   "execution_count": null,
   "metadata": {
    "id": "xyKn7PE4FgrM"
   },
   "outputs": [],
   "source": [
    "# Здесь ваш код"
   ]
  },
  {
   "cell_type": "code",
   "execution_count": 14,
   "metadata": {
    "id": "3CcmNJ9IyJ8I"
   },
   "outputs": [],
   "source": [
    "# Решение 1\n",
    "df = pd.read_csv('data/vehicles_dataset_prepared.csv')\n",
    "\n",
    "df_prepared = df.copy()\n",
    "df_prepared = df_prepared.drop(['price', 'odometer/price_std'], axis=1)"
   ]
  },
  {
   "cell_type": "code",
   "execution_count": null,
   "metadata": {
    "id": "sI8w-gDZzOvq"
   },
   "outputs": [],
   "source": [
    "x = df_prepared.drop(['price_category'], axis=1)\n",
    "y = df_prepared['price_category']"
   ]
  },
  {
   "cell_type": "code",
   "execution_count": null,
   "metadata": {
    "id": "NQIDnI8YA_ff"
   },
   "outputs": [],
   "source": [
    "x_train, x_test, y_train, y_test = train_test_split(x, y, test_size=0.3, random_state=42)"
   ]
  },
  {
   "cell_type": "code",
   "execution_count": null,
   "metadata": {
    "colab": {
     "base_uri": "https://localhost:8080/"
    },
    "executionInfo": {
     "elapsed": 810,
     "status": "ok",
     "timestamp": 1648647032367,
     "user": {
      "displayName": "Yulduz Fattakhova",
      "userId": "14698334089562212742"
     },
     "user_tz": -180
    },
    "id": "jasriFRdA7us",
    "outputId": "f051dd55-2b88-4b07-ce6e-eca2b835df34"
   },
   "outputs": [
    {
     "data": {
      "text/plain": [
       "DecisionTreeClassifier(random_state=42)"
      ]
     },
     "execution_count": 70,
     "metadata": {},
     "output_type": "execute_result"
    }
   ],
   "source": [
    "clf = DecisionTreeClassifier()\n",
    "clf.fit(x_train, y_train)"
   ]
  },
  {
   "cell_type": "code",
   "execution_count": 36,
   "metadata": {
    "id": "XltB1un2Bnhx"
   },
   "outputs": [],
   "source": [
    "predicted_train = clf.predict(x_train)\n",
    "predicted_test = clf.predict(x_test)"
   ]
  },
  {
   "cell_type": "code",
   "execution_count": null,
   "metadata": {
    "colab": {
     "base_uri": "https://localhost:8080/"
    },
    "executionInfo": {
     "elapsed": 3,
     "status": "ok",
     "timestamp": 1648647033390,
     "user": {
      "displayName": "Yulduz Fattakhova",
      "userId": "14698334089562212742"
     },
     "user_tz": -180
    },
    "id": "i3mGo8qeBqN4",
    "outputId": "d098b9eb-4dc1-49ef-a193-7fb7efdd8a7b"
   },
   "outputs": [
    {
     "data": {
      "text/plain": [
       "0.6704781704781705"
      ]
     },
     "execution_count": 72,
     "metadata": {},
     "output_type": "execute_result"
    }
   ],
   "source": [
    "accuracy_score(y_test, predicted_test)"
   ]
  },
  {
   "cell_type": "code",
   "execution_count": null,
   "metadata": {
    "colab": {
     "base_uri": "https://localhost:8080/"
    },
    "executionInfo": {
     "elapsed": 220,
     "status": "ok",
     "timestamp": 1648646803508,
     "user": {
      "displayName": "Yulduz Fattakhova",
      "userId": "14698334089562212742"
     },
     "user_tz": -180
    },
    "id": "YzUIGE0nBtJX",
    "outputId": "c13cd00f-15e3-47c3-ba11-cc2204e8e987"
   },
   "outputs": [
    {
     "data": {
      "text/plain": [
       "array([[738,  54, 205],\n",
       "       [ 46, 688, 219],\n",
       "       [198, 229, 509]])"
      ]
     },
     "execution_count": 42,
     "metadata": {},
     "output_type": "execute_result"
    }
   ],
   "source": [
    "confusion_matrix(y_test, predicted_test)"
   ]
  },
  {
   "cell_type": "code",
   "execution_count": null,
   "metadata": {
    "colab": {
     "base_uri": "https://localhost:8080/"
    },
    "executionInfo": {
     "elapsed": 8929,
     "status": "ok",
     "timestamp": 1648647405967,
     "user": {
      "displayName": "Yulduz Fattakhova",
      "userId": "14698334089562212742"
     },
     "user_tz": -180
    },
    "id": "JiTGmRGoCjWF",
    "outputId": "85c5a8d7-e7f1-48ec-99dc-81f104f044d5"
   },
   "outputs": [
    {
     "name": "stdout",
     "output_type": "stream",
     "text": [
      "0.6642411642411642--0.6725571725571725--0.6729036729036729--0.667013167013167--0.6746361746361746--0.6687456687456688--0.6694386694386695--0.6673596673596673--0.6787941787941788--0.6711711711711712--"
     ]
    }
   ],
   "source": [
    "# Решение 2\n",
    "# 1 эксперимент\n",
    "\n",
    "clf = DecisionTreeClassifier()\n",
    "\n",
    "for i in range(10):\n",
    "  clf.fit(x_train, y_train)\n",
    "\n",
    "  predicted_train = clf.predict(x_train)\n",
    "  predicted_test = clf.predict(x_test)\n",
    "\n",
    "  print(accuracy_score(y_test, predicted_test), end ='--')"
   ]
  },
  {
   "cell_type": "code",
   "execution_count": null,
   "metadata": {
    "colab": {
     "base_uri": "https://localhost:8080/"
    },
    "executionInfo": {
     "elapsed": 6779,
     "status": "ok",
     "timestamp": 1648647487541,
     "user": {
      "displayName": "Yulduz Fattakhova",
      "userId": "14698334089562212742"
     },
     "user_tz": -180
    },
    "id": "spskd_DZC0Xr",
    "outputId": "de63c5c1-ece2-4d8a-cf46-5aa0b16744e5"
   },
   "outputs": [
    {
     "name": "stdout",
     "output_type": "stream",
     "text": [
      "0.6704781704781705--0.6704781704781705--0.6704781704781705--0.6704781704781705--0.6704781704781705--0.6704781704781705--0.6704781704781705--0.6704781704781705--0.6704781704781705--0.6704781704781705--"
     ]
    }
   ],
   "source": [
    "# Решение 2\n",
    "# 2 эксперимент\n",
    "\n",
    "clf2 = DecisionTreeClassifier(random_state=42)\n",
    "\n",
    "for i in range(10):\n",
    "  clf2.fit(x_train, y_train)\n",
    "\n",
    "  predicted_train = clf2.predict(x_train)\n",
    "  predicted_test = clf2.predict(x_test)\n",
    "\n",
    "  print(accuracy_score(y_test, predicted_test), end ='--')"
   ]
  }
 ],
 "metadata": {
  "colab": {
   "collapsed_sections": [],
   "name": "Урок 5. Практика.ipynb",
   "provenance": []
  },
  "kernelspec": {
   "display_name": "Python 3 (ipykernel)",
   "language": "python",
   "name": "python3"
  },
  "language_info": {
   "codemirror_mode": {
    "name": "ipython",
    "version": 3
   },
   "file_extension": ".py",
   "mimetype": "text/x-python",
   "name": "python",
   "nbconvert_exporter": "python",
   "pygments_lexer": "ipython3",
   "version": "3.9.7"
  }
 },
 "nbformat": 4,
 "nbformat_minor": 1
}
