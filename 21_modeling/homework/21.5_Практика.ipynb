{
 "cells": [
  {
   "cell_type": "markdown",
   "metadata": {
    "id": "i5iLfBeotnLR"
   },
   "source": [
    "## Проверка гипотез с помощью Т-критериев"
   ]
  },
  {
   "cell_type": "markdown",
   "metadata": {
    "id": "76Yjd3o1CMKR"
   },
   "source": [
    "**Не сдаётся на проверку.**\n",
    "\n",
    "В этой практической работе три обязательные задачи и одна дополнительная.\n",
    "\n",
    "Обязательные задачи нужно сделать для того, чтобы проверить, как вы усвоили материал. Если у вас всё получилось, можете переходить к следующей теме.\n",
    "\n",
    "Дополнительная задача для тех, кто хочет немного углубиться в тему и поработать с альтернативными гипотезами.\n",
    "\n",
    "Удачи!\n"
   ]
  },
  {
   "cell_type": "markdown",
   "metadata": {
    "id": "9iRpELKNCOSk"
   },
   "source": [
    "## Цели практической работы:\n",
    "\n",
    "*   Научиться проверять данные на нормальное распределение с помощью теста Шапиро — Уилка.\n",
    "*   Научиться проверять выборки на равенство дисперсий с помощью теста Левена.\n",
    "*   Научиться применять Т-критерий Стьюдента и Т-критерий Уэлча для проверки статистических гипотез."
   ]
  },
  {
   "cell_type": "markdown",
   "metadata": {
    "id": "UWAG-ZqMCVeF"
   },
   "source": [
    "\n",
    "\n",
    "---\n",
    "\n",
    "\n",
    "\n",
    "\n",
    "---\n",
    "\n"
   ]
  },
  {
   "cell_type": "markdown",
   "metadata": {
    "id": "3v_xaTb1CYB6"
   },
   "source": [
    "##Обязательные задачи"
   ]
  },
  {
   "cell_type": "markdown",
   "metadata": {
    "id": "rNrD-e7yCarX"
   },
   "source": [
    "Постановка задачи: проверьте гипотезу из теоретического видео на новом семпле данных.\n",
    "\n",
    "*Нулевая гипотеза:* игровое время, не зависит от принадлежности к определённому гендеру, то есть среднее время женщин равно среднему времени мужчин.\n",
    "\n",
    "*Альтернативная гипотеза:* игровое время зависит от принадлежности к мужскому или женскому полу (их средние не равны).\n"
   ]
  },
  {
   "cell_type": "code",
   "execution_count": null,
   "metadata": {
    "colab": {
     "base_uri": "https://localhost:8080/"
    },
    "id": "NCJypvNWIO1P",
    "outputId": "5f14e27d-fb80-402b-91f8-9a9a054161b6"
   },
   "outputs": [
    {
     "name": "stdout",
     "output_type": "stream",
     "text": [
      "Collecting scipy==1.7.1\n",
      "  Downloading scipy-1.7.1-cp37-cp37m-manylinux_2_5_x86_64.manylinux1_x86_64.whl (28.5 MB)\n",
      "\u001b[K     |████████████████████████████████| 28.5 MB 55.7 MB/s \n",
      "\u001b[?25hRequirement already satisfied: numpy<1.23.0,>=1.16.5 in /usr/local/lib/python3.7/dist-packages (from scipy==1.7.1) (1.21.5)\n",
      "Installing collected packages: scipy\n",
      "  Attempting uninstall: scipy\n",
      "    Found existing installation: scipy 1.4.1\n",
      "    Uninstalling scipy-1.4.1:\n",
      "      Successfully uninstalled scipy-1.4.1\n",
      "\u001b[31mERROR: pip's dependency resolver does not currently take into account all the packages that are installed. This behaviour is the source of the following dependency conflicts.\n",
      "albumentations 0.1.12 requires imgaug<0.2.7,>=0.2.5, but you have imgaug 0.2.9 which is incompatible.\u001b[0m\n",
      "Successfully installed scipy-1.7.1\n"
     ]
    }
   ],
   "source": [
    "# строка для тех, кто работает в colab\n",
    "!pip install scipy==1.7.1"
   ]
  },
  {
   "cell_type": "code",
   "execution_count": null,
   "metadata": {
    "id": "2BqlmGJDGKLj"
   },
   "outputs": [],
   "source": [
    "# загрузите новый семпл данных из файла 'practice4.csv'"
   ]
  },
  {
   "cell_type": "markdown",
   "metadata": {
    "id": "9na-QBLnF-tv"
   },
   "source": [
    "1. *Тест Шапиро—Уилка*\n",
    "\n",
    "Проверьте выборки `men` и `women` на нормальное распределение. Рассчитайте p-value c помощью теста Шапиро—Уилка и интерпретируйте результат. Уровень значимости = 5%."
   ]
  },
  {
   "cell_type": "code",
   "execution_count": null,
   "metadata": {
    "id": "tqjE1FwzCMjw"
   },
   "outputs": [],
   "source": [
    "from scipy import stats\n",
    "\n",
    "# Ваш код здесь"
   ]
  },
  {
   "cell_type": "markdown",
   "metadata": {
    "id": "eHVAP87oJIxV"
   },
   "source": [
    "2. *Тест Левена*\n",
    "\n",
    "Проверьте выборки `men` и `women` на равенство дисперсий. Рассчитайте p-value c помощью теста Левена и интерпретируйте результат. Уровень значимости = 5%."
   ]
  },
  {
   "cell_type": "code",
   "execution_count": null,
   "metadata": {
    "id": "F0k0J88MrZ0Q"
   },
   "outputs": [],
   "source": []
  },
  {
   "cell_type": "markdown",
   "metadata": {
    "id": "-SooyFTGJfgJ"
   },
   "source": [
    "3. *Применение Т-критерия*\n",
    "\n",
    "Исходя из результатов, получившихся на предыдущем шаге, выберите, каким тестом проверить нулевую гипотезу: Т-критерием Стьюдента или Т-критерием Уэлча. Рассчитайте p-value, и интерпретируйте результат: зависит ли игровое время от принадлежности к определенному гендеру или нет. Уровень значимости = 5%."
   ]
  },
  {
   "cell_type": "code",
   "execution_count": null,
   "metadata": {
    "id": "-Se4zP4Qretz"
   },
   "outputs": [],
   "source": []
  },
  {
   "cell_type": "markdown",
   "metadata": {
    "id": "qo0ACRt2KdPX"
   },
   "source": [
    "Ваш ответ здесь"
   ]
  },
  {
   "cell_type": "markdown",
   "metadata": {
    "id": "9L0Tr-O4LjSy"
   },
   "source": [
    "\n",
    "\n",
    "---\n",
    "\n",
    "\n",
    "\n",
    "---\n",
    "\n"
   ]
  },
  {
   "cell_type": "markdown",
   "metadata": {
    "id": "ksO43YSSLkyF"
   },
   "source": [
    "## Дополнительная задача"
   ]
  },
  {
   "cell_type": "markdown",
   "metadata": {
    "id": "PuL7rijXLyqB"
   },
   "source": [
    "*4. Односторонний тест*\n",
    "\n",
    "Измените расчет Т-критерия в предыдущей задаче таким образом, чтобы альтернативная гипотеза звучала как: игровое время у женщин больше, чем у мужчин.\n",
    "\n",
    "Рассчитайте p-value, и интерпретируйте результат: игровое время женщин больше, чем у мужчин, или нет. Уровень значимости = 5%."
   ]
  },
  {
   "cell_type": "code",
   "execution_count": null,
   "metadata": {
    "id": "5PsUIoGeMuFL"
   },
   "outputs": [],
   "source": [
    "# Ваш код здесь"
   ]
  },
  {
   "cell_type": "markdown",
   "metadata": {
    "id": "eS5nGP3Urovv"
   },
   "source": [
    "|\n",
    "\n",
    "|\n",
    "\n",
    "|\n",
    "\n",
    "|\n",
    "\n",
    "|\n",
    "\n",
    "|\n",
    "\n",
    "|\n",
    "\n",
    "|\n",
    "\n",
    "|\n",
    "\n",
    "|\n",
    "\n",
    "|\n",
    "\n",
    "|\n",
    "\n",
    "|\n",
    "\n",
    "|\n",
    "\n",
    "## Решения"
   ]
  },
  {
   "cell_type": "code",
   "execution_count": null,
   "metadata": {
    "id": "Fl7eOU5vqww5"
   },
   "outputs": [],
   "source": [
    "# загрузка данных\n",
    "import pandas as pd\n",
    "\n",
    "df = pd.read_csv('practice4.csv')"
   ]
  },
  {
   "cell_type": "markdown",
   "metadata": {
    "id": "9XQg6eWesayz"
   },
   "source": [
    "**Обязательные задачи**"
   ]
  },
  {
   "cell_type": "markdown",
   "metadata": {
    "id": "wXx8QbGgrPQd"
   },
   "source": [
    "1. *Тест Шапиро-Уилка*"
   ]
  },
  {
   "cell_type": "code",
   "execution_count": null,
   "metadata": {
    "id": "uGqwgYQSsjar"
   },
   "outputs": [],
   "source": [
    "from scipy import stats"
   ]
  },
  {
   "cell_type": "code",
   "execution_count": null,
   "metadata": {
    "colab": {
     "base_uri": "https://localhost:8080/"
    },
    "id": "JUx8uo0PrPQe",
    "outputId": "130bd7d4-dc51-4393-c171-fc24a3d4ab17"
   },
   "outputs": [
    {
     "data": {
      "text/plain": [
       "ShapiroResult(statistic=0.9894130825996399, pvalue=0.6173409223556519)"
      ]
     },
     "execution_count": 9,
     "metadata": {},
     "output_type": "execute_result"
    }
   ],
   "source": [
    "# решение\n",
    "stats.shapiro(df.men)"
   ]
  },
  {
   "cell_type": "code",
   "execution_count": null,
   "metadata": {
    "colab": {
     "base_uri": "https://localhost:8080/"
    },
    "id": "8ooJ5f3QrPQf",
    "outputId": "397de7c1-bf5d-443e-cc40-848eb68443a8"
   },
   "outputs": [
    {
     "data": {
      "text/plain": [
       "ShapiroResult(statistic=0.9841593503952026, pvalue=0.2757852375507355)"
      ]
     },
     "execution_count": 10,
     "metadata": {},
     "output_type": "execute_result"
    }
   ],
   "source": [
    "# решение\n",
    "stats.shapiro(df.women)"
   ]
  },
  {
   "cell_type": "markdown",
   "metadata": {
    "id": "IK7Pxs9ZrU-A"
   },
   "source": [
    "2. *Тест Левена*"
   ]
  },
  {
   "cell_type": "code",
   "execution_count": null,
   "metadata": {
    "colab": {
     "base_uri": "https://localhost:8080/"
    },
    "id": "CUbBOv3XrU-B",
    "outputId": "cfa82cbe-6508-4934-c255-b5199ef43f2b"
   },
   "outputs": [
    {
     "data": {
      "text/plain": [
       "LeveneResult(statistic=0.9323401329360519, pvalue=0.33543344271894215)"
      ]
     },
     "execution_count": 11,
     "metadata": {},
     "output_type": "execute_result"
    }
   ],
   "source": [
    "# решение\n",
    "stats.levene(df.men, df.women)"
   ]
  },
  {
   "cell_type": "markdown",
   "metadata": {
    "id": "MPYn4O2CrU-B"
   },
   "source": [
    "3. *Применение Т-критерия*\n"
   ]
  },
  {
   "cell_type": "code",
   "execution_count": null,
   "metadata": {
    "colab": {
     "base_uri": "https://localhost:8080/"
    },
    "id": "Znx6gNHJrU-B",
    "outputId": "29eafb62-f993-4c3b-fac4-eb396b30de7c"
   },
   "outputs": [
    {
     "data": {
      "text/plain": [
       "Ttest_indResult(statistic=-13.18844004591947, pvalue=6.445889120331417e-29)"
      ]
     },
     "execution_count": 12,
     "metadata": {},
     "output_type": "execute_result"
    }
   ],
   "source": [
    "# решение\n",
    "# применяем т-критерий Стьюдента, тк условие на равенство дисперсий и нормальное распределение пройдено. \n",
    "# P-value очень мало, а значит, мы соглашаемся с альтернативной гипотезой. \n",
    "stats.ttest_ind(df.men, df.women)"
   ]
  },
  {
   "cell_type": "markdown",
   "metadata": {
    "id": "RH1jzIghrU-B"
   },
   "source": [
    "\n",
    "\n",
    "---\n",
    "\n",
    "\n",
    "\n",
    "---\n",
    "\n"
   ]
  },
  {
   "cell_type": "markdown",
   "metadata": {
    "id": "Phdcy9IKrU-B"
   },
   "source": [
    "**Дополнительные задачи**"
   ]
  },
  {
   "cell_type": "code",
   "execution_count": null,
   "metadata": {
    "colab": {
     "base_uri": "https://localhost:8080/"
    },
    "id": "fBOlybj5rU-C",
    "outputId": "8046baca-8b93-4c19-be6b-f11afab3373d"
   },
   "outputs": [
    {
     "data": {
      "text/plain": [
       "Ttest_indResult(statistic=-13.18844004591947, pvalue=3.2229445601657084e-29)"
      ]
     },
     "execution_count": 15,
     "metadata": {},
     "output_type": "execute_result"
    }
   ],
   "source": [
    "# решение\n",
    "# P-value очень мало, значит среднее женщин больше, чем у мужчин\n",
    "stats.ttest_ind(df.men, df.women, alternative='less')"
   ]
  }
 ],
 "metadata": {
  "colab": {
   "collapsed_sections": [],
   "name": "21.4_Практика.ipynb",
   "provenance": []
  },
  "kernelspec": {
   "display_name": "Python 3 (ipykernel)",
   "language": "python",
   "name": "python3"
  },
  "language_info": {
   "codemirror_mode": {
    "name": "ipython",
    "version": 3
   },
   "file_extension": ".py",
   "mimetype": "text/x-python",
   "name": "python",
   "nbconvert_exporter": "python",
   "pygments_lexer": "ipython3",
   "version": "3.9.7"
  }
 },
 "nbformat": 4,
 "nbformat_minor": 4
}
