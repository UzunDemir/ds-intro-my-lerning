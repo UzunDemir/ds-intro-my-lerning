{
 "cells": [
  {
   "cell_type": "markdown",
   "id": "09a9af24",
   "metadata": {
    "id": "09a9af24"
   },
   "source": [
    "# Аномалии и выбросы. Практическая работа"
   ]
  },
  {
   "cell_type": "markdown",
   "id": "462864db",
   "metadata": {
    "ExecuteTime": {
     "end_time": "2022-01-30T20:34:53.684146Z",
     "start_time": "2022-01-30T20:34:53.641740Z"
    },
    "id": "462864db"
   },
   "source": [
    "### Задача. Исследование выбросов с использованием правила трёх сигм\n",
    "\n",
    "1. Загрузите датасет из `test_outliers.csv` и выведите первые пять записей.\n",
    "\n"
   ]
  },
  {
   "cell_type": "code",
   "execution_count": 1,
   "id": "0de3b626",
   "metadata": {
    "id": "0de3b626"
   },
   "outputs": [],
   "source": [
    "# Ваш код здесь\n",
    "import pandas as pd"
   ]
  },
  {
   "cell_type": "code",
   "execution_count": 2,
   "id": "b05b29fa",
   "metadata": {},
   "outputs": [
    {
     "data": {
      "text/html": [
       "<div>\n",
       "<style scoped>\n",
       "    .dataframe tbody tr th:only-of-type {\n",
       "        vertical-align: middle;\n",
       "    }\n",
       "\n",
       "    .dataframe tbody tr th {\n",
       "        vertical-align: top;\n",
       "    }\n",
       "\n",
       "    .dataframe thead th {\n",
       "        text-align: right;\n",
       "    }\n",
       "</style>\n",
       "<table border=\"1\" class=\"dataframe\">\n",
       "  <thead>\n",
       "    <tr style=\"text-align: right;\">\n",
       "      <th></th>\n",
       "      <th>value</th>\n",
       "    </tr>\n",
       "  </thead>\n",
       "  <tbody>\n",
       "    <tr>\n",
       "      <th>0</th>\n",
       "      <td>-71.0</td>\n",
       "    </tr>\n",
       "    <tr>\n",
       "      <th>1</th>\n",
       "      <td>141.0</td>\n",
       "    </tr>\n",
       "    <tr>\n",
       "      <th>2</th>\n",
       "      <td>104.0</td>\n",
       "    </tr>\n",
       "    <tr>\n",
       "      <th>3</th>\n",
       "      <td>116.0</td>\n",
       "    </tr>\n",
       "    <tr>\n",
       "      <th>4</th>\n",
       "      <td>214.0</td>\n",
       "    </tr>\n",
       "  </tbody>\n",
       "</table>\n",
       "</div>"
      ],
      "text/plain": [
       "   value\n",
       "0  -71.0\n",
       "1  141.0\n",
       "2  104.0\n",
       "3  116.0\n",
       "4  214.0"
      ]
     },
     "execution_count": 2,
     "metadata": {},
     "output_type": "execute_result"
    }
   ],
   "source": [
    "df_test = pd.read_csv('data/test_outliers.csv')\n",
    "df_test.head()"
   ]
  },
  {
   "cell_type": "markdown",
   "id": "fadcffa0",
   "metadata": {
    "id": "fadcffa0"
   },
   "source": [
    "2. Выведите описательные статистики для признака `value`.\n"
   ]
  },
  {
   "cell_type": "code",
   "execution_count": 3,
   "id": "65adcd53",
   "metadata": {
    "ExecuteTime": {
     "end_time": "2022-01-30T20:37:32.872075Z",
     "start_time": "2022-01-30T20:37:32.867549Z"
    },
    "id": "65adcd53"
   },
   "outputs": [
    {
     "data": {
      "text/plain": [
       "count    11000.000000\n",
       "mean        66.669455\n",
       "std        235.722382\n",
       "min       -439.000000\n",
       "25%        -62.000000\n",
       "50%         11.000000\n",
       "75%         93.000000\n",
       "max        800.000000\n",
       "Name: value, dtype: float64"
      ]
     },
     "execution_count": 3,
     "metadata": {},
     "output_type": "execute_result"
    }
   ],
   "source": [
    "# Ваш код здесь\n",
    "df_test['value'].describe()"
   ]
  },
  {
   "cell_type": "markdown",
   "id": "604ccf74",
   "metadata": {
    "id": "604ccf74"
   },
   "source": [
    "3. Выведите границы для нормальных значений признака, используя правило трёх сигм. Напишите функцию `calculate_outliers_3sigma` для расчёта границ самостоятельно. Посмотрите, входят ли минимальное и максимальное значения в интервал между полученными границами.\n"
   ]
  },
  {
   "cell_type": "code",
   "execution_count": 4,
   "id": "d6e8d428",
   "metadata": {
    "id": "d6e8d428"
   },
   "outputs": [
    {
     "name": "stdout",
     "output_type": "stream",
     "text": [
      "Границы для нормальных значений года выпуска, используя правило 3х сигм: (-640.4976903233794, 773.8365994142885)\n"
     ]
    }
   ],
   "source": [
    "# Ваш код здесь\n",
    "def calculate_outliers_3sigma(data):\n",
    "    low = data.mean() - 3 * data.std()\n",
    "    high = data.mean() + 3 * data.std()\n",
    "    boundaries = (low, high)\n",
    "    \n",
    "    return boundaries\n",
    "\n",
    "boundaries = calculate_outliers_3sigma(df_test.value)\n",
    "\n",
    "print(\"Границы для нормальных значений года выпуска, используя правило 3х сигм:\", boundaries)"
   ]
  },
  {
   "cell_type": "markdown",
   "id": "6ce54244",
   "metadata": {
    "id": "6ce54244"
   },
   "source": [
    "4. Посчитайте и выведите количество выбросов в признаке."
   ]
  },
  {
   "cell_type": "code",
   "execution_count": 5,
   "id": "ccd33c76",
   "metadata": {
    "id": "ccd33c76"
   },
   "outputs": [
    {
     "name": "stdout",
     "output_type": "stream",
     "text": [
      "Количество выбросов: 226\n"
     ]
    }
   ],
   "source": [
    "# Ваш код здесь\n",
    "is_outlier = (df_test['value'] < boundaries[0]) | (df_test['value'] > boundaries[1]) \n",
    "print(\"Количество выбросов:\", is_outlier.sum()) "
   ]
  },
  {
   "cell_type": "markdown",
   "id": "8fd01ee3",
   "metadata": {
    "id": "8fd01ee3"
   },
   "source": [
    "|"
   ]
  },
  {
   "cell_type": "markdown",
   "id": "0c1e9979",
   "metadata": {
    "id": "0c1e9979"
   },
   "source": [
    "|"
   ]
  },
  {
   "cell_type": "markdown",
   "id": "a13d13fe",
   "metadata": {
    "id": "a13d13fe"
   },
   "source": [
    "|"
   ]
  },
  {
   "cell_type": "markdown",
   "id": "8c6885b8",
   "metadata": {
    "id": "8c6885b8"
   },
   "source": [
    "|"
   ]
  },
  {
   "cell_type": "markdown",
   "id": "5f3348cd",
   "metadata": {
    "id": "5f3348cd"
   },
   "source": [
    "|"
   ]
  },
  {
   "cell_type": "markdown",
   "id": "373ff286",
   "metadata": {
    "id": "373ff286"
   },
   "source": [
    "|"
   ]
  },
  {
   "cell_type": "markdown",
   "id": "560dba2c",
   "metadata": {
    "id": "560dba2c"
   },
   "source": [
    "|"
   ]
  },
  {
   "cell_type": "markdown",
   "id": "6c177fc8",
   "metadata": {
    "id": "6c177fc8"
   },
   "source": [
    "|"
   ]
  },
  {
   "cell_type": "markdown",
   "id": "257957de",
   "metadata": {
    "id": "257957de"
   },
   "source": [
    "|"
   ]
  },
  {
   "cell_type": "markdown",
   "id": "68936b5e",
   "metadata": {
    "id": "68936b5e"
   },
   "source": [
    "|"
   ]
  },
  {
   "cell_type": "markdown",
   "id": "56a858fb",
   "metadata": {
    "id": "56a858fb"
   },
   "source": [
    "|"
   ]
  },
  {
   "cell_type": "markdown",
   "id": "b276de09",
   "metadata": {
    "id": "b276de09"
   },
   "source": [
    "|"
   ]
  },
  {
   "cell_type": "markdown",
   "id": "af8ecbeb",
   "metadata": {
    "id": "af8ecbeb"
   },
   "source": [
    "|"
   ]
  },
  {
   "cell_type": "markdown",
   "id": "4aa0ea8b",
   "metadata": {
    "id": "4aa0ea8b"
   },
   "source": [
    "|"
   ]
  },
  {
   "cell_type": "markdown",
   "id": "6979f442",
   "metadata": {
    "id": "6979f442"
   },
   "source": [
    "|"
   ]
  },
  {
   "cell_type": "markdown",
   "id": "4d6ecee1",
   "metadata": {
    "id": "4d6ecee1"
   },
   "source": [
    "|"
   ]
  },
  {
   "cell_type": "markdown",
   "id": "e26fa275",
   "metadata": {
    "id": "e26fa275"
   },
   "source": [
    "|"
   ]
  },
  {
   "cell_type": "markdown",
   "id": "e3baf5ae",
   "metadata": {
    "id": "e3baf5ae"
   },
   "source": [
    "|"
   ]
  },
  {
   "cell_type": "markdown",
   "id": "2a061fe6",
   "metadata": {
    "id": "2a061fe6"
   },
   "source": [
    "**Ответы для самостоятельной проверки**"
   ]
  },
  {
   "cell_type": "code",
   "execution_count": null,
   "id": "fd0db051",
   "metadata": {
    "ExecuteTime": {
     "end_time": "2022-01-30T20:37:31.205098Z",
     "start_time": "2022-01-30T20:37:31.182298Z"
    },
    "id": "fd0db051",
    "outputId": "78d8589b-bbfc-40f4-a620-35785cc79d59"
   },
   "outputs": [
    {
     "data": {
      "text/html": [
       "<div>\n",
       "<style scoped>\n",
       "    .dataframe tbody tr th:only-of-type {\n",
       "        vertical-align: middle;\n",
       "    }\n",
       "\n",
       "    .dataframe tbody tr th {\n",
       "        vertical-align: top;\n",
       "    }\n",
       "\n",
       "    .dataframe thead th {\n",
       "        text-align: right;\n",
       "    }\n",
       "</style>\n",
       "<table border=\"1\" class=\"dataframe\">\n",
       "  <thead>\n",
       "    <tr style=\"text-align: right;\">\n",
       "      <th></th>\n",
       "      <th>value</th>\n",
       "    </tr>\n",
       "  </thead>\n",
       "  <tbody>\n",
       "    <tr>\n",
       "      <th>0</th>\n",
       "      <td>-71.0</td>\n",
       "    </tr>\n",
       "    <tr>\n",
       "      <th>1</th>\n",
       "      <td>141.0</td>\n",
       "    </tr>\n",
       "    <tr>\n",
       "      <th>2</th>\n",
       "      <td>104.0</td>\n",
       "    </tr>\n",
       "    <tr>\n",
       "      <th>3</th>\n",
       "      <td>116.0</td>\n",
       "    </tr>\n",
       "    <tr>\n",
       "      <th>4</th>\n",
       "      <td>214.0</td>\n",
       "    </tr>\n",
       "  </tbody>\n",
       "</table>\n",
       "</div>"
      ],
      "text/plain": [
       "   value\n",
       "0  -71.0\n",
       "1  141.0\n",
       "2  104.0\n",
       "3  116.0\n",
       "4  214.0"
      ]
     },
     "execution_count": 97,
     "metadata": {},
     "output_type": "execute_result"
    }
   ],
   "source": [
    "# 1\n",
    "\n",
    "df_test = pd.read_csv('data/test_outliers.csv')\n",
    "df_test.head()"
   ]
  },
  {
   "cell_type": "code",
   "execution_count": null,
   "id": "3xzh41WnRKXz",
   "metadata": {
    "ExecuteTime": {
     "end_time": "2022-01-30T20:37:33.290180Z",
     "start_time": "2022-01-30T20:37:33.263020Z"
    },
    "id": "3xzh41WnRKXz",
    "outputId": "568bf01f-c8d1-408d-cc87-b7a9413cb919"
   },
   "outputs": [
    {
     "data": {
      "text/plain": [
       "count    11000.000000\n",
       "mean        66.669455\n",
       "std        235.722382\n",
       "min       -439.000000\n",
       "25%        -62.000000\n",
       "50%         11.000000\n",
       "75%         93.000000\n",
       "max        800.000000\n",
       "Name: value, dtype: float64"
      ]
     },
     "execution_count": 99,
     "metadata": {},
     "output_type": "execute_result"
    }
   ],
   "source": [
    "# 2\n",
    "\n",
    "df_test['value'].describe()"
   ]
  },
  {
   "cell_type": "code",
   "execution_count": null,
   "id": "bxUzcI1BRMMG",
   "metadata": {
    "ExecuteTime": {
     "end_time": "2022-01-30T20:46:47.006284Z",
     "start_time": "2022-01-30T20:46:46.989083Z"
    },
    "id": "bxUzcI1BRMMG",
    "outputId": "a65fabea-1d77-4ee2-f73e-6d9cc4cc78f1"
   },
   "outputs": [
    {
     "name": "stdout",
     "output_type": "stream",
     "text": [
      "Границы для нормальных значений года выпуска, используя правило 3х сигм: (-640.4976903233794, 773.8365994142885)\n"
     ]
    }
   ],
   "source": [
    "# 3\n",
    "\n",
    "def calculate_outliers_3sigma(data):\n",
    "    low = data.mean() - 3 * data.std()\n",
    "    high = data.mean() + 3 * data.std()\n",
    "    boundaries = (low, high)\n",
    "    \n",
    "    return boundaries\n",
    "\n",
    "boundaries = calculate_outliers_3sigma(df.value)\n",
    "\n",
    "print(\"Границы для нормальных значений года выпуска, используя правило 3х сигм:\", boundaries)"
   ]
  },
  {
   "cell_type": "code",
   "execution_count": null,
   "id": "GaTBA9ZeROqE",
   "metadata": {
    "ExecuteTime": {
     "end_time": "2022-01-30T20:48:28.106688Z",
     "start_time": "2022-01-30T20:48:28.053942Z"
    },
    "id": "GaTBA9ZeROqE",
    "outputId": "5bd2575b-6ed8-4dc6-afe9-2926f0fd893d"
   },
   "outputs": [
    {
     "name": "stdout",
     "output_type": "stream",
     "text": [
      "Количество выбросов: 226\n"
     ]
    }
   ],
   "source": [
    "# 4\n",
    "\n",
    "is_outlier = (df_test['value'] < boundaries[0]) | (df_test['value'] > boundaries[1]) \n",
    "print(\"Количество выбросов:\", is_outlier.sum()) "
   ]
  },
  {
   "cell_type": "code",
   "execution_count": null,
   "id": "90001044-c8c0-486f-a3b3-aa1a663c6022",
   "metadata": {},
   "outputs": [],
   "source": []
  }
 ],
 "metadata": {
  "colab": {
   "collapsed_sections": [],
   "name": "18.4_Практика.ipynb",
   "provenance": []
  },
  "kernelspec": {
   "display_name": "Python 3 (ipykernel)",
   "language": "python",
   "name": "python3"
  },
  "language_info": {
   "codemirror_mode": {
    "name": "ipython",
    "version": 3
   },
   "file_extension": ".py",
   "mimetype": "text/x-python",
   "name": "python",
   "nbconvert_exporter": "python",
   "pygments_lexer": "ipython3",
   "version": "3.9.7"
  },
  "toc": {
   "base_numbering": 1,
   "nav_menu": {},
   "number_sections": true,
   "sideBar": true,
   "skip_h1_title": false,
   "title_cell": "Table of Contents",
   "title_sidebar": "Contents",
   "toc_cell": false,
   "toc_position": {},
   "toc_section_display": true,
   "toc_window_display": false
  }
 },
 "nbformat": 4,
 "nbformat_minor": 5
}
