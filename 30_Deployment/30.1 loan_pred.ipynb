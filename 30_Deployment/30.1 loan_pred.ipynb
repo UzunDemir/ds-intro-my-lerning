{
 "cells": [
  {
   "cell_type": "markdown",
   "id": "f0307e0d",
   "metadata": {
    "id": "f0307e0d"
   },
   "source": []
  },
  {
   "cell_type": "markdown",
   "id": "23d00cd8",
   "metadata": {
    "id": "23d00cd8"
   },
   "source": [
    "### Введение в DS. Модуль 30. Deployment.\n",
    "---"
   ]
  },
  {
   "cell_type": "markdown",
   "id": "9c9670df",
   "metadata": {
    "id": "9c9670df"
   },
   "source": [
    "# Задача\n",
    "\n",
    "Некая финансовая компания **Жилье Вашей Мечты** занимается всеми видами ипотечных кредитов. Они работают на всех видах местности – в городах, агломерациях и сельской местности. Устроено все как обычно: клиент подает заявку на кредит и через некоторое время получает одобрение или отказ.   \n",
    "\n",
    "Компания хочет автоматизировать принятие кредитных решений на основе данных, которые клиент оставляет в заявке на кредит. Для этого компания предоставляет набор данных, который содержит историческую информацию об утилизированных заявках. Каждая заявка из набора включает признак, указывающий, была она одобрена или нет.  \n",
    "\n",
    "## Датасет\n",
    "\n",
    "* **Loan_ID** – уникальный идентификатор заявки;\n",
    "* **Gender** – пол заявителя (_Male/Female_);\n",
    "* **Married** – семейное положение заявителя (_Y – женат/замужем, N – нет_);\n",
    "* **Dependents** – количество людей, которые находятся в финансовой зависимости от заявителя (_например, дети_);\n",
    "* **Education** – уровень образования заявителя;\n",
    "* **Self_Employed** – признак, который указывает, является ли заявитель самозанятым;\n",
    "* **ApplicantIncome** – доход заявителя (_в условных единицах_);\n",
    "* **CoapplicantIncome** – доход поручителя (_в условных единицах_);\n",
    "* **LoanAmount** – размер запрашиваемой ссуды (_в тысячах условных единиц_);\n",
    "* **LoanAmountTerm** – на какой срок запрашивается ссуда (_в месяцах_);\n",
    "* **Credit_History** – признак, указывающий, есть ли у заявителя кредитная история (_1.0 – есть, 0.0 – нет_);\n",
    "* **Property_Area** – тип местности, на которой находится приобретаемый объект недвижимости (_Urban – город, Semi Urban – агломерация, Rural – сельская местность_);\n",
    "* **Loan_Status** – признак, указывающий, была одобрена ссуда или нет. `Это ваша – Целевая переменная`;"
   ]
  },
  {
   "cell_type": "markdown",
   "id": "16f37651",
   "metadata": {
    "id": "16f37651"
   },
   "source": [
    "# Решение\n",
    "\n",
    "## Импортируем необходимые пакеты"
   ]
  },
  {
   "cell_type": "code",
   "execution_count": 1,
   "id": "f3080483",
   "metadata": {
    "id": "f3080483"
   },
   "outputs": [],
   "source": [
    "import pandas as pd\n",
    "import matplotlib.pyplot as plt\n",
    "\n",
    "from sklearn.preprocessing import StandardScaler\n",
    "from sklearn.model_selection import cross_val_score\n",
    "from sklearn.ensemble import RandomForestClassifier\n",
    "from sklearn.linear_model import LogisticRegression\n",
    "from sklearn.neural_network import MLPClassifier"
   ]
  },
  {
   "cell_type": "markdown",
   "id": "98ccfca4",
   "metadata": {
    "id": "98ccfca4"
   },
   "source": [
    "## Считываем данные в датафреймы"
   ]
  },
  {
   "cell_type": "code",
   "execution_count": 3,
   "id": "03708ee6",
   "metadata": {
    "id": "03708ee6",
    "outputId": "ec5e7542-2c77-49c9-e345-1eed2f10e835"
   },
   "outputs": [
    {
     "data": {
      "text/html": [
       "<div>\n",
       "<style scoped>\n",
       "    .dataframe tbody tr th:only-of-type {\n",
       "        vertical-align: middle;\n",
       "    }\n",
       "\n",
       "    .dataframe tbody tr th {\n",
       "        vertical-align: top;\n",
       "    }\n",
       "\n",
       "    .dataframe thead th {\n",
       "        text-align: right;\n",
       "    }\n",
       "</style>\n",
       "<table border=\"1\" class=\"dataframe\">\n",
       "  <thead>\n",
       "    <tr style=\"text-align: right;\">\n",
       "      <th></th>\n",
       "      <th>Loan_ID</th>\n",
       "      <th>Gender</th>\n",
       "      <th>Married</th>\n",
       "      <th>Dependents</th>\n",
       "      <th>Education</th>\n",
       "      <th>Self_Employed</th>\n",
       "      <th>ApplicantIncome</th>\n",
       "      <th>CoapplicantIncome</th>\n",
       "      <th>LoanAmount</th>\n",
       "      <th>Loan_Amount_Term</th>\n",
       "      <th>Credit_History</th>\n",
       "      <th>Property_Area</th>\n",
       "      <th>Loan_Status</th>\n",
       "    </tr>\n",
       "  </thead>\n",
       "  <tbody>\n",
       "    <tr>\n",
       "      <th>0</th>\n",
       "      <td>LP001002</td>\n",
       "      <td>Male</td>\n",
       "      <td>No</td>\n",
       "      <td>0</td>\n",
       "      <td>Graduate</td>\n",
       "      <td>No</td>\n",
       "      <td>5849</td>\n",
       "      <td>0.0</td>\n",
       "      <td>NaN</td>\n",
       "      <td>360.0</td>\n",
       "      <td>1.0</td>\n",
       "      <td>Urban</td>\n",
       "      <td>Y</td>\n",
       "    </tr>\n",
       "    <tr>\n",
       "      <th>1</th>\n",
       "      <td>LP001003</td>\n",
       "      <td>Male</td>\n",
       "      <td>Yes</td>\n",
       "      <td>1</td>\n",
       "      <td>Graduate</td>\n",
       "      <td>No</td>\n",
       "      <td>4583</td>\n",
       "      <td>1508.0</td>\n",
       "      <td>128.0</td>\n",
       "      <td>360.0</td>\n",
       "      <td>1.0</td>\n",
       "      <td>Rural</td>\n",
       "      <td>N</td>\n",
       "    </tr>\n",
       "    <tr>\n",
       "      <th>2</th>\n",
       "      <td>LP001005</td>\n",
       "      <td>Male</td>\n",
       "      <td>Yes</td>\n",
       "      <td>0</td>\n",
       "      <td>Graduate</td>\n",
       "      <td>Yes</td>\n",
       "      <td>3000</td>\n",
       "      <td>0.0</td>\n",
       "      <td>66.0</td>\n",
       "      <td>360.0</td>\n",
       "      <td>1.0</td>\n",
       "      <td>Urban</td>\n",
       "      <td>Y</td>\n",
       "    </tr>\n",
       "    <tr>\n",
       "      <th>3</th>\n",
       "      <td>LP001006</td>\n",
       "      <td>Male</td>\n",
       "      <td>Yes</td>\n",
       "      <td>0</td>\n",
       "      <td>Not Graduate</td>\n",
       "      <td>No</td>\n",
       "      <td>2583</td>\n",
       "      <td>2358.0</td>\n",
       "      <td>120.0</td>\n",
       "      <td>360.0</td>\n",
       "      <td>1.0</td>\n",
       "      <td>Urban</td>\n",
       "      <td>Y</td>\n",
       "    </tr>\n",
       "    <tr>\n",
       "      <th>4</th>\n",
       "      <td>LP001008</td>\n",
       "      <td>Male</td>\n",
       "      <td>No</td>\n",
       "      <td>0</td>\n",
       "      <td>Graduate</td>\n",
       "      <td>No</td>\n",
       "      <td>6000</td>\n",
       "      <td>0.0</td>\n",
       "      <td>141.0</td>\n",
       "      <td>360.0</td>\n",
       "      <td>1.0</td>\n",
       "      <td>Urban</td>\n",
       "      <td>Y</td>\n",
       "    </tr>\n",
       "  </tbody>\n",
       "</table>\n",
       "</div>"
      ],
      "text/plain": [
       "    Loan_ID Gender Married Dependents     Education Self_Employed  \\\n",
       "0  LP001002   Male      No          0      Graduate            No   \n",
       "1  LP001003   Male     Yes          1      Graduate            No   \n",
       "2  LP001005   Male     Yes          0      Graduate           Yes   \n",
       "3  LP001006   Male     Yes          0  Not Graduate            No   \n",
       "4  LP001008   Male      No          0      Graduate            No   \n",
       "\n",
       "   ApplicantIncome  CoapplicantIncome  LoanAmount  Loan_Amount_Term  \\\n",
       "0             5849                0.0         NaN             360.0   \n",
       "1             4583             1508.0       128.0             360.0   \n",
       "2             3000                0.0        66.0             360.0   \n",
       "3             2583             2358.0       120.0             360.0   \n",
       "4             6000                0.0       141.0             360.0   \n",
       "\n",
       "   Credit_History Property_Area Loan_Status  \n",
       "0             1.0         Urban           Y  \n",
       "1             1.0         Rural           N  \n",
       "2             1.0         Urban           Y  \n",
       "3             1.0         Urban           Y  \n",
       "4             1.0         Urban           Y  "
      ]
     },
     "execution_count": 3,
     "metadata": {},
     "output_type": "execute_result"
    }
   ],
   "source": [
    "df_loan = pd.read_csv('data/loan_train.csv')\n",
    "\n",
    "df_loan.head()"
   ]
  },
  {
   "cell_type": "code",
   "execution_count": 4,
   "id": "9a22b0d4",
   "metadata": {
    "id": "9a22b0d4",
    "outputId": "83b82e33-27fa-41e9-caef-af9f7aab09e1"
   },
   "outputs": [
    {
     "data": {
      "text/html": [
       "<div>\n",
       "<style scoped>\n",
       "    .dataframe tbody tr th:only-of-type {\n",
       "        vertical-align: middle;\n",
       "    }\n",
       "\n",
       "    .dataframe tbody tr th {\n",
       "        vertical-align: top;\n",
       "    }\n",
       "\n",
       "    .dataframe thead th {\n",
       "        text-align: right;\n",
       "    }\n",
       "</style>\n",
       "<table border=\"1\" class=\"dataframe\">\n",
       "  <thead>\n",
       "    <tr style=\"text-align: right;\">\n",
       "      <th></th>\n",
       "      <th>Gender</th>\n",
       "      <th>Married</th>\n",
       "      <th>Dependents</th>\n",
       "      <th>Education</th>\n",
       "      <th>Self_Employed</th>\n",
       "      <th>ApplicantIncome</th>\n",
       "      <th>CoapplicantIncome</th>\n",
       "      <th>LoanAmount</th>\n",
       "      <th>Loan_Amount_Term</th>\n",
       "      <th>Credit_History</th>\n",
       "      <th>Property_Area</th>\n",
       "      <th>Loan_Status</th>\n",
       "    </tr>\n",
       "  </thead>\n",
       "  <tbody>\n",
       "    <tr>\n",
       "      <th>0</th>\n",
       "      <td>Male</td>\n",
       "      <td>No</td>\n",
       "      <td>0</td>\n",
       "      <td>Graduate</td>\n",
       "      <td>No</td>\n",
       "      <td>5849</td>\n",
       "      <td>0.0</td>\n",
       "      <td>NaN</td>\n",
       "      <td>360.0</td>\n",
       "      <td>1.0</td>\n",
       "      <td>Urban</td>\n",
       "      <td>Y</td>\n",
       "    </tr>\n",
       "    <tr>\n",
       "      <th>1</th>\n",
       "      <td>Male</td>\n",
       "      <td>Yes</td>\n",
       "      <td>1</td>\n",
       "      <td>Graduate</td>\n",
       "      <td>No</td>\n",
       "      <td>4583</td>\n",
       "      <td>1508.0</td>\n",
       "      <td>128.0</td>\n",
       "      <td>360.0</td>\n",
       "      <td>1.0</td>\n",
       "      <td>Rural</td>\n",
       "      <td>N</td>\n",
       "    </tr>\n",
       "    <tr>\n",
       "      <th>2</th>\n",
       "      <td>Male</td>\n",
       "      <td>Yes</td>\n",
       "      <td>0</td>\n",
       "      <td>Graduate</td>\n",
       "      <td>Yes</td>\n",
       "      <td>3000</td>\n",
       "      <td>0.0</td>\n",
       "      <td>66.0</td>\n",
       "      <td>360.0</td>\n",
       "      <td>1.0</td>\n",
       "      <td>Urban</td>\n",
       "      <td>Y</td>\n",
       "    </tr>\n",
       "    <tr>\n",
       "      <th>3</th>\n",
       "      <td>Male</td>\n",
       "      <td>Yes</td>\n",
       "      <td>0</td>\n",
       "      <td>Not Graduate</td>\n",
       "      <td>No</td>\n",
       "      <td>2583</td>\n",
       "      <td>2358.0</td>\n",
       "      <td>120.0</td>\n",
       "      <td>360.0</td>\n",
       "      <td>1.0</td>\n",
       "      <td>Urban</td>\n",
       "      <td>Y</td>\n",
       "    </tr>\n",
       "    <tr>\n",
       "      <th>4</th>\n",
       "      <td>Male</td>\n",
       "      <td>No</td>\n",
       "      <td>0</td>\n",
       "      <td>Graduate</td>\n",
       "      <td>No</td>\n",
       "      <td>6000</td>\n",
       "      <td>0.0</td>\n",
       "      <td>141.0</td>\n",
       "      <td>360.0</td>\n",
       "      <td>1.0</td>\n",
       "      <td>Urban</td>\n",
       "      <td>Y</td>\n",
       "    </tr>\n",
       "  </tbody>\n",
       "</table>\n",
       "</div>"
      ],
      "text/plain": [
       "  Gender Married Dependents     Education Self_Employed  ApplicantIncome  \\\n",
       "0   Male      No          0      Graduate            No             5849   \n",
       "1   Male     Yes          1      Graduate            No             4583   \n",
       "2   Male     Yes          0      Graduate           Yes             3000   \n",
       "3   Male     Yes          0  Not Graduate            No             2583   \n",
       "4   Male      No          0      Graduate            No             6000   \n",
       "\n",
       "   CoapplicantIncome  LoanAmount  Loan_Amount_Term  Credit_History  \\\n",
       "0                0.0         NaN             360.0             1.0   \n",
       "1             1508.0       128.0             360.0             1.0   \n",
       "2                0.0        66.0             360.0             1.0   \n",
       "3             2358.0       120.0             360.0             1.0   \n",
       "4                0.0       141.0             360.0             1.0   \n",
       "\n",
       "  Property_Area Loan_Status  \n",
       "0         Urban           Y  \n",
       "1         Rural           N  \n",
       "2         Urban           Y  \n",
       "3         Urban           Y  \n",
       "4         Urban           Y  "
      ]
     },
     "execution_count": 4,
     "metadata": {},
     "output_type": "execute_result"
    }
   ],
   "source": [
    "# Сразу же удаляем столбец Loan_ID, его значения уникальны, а значит никак не помогут классификации.\n",
    "df_loan = df_loan.drop('Loan_ID', axis=1)\n",
    "\n",
    "df_loan.head()"
   ]
  },
  {
   "cell_type": "markdown",
   "id": "7d76e1e8",
   "metadata": {
    "id": "7d76e1e8"
   },
   "source": [
    "## EDA"
   ]
  },
  {
   "cell_type": "code",
   "execution_count": 5,
   "id": "d8c8a974",
   "metadata": {
    "id": "d8c8a974",
    "outputId": "c857884f-e6c2-4156-9162-80963b46f0e8",
    "scrolled": true
   },
   "outputs": [
    {
     "data": {
      "text/html": [
       "<div>\n",
       "<style scoped>\n",
       "    .dataframe tbody tr th:only-of-type {\n",
       "        vertical-align: middle;\n",
       "    }\n",
       "\n",
       "    .dataframe tbody tr th {\n",
       "        vertical-align: top;\n",
       "    }\n",
       "\n",
       "    .dataframe thead th {\n",
       "        text-align: right;\n",
       "    }\n",
       "</style>\n",
       "<table border=\"1\" class=\"dataframe\">\n",
       "  <thead>\n",
       "    <tr style=\"text-align: right;\">\n",
       "      <th></th>\n",
       "      <th>ApplicantIncome</th>\n",
       "      <th>CoapplicantIncome</th>\n",
       "      <th>LoanAmount</th>\n",
       "      <th>Loan_Amount_Term</th>\n",
       "      <th>Credit_History</th>\n",
       "    </tr>\n",
       "  </thead>\n",
       "  <tbody>\n",
       "    <tr>\n",
       "      <th>count</th>\n",
       "      <td>614.000000</td>\n",
       "      <td>614.000000</td>\n",
       "      <td>592.000000</td>\n",
       "      <td>600.00000</td>\n",
       "      <td>564.000000</td>\n",
       "    </tr>\n",
       "    <tr>\n",
       "      <th>mean</th>\n",
       "      <td>5403.459283</td>\n",
       "      <td>1621.245798</td>\n",
       "      <td>146.412162</td>\n",
       "      <td>342.00000</td>\n",
       "      <td>0.842199</td>\n",
       "    </tr>\n",
       "    <tr>\n",
       "      <th>std</th>\n",
       "      <td>6109.041673</td>\n",
       "      <td>2926.248369</td>\n",
       "      <td>85.587325</td>\n",
       "      <td>65.12041</td>\n",
       "      <td>0.364878</td>\n",
       "    </tr>\n",
       "    <tr>\n",
       "      <th>min</th>\n",
       "      <td>150.000000</td>\n",
       "      <td>0.000000</td>\n",
       "      <td>9.000000</td>\n",
       "      <td>12.00000</td>\n",
       "      <td>0.000000</td>\n",
       "    </tr>\n",
       "    <tr>\n",
       "      <th>25%</th>\n",
       "      <td>2877.500000</td>\n",
       "      <td>0.000000</td>\n",
       "      <td>100.000000</td>\n",
       "      <td>360.00000</td>\n",
       "      <td>1.000000</td>\n",
       "    </tr>\n",
       "    <tr>\n",
       "      <th>50%</th>\n",
       "      <td>3812.500000</td>\n",
       "      <td>1188.500000</td>\n",
       "      <td>128.000000</td>\n",
       "      <td>360.00000</td>\n",
       "      <td>1.000000</td>\n",
       "    </tr>\n",
       "    <tr>\n",
       "      <th>75%</th>\n",
       "      <td>5795.000000</td>\n",
       "      <td>2297.250000</td>\n",
       "      <td>168.000000</td>\n",
       "      <td>360.00000</td>\n",
       "      <td>1.000000</td>\n",
       "    </tr>\n",
       "    <tr>\n",
       "      <th>max</th>\n",
       "      <td>81000.000000</td>\n",
       "      <td>41667.000000</td>\n",
       "      <td>700.000000</td>\n",
       "      <td>480.00000</td>\n",
       "      <td>1.000000</td>\n",
       "    </tr>\n",
       "  </tbody>\n",
       "</table>\n",
       "</div>"
      ],
      "text/plain": [
       "       ApplicantIncome  CoapplicantIncome  LoanAmount  Loan_Amount_Term  \\\n",
       "count       614.000000         614.000000  592.000000         600.00000   \n",
       "mean       5403.459283        1621.245798  146.412162         342.00000   \n",
       "std        6109.041673        2926.248369   85.587325          65.12041   \n",
       "min         150.000000           0.000000    9.000000          12.00000   \n",
       "25%        2877.500000           0.000000  100.000000         360.00000   \n",
       "50%        3812.500000        1188.500000  128.000000         360.00000   \n",
       "75%        5795.000000        2297.250000  168.000000         360.00000   \n",
       "max       81000.000000       41667.000000  700.000000         480.00000   \n",
       "\n",
       "       Credit_History  \n",
       "count      564.000000  \n",
       "mean         0.842199  \n",
       "std          0.364878  \n",
       "min          0.000000  \n",
       "25%          1.000000  \n",
       "50%          1.000000  \n",
       "75%          1.000000  \n",
       "max          1.000000  "
      ]
     },
     "execution_count": 5,
     "metadata": {},
     "output_type": "execute_result"
    }
   ],
   "source": [
    "df_loan.describe()"
   ]
  },
  {
   "cell_type": "code",
   "execution_count": null,
   "id": "fe5b1db2",
   "metadata": {
    "id": "fe5b1db2",
    "outputId": "c574fa94-cd1f-4ee8-a916-e49bbf2f4f51"
   },
   "outputs": [
    {
     "data": {
      "text/plain": [
       "Gender               13\n",
       "Married               3\n",
       "Dependents           15\n",
       "Education             0\n",
       "Self_Employed        32\n",
       "ApplicantIncome       0\n",
       "CoapplicantIncome     0\n",
       "LoanAmount           22\n",
       "Loan_Amount_Term     14\n",
       "Credit_History       50\n",
       "Property_Area         0\n",
       "Loan_Status           0\n",
       "dtype: int64"
      ]
     },
     "execution_count": 25,
     "metadata": {},
     "output_type": "execute_result"
    }
   ],
   "source": [
    "df_loan.isnull().sum()"
   ]
  },
  {
   "cell_type": "code",
   "execution_count": 6,
   "id": "96a1d99d",
   "metadata": {
    "id": "96a1d99d",
    "outputId": "8129d90a-5115-4fe5-ba37-9e4c2e5329d8"
   },
   "outputs": [
    {
     "data": {
      "image/png": "[encoded data removed]",
      "text/plain": [
       "<Figure size 720x432 with 1 Axes>"
      ]
     },
     "metadata": {
      "needs_background": "light"
     },
     "output_type": "display_data"
    }
   ],
   "source": [
    "# выведем формы распределения числовых признаков\n",
    "_, ax = plt.subplots(figsize=(10,6))\n",
    "ax.hist(df_loan['ApplicantIncome'], bins=100)\n",
    "plt.show()"
   ]
  },
  {
   "cell_type": "code",
   "execution_count": 7,
   "id": "96ef235d",
   "metadata": {
    "id": "96ef235d",
    "outputId": "ea13dc64-dd8e-4433-9685-93ed285c072f"
   },
   "outputs": [
    {
     "data": {
      "image/png": "[encoded data removed]",
      "text/plain": [
       "<Figure size 720x432 with 1 Axes>"
      ]
     },
     "metadata": {
      "needs_background": "light"
     },
     "output_type": "display_data"
    }
   ],
   "source": [
    "_, ax = plt.subplots(figsize=(10,6))\n",
    "ax.hist(df_loan['CoapplicantIncome'], bins=100)\n",
    "plt.show()"
   ]
  },
  {
   "cell_type": "code",
   "execution_count": 8,
   "id": "14c3176a",
   "metadata": {
    "id": "14c3176a",
    "outputId": "c3010fb5-2900-46f2-91fe-81e0157d36f5"
   },
   "outputs": [
    {
     "data": {
      "image/png": "[encoded data removed]",
      "text/plain": [
       "<Figure size 720x432 with 1 Axes>"
      ]
     },
     "metadata": {
      "needs_background": "light"
     },
     "output_type": "display_data"
    }
   ],
   "source": [
    "_, ax = plt.subplots(figsize=(10,6))\n",
    "ax.hist(df_loan['LoanAmount'], bins=100)\n",
    "plt.show()"
   ]
  },
  {
   "cell_type": "code",
   "execution_count": null,
   "id": "d0739f97",
   "metadata": {
    "id": "d0739f97",
    "outputId": "37dbac14-171e-4f9f-81b9-209617609731"
   },
   "outputs": [
    {
     "data": {
      "image/png": "[encoded data removed]",
      "text/plain": [
       "<Figure size 720x432 with 1 Axes>"
      ]
     },
     "metadata": {
      "needs_background": "light"
     },
     "output_type": "display_data"
    }
   ],
   "source": [
    "# исследуем взаимосвязь между переменными (особенно между предикторами и целевой, зависимой переменной)\n",
    "# находим несколько закономерностей и подтверждаем несколько гипотез\n",
    "# например, иедианный доход людей с образованием выше чем у людей без образования\n",
    "_, ax = plt.subplots(figsize=(10,6))\n",
    "\n",
    "ax.boxplot(\n",
    "    [\n",
    "        df_loan[df_loan['Education'] == 'Graduate']['ApplicantIncome'],\n",
    "        df_loan[df_loan['Education'] == 'Not Graduate']['ApplicantIncome'],\n",
    "    ], \n",
    "    labels = [\n",
    "        'Graduate',\n",
    "        'Not Graduate'\n",
    "    ],\n",
    "    showfliers=False)\n",
    "\n",
    "plt.show()"
   ]
  },
  {
   "cell_type": "markdown",
   "id": "ccbdd688",
   "metadata": {
    "id": "ccbdd688"
   },
   "source": [
    "> ### Сводные таблицы\n",
    ">  Pandas, как и Excel, позволяет работать со сводными таблицами. Это помогает, когда нужно исследовать зависимость переменных друг от друга. Например, у меня есть экспертное предположение, что процент одобрений по заявкам выше среди тех заемщиков, у кого есть кредитная история (_признак Credit_History равен 1.0_). Чтобы проверить это, я хочу посчитать, сколько раз целевая переменная _Loan_Status_ принимает значение _N_ и _Y_ для тех срок датасета, у которых признак _Credit_History_ равен 0.0. А потом – тоже самое, но для тех строк, где _Credit_History_ – 1.0. Решить такую задачу можно по-разному, лично я предпочитаю сводные таблицы. Посмотрите мой пример ниже, все довольно прозрачно и лаконично. Однако рекомендую разобраться с пивотами подробнее и отправляю к официальной документации по [pivot_table](https://pandas.pydata.org/docs/reference/api/pandas.pivot_table.html)."
   ]
  },
  {
   "cell_type": "code",
   "execution_count": 9,
   "id": "7639a2d0",
   "metadata": {
    "id": "7639a2d0",
    "outputId": "ed62149b-3105-43a4-c2f6-7f3a27c24dda"
   },
   "outputs": [
    {
     "data": {
      "text/html": [
       "<div>\n",
       "<style scoped>\n",
       "    .dataframe tbody tr th:only-of-type {\n",
       "        vertical-align: middle;\n",
       "    }\n",
       "\n",
       "    .dataframe tbody tr th {\n",
       "        vertical-align: top;\n",
       "    }\n",
       "\n",
       "    .dataframe thead th {\n",
       "        text-align: right;\n",
       "    }\n",
       "</style>\n",
       "<table border=\"1\" class=\"dataframe\">\n",
       "  <thead>\n",
       "    <tr style=\"text-align: right;\">\n",
       "      <th>Loan_Status</th>\n",
       "      <th>N</th>\n",
       "      <th>Y</th>\n",
       "    </tr>\n",
       "    <tr>\n",
       "      <th>Credit_History</th>\n",
       "      <th></th>\n",
       "      <th></th>\n",
       "    </tr>\n",
       "  </thead>\n",
       "  <tbody>\n",
       "    <tr>\n",
       "      <th>0.0</th>\n",
       "      <td>0.921348</td>\n",
       "      <td>0.078652</td>\n",
       "    </tr>\n",
       "    <tr>\n",
       "      <th>1.0</th>\n",
       "      <td>0.204211</td>\n",
       "      <td>0.795789</td>\n",
       "    </tr>\n",
       "  </tbody>\n",
       "</table>\n",
       "</div>"
      ],
      "text/plain": [
       "Loan_Status            N         Y\n",
       "Credit_History                    \n",
       "0.0             0.921348  0.078652\n",
       "1.0             0.204211  0.795789"
      ]
     },
     "execution_count": 9,
     "metadata": {},
     "output_type": "execute_result"
    }
   ],
   "source": [
    "# проверим гипотезу, что людя с кредитной историей подтверждают кредит чаще чем тем, у кого ее нет\n",
    "# Сводная таблица вычислит сколько 'Y' и N' в колонке Loan_Status \n",
    "# для групп с разными значениеми в колонке Credit_History (в абсолютных числах)  \n",
    "df_pivot = df_loan.pivot_table(index='Credit_History', columns='Loan_Status', aggfunc='size')\n",
    "\n",
    "# Теперь переведем все в проценты, чтобы увидеть, какой процент из\n",
    "# имеющих (не имеющих) кредитную историю получили (не получили) ссуду\n",
    "df_pivot.iloc[0] = df_pivot.iloc[0]/df_pivot.iloc[0].sum()\n",
    "df_pivot.iloc[1] = df_pivot.iloc[1]/df_pivot.iloc[1].sum()\n",
    "\n",
    "df_pivot"
   ]
  },
  {
   "cell_type": "code",
   "execution_count": 11,
   "id": "a29a30af",
   "metadata": {
    "id": "a29a30af",
    "outputId": "b9590261-f934-4888-ad36-427810cb9a37"
   },
   "outputs": [
    {
     "data": {
      "image/png": "[encoded data removed]",
      "text/plain": [
       "<Figure size 720x432 with 1 Axes>"
      ]
     },
     "metadata": {
      "needs_background": "light"
     },
     "output_type": "display_data"
    }
   ],
   "source": [
    "# Ну, и нарисуем все в виде столбчатой диаграммы \n",
    "df_pivot.plot(kind='bar', figsize=(10,6))\n",
    "plt.show()"
   ]
  },
  {
   "cell_type": "markdown",
   "id": "ba73da94",
   "metadata": {
    "id": "ba73da94"
   },
   "source": [
    "## Data Preparation"
   ]
  },
  {
   "cell_type": "code",
   "execution_count": 12,
   "id": "0a009094",
   "metadata": {
    "id": "0a009094"
   },
   "outputs": [],
   "source": [
    "df_pred = df_loan.copy()\n",
    "\n",
    "# Сохраним целевую переменную в отдельный датафрейм,\n",
    "# заменяя значение 'Y' на 1.0, а значение 'N' на 0.0\n",
    "df_label = df_pred['Loan_Status'].apply(lambda x: 1.0 if x == 'Y' else 0.0)\n",
    "\n",
    "# Удаляем целевую переменную из датафрейма с передикторами\n",
    "df_pred.drop('Loan_Status', axis=1, inplace=True)"
   ]
  },
  {
   "cell_type": "markdown",
   "id": "1eabdaa9",
   "metadata": {
    "id": "1eabdaa9"
   },
   "source": [
    "Разведочный анализ показал, что пропущеные значения встречаются как среди категориальных признаков, так и среди числовых. Категориальные пропуски заполним модой (самым встречающимся значением), а численные пропуски – медианой. Сперва необходимо отделить числовые признаки от категориальных."
   ]
  },
  {
   "cell_type": "code",
   "execution_count": 13,
   "id": "2258b096",
   "metadata": {
    "id": "2258b096",
    "outputId": "4cf3f5ef-587c-43cc-83c0-72e656220008"
   },
   "outputs": [
    {
     "name": "stdout",
     "output_type": "stream",
     "text": [
      "Index(['ApplicantIncome', 'CoapplicantIncome', 'LoanAmount',\n",
      "       'Loan_Amount_Term', 'Credit_History'],\n",
      "      dtype='object')\n",
      "Index(['Gender', 'Married', 'Dependents', 'Education', 'Self_Employed',\n",
      "       'Property_Area'],\n",
      "      dtype='object')\n"
     ]
    }
   ],
   "source": [
    "# Сохраним в переменную numerical имена всех числовых признаков нашего датасета\n",
    "numerical = df_pred.select_dtypes(include=['int64', 'float64']).columns\n",
    "\n",
    "# Сохраним в переменную categorical имена всех категориальных признаков нашего датасета\n",
    "categorical = df_pred.select_dtypes(include=['object']).columns\n",
    "\n",
    "print(numerical)\n",
    "print(categorical)"
   ]
  },
  {
   "cell_type": "markdown",
   "id": "0ebaf75c",
   "metadata": {
    "id": "0ebaf75c"
   },
   "source": [
    "> _Pandas.DataFrame.select_dtypes_ выбирает столбцы по указанным типам данным. В нашем примере все **числовые** признаки имеют тип _int64_ или _float64_, а **категрориальные** – _object_. Для любопытных – ссылка на официальную документацию метода [pandas.DataFrame.select_dtypes](https://pandas.pydata.org/docs/reference/api/pandas.DataFrame.select_dtypes.html)."
   ]
  },
  {
   "cell_type": "code",
   "execution_count": 14,
   "id": "b5a3b71e",
   "metadata": {
    "id": "b5a3b71e",
    "outputId": "2b9f24df-57fc-40c6-ef7c-62a0af079d3b"
   },
   "outputs": [
    {
     "data": {
      "text/plain": [
       "Gender               0\n",
       "Married              0\n",
       "Dependents           0\n",
       "Education            0\n",
       "Self_Employed        0\n",
       "ApplicantIncome      0\n",
       "CoapplicantIncome    0\n",
       "LoanAmount           0\n",
       "Loan_Amount_Term     0\n",
       "Credit_History       0\n",
       "Property_Area        0\n",
       "dtype: int64"
      ]
     },
     "execution_count": 14,
     "metadata": {},
     "output_type": "execute_result"
    }
   ],
   "source": [
    "# Категориальные фичи\n",
    "for feat in categorical:\n",
    "    df_pred[feat].fillna(df_pred[feat].mode()[0], inplace=True)\n",
    "    \n",
    "# Численные фичи\n",
    "for feat in numerical:\n",
    "    df_pred[feat].fillna(df_pred[feat].median(), inplace=True)\n",
    "\n",
    "# Убедимся, что пропущенных значений больше нет\n",
    "df_pred.isnull().sum()"
   ]
  },
  {
   "cell_type": "markdown",
   "id": "c6cf40e2",
   "metadata": {
    "id": "c6cf40e2"
   },
   "source": [
    "Тперь необходимо \"оцифровать\" категориальные фичи. Будем использовать метод метод [get_dummies](https://pandas.pydata.org/docs/reference/api/pandas.get_dummies.html) из библиотеки Pandas. В модуле Data Preparation вы использовали OneHotEncoder из библиотеки sklearn и его методы fit/ptedict. [get_dummies](https://pandas.pydata.org/docs/reference/api/pandas.get_dummies.html) делает fit и predict одновременно, и, если вам нужно закодировать весь датасет целиком, можно использовать его: код становится короче.   "
   ]
  },
  {
   "cell_type": "code",
   "execution_count": 15,
   "id": "f30eeab4",
   "metadata": {
    "id": "f30eeab4",
    "outputId": "cc91fd81-4ee8-4751-ae8f-e6cab9dced47"
   },
   "outputs": [
    {
     "data": {
      "text/html": [
       "<div>\n",
       "<style scoped>\n",
       "    .dataframe tbody tr th:only-of-type {\n",
       "        vertical-align: middle;\n",
       "    }\n",
       "\n",
       "    .dataframe tbody tr th {\n",
       "        vertical-align: top;\n",
       "    }\n",
       "\n",
       "    .dataframe thead th {\n",
       "        text-align: right;\n",
       "    }\n",
       "</style>\n",
       "<table border=\"1\" class=\"dataframe\">\n",
       "  <thead>\n",
       "    <tr style=\"text-align: right;\">\n",
       "      <th></th>\n",
       "      <th>Gender_Female</th>\n",
       "      <th>Gender_Male</th>\n",
       "      <th>Married_No</th>\n",
       "      <th>Married_Yes</th>\n",
       "      <th>Dependents_0</th>\n",
       "      <th>Dependents_1</th>\n",
       "      <th>Dependents_2</th>\n",
       "      <th>Dependents_3+</th>\n",
       "      <th>Education_Graduate</th>\n",
       "      <th>Education_Not Graduate</th>\n",
       "      <th>Self_Employed_No</th>\n",
       "      <th>Self_Employed_Yes</th>\n",
       "      <th>Property_Area_Rural</th>\n",
       "      <th>Property_Area_Semiurban</th>\n",
       "      <th>Property_Area_Urban</th>\n",
       "    </tr>\n",
       "  </thead>\n",
       "  <tbody>\n",
       "    <tr>\n",
       "      <th>0</th>\n",
       "      <td>0</td>\n",
       "      <td>1</td>\n",
       "      <td>1</td>\n",
       "      <td>0</td>\n",
       "      <td>1</td>\n",
       "      <td>0</td>\n",
       "      <td>0</td>\n",
       "      <td>0</td>\n",
       "      <td>1</td>\n",
       "      <td>0</td>\n",
       "      <td>1</td>\n",
       "      <td>0</td>\n",
       "      <td>0</td>\n",
       "      <td>0</td>\n",
       "      <td>1</td>\n",
       "    </tr>\n",
       "    <tr>\n",
       "      <th>1</th>\n",
       "      <td>0</td>\n",
       "      <td>1</td>\n",
       "      <td>0</td>\n",
       "      <td>1</td>\n",
       "      <td>0</td>\n",
       "      <td>1</td>\n",
       "      <td>0</td>\n",
       "      <td>0</td>\n",
       "      <td>1</td>\n",
       "      <td>0</td>\n",
       "      <td>1</td>\n",
       "      <td>0</td>\n",
       "      <td>1</td>\n",
       "      <td>0</td>\n",
       "      <td>0</td>\n",
       "    </tr>\n",
       "    <tr>\n",
       "      <th>2</th>\n",
       "      <td>0</td>\n",
       "      <td>1</td>\n",
       "      <td>0</td>\n",
       "      <td>1</td>\n",
       "      <td>1</td>\n",
       "      <td>0</td>\n",
       "      <td>0</td>\n",
       "      <td>0</td>\n",
       "      <td>1</td>\n",
       "      <td>0</td>\n",
       "      <td>0</td>\n",
       "      <td>1</td>\n",
       "      <td>0</td>\n",
       "      <td>0</td>\n",
       "      <td>1</td>\n",
       "    </tr>\n",
       "    <tr>\n",
       "      <th>3</th>\n",
       "      <td>0</td>\n",
       "      <td>1</td>\n",
       "      <td>0</td>\n",
       "      <td>1</td>\n",
       "      <td>1</td>\n",
       "      <td>0</td>\n",
       "      <td>0</td>\n",
       "      <td>0</td>\n",
       "      <td>0</td>\n",
       "      <td>1</td>\n",
       "      <td>1</td>\n",
       "      <td>0</td>\n",
       "      <td>0</td>\n",
       "      <td>0</td>\n",
       "      <td>1</td>\n",
       "    </tr>\n",
       "    <tr>\n",
       "      <th>4</th>\n",
       "      <td>0</td>\n",
       "      <td>1</td>\n",
       "      <td>1</td>\n",
       "      <td>0</td>\n",
       "      <td>1</td>\n",
       "      <td>0</td>\n",
       "      <td>0</td>\n",
       "      <td>0</td>\n",
       "      <td>1</td>\n",
       "      <td>0</td>\n",
       "      <td>1</td>\n",
       "      <td>0</td>\n",
       "      <td>0</td>\n",
       "      <td>0</td>\n",
       "      <td>1</td>\n",
       "    </tr>\n",
       "  </tbody>\n",
       "</table>\n",
       "</div>"
      ],
      "text/plain": [
       "   Gender_Female  Gender_Male  Married_No  Married_Yes  Dependents_0  \\\n",
       "0              0            1           1            0             1   \n",
       "1              0            1           0            1             0   \n",
       "2              0            1           0            1             1   \n",
       "3              0            1           0            1             1   \n",
       "4              0            1           1            0             1   \n",
       "\n",
       "   Dependents_1  Dependents_2  Dependents_3+  Education_Graduate  \\\n",
       "0             0             0              0                   1   \n",
       "1             1             0              0                   1   \n",
       "2             0             0              0                   1   \n",
       "3             0             0              0                   0   \n",
       "4             0             0              0                   1   \n",
       "\n",
       "   Education_Not Graduate  Self_Employed_No  Self_Employed_Yes  \\\n",
       "0                       0                 1                  0   \n",
       "1                       0                 1                  0   \n",
       "2                       0                 0                  1   \n",
       "3                       1                 1                  0   \n",
       "4                       0                 1                  0   \n",
       "\n",
       "   Property_Area_Rural  Property_Area_Semiurban  Property_Area_Urban  \n",
       "0                    0                        0                    1  \n",
       "1                    1                        0                    0  \n",
       "2                    0                        0                    1  \n",
       "3                    0                        0                    1  \n",
       "4                    0                        0                    1  "
      ]
     },
     "execution_count": 15,
     "metadata": {},
     "output_type": "execute_result"
    }
   ],
   "source": [
    "# Выполним преобразование OneHotEncoding для всех \n",
    "# категориальных признаков в нашем датасете\n",
    "df_onehot = pd.get_dummies(df_pred[categorical])\n",
    "\n",
    "df_onehot.head()"
   ]
  },
  {
   "cell_type": "code",
   "execution_count": 16,
   "id": "9d2c8a5d",
   "metadata": {
    "id": "9d2c8a5d",
    "outputId": "8073f18a-9c31-4578-b8c6-9d313a35ec3a"
   },
   "outputs": [
    {
     "name": "stdout",
     "output_type": "stream",
     "text": [
      "<class 'pandas.core.frame.DataFrame'>\n",
      "RangeIndex: 614 entries, 0 to 613\n",
      "Data columns (total 20 columns):\n",
      " #   Column                   Non-Null Count  Dtype  \n",
      "---  ------                   --------------  -----  \n",
      " 0   ApplicantIncome          614 non-null    int64  \n",
      " 1   CoapplicantIncome        614 non-null    float64\n",
      " 2   LoanAmount               614 non-null    float64\n",
      " 3   Loan_Amount_Term         614 non-null    float64\n",
      " 4   Credit_History           614 non-null    float64\n",
      " 5   Gender_Female            614 non-null    uint8  \n",
      " 6   Gender_Male              614 non-null    uint8  \n",
      " 7   Married_No               614 non-null    uint8  \n",
      " 8   Married_Yes              614 non-null    uint8  \n",
      " 9   Dependents_0             614 non-null    uint8  \n",
      " 10  Dependents_1             614 non-null    uint8  \n",
      " 11  Dependents_2             614 non-null    uint8  \n",
      " 12  Dependents_3+            614 non-null    uint8  \n",
      " 13  Education_Graduate       614 non-null    uint8  \n",
      " 14  Education_Not Graduate   614 non-null    uint8  \n",
      " 15  Self_Employed_No         614 non-null    uint8  \n",
      " 16  Self_Employed_Yes        614 non-null    uint8  \n",
      " 17  Property_Area_Rural      614 non-null    uint8  \n",
      " 18  Property_Area_Semiurban  614 non-null    uint8  \n",
      " 19  Property_Area_Urban      614 non-null    uint8  \n",
      "dtypes: float64(4), int64(1), uint8(15)\n",
      "memory usage: 33.1 KB\n"
     ]
    }
   ],
   "source": [
    "# Теперь удалим из df_train оригинальные категориальные признаки\n",
    "df_pred.drop(categorical, axis=1, inplace=True)\n",
    "\n",
    "# И приклеим к нему эти же категориальные признаки, но закодированные в OneHot\n",
    "df_pred = pd.concat([df_pred, df_onehot], axis=1)\n",
    "\n",
    "# Убедимся, что нечисловых колонок больше нет\n",
    "df_pred.info()"
   ]
  },
  {
   "cell_type": "markdown",
   "id": "6ccff876",
   "metadata": {
    "id": "6ccff876"
   },
   "source": [
    "Далее необходимо привести значения числовых признаков к одному масштабу. Используем класс [SrandardScaler](https://scikit-learn.org/stable/modules/generated/sklearn.preprocessing.StandardScaler.html). Такое приобразование приведут к тому, что среднее значение (mean) каждого категориального признака будет равно нулю, а стандартное отклонение (standart deviation) – единице. Таким образом все числовые значения будут приведены к единому масштабу.  "
   ]
  },
  {
   "cell_type": "code",
   "execution_count": 17,
   "id": "841350ba",
   "metadata": {
    "id": "841350ba"
   },
   "outputs": [],
   "source": [
    "scaler = StandardScaler()\n",
    "\n",
    "# Масштабируем наши предикторы\n",
    "df_pred = scaler.fit_transform(df_pred)"
   ]
  },
  {
   "cell_type": "markdown",
   "id": "372d0604",
   "metadata": {
    "id": "372d0604"
   },
   "source": [
    "Предикторы и целевая переменная подготовлены к тренировке моделей. \n",
    "\n",
    "## Modeling"
   ]
  },
  {
   "cell_type": "code",
   "execution_count": 18,
   "id": "575da910",
   "metadata": {
    "id": "575da910"
   },
   "outputs": [],
   "source": [
    "X = df_pred\n",
    "y = df_label"
   ]
  },
  {
   "cell_type": "markdown",
   "id": "f1b73869",
   "metadata": {
    "id": "f1b73869"
   },
   "source": [
    "Будем тестировать три модели: логистическую регрессию (_LogisticRegression_), ансамбль деревьев или случайный лес (_RandomForest_) и многослойный персептрон (_MLPClassifier_). "
   ]
  },
  {
   "cell_type": "code",
   "execution_count": 19,
   "id": "86f79e21",
   "metadata": {
    "id": "86f79e21",
    "outputId": "aa70aa24-1d29-4545-cfbe-80fd124b0642"
   },
   "outputs": [
    {
     "name": "stdout",
     "output_type": "stream",
     "text": [
      "model: LogisticRegression, acc_mean: 0.8014, acc_std: 0.0169\n",
      "model: RandomForestClassifier, acc_mean: 0.7817, acc_std: 0.0210\n",
      "model: MLPClassifier, acc_mean: 0.7948, acc_std: 0.0171\n"
     ]
    }
   ],
   "source": [
    "models = [\n",
    "    LogisticRegression(solver='liblinear'),\n",
    "    RandomForestClassifier(),\n",
    "    MLPClassifier(activation='logistic', hidden_layer_sizes = (256,128,64))\n",
    "]\n",
    "\n",
    "for m in models:\n",
    "    score = cross_val_score(m, X, y, cv=4, scoring='accuracy')\n",
    "    print(f'model: {type(m).__name__}, acc_mean: {score.mean():.4f}, acc_std: {score.std():.4f}')"
   ]
  },
  {
   "cell_type": "code",
   "execution_count": null,
   "id": "1b69b381",
   "metadata": {
    "id": "1b69b381"
   },
   "outputs": [],
   "source": []
  }
 ],
 "metadata": {
  "colab": {
   "collapsed_sections": [],
   "name": "loan_pred.ipynb",
   "provenance": []
  },
  "kernelspec": {
   "display_name": "Python 3 (ipykernel)",
   "language": "python",
   "name": "python3"
  },
  "language_info": {
   "codemirror_mode": {
    "name": "ipython",
    "version": 3
   },
   "file_extension": ".py",
   "mimetype": "text/x-python",
   "name": "python",
   "nbconvert_exporter": "python",
   "pygments_lexer": "ipython3",
   "version": "3.9.7"
  }
 },
 "nbformat": 4,
 "nbformat_minor": 5
}
