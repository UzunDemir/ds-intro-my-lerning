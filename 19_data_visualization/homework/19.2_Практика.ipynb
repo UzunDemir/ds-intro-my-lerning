{
 "cells": [
  {
   "cell_type": "markdown",
   "id": "20d02d60",
   "metadata": {
    "id": "20d02d60"
   },
   "source": [
    "# Выявление аномалий при помощи визуализации. Практика"
   ]
  },
  {
   "cell_type": "markdown",
   "id": "df9d0fa3",
   "metadata": {
    "id": "df9d0fa3"
   },
   "source": [
    "## Цели практической работы\n",
    "1. Познакомиться с библиотекой matplotlib.\n",
    "2. Потренирироваться выявлять аномалии в данных при помощи визуализации.\n",
    "4. Подготовить датафрейм к этапу генерации признаков.\n",
    "\n",
    "\n"
   ]
  },
  {
   "cell_type": "markdown",
   "id": "c4a1bdf2",
   "metadata": {
    "id": "c4a1bdf2"
   },
   "source": [
    "## Что входит в практическую работу\n",
    "1. Загрузить датасет и ознакомиться с ним.\n",
    "2. Построить гистограммы, «ящик с усами» и диаграмму скрипки для количественных переменных."
   ]
  },
  {
   "cell_type": "markdown",
   "id": "3092d4ea",
   "metadata": {
    "id": "3092d4ea"
   },
   "source": [
    "## Задача\n",
    "\n",
    "Мы продолжим исследовать и готовить данные для этапа моделирования.\n",
    "\n",
    "Вам предстоит работать с небольшой выборкой из коллекции подержанных автомобилей, выставленных на продажу в Соединённых Штатах, представленной в файле `data/vehicles_dataset_upd.csv`. На этих данных вы построите первую модель классификации, определяющую категорию цены подержанного автомобиля в зависимости от характеристик транспортного средства.\n",
    "\n",
    "В этой практической работе вы начнете знакомиться с визуализацией данных и выявлением аномалий при помощи `matplotlib`.\n",
    "\n",
    "\n",
    "## Описание датасета:\n",
    "- `id`: идентификатор записи;\n",
    "- `url`: URL записи о продаже;\n",
    "- `region`: регион;\n",
    "- `region_url`: URL региона;\n",
    "- `price`: стоимость;\n",
    "- `year`: год выпуска;\n",
    "- `manufacturer`: производитель;\n",
    "- `model`: модель;\n",
    "- `condition`: состояние;\n",
    "- `cylinders`: количество цилиндров;\n",
    "- `fuel`: тип топлива;\n",
    "- `odometer`: количество пройденных миль;\n",
    "- `title_status`: статус;\n",
    "- `transmission`: коробка передач;\n",
    "- `VIN`: идентификационный номер;\n",
    "- `drive`: тип привода;\n",
    "- `size`: размер;\n",
    "- `type`: кузов;\n",
    "- `paint_color`: цвет;\n",
    "- `image_url`: URL изображения;\n",
    "- `description`: указанное описание;\n",
    "- `county`: страна;\n",
    "- `state`: штат;\n",
    "- `lat`: широта;\n",
    "- `long`: долгота;\n",
    "- `posting_date`: дата размещения объявления о продаже;\n",
    "- `price_category`: категория цены.\n"
   ]
  },
  {
   "cell_type": "code",
   "execution_count": 5,
   "id": "859c4d2b",
   "metadata": {
    "ExecuteTime": {
     "end_time": "2022-02-23T19:39:15.915860Z",
     "start_time": "2022-02-23T19:39:15.902436Z"
    },
    "id": "859c4d2b"
   },
   "outputs": [],
   "source": [
    "# Импортируйте необходимые библиотеки\n",
    "import pandas as pd\n",
    "import matplotlib.pyplot as plt"
   ]
  },
  {
   "cell_type": "markdown",
   "id": "f8266e27",
   "metadata": {
    "ExecuteTime": {
     "end_time": "2022-01-28T23:12:51.463454Z",
     "start_time": "2022-01-28T23:12:51.458075Z"
    },
    "id": "f8266e27"
   },
   "source": [
    "### Задача 1. Построение графиков для широты\n",
    "\n",
    "1. Загрузите датасет из `data/vehicles_dataset_upd.csv` и выведите первые пять записей.\n"
   ]
  },
  {
   "cell_type": "code",
   "execution_count": 4,
   "id": "d536ad11",
   "metadata": {
    "ExecuteTime": {
     "end_time": "2022-02-23T19:39:16.357302Z",
     "start_time": "2022-02-23T19:39:16.354246Z"
    },
    "id": "d536ad11"
   },
   "outputs": [
    {
     "data": {
      "text/html": [
       "<div>\n",
       "<style scoped>\n",
       "    .dataframe tbody tr th:only-of-type {\n",
       "        vertical-align: middle;\n",
       "    }\n",
       "\n",
       "    .dataframe tbody tr th {\n",
       "        vertical-align: top;\n",
       "    }\n",
       "\n",
       "    .dataframe thead th {\n",
       "        text-align: right;\n",
       "    }\n",
       "</style>\n",
       "<table border=\"1\" class=\"dataframe\">\n",
       "  <thead>\n",
       "    <tr style=\"text-align: right;\">\n",
       "      <th></th>\n",
       "      <th>id</th>\n",
       "      <th>url</th>\n",
       "      <th>region</th>\n",
       "      <th>region_url</th>\n",
       "      <th>price</th>\n",
       "      <th>year</th>\n",
       "      <th>manufacturer</th>\n",
       "      <th>model</th>\n",
       "      <th>fuel</th>\n",
       "      <th>odometer</th>\n",
       "      <th>title_status</th>\n",
       "      <th>transmission</th>\n",
       "      <th>image_url</th>\n",
       "      <th>description</th>\n",
       "      <th>state</th>\n",
       "      <th>lat</th>\n",
       "      <th>long</th>\n",
       "      <th>posting_date</th>\n",
       "      <th>price_category</th>\n",
       "      <th>date</th>\n",
       "    </tr>\n",
       "  </thead>\n",
       "  <tbody>\n",
       "    <tr>\n",
       "      <th>0</th>\n",
       "      <td>7308295377</td>\n",
       "      <td>https://chattanooga.craigslist.org/ctd/d/chatt...</td>\n",
       "      <td>chattanooga</td>\n",
       "      <td>https://chattanooga.craigslist.org</td>\n",
       "      <td>54990</td>\n",
       "      <td>2020</td>\n",
       "      <td>ram</td>\n",
       "      <td>2500 crew cab big horn</td>\n",
       "      <td>diesel</td>\n",
       "      <td>27442</td>\n",
       "      <td>clean</td>\n",
       "      <td>other</td>\n",
       "      <td>https://images.craigslist.org/00N0N_1xMPvfxRAI...</td>\n",
       "      <td>Carvana is the safer way to buy a car During t...</td>\n",
       "      <td>tn</td>\n",
       "      <td>35.060000</td>\n",
       "      <td>-85.250000</td>\n",
       "      <td>2021-04-17T12:30:50-0400</td>\n",
       "      <td>high</td>\n",
       "      <td>2021-04-17 16:30:50+00:00</td>\n",
       "    </tr>\n",
       "    <tr>\n",
       "      <th>1</th>\n",
       "      <td>7316380095</td>\n",
       "      <td>https://newjersey.craigslist.org/ctd/d/carlsta...</td>\n",
       "      <td>north jersey</td>\n",
       "      <td>https://newjersey.craigslist.org</td>\n",
       "      <td>16942</td>\n",
       "      <td>2016</td>\n",
       "      <td>ford</td>\n",
       "      <td>explorer 4wd 4dr xlt</td>\n",
       "      <td>other</td>\n",
       "      <td>60023</td>\n",
       "      <td>clean</td>\n",
       "      <td>automatic</td>\n",
       "      <td>https://images.craigslist.org/00x0x_26jl9F0cnL...</td>\n",
       "      <td>***Call Us for more information at: 201-635-14...</td>\n",
       "      <td>nj</td>\n",
       "      <td>40.821805</td>\n",
       "      <td>-74.061962</td>\n",
       "      <td>2021-05-03T15:40:21-0400</td>\n",
       "      <td>medium</td>\n",
       "      <td>2021-05-03 19:40:21+00:00</td>\n",
       "    </tr>\n",
       "    <tr>\n",
       "      <th>2</th>\n",
       "      <td>7313733749</td>\n",
       "      <td>https://reno.craigslist.org/ctd/d/atlanta-2017...</td>\n",
       "      <td>reno / tahoe</td>\n",
       "      <td>https://reno.craigslist.org</td>\n",
       "      <td>35590</td>\n",
       "      <td>2017</td>\n",
       "      <td>volkswagen</td>\n",
       "      <td>golf r hatchback</td>\n",
       "      <td>gas</td>\n",
       "      <td>14048</td>\n",
       "      <td>clean</td>\n",
       "      <td>other</td>\n",
       "      <td>https://images.craigslist.org/00y0y_eeZjWeiSfb...</td>\n",
       "      <td>Carvana is the safer way to buy a car During t...</td>\n",
       "      <td>ca</td>\n",
       "      <td>33.779214</td>\n",
       "      <td>-84.411811</td>\n",
       "      <td>2021-04-28T03:52:20-0700</td>\n",
       "      <td>high</td>\n",
       "      <td>2021-04-28 10:52:20+00:00</td>\n",
       "    </tr>\n",
       "    <tr>\n",
       "      <th>3</th>\n",
       "      <td>7308210929</td>\n",
       "      <td>https://fayetteville.craigslist.org/ctd/d/rale...</td>\n",
       "      <td>fayetteville</td>\n",
       "      <td>https://fayetteville.craigslist.org</td>\n",
       "      <td>14500</td>\n",
       "      <td>2013</td>\n",
       "      <td>toyota</td>\n",
       "      <td>rav4</td>\n",
       "      <td>gas</td>\n",
       "      <td>117291</td>\n",
       "      <td>clean</td>\n",
       "      <td>automatic</td>\n",
       "      <td>https://images.craigslist.org/00606_iGe5iXidib...</td>\n",
       "      <td>2013 Toyota RAV4 XLE 4dr SUV     Offered by: R...</td>\n",
       "      <td>nc</td>\n",
       "      <td>35.715954</td>\n",
       "      <td>-78.655304</td>\n",
       "      <td>2021-04-17T10:08:57-0400</td>\n",
       "      <td>medium</td>\n",
       "      <td>2021-04-17 14:08:57+00:00</td>\n",
       "    </tr>\n",
       "    <tr>\n",
       "      <th>4</th>\n",
       "      <td>7316474668</td>\n",
       "      <td>https://newyork.craigslist.org/lgi/cto/d/baldw...</td>\n",
       "      <td>new york city</td>\n",
       "      <td>https://newyork.craigslist.org</td>\n",
       "      <td>21800</td>\n",
       "      <td>2021</td>\n",
       "      <td>nissan</td>\n",
       "      <td>altima</td>\n",
       "      <td>gas</td>\n",
       "      <td>8000</td>\n",
       "      <td>clean</td>\n",
       "      <td>automatic</td>\n",
       "      <td>https://images.craigslist.org/00V0V_3pSOiPZ3Sd...</td>\n",
       "      <td>2021 Nissan Altima Sv with Only 8 K Miles Titl...</td>\n",
       "      <td>ny</td>\n",
       "      <td>40.654800</td>\n",
       "      <td>-73.609700</td>\n",
       "      <td>2021-05-03T18:32:06-0400</td>\n",
       "      <td>medium</td>\n",
       "      <td>2021-05-03 22:32:06+00:00</td>\n",
       "    </tr>\n",
       "  </tbody>\n",
       "</table>\n",
       "</div>"
      ],
      "text/plain": [
       "           id                                                url  \\\n",
       "0  7308295377  https://chattanooga.craigslist.org/ctd/d/chatt...   \n",
       "1  7316380095  https://newjersey.craigslist.org/ctd/d/carlsta...   \n",
       "2  7313733749  https://reno.craigslist.org/ctd/d/atlanta-2017...   \n",
       "3  7308210929  https://fayetteville.craigslist.org/ctd/d/rale...   \n",
       "4  7316474668  https://newyork.craigslist.org/lgi/cto/d/baldw...   \n",
       "\n",
       "          region                           region_url  price  year  \\\n",
       "0    chattanooga   https://chattanooga.craigslist.org  54990  2020   \n",
       "1   north jersey     https://newjersey.craigslist.org  16942  2016   \n",
       "2   reno / tahoe          https://reno.craigslist.org  35590  2017   \n",
       "3   fayetteville  https://fayetteville.craigslist.org  14500  2013   \n",
       "4  new york city       https://newyork.craigslist.org  21800  2021   \n",
       "\n",
       "  manufacturer                   model    fuel  odometer title_status  \\\n",
       "0          ram  2500 crew cab big horn  diesel     27442        clean   \n",
       "1         ford    explorer 4wd 4dr xlt   other     60023        clean   \n",
       "2   volkswagen        golf r hatchback     gas     14048        clean   \n",
       "3       toyota                    rav4     gas    117291        clean   \n",
       "4       nissan                  altima     gas      8000        clean   \n",
       "\n",
       "  transmission                                          image_url  \\\n",
       "0        other  https://images.craigslist.org/00N0N_1xMPvfxRAI...   \n",
       "1    automatic  https://images.craigslist.org/00x0x_26jl9F0cnL...   \n",
       "2        other  https://images.craigslist.org/00y0y_eeZjWeiSfb...   \n",
       "3    automatic  https://images.craigslist.org/00606_iGe5iXidib...   \n",
       "4    automatic  https://images.craigslist.org/00V0V_3pSOiPZ3Sd...   \n",
       "\n",
       "                                         description state        lat  \\\n",
       "0  Carvana is the safer way to buy a car During t...    tn  35.060000   \n",
       "1  ***Call Us for more information at: 201-635-14...    nj  40.821805   \n",
       "2  Carvana is the safer way to buy a car During t...    ca  33.779214   \n",
       "3  2013 Toyota RAV4 XLE 4dr SUV     Offered by: R...    nc  35.715954   \n",
       "4  2021 Nissan Altima Sv with Only 8 K Miles Titl...    ny  40.654800   \n",
       "\n",
       "        long              posting_date price_category  \\\n",
       "0 -85.250000  2021-04-17T12:30:50-0400           high   \n",
       "1 -74.061962  2021-05-03T15:40:21-0400         medium   \n",
       "2 -84.411811  2021-04-28T03:52:20-0700           high   \n",
       "3 -78.655304  2021-04-17T10:08:57-0400         medium   \n",
       "4 -73.609700  2021-05-03T18:32:06-0400         medium   \n",
       "\n",
       "                        date  \n",
       "0  2021-04-17 16:30:50+00:00  \n",
       "1  2021-05-03 19:40:21+00:00  \n",
       "2  2021-04-28 10:52:20+00:00  \n",
       "3  2021-04-17 14:08:57+00:00  \n",
       "4  2021-05-03 22:32:06+00:00  "
      ]
     },
     "execution_count": 4,
     "metadata": {},
     "output_type": "execute_result"
    }
   ],
   "source": [
    "# Ваш код здесь\n",
    "df = pd.read_csv('data/vehicles_dataset_upd.csv')\n",
    "df.head()"
   ]
  },
  {
   "cell_type": "markdown",
   "id": "b53740bc",
   "metadata": {
    "id": "b53740bc"
   },
   "source": [
    "2. Постройте гистограмму распределения широты, настройте параметры количества интервалов — 100, цвет — `deepskyblue`.\n",
    "Не забудьте подписать название графика и оси."
   ]
  },
  {
   "cell_type": "code",
   "execution_count": 6,
   "id": "ba31752e",
   "metadata": {
    "ExecuteTime": {
     "end_time": "2022-02-23T19:39:17.014992Z",
     "start_time": "2022-02-23T19:39:17.011993Z"
    },
    "id": "ba31752e"
   },
   "outputs": [
    {
     "data": {
      "image/png": "[encoded data removed]",
      "text/plain": [
       "<Figure size 432x288 with 1 Axes>"
      ]
     },
     "metadata": {
      "needs_background": "light"
     },
     "output_type": "display_data"
    }
   ],
   "source": [
    "# Ваш код здесь\n",
    "plt.figure()\n",
    "plt.hist(df.lat, bins=100, color='deepskyblue')\n",
    "plt.xlabel('Широта')\n",
    "plt.ylabel('Частота')\n",
    "plt.title('Распределение широты');"
   ]
  },
  {
   "cell_type": "markdown",
   "id": "c0e0f6de",
   "metadata": {
    "id": "c0e0f6de"
   },
   "source": [
    "3. Постройте «ящик с усами» для широты, настройте размер фигуры - 4x10, символ для отображения выбросов (`sym`) — '+'.\n",
    "Не забудьте подписать название графика и оси."
   ]
  },
  {
   "cell_type": "code",
   "execution_count": 8,
   "id": "dc86a576",
   "metadata": {
    "ExecuteTime": {
     "end_time": "2022-02-23T19:39:17.644766Z",
     "start_time": "2022-02-23T19:39:17.639793Z"
    },
    "id": "dc86a576"
   },
   "outputs": [
    {
     "data": {
      "image/png": "[encoded data removed]",
      "text/plain": [
       "<Figure size 288x720 with 1 Axes>"
      ]
     },
     "metadata": {
      "needs_background": "light"
     },
     "output_type": "display_data"
    }
   ],
   "source": [
    "# Ваш код здесь\n",
    "plt.figure(figsize=(4, 10))\n",
    "plt.boxplot(df.lat, sym='+')\n",
    "plt.ylabel('Широта')\n",
    "plt.title('Ящик с усами для широты');"
   ]
  },
  {
   "cell_type": "markdown",
   "id": "29bad2c6",
   "metadata": {
    "id": "29bad2c6"
   },
   "source": [
    "### Задача 2. Построение графиков для долготы\n",
    "\n",
    "1. Постройте гистограмму распределения долготы, настройте размер фигуры — 8x5, параметры количества интервалов — 80, цвет — `coral`.\n",
    "Не забудьте подписать название графика и оси.\n"
   ]
  },
  {
   "cell_type": "code",
   "execution_count": 9,
   "id": "2995ed0f",
   "metadata": {
    "ExecuteTime": {
     "end_time": "2022-02-23T19:39:18.358901Z",
     "start_time": "2022-02-23T19:39:18.355242Z"
    },
    "id": "2995ed0f"
   },
   "outputs": [
    {
     "data": {
      "image/png": "[encoded data removed]",
      "text/plain": [
       "<Figure size 576x360 with 1 Axes>"
      ]
     },
     "metadata": {
      "needs_background": "light"
     },
     "output_type": "display_data"
    }
   ],
   "source": [
    "# Ваш код здесь\n",
    "plt.figure(figsize=(8, 5))\n",
    "plt.hist(df.long, bins=80, color='coral')\n",
    "plt.xlabel('Долгота')\n",
    "plt.ylabel('Частота')\n",
    "plt.title('Распределение долготы');"
   ]
  },
  {
   "cell_type": "markdown",
   "id": "3ebcd7f2",
   "metadata": {
    "id": "3ebcd7f2"
   },
   "source": [
    "2. Изучите самостоятельно и постройте скрипичный график ([violinplot](https://matplotlib.org/stable/api/_as_gen/matplotlib.axes.Axes.violinplot.html)) для долготы, настройте размер фигуры — 4x10. Не забудьте подписать название графика и оси."
   ]
  },
  {
   "cell_type": "code",
   "execution_count": null,
   "id": "8c6e193b",
   "metadata": {
    "ExecuteTime": {
     "end_time": "2022-02-23T19:39:18.850028Z",
     "start_time": "2022-02-23T19:39:18.847367Z"
    },
    "id": "8c6e193b"
   },
   "outputs": [],
   "source": [
    "# Ваш код здесь"
   ]
  },
  {
   "cell_type": "markdown",
   "id": "40d22d11",
   "metadata": {
    "id": "40d22d11"
   },
   "source": [
    "3. Чтобы лучше понять связь гистограммы и диаграммы скрипки, постройте один под другим два\\ графика на одном полотне. Настройте общий размер фигуры - 20x10, сделайте общей ось OX.\n",
    "\n",
    "На первом графике постройте:\n",
    "- Гистрограмму распределения долготы, настройте параметры количества интервалов — 70, цвет — coral.\n",
    "- Вертикальную линию, отображающую медиану долготы, настройте параметры цвета — `darkviolet`, стиля линии (`linestyle`) — `dotted`, ширину линии (`linewidth`) — 2.\n",
    "- Вертикальную линию, отображающую минимальное значение долготы, настройте параметры цвета — `darkviolet`, стиля линии (`linestyle`) — `dotted`, ширину линии (`linewidth`) - 2.\n",
    "- Вертикальную линию, отображающую максимальное значение  долготы, настройте параметры цвета — `darkviolet`, стиля линии (`linestyle`) — `dotted`, ширину линии (`linewidth`) — 2.\n",
    "\n",
    "С помощью [text](https://matplotlib.org/stable/api/_as_gen/matplotlib.axes.Axes.text.html) подпишите каждую из линий названиями `median`, `min` и `max` соответственно. Для наилучшего отображения настройте параметр `y` как -100.\n",
    "\n",
    "На втором графике постройте:\n",
    "- Диаграмму скрипки для долготы, отобразите ее горизонтально.\n",
    "- Вертикальную линию, отображающую медиану долготы, настройте параметры цвета — `darkviolet`, стиля линии (`linestyle`) — `dotted`, ширину линии (`linewidth`) — 2.\n",
    "\n",
    "Не забудьте подписать название всей фигуры и отдельных графиков."
   ]
  },
  {
   "cell_type": "code",
   "execution_count": 10,
   "id": "4807a598",
   "metadata": {
    "ExecuteTime": {
     "end_time": "2022-02-23T19:39:20.469547Z",
     "start_time": "2022-02-23T19:39:20.466136Z"
    },
    "id": "4807a598"
   },
   "outputs": [
    {
     "data": {
      "image/png": "[encoded data removed]",
      "text/plain": [
       "<Figure size 1440x720 with 2 Axes>"
      ]
     },
     "metadata": {
      "needs_background": "light"
     },
     "output_type": "display_data"
    }
   ],
   "source": [
    "# Ваш код здесь\n",
    "fig, (ax1, ax2) = plt.subplots(nrows=2, ncols=1, figsize=(20, 10), sharex=True)\n",
    "\n",
    "ax1.hist(df.long, bins=70, color='coral')\n",
    "ax1.set_title('Гистограмма')\n",
    "ax1.axvline(df.long.median(), color='darkviolet', linestyle='dotted', linewidth=2)\n",
    "ax1.axvline(df.long.min(), color='darkviolet', linestyle='dotted', linewidth=2)\n",
    "ax1.axvline(df.long.max(), color='darkviolet', linestyle='dotted', linewidth=2)\n",
    "\n",
    "ax1.text(df.long.median(),-100,'median',rotation=0)\n",
    "ax1.text(df.long.min(),-100,'min',rotation=0)\n",
    "ax1.text(df.long.max(),-100,'max',rotation=0)\n",
    "\n",
    "ax2.violinplot(df.long, vert=False)\n",
    "ax2.axvline(df.long.median(), color='darkviolet', linestyle='dotted', linewidth=2)\n",
    "ax2.set_title('Диаграмма скрипки')\n",
    "\n",
    "fig.suptitle('Долгота');"
   ]
  },
  {
   "cell_type": "markdown",
   "id": "9cd77178",
   "metadata": {
    "id": "9cd77178"
   },
   "source": [
    "|"
   ]
  },
  {
   "cell_type": "markdown",
   "id": "983ed2f8",
   "metadata": {
    "id": "983ed2f8"
   },
   "source": [
    "|"
   ]
  },
  {
   "cell_type": "markdown",
   "id": "bbe9f84b",
   "metadata": {
    "id": "bbe9f84b"
   },
   "source": [
    "|"
   ]
  },
  {
   "cell_type": "markdown",
   "id": "8ca0cf79",
   "metadata": {
    "id": "8ca0cf79"
   },
   "source": [
    "|"
   ]
  },
  {
   "cell_type": "markdown",
   "id": "616f14cf",
   "metadata": {
    "id": "616f14cf"
   },
   "source": [
    "|"
   ]
  },
  {
   "cell_type": "markdown",
   "id": "220e0b95",
   "metadata": {
    "id": "220e0b95"
   },
   "source": [
    "|"
   ]
  },
  {
   "cell_type": "markdown",
   "id": "4d6b8897",
   "metadata": {
    "id": "4d6b8897"
   },
   "source": [
    "|"
   ]
  },
  {
   "cell_type": "markdown",
   "id": "ee5a77af",
   "metadata": {
    "id": "ee5a77af"
   },
   "source": [
    "|"
   ]
  },
  {
   "cell_type": "markdown",
   "id": "cd0edd01",
   "metadata": {
    "id": "cd0edd01"
   },
   "source": [
    "|"
   ]
  },
  {
   "cell_type": "markdown",
   "id": "38cd2f5a",
   "metadata": {
    "id": "38cd2f5a"
   },
   "source": [
    "|"
   ]
  },
  {
   "cell_type": "markdown",
   "id": "47601a70",
   "metadata": {
    "id": "47601a70"
   },
   "source": [
    "|"
   ]
  },
  {
   "cell_type": "markdown",
   "id": "d2a11c1b",
   "metadata": {
    "id": "d2a11c1b"
   },
   "source": [
    "|"
   ]
  },
  {
   "cell_type": "markdown",
   "id": "d913e43d",
   "metadata": {
    "id": "d913e43d"
   },
   "source": [
    "|"
   ]
  },
  {
   "cell_type": "markdown",
   "id": "76715b2d",
   "metadata": {
    "id": "76715b2d"
   },
   "source": [
    "|"
   ]
  },
  {
   "cell_type": "markdown",
   "id": "c4f59b32",
   "metadata": {
    "ExecuteTime": {
     "end_time": "2022-02-23T19:40:19.015651Z",
     "start_time": "2022-02-23T19:40:19.010638Z"
    },
    "id": "c4f59b32"
   },
   "source": [
    "|"
   ]
  },
  {
   "cell_type": "markdown",
   "id": "e511a30f",
   "metadata": {
    "id": "e511a30f"
   },
   "source": [
    "|"
   ]
  },
  {
   "cell_type": "markdown",
   "id": "be2a5486",
   "metadata": {
    "id": "be2a5486"
   },
   "source": [
    "|"
   ]
  },
  {
   "cell_type": "markdown",
   "id": "7f0e6594",
   "metadata": {
    "id": "7f0e6594"
   },
   "source": [
    "|"
   ]
  },
  {
   "cell_type": "markdown",
   "id": "307b0cf0",
   "metadata": {
    "id": "307b0cf0"
   },
   "source": [
    "|"
   ]
  },
  {
   "cell_type": "markdown",
   "id": "ecfa7142",
   "metadata": {
    "id": "ecfa7142"
   },
   "source": [
    "|"
   ]
  },
  {
   "cell_type": "markdown",
   "id": "18d01811",
   "metadata": {
    "id": "18d01811"
   },
   "source": [
    "|"
   ]
  },
  {
   "cell_type": "markdown",
   "id": "cd5d28b9",
   "metadata": {
    "id": "cd5d28b9"
   },
   "source": [
    "|"
   ]
  },
  {
   "cell_type": "markdown",
   "id": "9b3469f4",
   "metadata": {
    "id": "9b3469f4"
   },
   "source": [
    "**Ответы для самостоятельной проверки**"
   ]
  },
  {
   "cell_type": "markdown",
   "id": "c65cff5f",
   "metadata": {
    "id": "c65cff5f"
   },
   "source": [
    "### Задача 1."
   ]
  },
  {
   "cell_type": "code",
   "execution_count": null,
   "id": "f9eae17f",
   "metadata": {
    "ExecuteTime": {
     "end_time": "2022-02-23T19:39:27.063024Z",
     "start_time": "2022-02-23T19:39:27.056267Z"
    },
    "id": "f9eae17f"
   },
   "outputs": [],
   "source": [
    "import pandas as pd\n",
    "import matplotlib.pyplot as plt"
   ]
  },
  {
   "cell_type": "code",
   "execution_count": null,
   "id": "19e8ad3e",
   "metadata": {
    "ExecuteTime": {
     "end_time": "2022-02-23T19:39:27.772728Z",
     "start_time": "2022-02-23T19:39:27.274387Z"
    },
    "id": "19e8ad3e",
    "outputId": "c95dc742-7616-4cbc-c54d-45cedafb1133"
   },
   "outputs": [
    {
     "data": {
      "text/html": [
       "<div>\n",
       "<style scoped>\n",
       "    .dataframe tbody tr th:only-of-type {\n",
       "        vertical-align: middle;\n",
       "    }\n",
       "\n",
       "    .dataframe tbody tr th {\n",
       "        vertical-align: top;\n",
       "    }\n",
       "\n",
       "    .dataframe thead th {\n",
       "        text-align: right;\n",
       "    }\n",
       "</style>\n",
       "<table border=\"1\" class=\"dataframe\">\n",
       "  <thead>\n",
       "    <tr style=\"text-align: right;\">\n",
       "      <th></th>\n",
       "      <th>id</th>\n",
       "      <th>url</th>\n",
       "      <th>region</th>\n",
       "      <th>region_url</th>\n",
       "      <th>price</th>\n",
       "      <th>year</th>\n",
       "      <th>manufacturer</th>\n",
       "      <th>model</th>\n",
       "      <th>fuel</th>\n",
       "      <th>odometer</th>\n",
       "      <th>title_status</th>\n",
       "      <th>transmission</th>\n",
       "      <th>image_url</th>\n",
       "      <th>description</th>\n",
       "      <th>state</th>\n",
       "      <th>lat</th>\n",
       "      <th>long</th>\n",
       "      <th>posting_date</th>\n",
       "      <th>price_category</th>\n",
       "      <th>date</th>\n",
       "    </tr>\n",
       "  </thead>\n",
       "  <tbody>\n",
       "    <tr>\n",
       "      <th>0</th>\n",
       "      <td>7308295377</td>\n",
       "      <td>https://chattanooga.craigslist.org/ctd/d/chatt...</td>\n",
       "      <td>chattanooga</td>\n",
       "      <td>https://chattanooga.craigslist.org</td>\n",
       "      <td>54990</td>\n",
       "      <td>2020</td>\n",
       "      <td>ram</td>\n",
       "      <td>2500 crew cab big horn</td>\n",
       "      <td>diesel</td>\n",
       "      <td>27442</td>\n",
       "      <td>clean</td>\n",
       "      <td>other</td>\n",
       "      <td>https://images.craigslist.org/00N0N_1xMPvfxRAI...</td>\n",
       "      <td>Carvana is the safer way to buy a car During t...</td>\n",
       "      <td>tn</td>\n",
       "      <td>35.060000</td>\n",
       "      <td>-85.250000</td>\n",
       "      <td>2021-04-17T12:30:50-0400</td>\n",
       "      <td>high</td>\n",
       "      <td>2021-04-17 16:30:50+00:00</td>\n",
       "    </tr>\n",
       "    <tr>\n",
       "      <th>1</th>\n",
       "      <td>7316380095</td>\n",
       "      <td>https://newjersey.craigslist.org/ctd/d/carlsta...</td>\n",
       "      <td>north jersey</td>\n",
       "      <td>https://newjersey.craigslist.org</td>\n",
       "      <td>16942</td>\n",
       "      <td>2016</td>\n",
       "      <td>ford</td>\n",
       "      <td>explorer 4wd 4dr xlt</td>\n",
       "      <td>other</td>\n",
       "      <td>60023</td>\n",
       "      <td>clean</td>\n",
       "      <td>automatic</td>\n",
       "      <td>https://images.craigslist.org/00x0x_26jl9F0cnL...</td>\n",
       "      <td>***Call Us for more information at: 201-635-14...</td>\n",
       "      <td>nj</td>\n",
       "      <td>40.821805</td>\n",
       "      <td>-74.061962</td>\n",
       "      <td>2021-05-03T15:40:21-0400</td>\n",
       "      <td>medium</td>\n",
       "      <td>2021-05-03 19:40:21+00:00</td>\n",
       "    </tr>\n",
       "    <tr>\n",
       "      <th>2</th>\n",
       "      <td>7313733749</td>\n",
       "      <td>https://reno.craigslist.org/ctd/d/atlanta-2017...</td>\n",
       "      <td>reno / tahoe</td>\n",
       "      <td>https://reno.craigslist.org</td>\n",
       "      <td>35590</td>\n",
       "      <td>2017</td>\n",
       "      <td>volkswagen</td>\n",
       "      <td>golf r hatchback</td>\n",
       "      <td>gas</td>\n",
       "      <td>14048</td>\n",
       "      <td>clean</td>\n",
       "      <td>other</td>\n",
       "      <td>https://images.craigslist.org/00y0y_eeZjWeiSfb...</td>\n",
       "      <td>Carvana is the safer way to buy a car During t...</td>\n",
       "      <td>ca</td>\n",
       "      <td>33.779214</td>\n",
       "      <td>-84.411811</td>\n",
       "      <td>2021-04-28T03:52:20-0700</td>\n",
       "      <td>high</td>\n",
       "      <td>2021-04-28 10:52:20+00:00</td>\n",
       "    </tr>\n",
       "    <tr>\n",
       "      <th>3</th>\n",
       "      <td>7308210929</td>\n",
       "      <td>https://fayetteville.craigslist.org/ctd/d/rale...</td>\n",
       "      <td>fayetteville</td>\n",
       "      <td>https://fayetteville.craigslist.org</td>\n",
       "      <td>14500</td>\n",
       "      <td>2013</td>\n",
       "      <td>toyota</td>\n",
       "      <td>rav4</td>\n",
       "      <td>gas</td>\n",
       "      <td>117291</td>\n",
       "      <td>clean</td>\n",
       "      <td>automatic</td>\n",
       "      <td>https://images.craigslist.org/00606_iGe5iXidib...</td>\n",
       "      <td>2013 Toyota RAV4 XLE 4dr SUV     Offered by: R...</td>\n",
       "      <td>nc</td>\n",
       "      <td>35.715954</td>\n",
       "      <td>-78.655304</td>\n",
       "      <td>2021-04-17T10:08:57-0400</td>\n",
       "      <td>medium</td>\n",
       "      <td>2021-04-17 14:08:57+00:00</td>\n",
       "    </tr>\n",
       "    <tr>\n",
       "      <th>4</th>\n",
       "      <td>7316474668</td>\n",
       "      <td>https://newyork.craigslist.org/lgi/cto/d/baldw...</td>\n",
       "      <td>new york city</td>\n",
       "      <td>https://newyork.craigslist.org</td>\n",
       "      <td>21800</td>\n",
       "      <td>2021</td>\n",
       "      <td>nissan</td>\n",
       "      <td>altima</td>\n",
       "      <td>gas</td>\n",
       "      <td>8000</td>\n",
       "      <td>clean</td>\n",
       "      <td>automatic</td>\n",
       "      <td>https://images.craigslist.org/00V0V_3pSOiPZ3Sd...</td>\n",
       "      <td>2021 Nissan Altima Sv with Only 8 K Miles Titl...</td>\n",
       "      <td>ny</td>\n",
       "      <td>40.654800</td>\n",
       "      <td>-73.609700</td>\n",
       "      <td>2021-05-03T18:32:06-0400</td>\n",
       "      <td>medium</td>\n",
       "      <td>2021-05-03 22:32:06+00:00</td>\n",
       "    </tr>\n",
       "  </tbody>\n",
       "</table>\n",
       "</div>"
      ],
      "text/plain": [
       "           id                                                url  \\\n",
       "0  7308295377  https://chattanooga.craigslist.org/ctd/d/chatt...   \n",
       "1  7316380095  https://newjersey.craigslist.org/ctd/d/carlsta...   \n",
       "2  7313733749  https://reno.craigslist.org/ctd/d/atlanta-2017...   \n",
       "3  7308210929  https://fayetteville.craigslist.org/ctd/d/rale...   \n",
       "4  7316474668  https://newyork.craigslist.org/lgi/cto/d/baldw...   \n",
       "\n",
       "          region                           region_url  price  year  \\\n",
       "0    chattanooga   https://chattanooga.craigslist.org  54990  2020   \n",
       "1   north jersey     https://newjersey.craigslist.org  16942  2016   \n",
       "2   reno / tahoe          https://reno.craigslist.org  35590  2017   \n",
       "3   fayetteville  https://fayetteville.craigslist.org  14500  2013   \n",
       "4  new york city       https://newyork.craigslist.org  21800  2021   \n",
       "\n",
       "  manufacturer                   model    fuel  odometer title_status  \\\n",
       "0          ram  2500 crew cab big horn  diesel     27442        clean   \n",
       "1         ford    explorer 4wd 4dr xlt   other     60023        clean   \n",
       "2   volkswagen        golf r hatchback     gas     14048        clean   \n",
       "3       toyota                    rav4     gas    117291        clean   \n",
       "4       nissan                  altima     gas      8000        clean   \n",
       "\n",
       "  transmission                                          image_url  \\\n",
       "0        other  https://images.craigslist.org/00N0N_1xMPvfxRAI...   \n",
       "1    automatic  https://images.craigslist.org/00x0x_26jl9F0cnL...   \n",
       "2        other  https://images.craigslist.org/00y0y_eeZjWeiSfb...   \n",
       "3    automatic  https://images.craigslist.org/00606_iGe5iXidib...   \n",
       "4    automatic  https://images.craigslist.org/00V0V_3pSOiPZ3Sd...   \n",
       "\n",
       "                                         description state        lat  \\\n",
       "0  Carvana is the safer way to buy a car During t...    tn  35.060000   \n",
       "1  ***Call Us for more information at: 201-635-14...    nj  40.821805   \n",
       "2  Carvana is the safer way to buy a car During t...    ca  33.779214   \n",
       "3  2013 Toyota RAV4 XLE 4dr SUV     Offered by: R...    nc  35.715954   \n",
       "4  2021 Nissan Altima Sv with Only 8 K Miles Titl...    ny  40.654800   \n",
       "\n",
       "        long              posting_date price_category  \\\n",
       "0 -85.250000  2021-04-17T12:30:50-0400           high   \n",
       "1 -74.061962  2021-05-03T15:40:21-0400         medium   \n",
       "2 -84.411811  2021-04-28T03:52:20-0700           high   \n",
       "3 -78.655304  2021-04-17T10:08:57-0400         medium   \n",
       "4 -73.609700  2021-05-03T18:32:06-0400         medium   \n",
       "\n",
       "                        date  \n",
       "0  2021-04-17 16:30:50+00:00  \n",
       "1  2021-05-03 19:40:21+00:00  \n",
       "2  2021-04-28 10:52:20+00:00  \n",
       "3  2021-04-17 14:08:57+00:00  \n",
       "4  2021-05-03 22:32:06+00:00  "
      ]
     },
     "execution_count": 27,
     "metadata": {},
     "output_type": "execute_result"
    }
   ],
   "source": [
    "# 1\n",
    "\n",
    "df = pd.read_csv('data/vehicles_dataset_upd.csv')\n",
    "df.head()"
   ]
  },
  {
   "cell_type": "code",
   "execution_count": null,
   "id": "3d95fb31",
   "metadata": {
    "ExecuteTime": {
     "end_time": "2022-02-23T19:39:28.120443Z",
     "start_time": "2022-02-23T19:39:27.774818Z"
    },
    "id": "3d95fb31",
    "outputId": "c4244742-bc5b-4338-abdc-17642a29dc40"
   },
   "outputs": [
    {
     "data": {
      "image/png": "[encoded data removed]",
      "text/plain": [
       "<Figure size 432x288 with 1 Axes>"
      ]
     },
     "metadata": {
      "needs_background": "light"
     },
     "output_type": "display_data"
    }
   ],
   "source": [
    "# 2\n",
    "plt.figure()\n",
    "plt.hist(df.lat, bins=100, color='deepskyblue')\n",
    "plt.xlabel('Широта')\n",
    "plt.ylabel('Частота')\n",
    "plt.title('Распределение широты');"
   ]
  },
  {
   "cell_type": "code",
   "execution_count": null,
   "id": "6ae57361",
   "metadata": {
    "ExecuteTime": {
     "end_time": "2022-02-23T19:39:28.234382Z",
     "start_time": "2022-02-23T19:39:28.123490Z"
    },
    "id": "6ae57361",
    "outputId": "86d1430f-5d14-4143-8818-3354e1447d15"
   },
   "outputs": [
    {
     "data": {
      "text/plain": [
       "Text(0.5, 1.0, 'Ящик с усами для широты')"
      ]
     },
     "execution_count": 29,
     "metadata": {},
     "output_type": "execute_result"
    },
    {
     "data": {
      "image/png": "[encoded data removed]",
      "text/plain": [
       "<Figure size 288x720 with 1 Axes>"
      ]
     },
     "metadata": {
      "needs_background": "light"
     },
     "output_type": "display_data"
    }
   ],
   "source": [
    "# 3\n",
    "plt.figure(figsize=(4, 10))\n",
    "plt.boxplot(df.lat, sym='+')\n",
    "plt.ylabel('Широта')\n",
    "plt.title('Ящик с усами для широты')"
   ]
  },
  {
   "cell_type": "markdown",
   "id": "28369cdf",
   "metadata": {
    "id": "28369cdf"
   },
   "source": [
    "### Задача 2."
   ]
  },
  {
   "cell_type": "code",
   "execution_count": null,
   "id": "853e38c5",
   "metadata": {
    "ExecuteTime": {
     "end_time": "2022-02-23T19:39:28.446238Z",
     "start_time": "2022-02-23T19:39:28.236405Z"
    },
    "id": "853e38c5",
    "outputId": "038c9b9b-0b0a-46c0-d8d9-b76454e90ec9"
   },
   "outputs": [
    {
     "data": {
      "image/png": "[encoded data removed]",
      "text/plain": [
       "<Figure size 576x360 with 1 Axes>"
      ]
     },
     "metadata": {
      "needs_background": "light"
     },
     "output_type": "display_data"
    }
   ],
   "source": [
    "# 1\n",
    "\n",
    "plt.figure(figsize=(8, 5))\n",
    "plt.hist(df.long, bins=80, color='coral')\n",
    "plt.xlabel('Долгота')\n",
    "plt.ylabel('Частота')\n",
    "plt.title('Распределение долготы');"
   ]
  },
  {
   "cell_type": "code",
   "execution_count": null,
   "id": "1705a394",
   "metadata": {
    "ExecuteTime": {
     "end_time": "2022-02-23T19:39:28.577824Z",
     "start_time": "2022-02-23T19:39:28.449541Z"
    },
    "id": "1705a394",
    "outputId": "6ba8c757-126c-497b-8e6d-723f155a3936"
   },
   "outputs": [
    {
     "data": {
      "image/png": "[encoded data removed]",
      "text/plain": [
       "<Figure size 288x720 with 1 Axes>"
      ]
     },
     "metadata": {
      "needs_background": "light"
     },
     "output_type": "display_data"
    }
   ],
   "source": [
    "# 2\n",
    "\n",
    "plt.figure(figsize=(4, 10))\n",
    "plt.violinplot(df.long)\n",
    "plt.ylabel('Долгота')\n",
    "plt.title('Ящик с усами для долготы');"
   ]
  },
  {
   "cell_type": "code",
   "execution_count": null,
   "id": "0ff8b887",
   "metadata": {
    "ExecuteTime": {
     "end_time": "2022-02-23T19:39:28.947148Z",
     "start_time": "2022-02-23T19:39:28.591762Z"
    },
    "id": "0ff8b887",
    "outputId": "967205f8-973b-46b6-b46a-b9bea5f8845d"
   },
   "outputs": [
    {
     "data": {
      "image/png": "[encoded data removed]",
      "text/plain": [
       "<Figure size 1440x720 with 2 Axes>"
      ]
     },
     "metadata": {
      "needs_background": "light"
     },
     "output_type": "display_data"
    }
   ],
   "source": [
    "# 3\n",
    "\n",
    "fig, (ax1, ax2) = plt.subplots(nrows=2, ncols=1, figsize=(20, 10), sharex=True)\n",
    "\n",
    "ax1.hist(df.long, bins=70, color='coral')\n",
    "ax1.set_title('Гистограмма')\n",
    "ax1.axvline(df.long.median(), color='darkviolet', linestyle='dotted', linewidth=2)\n",
    "ax1.axvline(df.long.min(), color='darkviolet', linestyle='dotted', linewidth=2)\n",
    "ax1.axvline(df.long.max(), color='darkviolet', linestyle='dotted', linewidth=2)\n",
    "\n",
    "ax1.text(df.long.median(),-100,'median',rotation=0)\n",
    "ax1.text(df.long.min(),-100,'min',rotation=0)\n",
    "ax1.text(df.long.max(),-100,'max',rotation=0)\n",
    "\n",
    "ax2.violinplot(df.long, vert=False)\n",
    "ax2.axvline(df.long.median(), color='darkviolet', linestyle='dotted', linewidth=2)\n",
    "ax2.set_title('Диаграмма скрипки')\n",
    "\n",
    "fig.suptitle('Долгота');"
   ]
  }
 ],
 "metadata": {
  "colab": {
   "collapsed_sections": [],
   "name": "19.2_Практическая работа.ipynb",
   "provenance": []
  },
  "kernelspec": {
   "display_name": "Python 3 (ipykernel)",
   "language": "python",
   "name": "python3"
  },
  "language_info": {
   "codemirror_mode": {
    "name": "ipython",
    "version": 3
   },
   "file_extension": ".py",
   "mimetype": "text/x-python",
   "name": "python",
   "nbconvert_exporter": "python",
   "pygments_lexer": "ipython3",
   "version": "3.9.7"
  },
  "toc": {
   "base_numbering": 1,
   "nav_menu": {},
   "number_sections": true,
   "sideBar": true,
   "skip_h1_title": false,
   "title_cell": "Table of Contents",
   "title_sidebar": "Contents",
   "toc_cell": false,
   "toc_position": {},
   "toc_section_display": true,
   "toc_window_display": false
  }
 },
 "nbformat": 4,
 "nbformat_minor": 5
}
